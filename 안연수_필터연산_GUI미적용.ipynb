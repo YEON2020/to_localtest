{
  "nbformat": 4,
  "nbformat_minor": 0,
  "metadata": {
    "colab": {
      "provenance": [],
      "authorship_tag": "ABX9TyOwCy/SiZQQQeVI7WLwyi4i",
      "include_colab_link": true
    },
    "kernelspec": {
      "name": "python3",
      "display_name": "Python 3"
    },
    "language_info": {
      "name": "python"
    }
  },
  "cells": [
    {
      "cell_type": "markdown",
      "metadata": {
        "id": "view-in-github",
        "colab_type": "text"
      },
      "source": [
        "<a href=\"https://colab.research.google.com/github/YEON2020/to_localtest/blob/main/%EC%95%88%EC%97%B0%EC%88%98_%ED%95%84%ED%84%B0%EC%97%B0%EC%82%B0_GUI%EB%AF%B8%EC%A0%81%EC%9A%A9.ipynb\" target=\"_parent\"><img src=\"https://colab.research.google.com/assets/colab-badge.svg\" alt=\"Open In Colab\"/></a>"
      ]
    },
    {
      "cell_type": "code",
      "source": [
        "from PIL import Image, ImageOps\n",
        "import numpy as np\n",
        "import cv2"
      ],
      "metadata": {
        "id": "_1ajujS6uOzy"
      },
      "execution_count": null,
      "outputs": []
    },
    {
      "cell_type": "code",
      "execution_count": null,
      "metadata": {
        "id": "cs2FouLGt-80"
      },
      "outputs": [],
      "source": [
        "# Load the uploaded image(이미지를 불러오기)\n",
        "original_image_path = \"C:/Users/YEON/Documents/딥러닝인물사진.jpg\"\n",
        "original_image = Image.open(original_image_path).convert('L')  # Convert to grayscale\n",
        "\n",
        "# Function to apply the convolution filter to the image(필터를 적용하는 함수를 정의)\n",
        "def apply_filter(filter_values):\n",
        "    # Convert the list to a 3x3 numpy array(리스트를 3x3 numpy 배열로 변환)\n",
        "    filter_array = np.array(filter_values).reshape(3, 3)\n",
        "\n",
        "    # Convert image to numpy array(이미지를 numpy 배열로 변환)\n",
        "    img_array = np.array(original_image)\n",
        "\n",
        "    # Apply the filter using OpenCV(OpenCV를 사용하여 필터를 적용)\n",
        "    filtered_img_array = cv2.filter2D(img_array, -1, filter_array)\n",
        "\n",
        "    # Convert back to PIL Image(결과를 PIL Image로 다시 변환)\n",
        "    filtered_image = Image.fromarray(filtered_img_array)\n",
        "\n",
        "    return filtered_image\n",
        "\n",
        "# Example filter values, replace with actual values as needed(실제 필터 값을 사용하여 필터를 적용)\n",
        "filter_values = [1, 0, -1, 0, 1, 0, -1, 0, 1]  # Example filter\n",
        "\n",
        "# Apply the filter to the image\n",
        "filtered_image = apply_filter(filter_values)\n",
        "\n",
        "# Save or display the filtered image(필터링된 이미지를 저장하거나 표시)\n",
        "filtered_image.show()"
      ]
    }
  ]
}