{
  "nbformat": 4,
  "nbformat_minor": 0,
  "metadata": {
    "colab": {
      "provenance": [],
      "authorship_tag": "ABX9TyMJOS5SglHEjnl3bB34o4Xl",
      "include_colab_link": true
    },
    "kernelspec": {
      "name": "python3",
      "display_name": "Python 3"
    },
    "language_info": {
      "name": "python"
    }
  },
  "cells": [
    {
      "cell_type": "markdown",
      "metadata": {
        "id": "view-in-github",
        "colab_type": "text"
      },
      "source": [
        "<a href=\"https://colab.research.google.com/github/YEON2020/to_localtest/blob/main/%EC%95%88%EC%97%B0%EC%88%98_%EA%B4%84%ED%98%B8%EA%B2%80%EC%82%AC_240522.ipynb\" target=\"_parent\"><img src=\"https://colab.research.google.com/assets/colab-badge.svg\" alt=\"Open In Colab\"/></a>"
      ]
    },
    {
      "cell_type": "code",
      "execution_count": null,
      "metadata": {
        "id": "Pe-7jbV3PvpT"
      },
      "outputs": [],
      "source": [
        "def find_max(A):\n",
        "    tmp = A[0]\n",
        "    for item in A :\n",
        "        if item > tmp :\n",
        "            tmp = item\n",
        "    return tmp"
      ]
    },
    {
      "cell_type": "code",
      "source": [
        "class Stack:\n",
        "    def __init__(self):\n",
        "        self.top = []\n",
        "\n",
        "    def isEmpty(self):\n",
        "        return len(self.top) == 0\n",
        "\n",
        "    def size(self):\n",
        "        return len(self.top)\n",
        "\n",
        "    def clear(self):\n",
        "        self.top = []\n",
        "\n",
        "    def push(self, item):\n",
        "        self.top.append(item)\n",
        "\n",
        "    def pop(self):\n",
        "        if not self.isEmpty():\n",
        "            return self.top.pop(-1)\n",
        "\n",
        "    def peek(self):\n",
        "        if not self.isEmpty():\n",
        "            return self.top[-1]\n",
        "\n",
        "    def __str__(self):\n",
        "        return str(self.top[::-1])"
      ],
      "metadata": {
        "id": "uTQH0znzqI3E"
      },
      "execution_count": 1,
      "outputs": []
    },
    {
      "cell_type": "code",
      "source": [
        "def check_parentheses(expression):\n",
        "    stack = Stack()\n",
        "    pairs = {\n",
        "        ')': '(',\n",
        "        ']': '[',\n",
        "        '}': '{'\n",
        "    }\n",
        "\n",
        "    for char in expression:\n",
        "        if char in '([{':\n",
        "            stack.push(char)\n",
        "        elif char in ')]}':\n",
        "            if stack.isEmpty() or stack.pop() != pairs[char]:\n",
        "                return False\n",
        "\n",
        "    return stack.isEmpty()\n",
        "\n",
        "expressions = [\n",
        "    \"(A[i+1]=0)\",\n",
        "    \"if ((i==0) && (j==0))\",\n",
        "    \"while (it<10) { it -= 1 }\",\n",
        "    \"A[(i+1]) = 0\"\n",
        "]\n",
        "\n",
        "for expr in expressions:\n",
        "    result = check_parentheses(expr)\n",
        "    print(f\"'{expr}'의 괄호 검사 결과: {result}\")\n"
      ],
      "metadata": {
        "colab": {
          "base_uri": "https://localhost:8080/"
        },
        "id": "pdTRRKDtvhFl",
        "outputId": "f74de77e-f73c-48fd-8b28-0e419b300f5d"
      },
      "execution_count": 3,
      "outputs": [
        {
          "output_type": "stream",
          "name": "stdout",
          "text": [
            "'(A[i+1]=0)'의 괄호 검사 결과: True\n",
            "'if ((i==0) && (j==0))'의 괄호 검사 결과: True\n",
            "'while (it<10) { it -= 1 }'의 괄호 검사 결과: True\n",
            "'A[(i+1]) = 0'의 괄호 검사 결과: False\n"
          ]
        }
      ]
    }
  ]
}