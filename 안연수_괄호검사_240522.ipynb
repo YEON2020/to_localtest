{
  "nbformat": 4,
  "nbformat_minor": 0,
  "metadata": {
    "colab": {
      "provenance": [],
      "authorship_tag": "ABX9TyMrKeoA/wnW42S3whzEunN1",
      "include_colab_link": true
    },
    "kernelspec": {
      "name": "python3",
      "display_name": "Python 3"
    },
    "language_info": {
      "name": "python"
    }
  },
  "cells": [
    {
      "cell_type": "markdown",
      "metadata": {
        "id": "view-in-github",
        "colab_type": "text"
      },
      "source": [
        "<a href=\"https://colab.research.google.com/github/YEON2020/to_localtest/blob/main/%EC%95%88%EC%97%B0%EC%88%98_%EA%B4%84%ED%98%B8%EA%B2%80%EC%82%AC_240522.ipynb\" target=\"_parent\"><img src=\"https://colab.research.google.com/assets/colab-badge.svg\" alt=\"Open In Colab\"/></a>"
      ]
    },
    {
      "cell_type": "code",
      "execution_count": null,
      "metadata": {
        "id": "Pe-7jbV3PvpT"
      },
      "outputs": [],
      "source": [
        "def find_max(A):\n",
        "    tmp = A[0]\n",
        "    for item in A :\n",
        "        if item > tmp :\n",
        "            tmp = item\n",
        "    return tmp"
      ]
    },
    {
      "cell_type": "code",
      "source": [
        "class Stack:\n",
        "    def __init__(self):\n",
        "        self.top = []\n",
        "\n",
        "    def isEmpty(self):\n",
        "        return len(self.top) == 0\n",
        "\n",
        "    def size(self):\n",
        "        return len(self.top)\n",
        "\n",
        "    def clear(self):\n",
        "        self.top = []\n",
        "\n",
        "    def push(self, item):\n",
        "        self.top.append(item)\n",
        "\n",
        "    def pop(self):\n",
        "        if not self.isEmpty():\n",
        "            return self.top.pop(-1)\n",
        "\n",
        "    def peek(self):\n",
        "        if not self.isEmpty():\n",
        "            return self.top[-1]\n",
        "\n",
        "    def __str__(self):\n",
        "        return str(self.top[::-1])"
      ],
      "metadata": {
        "id": "uTQH0znzqI3E"
      },
      "execution_count": null,
      "outputs": []
    }
  ]
}