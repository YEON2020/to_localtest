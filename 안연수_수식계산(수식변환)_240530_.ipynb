{
  "nbformat": 4,
  "nbformat_minor": 0,
  "metadata": {
    "colab": {
      "provenance": [],
      "authorship_tag": "ABX9TyMDYkp2+YCIhiAJKuNU/wVc",
      "include_colab_link": true
    },
    "kernelspec": {
      "name": "python3",
      "display_name": "Python 3"
    },
    "language_info": {
      "name": "python"
    }
  },
  "cells": [
    {
      "cell_type": "markdown",
      "metadata": {
        "id": "view-in-github",
        "colab_type": "text"
      },
      "source": [
        "<a href=\"https://colab.research.google.com/github/YEON2020/to_localtest/blob/main/%EC%95%88%EC%97%B0%EC%88%98_%EC%88%98%EC%8B%9D%EA%B3%84%EC%82%B0(%EC%88%98%EC%8B%9D%EB%B3%80%ED%99%98)_240530_.ipynb\" target=\"_parent\"><img src=\"https://colab.research.google.com/assets/colab-badge.svg\" alt=\"Open In Colab\"/></a>"
      ]
    },
    {
      "cell_type": "code",
      "execution_count": null,
      "metadata": {
        "id": "C4U4_YDFzgDP"
      },
      "outputs": [],
      "source": [
        "class Stack:\n",
        "    def __init__(self):\n",
        "        self.top = []\n",
        "    def isEmpty(self):\n",
        "        return len(self.top) == 0\n",
        "    def size(self):\n",
        "        return len(self.top)\n",
        "    def clear(self):\n",
        "        self.top = []\n",
        "    def push(self, item):\n",
        "        self.top.append(item)\n",
        "    def pop(self):\n",
        "        if not self.isEmpty():\n",
        "            return self.top.pop(-1)\n",
        "    def peek(self):\n",
        "        if not self.isEmpty():\n",
        "            return self.top[-1]\n",
        "    def __str__(self):\n",
        "        return str(self.top[::-1])"
      ]
    },
    {
      "cell_type": "code",
      "source": [
        "def postfix(temp):\n",
        "    stack = []\n",
        "    operators = \"+-*/\"\n",
        "\n",
        "    for temps in temp:\n",
        "        if temps not in operators:\n",
        "            stack.append(int(temps))\n",
        "        elif temps in operators:\n",
        "            number_1 = stack.pop()\n",
        "            number_2 = stack.pop()\n",
        "            if temps == '+':\n",
        "                cols = number_1 + number_2\n",
        "            elif temps == '-':\n",
        "                cols = number_1 - number_2\n",
        "            elif temps == '*':\n",
        "                cols = number_1 * number_2\n",
        "            elif temps == '/':\n",
        "                cols = number_1 / number_2\n",
        "            stack.append(cols)\n",
        "    return stack.pop()\n",
        "\n",
        "temp = \"75-7/28*4+8\"\n",
        "print(postfix(temp))"
      ],
      "metadata": {
        "colab": {
          "base_uri": "https://localhost:8080/"
        },
        "id": "ZOGZPA-drkVj",
        "outputId": "3c603297-ec07-4e85-8451-5aaf30a1383c"
      },
      "execution_count": 1,
      "outputs": [
        {
          "output_type": "stream",
          "name": "stdout",
          "text": [
            "8\n"
          ]
        }
      ]
    }
  ]
}