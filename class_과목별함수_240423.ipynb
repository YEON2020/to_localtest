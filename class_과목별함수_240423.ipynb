{
  "nbformat": 4,
  "nbformat_minor": 0,
  "metadata": {
    "colab": {
      "provenance": [],
      "authorship_tag": "ABX9TyMtfuR5rTtZ4syf2tJBTqLG",
      "include_colab_link": true
    },
    "kernelspec": {
      "name": "python3",
      "display_name": "Python 3"
    },
    "language_info": {
      "name": "python"
    }
  },
  "cells": [
    {
      "cell_type": "markdown",
      "metadata": {
        "id": "view-in-github",
        "colab_type": "text"
      },
      "source": [
        "<a href=\"https://colab.research.google.com/github/YEON2020/to_localtest/blob/main/class_%EA%B3%BC%EB%AA%A9%EB%B3%84%ED%95%A8%EC%88%98_240423.ipynb\" target=\"_parent\"><img src=\"https://colab.research.google.com/assets/colab-badge.svg\" alt=\"Open In Colab\"/></a>"
      ]
    },
    {
      "cell_type": "code",
      "source": [
        "data = [[3, 20300401, 10, 8], [1, 20300104, 100, 80]]"
      ],
      "metadata": {
        "id": "w81MxSJaxzF6"
      },
      "execution_count": null,
      "outputs": []
    },
    {
      "cell_type": "code",
      "execution_count": null,
      "metadata": {
        "id": "zUtKjpPsjU7m"
      },
      "outputs": [],
      "source": [
        "def solution(data, ext, val_ext, sort_by):\n",
        "    answer = [[]]\n",
        "    return answer"
      ]
    },
    {
      "cell_type": "code",
      "source": [
        "\"\"\"1학년, 1반, 학생 20명\n",
        "국어, 영어, 수학\n",
        "\n",
        "점수 = {\"1학년\":\n",
        "                {\"1반\":\n",
        "                    {\"국어\":[],\n",
        "                     \"영어\":[],\n",
        "                     \"수학\":[]},\n",
        "                 \"2반\":\n",
        "                    {\"국어\":[],\n",
        "                     \"영어\":[],\n",
        "                     \"수학\":[]},\n",
        "                 \"3반\":\n",
        "                    {\"국어\":[],\n",
        "                     \"영어\":[],\n",
        "                     \"수학\":[]},\n",
        "                 \"4반\":\n",
        "                    {\"국어\":[],\n",
        "                     \"영어\":[],\n",
        "                     \"수학\":[]}\n",
        "                }\n",
        "        }\n",
        "점수[\"1학년\"][\"1반\"][\"국어\"]\"\"\""
      ],
      "metadata": {
        "id": "bSjfIRraDTB7"
      },
      "execution_count": null,
      "outputs": []
    },
    {
      "cell_type": "code",
      "source": [
        "#속성\n",
        "#동작 순서 -> 1. 점수파일(점수.txt) 2. 기능 작성(점수 - 등급, 점수 - 석차, 과목별 - 평균)\n",
        "#3. 결과저장\n",
        "import random\n",
        "# import math\n",
        "# import matplotlib.pyplot as plt\n",
        "# import pickle\n",
        "\n",
        "# !sudo apt-get install -y fonts-nanum\n",
        "# !sudo fc-cache -fv\n",
        "# !rm ~/.cache/matplotlib -rf\n",
        "\n",
        "# plt.rc('font', family='NanumBarunGothic')\n",
        "# plt.rcParams['axes.unicode_minus'] = False"
      ],
      "metadata": {
        "id": "vi2Z5A1pnD04"
      },
      "execution_count": 38,
      "outputs": []
    },
    {
      "cell_type": "code",
      "source": [
        "# subject= ['국어', '영어','수학'] #과목\n",
        "# year = ['1학년', '2학년', '3학년', '4학년'] #학년\n",
        "# classroom= ['1반', '2반', '3반', '4반'] #반\n",
        "\n",
        "number_stu = 20 #학생수\n",
        "number_sub= 3 #과목수\n",
        "number_year = 4 #학년수\n",
        "number_class= 4 #반 수\n",
        "# count1 = 10\n",
        "\n",
        "class School:\n",
        "\n",
        "    def __init__(self, number_stu, number_sub, number_year, number_class):\n",
        "        self.number_stu = number_stu\n",
        "        self.number_sub = number_sub\n",
        "        self.number_year = number_year\n",
        "        self.number_class = number_class\n",
        "\n",
        "    def class_student(self):\n",
        "        subject= ['국어', '영어','수학']\n",
        "        year = ['1학년', '2학년', '3학년', '4학년']\n",
        "        classroom= ['1반', '2반', '3반', '4반']\n",
        "        _1학년 = {}\n",
        "        for k in range(number_class):\n",
        "            _1학년[classroom[0]] = {}\n",
        "            for i in range(number_sub):\n",
        "                _1학년[subject[0]] = {}\n",
        "                과목점수_1 =[]\n",
        "                for j in range(number_stu):\n",
        "                    score = random.randint(0,100)\n",
        "                    과목점수_1.append(score)\n",
        "                    _1학년[number_class[k]][subject[i]] = 과목점수_1\n",
        "        return subject, year, classroom\n",
        "    def class_number(self, count1= 10):\n",
        "        self.number_sub = 3\n",
        "\n",
        "    # def year_1(self):\n",
        "    #     year = ['1학년', '2학년', '3학년', '4학년']\n",
        "    # def classroom_1(self):\n",
        "    #     classroom= ['1반', '2반', '3반', '4반']"
      ],
      "metadata": {
        "id": "Ww5WPN-Nj13Y"
      },
      "execution_count": 53,
      "outputs": []
    },
    {
      "cell_type": "code",
      "source": [
        "score_1 =[]\n",
        "\n",
        "for b in range(20):\n",
        "    score = random.randint(0, 100)\n",
        "    score_1.append(score)\n",
        "\n",
        "print(score_1)"
      ],
      "metadata": {
        "colab": {
          "base_uri": "https://localhost:8080/"
        },
        "id": "HvujejN3qGJc",
        "outputId": "f56caea4-8dc8-430b-d4e1-85e2fc67f73c"
      },
      "execution_count": 55,
      "outputs": [
        {
          "output_type": "stream",
          "name": "stdout",
          "text": [
            "[95, 98, 35, 10, 29, 96, 40, 35, 70, 60, 94, 77, 9, 89, 25, 49, 80, 15, 77, 64]\n"
          ]
        }
      ]
    },
    {
      "cell_type": "code",
      "source": [
        "for y in year:\n",
        "    print(y)"
      ],
      "metadata": {
        "colab": {
          "base_uri": "https://localhost:8080/"
        },
        "id": "2hFKuFJR3f2l",
        "outputId": "2bc2daa3-eac7-4b82-bf6e-5614f41128cd"
      },
      "execution_count": 57,
      "outputs": [
        {
          "output_type": "stream",
          "name": "stdout",
          "text": [
            "1학년\n",
            "2학년\n",
            "3학년\n",
            "4학년\n"
          ]
        }
      ]
    },
    {
      "cell_type": "code",
      "source": [
        "subject= ['국어', '영어','수학']\n",
        "year = ['1학년', '2학년', '3학년', '4학년']\n",
        "classroom= ['1반', '2반', '3반', '4반']\n",
        "a_1 = [subject, year, classroom]\n",
        "\n",
        "_1학년 = {}\n",
        "for j in range(number_year):\n",
        "    _1학년[year[j]] = {}\n",
        "    for k in range(number_class):\n",
        "        _1학년[year[j]][classroom[k]] = {}\n",
        "        for i in range(number_sub):\n",
        "            _1학년[year[j]][classroom[k]][subject[i]] = [score_1[b]]\n",
        "\n",
        "            # for j in range(number_stu):\n",
        "            #     score = random.randint(0,100)\n",
        "            #     과목점수_1.append(score)\n",
        "                # _1학년[number_class[k]][subject[i]] = 과목점수_1\n",
        "print(_1학년)"
      ],
      "metadata": {
        "colab": {
          "base_uri": "https://localhost:8080/"
        },
        "id": "SaXgkbEYllVY",
        "outputId": "d45c3af8-839b-459e-d9b2-ada1450b4561"
      },
      "execution_count": 58,
      "outputs": [
        {
          "output_type": "stream",
          "name": "stdout",
          "text": [
            "{'1학년': {'1반': {'국어': [64], '영어': [64], '수학': [64]}, '2반': {'국어': [64], '영어': [64], '수학': [64]}, '3반': {'국어': [64], '영어': [64], '수학': [64]}, '4반': {'국어': [64], '영어': [64], '수학': [64]}}, '2학년': {'1반': {'국어': [64], '영어': [64], '수학': [64]}, '2반': {'국어': [64], '영어': [64], '수학': [64]}, '3반': {'국어': [64], '영어': [64], '수학': [64]}, '4반': {'국어': [64], '영어': [64], '수학': [64]}}, '3학년': {'1반': {'국어': [64], '영어': [64], '수학': [64]}, '2반': {'국어': [64], '영어': [64], '수학': [64]}, '3반': {'국어': [64], '영어': [64], '수학': [64]}, '4반': {'국어': [64], '영어': [64], '수학': [64]}}, '4학년': {'1반': {'국어': [64], '영어': [64], '수학': [64]}, '2반': {'국어': [64], '영어': [64], '수학': [64]}, '3반': {'국어': [64], '영어': [64], '수학': [64]}, '4반': {'국어': [64], '영어': [64], '수학': [64]}}}\n"
          ]
        }
      ]
    },
    {
      "cell_type": "code",
      "source": [
        "a_1[0][0]\n",
        "print(a_1)"
      ],
      "metadata": {
        "colab": {
          "base_uri": "https://localhost:8080/"
        },
        "id": "itM0mqTanWMz",
        "outputId": "3ff85990-383e-48a8-87c7-7db19c3acc6d"
      },
      "execution_count": 30,
      "outputs": [
        {
          "output_type": "stream",
          "name": "stdout",
          "text": [
            "[['국어', '영어', '수학'], ['1학년', '2학년', '3학년', '4학년'], ['1반', '2반', '3반', '4반']]\n"
          ]
        }
      ]
    },
    {
      "cell_type": "code",
      "source": [
        "a = School(number_stu, number_sub, number_year, number_class)\n",
        "print(a.class_student())"
      ],
      "metadata": {
        "colab": {
          "base_uri": "https://localhost:8080/",
          "height": 295
        },
        "id": "P1rjBusNjHZD",
        "outputId": "4ab0b800-cd4a-42ac-d22b-21978bbd9fdb"
      },
      "execution_count": 16,
      "outputs": [
        {
          "output_type": "error",
          "ename": "TypeError",
          "evalue": "'int' object is not subscriptable",
          "traceback": [
            "\u001b[0;31m---------------------------------------------------------------------------\u001b[0m",
            "\u001b[0;31mTypeError\u001b[0m                                 Traceback (most recent call last)",
            "\u001b[0;32m<ipython-input-16-216a40d97b74>\u001b[0m in \u001b[0;36m<cell line: 2>\u001b[0;34m()\u001b[0m\n\u001b[1;32m      1\u001b[0m \u001b[0ma\u001b[0m \u001b[0;34m=\u001b[0m \u001b[0mSchool\u001b[0m\u001b[0;34m(\u001b[0m\u001b[0mnumber_stu\u001b[0m\u001b[0;34m,\u001b[0m \u001b[0mnumber_sub\u001b[0m\u001b[0;34m,\u001b[0m \u001b[0mnumber_year\u001b[0m\u001b[0;34m,\u001b[0m \u001b[0mnumber_class\u001b[0m\u001b[0;34m)\u001b[0m\u001b[0;34m\u001b[0m\u001b[0;34m\u001b[0m\u001b[0m\n\u001b[0;32m----> 2\u001b[0;31m \u001b[0mprint\u001b[0m\u001b[0;34m(\u001b[0m\u001b[0ma\u001b[0m\u001b[0;34m.\u001b[0m\u001b[0mclass_student\u001b[0m\u001b[0;34m(\u001b[0m\u001b[0;34m)\u001b[0m\u001b[0;34m)\u001b[0m\u001b[0;34m\u001b[0m\u001b[0;34m\u001b[0m\u001b[0m\n\u001b[0m",
            "\u001b[0;32m<ipython-input-15-db8de4523743>\u001b[0m in \u001b[0;36mclass_student\u001b[0;34m(self)\u001b[0m\n\u001b[1;32m     23\u001b[0m         \u001b[0m_1학년\u001b[0m \u001b[0;34m=\u001b[0m \u001b[0;34m{\u001b[0m\u001b[0;34m}\u001b[0m\u001b[0;34m\u001b[0m\u001b[0;34m\u001b[0m\u001b[0m\n\u001b[1;32m     24\u001b[0m         \u001b[0;32mfor\u001b[0m \u001b[0mk\u001b[0m \u001b[0;32min\u001b[0m \u001b[0mrange\u001b[0m\u001b[0;34m(\u001b[0m\u001b[0mnumber_class\u001b[0m\u001b[0;34m)\u001b[0m\u001b[0;34m:\u001b[0m\u001b[0;34m\u001b[0m\u001b[0;34m\u001b[0m\u001b[0m\n\u001b[0;32m---> 25\u001b[0;31m             \u001b[0m_1학년\u001b[0m\u001b[0;34m[\u001b[0m\u001b[0mnumber_class\u001b[0m\u001b[0;34m[\u001b[0m\u001b[0mk\u001b[0m\u001b[0;34m]\u001b[0m\u001b[0;34m]\u001b[0m \u001b[0;34m=\u001b[0m \u001b[0;34m{\u001b[0m\u001b[0;34m}\u001b[0m\u001b[0;34m\u001b[0m\u001b[0;34m\u001b[0m\u001b[0m\n\u001b[0m\u001b[1;32m     26\u001b[0m             \u001b[0;32mfor\u001b[0m \u001b[0mi\u001b[0m \u001b[0;32min\u001b[0m \u001b[0mrange\u001b[0m\u001b[0;34m(\u001b[0m\u001b[0mnumber_sub\u001b[0m\u001b[0;34m)\u001b[0m\u001b[0;34m:\u001b[0m\u001b[0;34m\u001b[0m\u001b[0;34m\u001b[0m\u001b[0m\n\u001b[1;32m     27\u001b[0m                 \u001b[0m과목점수_1\u001b[0m \u001b[0;34m=\u001b[0m\u001b[0;34m[\u001b[0m\u001b[0;34m]\u001b[0m\u001b[0;34m\u001b[0m\u001b[0;34m\u001b[0m\u001b[0m\n",
            "\u001b[0;31mTypeError\u001b[0m: 'int' object is not subscriptable"
          ]
        }
      ]
    },
    {
      "cell_type": "code",
      "source": [
        "c = School(number_stu, number_sub, number_year, number_class)\n"
      ],
      "metadata": {
        "id": "ayD1cuetbt8s"
      },
      "execution_count": null,
      "outputs": []
    },
    {
      "cell_type": "code",
      "source": [
        "c = School(number_stu, number_sub, number_year, number_class)\n",
        "# count1 = 10\n",
        "c.class_number()\n",
        "print(c.class_student())"
      ],
      "metadata": {
        "colab": {
          "base_uri": "https://localhost:8080/",
          "height": 314
        },
        "id": "jRxf-j6S2BCj",
        "outputId": "8e211b35-34d0-4c30-bc2d-6c94ad55e1bc"
      },
      "execution_count": 83,
      "outputs": [
        {
          "output_type": "error",
          "ename": "TypeError",
          "evalue": "'int' object is not subscriptable",
          "traceback": [
            "\u001b[0;31m---------------------------------------------------------------------------\u001b[0m",
            "\u001b[0;31mTypeError\u001b[0m                                 Traceback (most recent call last)",
            "\u001b[0;32m<ipython-input-83-9645616f2998>\u001b[0m in \u001b[0;36m<cell line: 4>\u001b[0;34m()\u001b[0m\n\u001b[1;32m      2\u001b[0m \u001b[0;31m# count1 = 10\u001b[0m\u001b[0;34m\u001b[0m\u001b[0;34m\u001b[0m\u001b[0m\n\u001b[1;32m      3\u001b[0m \u001b[0mc\u001b[0m\u001b[0;34m.\u001b[0m\u001b[0mclass_number\u001b[0m\u001b[0;34m(\u001b[0m\u001b[0;34m)\u001b[0m\u001b[0;34m\u001b[0m\u001b[0;34m\u001b[0m\u001b[0m\n\u001b[0;32m----> 4\u001b[0;31m \u001b[0mprint\u001b[0m\u001b[0;34m(\u001b[0m\u001b[0mc\u001b[0m\u001b[0;34m.\u001b[0m\u001b[0mclass_student\u001b[0m\u001b[0;34m(\u001b[0m\u001b[0;34m)\u001b[0m\u001b[0;34m)\u001b[0m\u001b[0;34m\u001b[0m\u001b[0;34m\u001b[0m\u001b[0m\n\u001b[0m",
            "\u001b[0;32m<ipython-input-82-617cd1bfc9a9>\u001b[0m in \u001b[0;36mclass_student\u001b[0;34m(self)\u001b[0m\n\u001b[1;32m     23\u001b[0m         \u001b[0m_1학년\u001b[0m \u001b[0;34m=\u001b[0m \u001b[0;34m{\u001b[0m\u001b[0;34m}\u001b[0m\u001b[0;34m\u001b[0m\u001b[0;34m\u001b[0m\u001b[0m\n\u001b[1;32m     24\u001b[0m         \u001b[0;32mfor\u001b[0m \u001b[0mk\u001b[0m \u001b[0;32min\u001b[0m \u001b[0mrange\u001b[0m\u001b[0;34m(\u001b[0m\u001b[0mnumber_class\u001b[0m\u001b[0;34m)\u001b[0m\u001b[0;34m:\u001b[0m\u001b[0;34m\u001b[0m\u001b[0;34m\u001b[0m\u001b[0m\n\u001b[0;32m---> 25\u001b[0;31m             \u001b[0m_1학년\u001b[0m\u001b[0;34m[\u001b[0m\u001b[0mnumber_class\u001b[0m\u001b[0;34m[\u001b[0m\u001b[0mk\u001b[0m\u001b[0;34m]\u001b[0m\u001b[0;34m]\u001b[0m \u001b[0;34m=\u001b[0m \u001b[0;34m{\u001b[0m\u001b[0;34m}\u001b[0m\u001b[0;34m\u001b[0m\u001b[0;34m\u001b[0m\u001b[0m\n\u001b[0m\u001b[1;32m     26\u001b[0m             \u001b[0;32mfor\u001b[0m \u001b[0mi\u001b[0m \u001b[0;32min\u001b[0m \u001b[0mrange\u001b[0m\u001b[0;34m(\u001b[0m\u001b[0mnumber_sub\u001b[0m\u001b[0;34m)\u001b[0m\u001b[0;34m:\u001b[0m\u001b[0;34m\u001b[0m\u001b[0;34m\u001b[0m\u001b[0m\n\u001b[1;32m     27\u001b[0m                 \u001b[0m과목점수_1\u001b[0m \u001b[0;34m=\u001b[0m\u001b[0;34m[\u001b[0m\u001b[0;34m]\u001b[0m\u001b[0;34m\u001b[0m\u001b[0;34m\u001b[0m\u001b[0m\n",
            "\u001b[0;31mTypeError\u001b[0m: 'int' object is not subscriptable"
          ]
        }
      ]
    },
    {
      "cell_type": "code",
      "source": [
        "fig_0 = plt.figure(0)\n",
        "ax = fig_0.add_axes([0,0,1,1])\n",
        "ax.scatter(x = list(과목점수_1[0] for sample in 과목점수_1),\n",
        "           y = list(과목점수_1[1] for sample in 과목점수_1),\n",
        "           marker = '+', color = 'b')\n",
        "\n",
        "ax.set_xlabel(\"특징1\"); ax.set_ylabel(\"특징2\")\n",
        "pickle.dump(fig_0, open(\"samples_plot\", 'wb'))\n",
        "\n",
        "fig_0.canvas.draw()"
      ],
      "metadata": {
        "id": "QQGEI-MP0b9N"
      },
      "execution_count": null,
      "outputs": []
    },
    {
      "cell_type": "code",
      "source": [
        "M_1 = School()\n",
        "M_1.class_student()"
      ],
      "metadata": {
        "colab": {
          "base_uri": "https://localhost:8080/",
          "height": 166
        },
        "id": "07Xd1KIxw8aL",
        "outputId": "d473fca5-4b30-4bc1-ecc4-2d1524cfc2ec"
      },
      "execution_count": 46,
      "outputs": [
        {
          "output_type": "error",
          "ename": "TypeError",
          "evalue": "School.__init__() missing 4 required positional arguments: 'number_stu', 'number_sub', 'number_year', and 'number_class'",
          "traceback": [
            "\u001b[0;31m---------------------------------------------------------------------------\u001b[0m",
            "\u001b[0;31mTypeError\u001b[0m                                 Traceback (most recent call last)",
            "\u001b[0;32m<ipython-input-46-32e6aceedc43>\u001b[0m in \u001b[0;36m<cell line: 1>\u001b[0;34m()\u001b[0m\n\u001b[0;32m----> 1\u001b[0;31m \u001b[0mM_1\u001b[0m \u001b[0;34m=\u001b[0m \u001b[0mSchool\u001b[0m\u001b[0;34m(\u001b[0m\u001b[0;34m)\u001b[0m\u001b[0;34m\u001b[0m\u001b[0;34m\u001b[0m\u001b[0m\n\u001b[0m\u001b[1;32m      2\u001b[0m \u001b[0mM_1\u001b[0m\u001b[0;34m.\u001b[0m\u001b[0mclass_student\u001b[0m\u001b[0;34m(\u001b[0m\u001b[0;34m)\u001b[0m\u001b[0;34m\u001b[0m\u001b[0;34m\u001b[0m\u001b[0m\n",
            "\u001b[0;31mTypeError\u001b[0m: School.__init__() missing 4 required positional arguments: 'number_stu', 'number_sub', 'number_year', and 'number_class'"
          ]
        }
      ]
    },
    {
      "cell_type": "code",
      "source": [
        "# a_1 = School\n",
        "# a_1.subject_1()\n",
        "number_stu = 20 #학생수\n",
        "number_sub= 3 #과목수\n",
        "year = ['1학년', '2학년', '3학년', '4학년']\n",
        "number_class= ['1반', '2반', '3반', '4반']\n",
        "subject= ['국어', '영어','수학']\n",
        "\n",
        "\n",
        "    # _1학년 = {}\n",
        "    # for k in range(len(number_class)):\n",
        "    #     _1학년[number_class[k]] = {}\n",
        "_1학년 = {}\n",
        "for k in range(len(number_class)):\n",
        "    _1학년[number_class[k]] = {}\n",
        "    for i in range(number_sub):\n",
        "        과목점수_1 =[]\n",
        "        for j in range(number_stu):\n",
        "            score = random.randint(0,100)\n",
        "            과목점수_1.append(score)\n",
        "            _1학년[number_class[k]][subject[i]] = 과목점수_1\n",
        "\n",
        "        print(과목점수_1)\n",
        "print(_1학년)"
      ],
      "metadata": {
        "colab": {
          "base_uri": "https://localhost:8080/"
        },
        "id": "aaO9xgimDWwr",
        "outputId": "face2314-da13-4226-cd20-0e0fb225bddd"
      },
      "execution_count": 33,
      "outputs": [
        {
          "output_type": "stream",
          "name": "stdout",
          "text": [
            "[50, 48, 46, 35, 1, 52, 97, 41, 71, 29, 88, 97, 44, 52, 37, 36, 9, 42, 16, 89]\n",
            "[84, 3, 87, 57, 34, 0, 84, 80, 46, 54, 50, 53, 55, 13, 50, 87, 58, 49, 4, 85]\n",
            "[19, 70, 28, 77, 59, 6, 14, 38, 36, 97, 45, 51, 20, 27, 78, 86, 29, 43, 41, 61]\n",
            "[26, 20, 87, 90, 92, 31, 61, 24, 47, 99, 33, 100, 82, 72, 93, 78, 34, 63, 73, 28]\n",
            "[46, 27, 76, 11, 27, 11, 77, 76, 65, 61, 43, 63, 75, 42, 95, 7, 88, 83, 80, 78]\n",
            "[88, 32, 34, 77, 8, 57, 13, 7, 48, 83, 66, 89, 68, 1, 69, 38, 11, 98, 4, 68]\n",
            "[22, 18, 2, 17, 63, 50, 22, 46, 35, 32, 10, 6, 83, 38, 34, 40, 52, 44, 98, 83]\n",
            "[44, 34, 11, 82, 90, 98, 16, 47, 60, 4, 80, 36, 57, 31, 14, 43, 70, 0, 65, 32]\n",
            "[85, 31, 57, 41, 28, 60, 96, 26, 45, 31, 71, 48, 46, 60, 52, 82, 68, 91, 10, 33]\n",
            "[100, 61, 79, 28, 20, 11, 36, 63, 65, 37, 61, 29, 16, 5, 35, 8, 42, 72, 8, 32]\n",
            "[59, 60, 45, 58, 91, 65, 1, 91, 64, 32, 7, 82, 34, 7, 83, 33, 45, 33, 11, 80]\n",
            "[78, 73, 45, 80, 41, 82, 39, 89, 20, 59, 6, 77, 47, 50, 69, 89, 79, 70, 72, 96]\n",
            "{'1반': {'국어': [50, 48, 46, 35, 1, 52, 97, 41, 71, 29, 88, 97, 44, 52, 37, 36, 9, 42, 16, 89], '영어': [84, 3, 87, 57, 34, 0, 84, 80, 46, 54, 50, 53, 55, 13, 50, 87, 58, 49, 4, 85], '수학': [19, 70, 28, 77, 59, 6, 14, 38, 36, 97, 45, 51, 20, 27, 78, 86, 29, 43, 41, 61]}, '2반': {'국어': [26, 20, 87, 90, 92, 31, 61, 24, 47, 99, 33, 100, 82, 72, 93, 78, 34, 63, 73, 28], '영어': [46, 27, 76, 11, 27, 11, 77, 76, 65, 61, 43, 63, 75, 42, 95, 7, 88, 83, 80, 78], '수학': [88, 32, 34, 77, 8, 57, 13, 7, 48, 83, 66, 89, 68, 1, 69, 38, 11, 98, 4, 68]}, '3반': {'국어': [22, 18, 2, 17, 63, 50, 22, 46, 35, 32, 10, 6, 83, 38, 34, 40, 52, 44, 98, 83], '영어': [44, 34, 11, 82, 90, 98, 16, 47, 60, 4, 80, 36, 57, 31, 14, 43, 70, 0, 65, 32], '수학': [85, 31, 57, 41, 28, 60, 96, 26, 45, 31, 71, 48, 46, 60, 52, 82, 68, 91, 10, 33]}, '4반': {'국어': [100, 61, 79, 28, 20, 11, 36, 63, 65, 37, 61, 29, 16, 5, 35, 8, 42, 72, 8, 32], '영어': [59, 60, 45, 58, 91, 65, 1, 91, 64, 32, 7, 82, 34, 7, 83, 33, 45, 33, 11, 80], '수학': [78, 73, 45, 80, 41, 82, 39, 89, 20, 59, 6, 77, 47, 50, 69, 89, 79, 70, 72, 96]}}\n"
          ]
        }
      ]
    },
    {
      "cell_type": "code",
      "source": [
        "number_stu = 20 #학생수\n",
        "number_sub= 3 #과목수\n",
        "number_year = 4 #학년수\n",
        "number_class= 4 #반 수\n",
        "\n",
        "class School:\n",
        "\n",
        "    def __init__(self, number_stu, number_sub, number_year, number_class):\n",
        "        self.number_stu = number_stu\n",
        "        self.number_sub = number_sub\n",
        "        self.number_year = number_year\n",
        "        self.number_class = number_class\n",
        "    # __init__(20, 3, 4, 4)\n",
        "    xy_1 = School(number_stu=20, number_sub=3, number_year=4, number_class=4)\n",
        "    print(xy_1.number_stu, xy_1.number_sub, xy_1.number_year, xy_1.number_class)"
      ],
      "metadata": {
        "colab": {
          "base_uri": "https://localhost:8080/"
        },
        "id": "u6KMoH2h5bio",
        "outputId": "3f2d21d6-adc7-4d70-8a2e-c9a2ae9f6bbb"
      },
      "execution_count": 17,
      "outputs": [
        {
          "output_type": "stream",
          "name": "stdout",
          "text": [
            "20 3 4 4\n"
          ]
        }
      ]
    },
    {
      "cell_type": "code",
      "source": [
        "class Computer:\n",
        "\n",
        "    maxprice2 = 100\n",
        "\n",
        "    def __init__(self):\n",
        "        self.__maxprice = 900\n",
        "\n",
        "    def sell(self):\n",
        "        print(\"Selling Price: {}\".format(self.__maxprice))\n",
        "\n",
        "    def setMaxPrice(self, price):\n",
        "        self.__maxprice = price\n",
        "\n",
        "c = Computer()\n",
        "c.sell()\n",
        "\n",
        "c.__maxprice = 1000\n",
        "c.sell()\n",
        "\n",
        "c.setMaxPrice(1000)\n",
        "c.sell()"
      ],
      "metadata": {
        "colab": {
          "base_uri": "https://localhost:8080/"
        },
        "id": "846p05ciuwSQ",
        "outputId": "a0dfb335-dacd-4571-f36e-95db06c51d60"
      },
      "execution_count": 33,
      "outputs": [
        {
          "output_type": "stream",
          "name": "stdout",
          "text": [
            "Selling Price: 900\n",
            "Selling Price: 900\n",
            "Selling Price: 1000\n"
          ]
        }
      ]
    }
  ]
}