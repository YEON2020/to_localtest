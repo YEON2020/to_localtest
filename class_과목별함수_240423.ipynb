{
  "nbformat": 4,
  "nbformat_minor": 0,
  "metadata": {
    "colab": {
      "provenance": [],
      "authorship_tag": "ABX9TyPgx4okCHqSQta3TT1rYQOE",
      "include_colab_link": true
    },
    "kernelspec": {
      "name": "python3",
      "display_name": "Python 3"
    },
    "language_info": {
      "name": "python"
    }
  },
  "cells": [
    {
      "cell_type": "markdown",
      "metadata": {
        "id": "view-in-github",
        "colab_type": "text"
      },
      "source": [
        "<a href=\"https://colab.research.google.com/github/YEON2020/to_localtest/blob/main/class_%EA%B3%BC%EB%AA%A9%EB%B3%84%ED%95%A8%EC%88%98_240423.ipynb\" target=\"_parent\"><img src=\"https://colab.research.google.com/assets/colab-badge.svg\" alt=\"Open In Colab\"/></a>"
      ]
    },
    {
      "cell_type": "code",
      "source": [
        "data = [[3, 20300401, 10, 8], [1, 20300104, 100, 80]]"
      ],
      "metadata": {
        "id": "w81MxSJaxzF6"
      },
      "execution_count": null,
      "outputs": []
    },
    {
      "cell_type": "code",
      "execution_count": null,
      "metadata": {
        "id": "zUtKjpPsjU7m"
      },
      "outputs": [],
      "source": [
        "def solution(data, ext, val_ext, sort_by):\n",
        "    answer = [[]]\n",
        "    return answer"
      ]
    },
    {
      "cell_type": "code",
      "source": [
        "\"\"\"1학년, 1반, 학생 20명\n",
        "국어, 영어, 수학\n",
        "\n",
        "점수 = {\"1학년\":\n",
        "                {\"1반\":\n",
        "                    {\"국어\":[],\n",
        "                     \"영어\":[],\n",
        "                     \"수학\":[]},\n",
        "                 \"2반\":\n",
        "                    {\"국어\":[],\n",
        "                     \"영어\":[],\n",
        "                     \"수학\":[]},\n",
        "                 \"3반\":\n",
        "                    {\"국어\":[],\n",
        "                     \"영어\":[],\n",
        "                     \"수학\":[]},\n",
        "                 \"4반\":\n",
        "                    {\"국어\":[],\n",
        "                     \"영어\":[],\n",
        "                     \"수학\":[]}\n",
        "                }\n",
        "        }\n",
        "점수[\"1학년\"][\"1반\"][\"국어\"]\"\"\""
      ],
      "metadata": {
        "id": "bSjfIRraDTB7"
      },
      "execution_count": null,
      "outputs": []
    },
    {
      "cell_type": "code",
      "source": [
        "#속성\n",
        "#동작 순서 -> 1. 점수파일(점수.txt) 2. 기능 작성(점수 - 등급, 점수 - 석차, 과목별 - 평균)\n",
        "#3. 결과저장\n",
        "import random\n",
        "# import math\n",
        "# import matplotlib.pyplot as plt\n",
        "# import pickle\n",
        "\n",
        "# !sudo apt-get install -y fonts-nanum\n",
        "# !sudo fc-cache -fv\n",
        "# !rm ~/.cache/matplotlib -rf\n",
        "\n",
        "# plt.rc('font', family='NanumBarunGothic')\n",
        "# plt.rcParams['axes.unicode_minus'] = False"
      ],
      "metadata": {
        "id": "vi2Z5A1pnD04"
      },
      "execution_count": 38,
      "outputs": []
    },
    {
      "cell_type": "code",
      "source": [
        "# subject= ['국어', '영어','수학'] #과목\n",
        "# year = ['1학년', '2학년', '3학년', '4학년'] #학년\n",
        "# classroom= ['1반', '2반', '3반', '4반'] #반\n",
        "\n",
        "number_stu = 20 #학생수\n",
        "number_sub= 3 #과목수\n",
        "number_year = 4 #학년수\n",
        "number_class= 4 #반 수\n",
        "# count1 = 10\n",
        "\n",
        "class School:\n",
        "\n",
        "    def __init__(self, number_stu, number_sub, number_year, number_class):\n",
        "        self.number_stu = number_stu\n",
        "        self.number_sub = number_sub\n",
        "        self.number_year = number_year\n",
        "        self.number_class = number_class\n",
        "\n",
        "    def class_student(self):\n",
        "        subject= ['국어', '영어','수학']\n",
        "        year = ['1학년', '2학년', '3학년', '4학년']\n",
        "        classroom= ['1반', '2반', '3반', '4반']\n",
        "        _1학년 = {}\n",
        "        for k in range(number_class):\n",
        "            _1학년[classroom[0]] = {}\n",
        "            for i in range(number_sub):\n",
        "                _1학년[subject[0]] = {}\n",
        "                과목점수_1 =[]\n",
        "                for j in range(number_stu):\n",
        "                    score = random.randint(0,100)\n",
        "                    과목점수_1.append(score)\n",
        "                    _1학년[number_class[k]][subject[i]] = 과목점수_1\n",
        "        return subject, year, classroom\n",
        "    def class_number(self, count1= 10):\n",
        "        self.number_sub = 3\n",
        "\n",
        "    # def year_1(self):\n",
        "    #     year = ['1학년', '2학년', '3학년', '4학년']\n",
        "    # def classroom_1(self):\n",
        "    #     classroom= ['1반', '2반', '3반', '4반']"
      ],
      "metadata": {
        "id": "Ww5WPN-Nj13Y"
      },
      "execution_count": 53,
      "outputs": []
    },
    {
      "cell_type": "code",
      "source": [
        "#속성\n",
        "#동작 순서 -> 1. 점수파일(점수.txt) 2. 기능 작성(점수 - 등급, 점수 - 석차, 과목별 - 평균)\n",
        "#3. 결과저장\n",
        "import random\n",
        "# import math\n",
        "# import matplotlib.pyplot as plt\n",
        "# import pickle\n",
        "\n",
        "# !sudo apt-get install -y fonts-nanum\n",
        "# !sudo fc-cache -fv\n",
        "# !rm ~/.cache/matplotlib -rf\n",
        "\n",
        "# plt.rc('font', family='NanumBarunGothic')\n",
        "# plt.rcParams['axes.unicode_minus'] = False"
      ],
      "metadata": {
        "id": "_Q7m4iFy9HEC"
      },
      "execution_count": 81,
      "outputs": []
    },
    {
      "cell_type": "code",
      "source": [
        "class School:\n",
        "\n",
        "    def __init__(self, number_stu, number_sub, number_year, number_class):\n",
        "        self.number_stu = number_stu\n",
        "        self.number_sub = number_sub\n",
        "        self.number_year = number_year\n",
        "        self.number_class = number_class\n",
        "\n",
        "    def class_student(self):\n",
        "        number_stu = 20 #학생수\n",
        "        number_sub= 3 #과목수\n",
        "        number_year = 4 #학년수\n",
        "        number_class= 4 #반 수\n",
        "\n",
        "        subject= ['국어', '영어','수학']\n",
        "        year = ['1학년', '2학년', '3학년', '4학년']\n",
        "        classroom= ['1반', '2반', '3반', '4반']\n",
        "\n",
        "        _1학년 = {}\n",
        "        for j in range(number_year):\n",
        "            _1학년[year[j]] = {}\n",
        "            for k in range(number_class):\n",
        "                _1학년[year[j]][classroom[k]] = {}\n",
        "                for i in range(number_sub):\n",
        "                    score_1 =[]\n",
        "                    for b in range(number_stu):\n",
        "                        score = random.randint(0, 100)\n",
        "                        score_1.append(score)\n",
        "                    _1학년[year[j]][classroom[k]][subject[i]] = score_1\n",
        "        return _1학년\n",
        "    # def class_number(self, count1= 10):\n",
        "    #     self.number_sub = 3"
      ],
      "metadata": {
        "id": "CNDR-iYt89ko"
      },
      "execution_count": 82,
      "outputs": []
    },
    {
      "cell_type": "code",
      "source": [
        "c = School(number_stu, number_sub, number_year, number_class)\n",
        "print(c.class_student())"
      ],
      "metadata": {
        "colab": {
          "base_uri": "https://localhost:8080/"
        },
        "id": "VuiHWF6W9chv",
        "outputId": "bf044dc4-036a-46e1-f0fa-7965ee8a6fbf"
      },
      "execution_count": 84,
      "outputs": [
        {
          "output_type": "stream",
          "name": "stdout",
          "text": [
            "{'1학년': {'1반': {'국어': [88, 84, 72, 82, 47, 95, 61, 0, 59, 86, 67, 5, 15, 75, 38, 36, 25, 70, 90, 88], '영어': [88, 55, 79, 24, 0, 45, 75, 95, 24, 99, 79, 31, 0, 32, 2, 29, 45, 79, 98, 64], '수학': [78, 1, 39, 94, 46, 45, 60, 92, 39, 96, 47, 6, 44, 40, 85, 59, 20, 73, 46, 64]}, '2반': {'국어': [77, 35, 19, 24, 8, 1, 86, 30, 11, 23, 15, 36, 47, 56, 34, 40, 45, 37, 95, 90], '영어': [74, 60, 77, 3, 95, 30, 26, 39, 95, 24, 19, 81, 95, 19, 82, 54, 51, 56, 37, 56], '수학': [89, 4, 45, 86, 9, 57, 41, 68, 6, 36, 2, 75, 85, 65, 99, 5, 7, 24, 76, 74]}, '3반': {'국어': [48, 82, 90, 29, 31, 4, 49, 38, 82, 89, 87, 74, 85, 26, 69, 48, 41, 7, 27, 36], '영어': [61, 73, 98, 48, 68, 41, 81, 10, 13, 30, 99, 47, 6, 31, 43, 24, 18, 61, 59, 90], '수학': [19, 34, 48, 92, 80, 97, 80, 58, 78, 50, 69, 80, 94, 68, 6, 86, 94, 92, 21, 68]}, '4반': {'국어': [82, 48, 55, 21, 40, 59, 50, 53, 100, 41, 45, 56, 23, 100, 40, 70, 55, 72, 53, 63], '영어': [15, 71, 82, 10, 30, 47, 99, 85, 4, 6, 26, 81, 75, 84, 39, 41, 62, 25, 52, 87], '수학': [11, 6, 33, 69, 49, 55, 14, 7, 28, 36, 18, 21, 84, 36, 0, 23, 6, 53, 56, 2]}}, '2학년': {'1반': {'국어': [2, 40, 31, 56, 49, 46, 88, 21, 25, 67, 85, 99, 7, 79, 24, 88, 11, 15, 52, 25], '영어': [1, 59, 74, 30, 78, 90, 71, 29, 95, 97, 14, 9, 70, 34, 10, 93, 89, 59, 100, 87], '수학': [14, 14, 62, 3, 58, 95, 26, 28, 50, 29, 51, 16, 90, 5, 39, 97, 3, 39, 71, 32]}, '2반': {'국어': [80, 85, 77, 6, 40, 36, 73, 42, 17, 71, 46, 6, 89, 85, 91, 90, 93, 71, 60, 13], '영어': [14, 33, 42, 47, 4, 99, 55, 26, 3, 88, 40, 59, 39, 4, 35, 80, 54, 29, 80, 33], '수학': [56, 39, 12, 57, 61, 45, 61, 77, 100, 17, 34, 6, 17, 18, 34, 12, 84, 3, 32, 96]}, '3반': {'국어': [52, 7, 85, 81, 52, 24, 30, 59, 53, 98, 98, 93, 91, 91, 59, 6, 6, 95, 6, 5], '영어': [75, 49, 98, 55, 87, 35, 8, 83, 6, 13, 46, 76, 56, 28, 88, 11, 55, 0, 77, 85], '수학': [21, 35, 37, 20, 11, 6, 100, 69, 59, 27, 35, 14, 18, 61, 71, 43, 82, 32, 41, 79]}, '4반': {'국어': [10, 53, 21, 20, 27, 88, 35, 38, 41, 45, 51, 85, 66, 34, 18, 13, 50, 75, 40, 62], '영어': [81, 54, 86, 22, 85, 47, 70, 37, 96, 9, 23, 83, 94, 24, 86, 23, 11, 98, 21, 74], '수학': [74, 64, 44, 83, 59, 66, 35, 33, 54, 50, 35, 0, 40, 90, 8, 3, 51, 1, 28, 42]}}, '3학년': {'1반': {'국어': [83, 23, 47, 15, 16, 92, 67, 14, 61, 85, 61, 63, 63, 0, 86, 92, 32, 20, 54, 73], '영어': [56, 77, 94, 19, 91, 86, 19, 54, 51, 18, 93, 26, 74, 46, 36, 2, 11, 38, 59, 82], '수학': [57, 26, 43, 63, 97, 3, 49, 8, 24, 31, 95, 33, 80, 4, 21, 16, 25, 64, 9, 61]}, '2반': {'국어': [98, 61, 99, 27, 79, 69, 100, 70, 59, 21, 81, 53, 24, 95, 89, 38, 32, 88, 13, 21], '영어': [100, 24, 35, 11, 43, 74, 94, 82, 2, 34, 81, 47, 28, 34, 5, 65, 53, 78, 84, 18], '수학': [4, 75, 41, 93, 66, 54, 2, 50, 30, 93, 65, 60, 5, 61, 98, 91, 3, 60, 16, 5]}, '3반': {'국어': [93, 73, 5, 84, 57, 79, 37, 83, 53, 10, 90, 87, 41, 89, 88, 8, 13, 62, 74, 84], '영어': [76, 94, 51, 4, 67, 45, 84, 33, 68, 42, 23, 31, 10, 66, 70, 1, 23, 5, 72, 13], '수학': [75, 9, 51, 57, 60, 2, 30, 53, 92, 16, 96, 48, 72, 37, 1, 49, 7, 34, 84, 8]}, '4반': {'국어': [68, 10, 68, 100, 12, 49, 60, 93, 88, 96, 18, 2, 53, 61, 0, 100, 7, 59, 19, 61], '영어': [31, 54, 14, 92, 63, 5, 56, 65, 39, 92, 2, 0, 50, 14, 81, 19, 28, 80, 85, 91], '수학': [30, 0, 5, 1, 96, 56, 83, 23, 76, 51, 68, 90, 6, 13, 56, 39, 32, 14, 70, 59]}}, '4학년': {'1반': {'국어': [79, 5, 35, 47, 44, 15, 6, 78, 43, 84, 93, 83, 17, 17, 94, 63, 73, 68, 68, 68], '영어': [35, 91, 56, 14, 9, 10, 96, 16, 62, 31, 63, 28, 21, 33, 26, 74, 11, 29, 18, 41], '수학': [16, 18, 71, 88, 18, 35, 16, 31, 64, 2, 34, 48, 92, 2, 77, 100, 38, 46, 53, 75]}, '2반': {'국어': [88, 50, 29, 55, 93, 85, 95, 83, 59, 99, 88, 47, 37, 17, 99, 9, 53, 49, 5, 27], '영어': [63, 78, 28, 46, 22, 10, 23, 44, 42, 13, 61, 50, 77, 89, 71, 89, 58, 63, 99, 67], '수학': [10, 19, 28, 81, 82, 21, 48, 77, 25, 47, 50, 1, 93, 48, 4, 47, 46, 34, 35, 85]}, '3반': {'국어': [85, 18, 20, 15, 6, 68, 54, 17, 43, 79, 22, 18, 29, 70, 18, 99, 38, 42, 73, 28], '영어': [59, 35, 91, 71, 98, 86, 49, 86, 13, 6, 38, 29, 95, 61, 84, 10, 8, 93, 10, 77], '수학': [20, 0, 81, 53, 2, 72, 73, 54, 22, 96, 24, 48, 45, 52, 0, 0, 82, 26, 6, 88]}, '4반': {'국어': [79, 24, 98, 6, 86, 28, 58, 42, 44, 52, 51, 97, 44, 98, 21, 66, 77, 60, 30, 72], '영어': [69, 95, 45, 75, 72, 62, 67, 76, 29, 83, 67, 24, 56, 43, 17, 18, 83, 42, 14, 58], '수학': [0, 96, 57, 34, 6, 59, 63, 49, 57, 91, 13, 32, 99, 40, 49, 86, 55, 93, 41, 5]}}}\n"
          ]
        }
      ]
    },
    {
      "cell_type": "code",
      "source": [
        "score_1 =[]\n",
        "\n",
        "for b in range(number_stu):\n",
        "    score = random.randint(0, 100)\n",
        "    score_1.append(score)\n",
        "\n",
        "print(score_1)"
      ],
      "metadata": {
        "colab": {
          "base_uri": "https://localhost:8080/"
        },
        "id": "HvujejN3qGJc",
        "outputId": "cbfd284e-5f6e-4b7d-84ef-4178dea56aee"
      },
      "execution_count": 69,
      "outputs": [
        {
          "output_type": "stream",
          "name": "stdout",
          "text": [
            "[36, 57, 40, 97, 26, 5, 55, 16, 91, 24, 7, 74, 70, 26, 44, 48, 24, 8, 64, 75]\n"
          ]
        }
      ]
    },
    {
      "cell_type": "code",
      "source": [
        "for y in year:\n",
        "    print(y)"
      ],
      "metadata": {
        "colab": {
          "base_uri": "https://localhost:8080/"
        },
        "id": "2hFKuFJR3f2l",
        "outputId": "1b05c617-458d-468b-d6f1-8cd74c2f3345"
      },
      "execution_count": 66,
      "outputs": [
        {
          "output_type": "stream",
          "name": "stdout",
          "text": [
            "1학년\n",
            "2학년\n",
            "3학년\n",
            "4학년\n"
          ]
        }
      ]
    },
    {
      "cell_type": "code",
      "source": [
        "number_stu = 20 #학생수\n",
        "number_sub= 3 #과목수\n",
        "number_year = 4 #학년수\n",
        "number_class= 4 #반 수\n",
        "\n",
        "subject= ['국어', '영어','수학']\n",
        "year = ['1학년', '2학년', '3학년', '4학년']\n",
        "classroom= ['1반', '2반', '3반', '4반']\n",
        "\n",
        "_1학년 = {}\n",
        "for j in range(number_year):\n",
        "    _1학년[year[j]] = {}\n",
        "    for k in range(number_class):\n",
        "        _1학년[year[j]][classroom[k]] = {}\n",
        "        for i in range(number_sub):\n",
        "            score_1 =[]\n",
        "            for b in range(number_stu):\n",
        "                score = random.randint(0, 100)\n",
        "                score_1.append(score)\n",
        "            _1학년[year[j]][classroom[k]][subject[i]] = score_1\n",
        "\n",
        "            # print(score_1)\n",
        "print(_1학년)\n",
        "# print(_1학년[year[j]][classroom[k]][subject[i]][score_1[b]])"
      ],
      "metadata": {
        "colab": {
          "base_uri": "https://localhost:8080/"
        },
        "id": "SaXgkbEYllVY",
        "outputId": "686f54bc-9503-450e-9d5e-7e11e8a0e460"
      },
      "execution_count": 79,
      "outputs": [
        {
          "output_type": "stream",
          "name": "stdout",
          "text": [
            "{'1학년': {'1반': {'국어': [88, 17, 56, 38, 68, 9, 40, 33, 74, 96, 2, 41, 52, 57, 10, 7, 89, 49, 34, 20], '영어': [31, 87, 98, 91, 80, 45, 51, 4, 0, 73, 23, 30, 32, 62, 84, 10, 88, 42, 30, 22], '수학': [99, 65, 62, 72, 42, 31, 12, 0, 86, 17, 82, 71, 37, 64, 55, 88, 11, 42, 46, 77]}, '2반': {'국어': [94, 43, 10, 6, 78, 74, 14, 23, 98, 42, 55, 53, 38, 69, 40, 43, 13, 28, 74, 8], '영어': [35, 95, 94, 9, 32, 26, 48, 11, 75, 39, 83, 88, 66, 47, 83, 50, 8, 88, 8, 100], '수학': [23, 67, 90, 35, 8, 78, 26, 6, 82, 13, 4, 19, 33, 75, 30, 26, 92, 29, 4, 43]}, '3반': {'국어': [31, 95, 86, 48, 37, 41, 25, 39, 68, 76, 66, 95, 26, 85, 13, 40, 92, 29, 38, 58], '영어': [63, 71, 63, 53, 7, 4, 66, 53, 63, 51, 24, 50, 67, 74, 5, 77, 67, 18, 31, 65], '수학': [55, 77, 71, 99, 77, 37, 67, 11, 16, 83, 51, 83, 50, 50, 19, 14, 26, 83, 52, 17]}, '4반': {'국어': [46, 100, 19, 85, 95, 6, 49, 24, 56, 65, 61, 35, 78, 82, 74, 40, 54, 45, 53, 5], '영어': [15, 73, 47, 23, 63, 95, 22, 16, 25, 37, 12, 21, 12, 8, 14, 77, 10, 32, 96, 79], '수학': [49, 87, 0, 11, 1, 39, 9, 48, 72, 31, 90, 30, 74, 96, 51, 54, 12, 22, 58, 31]}}, '2학년': {'1반': {'국어': [23, 98, 25, 85, 15, 91, 7, 63, 31, 30, 93, 37, 94, 27, 74, 45, 71, 80, 69, 1], '영어': [23, 39, 41, 99, 42, 3, 97, 20, 48, 14, 18, 59, 61, 67, 8, 4, 33, 7, 2, 51], '수학': [68, 9, 69, 35, 59, 27, 86, 75, 38, 65, 11, 32, 80, 61, 55, 82, 17, 21, 39, 23]}, '2반': {'국어': [65, 2, 31, 54, 84, 94, 49, 70, 66, 81, 92, 83, 71, 56, 11, 53, 82, 61, 57, 58], '영어': [30, 68, 1, 68, 1, 77, 40, 16, 2, 59, 17, 64, 67, 79, 24, 32, 28, 95, 7, 89], '수학': [24, 10, 53, 97, 3, 77, 34, 34, 54, 83, 77, 28, 32, 2, 19, 28, 47, 90, 11, 74]}, '3반': {'국어': [77, 88, 86, 84, 20, 38, 1, 77, 56, 74, 53, 84, 59, 62, 50, 17, 87, 74, 61, 9], '영어': [22, 56, 96, 41, 90, 18, 28, 73, 43, 87, 73, 47, 2, 10, 29, 45, 44, 75, 61, 74], '수학': [99, 8, 62, 82, 42, 17, 73, 41, 15, 75, 99, 12, 1, 100, 25, 42, 17, 42, 2, 95]}, '4반': {'국어': [90, 37, 83, 88, 44, 58, 16, 92, 98, 52, 57, 1, 95, 55, 19, 42, 8, 74, 94, 21], '영어': [22, 29, 29, 36, 12, 77, 28, 68, 26, 47, 91, 7, 90, 82, 22, 24, 97, 29, 77, 71], '수학': [2, 66, 30, 65, 14, 18, 86, 79, 2, 68, 6, 66, 82, 69, 66, 84, 87, 90, 17, 60]}}, '3학년': {'1반': {'국어': [93, 26, 10, 62, 87, 60, 69, 75, 88, 80, 99, 99, 61, 94, 42, 100, 43, 16, 29, 46], '영어': [72, 4, 35, 36, 34, 29, 88, 26, 21, 96, 39, 26, 90, 38, 37, 72, 46, 14, 99, 99], '수학': [91, 55, 96, 93, 90, 28, 78, 2, 32, 52, 8, 35, 29, 38, 45, 3, 77, 29, 80, 12]}, '2반': {'국어': [85, 9, 23, 75, 38, 66, 62, 79, 2, 53, 21, 93, 76, 78, 51, 92, 99, 58, 96, 65], '영어': [75, 54, 56, 63, 53, 59, 99, 80, 31, 9, 60, 27, 26, 0, 11, 55, 100, 33, 5, 72], '수학': [14, 46, 23, 18, 96, 46, 67, 45, 56, 55, 89, 47, 88, 0, 57, 62, 81, 1, 12, 66]}, '3반': {'국어': [12, 61, 98, 11, 85, 56, 57, 61, 98, 15, 66, 16, 51, 26, 58, 92, 31, 28, 78, 41], '영어': [37, 87, 6, 0, 17, 74, 65, 49, 44, 69, 79, 32, 2, 43, 12, 22, 87, 9, 58, 26], '수학': [55, 85, 26, 89, 16, 11, 3, 49, 22, 19, 63, 39, 32, 32, 98, 48, 65, 70, 19, 13]}, '4반': {'국어': [30, 30, 42, 37, 79, 93, 88, 64, 53, 50, 79, 65, 9, 33, 5, 41, 56, 1, 22, 49], '영어': [15, 91, 51, 48, 19, 75, 64, 27, 23, 47, 38, 97, 65, 33, 34, 49, 58, 61, 18, 33], '수학': [31, 47, 90, 83, 51, 89, 62, 96, 86, 35, 8, 92, 57, 26, 7, 39, 5, 84, 57, 56]}}, '4학년': {'1반': {'국어': [35, 82, 48, 89, 18, 53, 61, 10, 95, 97, 71, 57, 31, 52, 85, 37, 59, 48, 22, 45], '영어': [32, 60, 51, 77, 71, 66, 15, 67, 35, 5, 0, 65, 68, 85, 68, 43, 90, 8, 27, 31], '수학': [65, 16, 16, 89, 1, 23, 49, 71, 60, 27, 64, 89, 87, 43, 100, 67, 29, 30, 49, 13]}, '2반': {'국어': [97, 65, 58, 70, 55, 87, 41, 49, 61, 76, 23, 50, 89, 84, 4, 8, 22, 17, 12, 27], '영어': [96, 43, 17, 44, 73, 23, 52, 5, 85, 90, 3, 55, 4, 85, 8, 46, 39, 93, 87, 52], '수학': [7, 39, 95, 52, 69, 78, 2, 25, 11, 73, 33, 11, 5, 42, 30, 47, 20, 65, 68, 68]}, '3반': {'국어': [38, 66, 77, 40, 93, 27, 81, 61, 27, 2, 14, 95, 59, 74, 88, 58, 72, 15, 16, 5], '영어': [51, 98, 18, 65, 25, 80, 66, 30, 22, 97, 26, 68, 27, 89, 9, 63, 82, 46, 40, 10], '수학': [71, 36, 100, 14, 55, 36, 98, 85, 24, 75, 59, 25, 8, 11, 74, 72, 58, 27, 98, 64]}, '4반': {'국어': [26, 37, 73, 38, 6, 79, 66, 7, 57, 81, 66, 60, 8, 18, 1, 70, 10, 41, 91, 30], '영어': [22, 28, 94, 95, 90, 2, 86, 36, 14, 91, 42, 52, 45, 47, 67, 91, 32, 34, 69, 52], '수학': [45, 45, 40, 100, 77, 68, 37, 3, 20, 39, 7, 10, 37, 2, 0, 73, 74, 84, 78, 30]}}}\n"
          ]
        }
      ]
    },
    {
      "cell_type": "code",
      "source": [
        "print(score_1)"
      ],
      "metadata": {
        "colab": {
          "base_uri": "https://localhost:8080/"
        },
        "id": "FudJktYX46lg",
        "outputId": "3c14967a-db50-4b86-acb1-bf18b62e3e8c"
      },
      "execution_count": 59,
      "outputs": [
        {
          "output_type": "stream",
          "name": "stdout",
          "text": [
            "[95, 98, 35, 10, 29, 96, 40, 35, 70, 60, 94, 77, 9, 89, 25, 49, 80, 15, 77, 64]\n"
          ]
        }
      ]
    },
    {
      "cell_type": "code",
      "source": [
        "a_1[0][0]\n",
        "print(a_1)"
      ],
      "metadata": {
        "colab": {
          "base_uri": "https://localhost:8080/"
        },
        "id": "itM0mqTanWMz",
        "outputId": "3ff85990-383e-48a8-87c7-7db19c3acc6d"
      },
      "execution_count": 30,
      "outputs": [
        {
          "output_type": "stream",
          "name": "stdout",
          "text": [
            "[['국어', '영어', '수학'], ['1학년', '2학년', '3학년', '4학년'], ['1반', '2반', '3반', '4반']]\n"
          ]
        }
      ]
    },
    {
      "cell_type": "code",
      "source": [
        "a = School(number_stu, number_sub, number_year, number_class)\n",
        "print(a.class_student())"
      ],
      "metadata": {
        "colab": {
          "base_uri": "https://localhost:8080/",
          "height": 295
        },
        "id": "P1rjBusNjHZD",
        "outputId": "4ab0b800-cd4a-42ac-d22b-21978bbd9fdb"
      },
      "execution_count": 16,
      "outputs": [
        {
          "output_type": "error",
          "ename": "TypeError",
          "evalue": "'int' object is not subscriptable",
          "traceback": [
            "\u001b[0;31m---------------------------------------------------------------------------\u001b[0m",
            "\u001b[0;31mTypeError\u001b[0m                                 Traceback (most recent call last)",
            "\u001b[0;32m<ipython-input-16-216a40d97b74>\u001b[0m in \u001b[0;36m<cell line: 2>\u001b[0;34m()\u001b[0m\n\u001b[1;32m      1\u001b[0m \u001b[0ma\u001b[0m \u001b[0;34m=\u001b[0m \u001b[0mSchool\u001b[0m\u001b[0;34m(\u001b[0m\u001b[0mnumber_stu\u001b[0m\u001b[0;34m,\u001b[0m \u001b[0mnumber_sub\u001b[0m\u001b[0;34m,\u001b[0m \u001b[0mnumber_year\u001b[0m\u001b[0;34m,\u001b[0m \u001b[0mnumber_class\u001b[0m\u001b[0;34m)\u001b[0m\u001b[0;34m\u001b[0m\u001b[0;34m\u001b[0m\u001b[0m\n\u001b[0;32m----> 2\u001b[0;31m \u001b[0mprint\u001b[0m\u001b[0;34m(\u001b[0m\u001b[0ma\u001b[0m\u001b[0;34m.\u001b[0m\u001b[0mclass_student\u001b[0m\u001b[0;34m(\u001b[0m\u001b[0;34m)\u001b[0m\u001b[0;34m)\u001b[0m\u001b[0;34m\u001b[0m\u001b[0;34m\u001b[0m\u001b[0m\n\u001b[0m",
            "\u001b[0;32m<ipython-input-15-db8de4523743>\u001b[0m in \u001b[0;36mclass_student\u001b[0;34m(self)\u001b[0m\n\u001b[1;32m     23\u001b[0m         \u001b[0m_1학년\u001b[0m \u001b[0;34m=\u001b[0m \u001b[0;34m{\u001b[0m\u001b[0;34m}\u001b[0m\u001b[0;34m\u001b[0m\u001b[0;34m\u001b[0m\u001b[0m\n\u001b[1;32m     24\u001b[0m         \u001b[0;32mfor\u001b[0m \u001b[0mk\u001b[0m \u001b[0;32min\u001b[0m \u001b[0mrange\u001b[0m\u001b[0;34m(\u001b[0m\u001b[0mnumber_class\u001b[0m\u001b[0;34m)\u001b[0m\u001b[0;34m:\u001b[0m\u001b[0;34m\u001b[0m\u001b[0;34m\u001b[0m\u001b[0m\n\u001b[0;32m---> 25\u001b[0;31m             \u001b[0m_1학년\u001b[0m\u001b[0;34m[\u001b[0m\u001b[0mnumber_class\u001b[0m\u001b[0;34m[\u001b[0m\u001b[0mk\u001b[0m\u001b[0;34m]\u001b[0m\u001b[0;34m]\u001b[0m \u001b[0;34m=\u001b[0m \u001b[0;34m{\u001b[0m\u001b[0;34m}\u001b[0m\u001b[0;34m\u001b[0m\u001b[0;34m\u001b[0m\u001b[0m\n\u001b[0m\u001b[1;32m     26\u001b[0m             \u001b[0;32mfor\u001b[0m \u001b[0mi\u001b[0m \u001b[0;32min\u001b[0m \u001b[0mrange\u001b[0m\u001b[0;34m(\u001b[0m\u001b[0mnumber_sub\u001b[0m\u001b[0;34m)\u001b[0m\u001b[0;34m:\u001b[0m\u001b[0;34m\u001b[0m\u001b[0;34m\u001b[0m\u001b[0m\n\u001b[1;32m     27\u001b[0m                 \u001b[0m과목점수_1\u001b[0m \u001b[0;34m=\u001b[0m\u001b[0;34m[\u001b[0m\u001b[0;34m]\u001b[0m\u001b[0;34m\u001b[0m\u001b[0;34m\u001b[0m\u001b[0m\n",
            "\u001b[0;31mTypeError\u001b[0m: 'int' object is not subscriptable"
          ]
        }
      ]
    },
    {
      "cell_type": "code",
      "source": [
        "c = School(number_stu, number_sub, number_year, number_class)\n"
      ],
      "metadata": {
        "id": "ayD1cuetbt8s"
      },
      "execution_count": null,
      "outputs": []
    },
    {
      "cell_type": "code",
      "source": [
        "c = School(number_stu, number_sub, number_year, number_class)\n",
        "# count1 = 10\n",
        "c.class_number()\n",
        "print(c.class_student())"
      ],
      "metadata": {
        "colab": {
          "base_uri": "https://localhost:8080/",
          "height": 314
        },
        "id": "jRxf-j6S2BCj",
        "outputId": "8e211b35-34d0-4c30-bc2d-6c94ad55e1bc"
      },
      "execution_count": 83,
      "outputs": [
        {
          "output_type": "error",
          "ename": "TypeError",
          "evalue": "'int' object is not subscriptable",
          "traceback": [
            "\u001b[0;31m---------------------------------------------------------------------------\u001b[0m",
            "\u001b[0;31mTypeError\u001b[0m                                 Traceback (most recent call last)",
            "\u001b[0;32m<ipython-input-83-9645616f2998>\u001b[0m in \u001b[0;36m<cell line: 4>\u001b[0;34m()\u001b[0m\n\u001b[1;32m      2\u001b[0m \u001b[0;31m# count1 = 10\u001b[0m\u001b[0;34m\u001b[0m\u001b[0;34m\u001b[0m\u001b[0m\n\u001b[1;32m      3\u001b[0m \u001b[0mc\u001b[0m\u001b[0;34m.\u001b[0m\u001b[0mclass_number\u001b[0m\u001b[0;34m(\u001b[0m\u001b[0;34m)\u001b[0m\u001b[0;34m\u001b[0m\u001b[0;34m\u001b[0m\u001b[0m\n\u001b[0;32m----> 4\u001b[0;31m \u001b[0mprint\u001b[0m\u001b[0;34m(\u001b[0m\u001b[0mc\u001b[0m\u001b[0;34m.\u001b[0m\u001b[0mclass_student\u001b[0m\u001b[0;34m(\u001b[0m\u001b[0;34m)\u001b[0m\u001b[0;34m)\u001b[0m\u001b[0;34m\u001b[0m\u001b[0;34m\u001b[0m\u001b[0m\n\u001b[0m",
            "\u001b[0;32m<ipython-input-82-617cd1bfc9a9>\u001b[0m in \u001b[0;36mclass_student\u001b[0;34m(self)\u001b[0m\n\u001b[1;32m     23\u001b[0m         \u001b[0m_1학년\u001b[0m \u001b[0;34m=\u001b[0m \u001b[0;34m{\u001b[0m\u001b[0;34m}\u001b[0m\u001b[0;34m\u001b[0m\u001b[0;34m\u001b[0m\u001b[0m\n\u001b[1;32m     24\u001b[0m         \u001b[0;32mfor\u001b[0m \u001b[0mk\u001b[0m \u001b[0;32min\u001b[0m \u001b[0mrange\u001b[0m\u001b[0;34m(\u001b[0m\u001b[0mnumber_class\u001b[0m\u001b[0;34m)\u001b[0m\u001b[0;34m:\u001b[0m\u001b[0;34m\u001b[0m\u001b[0;34m\u001b[0m\u001b[0m\n\u001b[0;32m---> 25\u001b[0;31m             \u001b[0m_1학년\u001b[0m\u001b[0;34m[\u001b[0m\u001b[0mnumber_class\u001b[0m\u001b[0;34m[\u001b[0m\u001b[0mk\u001b[0m\u001b[0;34m]\u001b[0m\u001b[0;34m]\u001b[0m \u001b[0;34m=\u001b[0m \u001b[0;34m{\u001b[0m\u001b[0;34m}\u001b[0m\u001b[0;34m\u001b[0m\u001b[0;34m\u001b[0m\u001b[0m\n\u001b[0m\u001b[1;32m     26\u001b[0m             \u001b[0;32mfor\u001b[0m \u001b[0mi\u001b[0m \u001b[0;32min\u001b[0m \u001b[0mrange\u001b[0m\u001b[0;34m(\u001b[0m\u001b[0mnumber_sub\u001b[0m\u001b[0;34m)\u001b[0m\u001b[0;34m:\u001b[0m\u001b[0;34m\u001b[0m\u001b[0;34m\u001b[0m\u001b[0m\n\u001b[1;32m     27\u001b[0m                 \u001b[0m과목점수_1\u001b[0m \u001b[0;34m=\u001b[0m\u001b[0;34m[\u001b[0m\u001b[0;34m]\u001b[0m\u001b[0;34m\u001b[0m\u001b[0;34m\u001b[0m\u001b[0m\n",
            "\u001b[0;31mTypeError\u001b[0m: 'int' object is not subscriptable"
          ]
        }
      ]
    },
    {
      "cell_type": "code",
      "source": [
        "fig_0 = plt.figure(0)\n",
        "ax = fig_0.add_axes([0,0,1,1])\n",
        "ax.scatter(x = list(과목점수_1[0] for sample in 과목점수_1),\n",
        "           y = list(과목점수_1[1] for sample in 과목점수_1),\n",
        "           marker = '+', color = 'b')\n",
        "\n",
        "ax.set_xlabel(\"특징1\"); ax.set_ylabel(\"특징2\")\n",
        "pickle.dump(fig_0, open(\"samples_plot\", 'wb'))\n",
        "\n",
        "fig_0.canvas.draw()"
      ],
      "metadata": {
        "id": "QQGEI-MP0b9N"
      },
      "execution_count": null,
      "outputs": []
    },
    {
      "cell_type": "code",
      "source": [
        "M_1 = School()\n",
        "M_1.class_student()"
      ],
      "metadata": {
        "colab": {
          "base_uri": "https://localhost:8080/",
          "height": 185
        },
        "id": "07Xd1KIxw8aL",
        "outputId": "d473fca5-4b30-4bc1-ecc4-2d1524cfc2ec"
      },
      "execution_count": 46,
      "outputs": [
        {
          "output_type": "error",
          "ename": "TypeError",
          "evalue": "School.__init__() missing 4 required positional arguments: 'number_stu', 'number_sub', 'number_year', and 'number_class'",
          "traceback": [
            "\u001b[0;31m---------------------------------------------------------------------------\u001b[0m",
            "\u001b[0;31mTypeError\u001b[0m                                 Traceback (most recent call last)",
            "\u001b[0;32m<ipython-input-46-32e6aceedc43>\u001b[0m in \u001b[0;36m<cell line: 1>\u001b[0;34m()\u001b[0m\n\u001b[0;32m----> 1\u001b[0;31m \u001b[0mM_1\u001b[0m \u001b[0;34m=\u001b[0m \u001b[0mSchool\u001b[0m\u001b[0;34m(\u001b[0m\u001b[0;34m)\u001b[0m\u001b[0;34m\u001b[0m\u001b[0;34m\u001b[0m\u001b[0m\n\u001b[0m\u001b[1;32m      2\u001b[0m \u001b[0mM_1\u001b[0m\u001b[0;34m.\u001b[0m\u001b[0mclass_student\u001b[0m\u001b[0;34m(\u001b[0m\u001b[0;34m)\u001b[0m\u001b[0;34m\u001b[0m\u001b[0;34m\u001b[0m\u001b[0m\n",
            "\u001b[0;31mTypeError\u001b[0m: School.__init__() missing 4 required positional arguments: 'number_stu', 'number_sub', 'number_year', and 'number_class'"
          ]
        }
      ]
    },
    {
      "cell_type": "code",
      "source": [
        "# a_1 = School\n",
        "# a_1.subject_1()\n",
        "number_stu = 20 #학생수\n",
        "number_sub= 3 #과목수\n",
        "year = ['1학년', '2학년', '3학년', '4학년']\n",
        "number_class= ['1반', '2반', '3반', '4반']\n",
        "subject= ['국어', '영어','수학']\n",
        "\n",
        "\n",
        "    # _1학년 = {}\n",
        "    # for k in range(len(number_class)):\n",
        "    #     _1학년[number_class[k]] = {}\n",
        "_1학년 = {}\n",
        "for k in range(len(number_class)):\n",
        "    _1학년[number_class[k]] = {}\n",
        "    for i in range(number_sub):\n",
        "        과목점수_1 =[]\n",
        "        for j in range(number_stu):\n",
        "            score = random.randint(0,100)\n",
        "            과목점수_1.append(score)\n",
        "            _1학년[number_class[k]][subject[i]] = 과목점수_1\n",
        "\n",
        "        print(과목점수_1)\n",
        "print(_1학년)"
      ],
      "metadata": {
        "colab": {
          "base_uri": "https://localhost:8080/"
        },
        "id": "aaO9xgimDWwr",
        "outputId": "face2314-da13-4226-cd20-0e0fb225bddd"
      },
      "execution_count": 33,
      "outputs": [
        {
          "output_type": "stream",
          "name": "stdout",
          "text": [
            "[50, 48, 46, 35, 1, 52, 97, 41, 71, 29, 88, 97, 44, 52, 37, 36, 9, 42, 16, 89]\n",
            "[84, 3, 87, 57, 34, 0, 84, 80, 46, 54, 50, 53, 55, 13, 50, 87, 58, 49, 4, 85]\n",
            "[19, 70, 28, 77, 59, 6, 14, 38, 36, 97, 45, 51, 20, 27, 78, 86, 29, 43, 41, 61]\n",
            "[26, 20, 87, 90, 92, 31, 61, 24, 47, 99, 33, 100, 82, 72, 93, 78, 34, 63, 73, 28]\n",
            "[46, 27, 76, 11, 27, 11, 77, 76, 65, 61, 43, 63, 75, 42, 95, 7, 88, 83, 80, 78]\n",
            "[88, 32, 34, 77, 8, 57, 13, 7, 48, 83, 66, 89, 68, 1, 69, 38, 11, 98, 4, 68]\n",
            "[22, 18, 2, 17, 63, 50, 22, 46, 35, 32, 10, 6, 83, 38, 34, 40, 52, 44, 98, 83]\n",
            "[44, 34, 11, 82, 90, 98, 16, 47, 60, 4, 80, 36, 57, 31, 14, 43, 70, 0, 65, 32]\n",
            "[85, 31, 57, 41, 28, 60, 96, 26, 45, 31, 71, 48, 46, 60, 52, 82, 68, 91, 10, 33]\n",
            "[100, 61, 79, 28, 20, 11, 36, 63, 65, 37, 61, 29, 16, 5, 35, 8, 42, 72, 8, 32]\n",
            "[59, 60, 45, 58, 91, 65, 1, 91, 64, 32, 7, 82, 34, 7, 83, 33, 45, 33, 11, 80]\n",
            "[78, 73, 45, 80, 41, 82, 39, 89, 20, 59, 6, 77, 47, 50, 69, 89, 79, 70, 72, 96]\n",
            "{'1반': {'국어': [50, 48, 46, 35, 1, 52, 97, 41, 71, 29, 88, 97, 44, 52, 37, 36, 9, 42, 16, 89], '영어': [84, 3, 87, 57, 34, 0, 84, 80, 46, 54, 50, 53, 55, 13, 50, 87, 58, 49, 4, 85], '수학': [19, 70, 28, 77, 59, 6, 14, 38, 36, 97, 45, 51, 20, 27, 78, 86, 29, 43, 41, 61]}, '2반': {'국어': [26, 20, 87, 90, 92, 31, 61, 24, 47, 99, 33, 100, 82, 72, 93, 78, 34, 63, 73, 28], '영어': [46, 27, 76, 11, 27, 11, 77, 76, 65, 61, 43, 63, 75, 42, 95, 7, 88, 83, 80, 78], '수학': [88, 32, 34, 77, 8, 57, 13, 7, 48, 83, 66, 89, 68, 1, 69, 38, 11, 98, 4, 68]}, '3반': {'국어': [22, 18, 2, 17, 63, 50, 22, 46, 35, 32, 10, 6, 83, 38, 34, 40, 52, 44, 98, 83], '영어': [44, 34, 11, 82, 90, 98, 16, 47, 60, 4, 80, 36, 57, 31, 14, 43, 70, 0, 65, 32], '수학': [85, 31, 57, 41, 28, 60, 96, 26, 45, 31, 71, 48, 46, 60, 52, 82, 68, 91, 10, 33]}, '4반': {'국어': [100, 61, 79, 28, 20, 11, 36, 63, 65, 37, 61, 29, 16, 5, 35, 8, 42, 72, 8, 32], '영어': [59, 60, 45, 58, 91, 65, 1, 91, 64, 32, 7, 82, 34, 7, 83, 33, 45, 33, 11, 80], '수학': [78, 73, 45, 80, 41, 82, 39, 89, 20, 59, 6, 77, 47, 50, 69, 89, 79, 70, 72, 96]}}\n"
          ]
        }
      ]
    },
    {
      "cell_type": "code",
      "source": [
        "number_stu = 20 #학생수\n",
        "number_sub= 3 #과목수\n",
        "number_year = 4 #학년수\n",
        "number_class= 4 #반 수\n",
        "\n",
        "class School:\n",
        "\n",
        "    def __init__(self, number_stu, number_sub, number_year, number_class):\n",
        "        self.number_stu = number_stu\n",
        "        self.number_sub = number_sub\n",
        "        self.number_year = number_year\n",
        "        self.number_class = number_class\n",
        "    # __init__(20, 3, 4, 4)\n",
        "    xy_1 = School(number_stu=20, number_sub=3, number_year=4, number_class=4)\n",
        "    print(xy_1.number_stu, xy_1.number_sub, xy_1.number_year, xy_1.number_class)"
      ],
      "metadata": {
        "colab": {
          "base_uri": "https://localhost:8080/"
        },
        "id": "u6KMoH2h5bio",
        "outputId": "3f2d21d6-adc7-4d70-8a2e-c9a2ae9f6bbb"
      },
      "execution_count": 17,
      "outputs": [
        {
          "output_type": "stream",
          "name": "stdout",
          "text": [
            "20 3 4 4\n"
          ]
        }
      ]
    },
    {
      "cell_type": "code",
      "source": [
        "class Computer:\n",
        "\n",
        "    maxprice2 = 100\n",
        "\n",
        "    def __init__(self):\n",
        "        self.__maxprice = 900\n",
        "\n",
        "    def sell(self):\n",
        "        print(\"Selling Price: {}\".format(self.__maxprice))\n",
        "\n",
        "    def setMaxPrice(self, price):\n",
        "        self.__maxprice = price\n",
        "\n",
        "c = Computer()\n",
        "c.sell()\n",
        "\n",
        "c.__maxprice = 1000\n",
        "c.sell()\n",
        "\n",
        "c.setMaxPrice(1000)\n",
        "c.sell()"
      ],
      "metadata": {
        "colab": {
          "base_uri": "https://localhost:8080/"
        },
        "id": "846p05ciuwSQ",
        "outputId": "a0dfb335-dacd-4571-f36e-95db06c51d60"
      },
      "execution_count": 33,
      "outputs": [
        {
          "output_type": "stream",
          "name": "stdout",
          "text": [
            "Selling Price: 900\n",
            "Selling Price: 900\n",
            "Selling Price: 1000\n"
          ]
        }
      ]
    },
    {
      "cell_type": "code",
      "source": [
        "{'ListAirQualityByDistrictService': {'list_total_count': 1,\n",
        "  'RESULT': {'CODE': 'INFO-000', 'MESSAGE': '정상 처리되었습니다'},\n",
        "  'row': [{'MSRDATE': '202404261500',\n",
        "    'MSRADMCODE': '111151',\n",
        "    'MSRSTENAME': '중랑구',\n",
        "    'MAXINDEX': '84',\n",
        "    'GRADE': '보통',\n",
        "    'POLLUTANT': 'O3',\n",
        "    'NITROGEN': '0.017',\n",
        "    'OZONE': '0.071',\n",
        "    'CARBON': '0.4',\n",
        "    'SULFUROUS': '0.002',\n",
        "    'PM10': '77',\n",
        "    'PM25': '32'}]}}"
      ],
      "metadata": {
        "colab": {
          "base_uri": "https://localhost:8080/"
        },
        "id": "fFr0NTLQhe20",
        "outputId": "59218b5f-fdf5-4894-97c6-3e683aa0f2e6"
      },
      "execution_count": 8,
      "outputs": [
        {
          "output_type": "execute_result",
          "data": {
            "text/plain": [
              "{'ListAirQualityByDistrictService': {'list_total_count': 1,\n",
              "  'RESULT': {'CODE': 'INFO-000', 'MESSAGE': '정상 처리되었습니다'},\n",
              "  'row': [{'MSRDATE': '202404261500',\n",
              "    'MSRADMCODE': '111151',\n",
              "    'MSRSTENAME': '중랑구',\n",
              "    'MAXINDEX': '84',\n",
              "    'GRADE': '보통',\n",
              "    'POLLUTANT': 'O3',\n",
              "    'NITROGEN': '0.017',\n",
              "    'OZONE': '0.071',\n",
              "    'CARBON': '0.4',\n",
              "    'SULFUROUS': '0.002',\n",
              "    'PM10': '77',\n",
              "    'PM25': '32'}]}}"
            ]
          },
          "metadata": {},
          "execution_count": 8
        }
      ]
    },
    {
      "cell_type": "code",
      "source": [
        "a, b = map(int, input(\"A + B의 값을 입력하세요? = \").split(','))\n",
        "c = a + b\n",
        "print(c)"
      ],
      "metadata": {
        "colab": {
          "base_uri": "https://localhost:8080/"
        },
        "id": "JtTs5sXjsKhM",
        "outputId": "2e48296b-ae0c-4cf5-aff8-f970f4ba9c2c"
      },
      "execution_count": 4,
      "outputs": [
        {
          "output_type": "stream",
          "name": "stdout",
          "text": [
            "A + B의 값을 입력하세요? = 1,2\n",
            "3\n"
          ]
        }
      ]
    },
    {
      "cell_type": "code",
      "source": [
        "def add(a, b):\n",
        "    return a + b\n",
        "\n",
        "if __name__ == \"__main__\":\n",
        "    inputs = input().split()\n",
        "    a = int(inputs[0])\n",
        "    b = int(inputs[1])\n",
        "    print(add(a, b))"
      ],
      "metadata": {
        "id": "yenQUotVbJQx"
      },
      "execution_count": null,
      "outputs": []
    }
  ]
}