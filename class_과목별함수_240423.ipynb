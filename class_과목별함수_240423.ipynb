{
  "nbformat": 4,
  "nbformat_minor": 0,
  "metadata": {
    "colab": {
      "provenance": [],
      "authorship_tag": "ABX9TyM4Y9JQbGk09d5wGKhcA3mf",
      "include_colab_link": true
    },
    "kernelspec": {
      "name": "python3",
      "display_name": "Python 3"
    },
    "language_info": {
      "name": "python"
    }
  },
  "cells": [
    {
      "cell_type": "markdown",
      "metadata": {
        "id": "view-in-github",
        "colab_type": "text"
      },
      "source": [
        "<a href=\"https://colab.research.google.com/github/YEON2020/to_localtest/blob/main/class_%EA%B3%BC%EB%AA%A9%EB%B3%84%ED%95%A8%EC%88%98_240423.ipynb\" target=\"_parent\"><img src=\"https://colab.research.google.com/assets/colab-badge.svg\" alt=\"Open In Colab\"/></a>"
      ]
    },
    {
      "cell_type": "code",
      "source": [
        "data = [[3, 20300401, 10, 8], [1, 20300104, 100, 80]]\n",
        "ext ="
      ],
      "metadata": {
        "id": "w81MxSJaxzF6"
      },
      "execution_count": null,
      "outputs": []
    },
    {
      "cell_type": "code",
      "execution_count": null,
      "metadata": {
        "id": "zUtKjpPsjU7m"
      },
      "outputs": [],
      "source": [
        "def solution(data, ext, val_ext, sort_by):\n",
        "    answer = [[]]\n",
        "    return answer"
      ]
    },
    {
      "cell_type": "code",
      "source": [
        "\"\"\"1학년, 1반, 학생 20명\n",
        "국어, 영어, 수학\n",
        "\n",
        "점수 = {\"1학년\":\n",
        "                {\"1반\":\n",
        "                    {\"국어\":[],\n",
        "                     \"영어\":[],\n",
        "                     \"수학\":[]},\n",
        "                 \"2반\":\n",
        "                    {\"국어\":[],\n",
        "                     \"영어\":[],\n",
        "                     \"수학\":[]},\n",
        "                 \"3반\":\n",
        "                    {\"국어\":[],\n",
        "                     \"영어\":[],\n",
        "                     \"수학\":[]},\n",
        "                 \"4반\":\n",
        "                    {\"국어\":[],\n",
        "                     \"영어\":[],\n",
        "                     \"수학\":[]}\n",
        "                }\n",
        "        }\n",
        "점수[\"1학년\"][\"1반\"][\"국어\"]\"\"\""
      ],
      "metadata": {
        "id": "bSjfIRraDTB7"
      },
      "execution_count": null,
      "outputs": []
    },
    {
      "cell_type": "code",
      "source": [],
      "metadata": {
        "id": "aaO9xgimDWwr"
      },
      "execution_count": null,
      "outputs": []
    }
  ]
}