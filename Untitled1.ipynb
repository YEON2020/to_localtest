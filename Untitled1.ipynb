{
  "nbformat": 4,
  "nbformat_minor": 0,
  "metadata": {
    "colab": {
      "provenance": [],
      "authorship_tag": "ABX9TyPPEFqrMSDALdPTRzyrJwzm",
      "include_colab_link": true
    },
    "kernelspec": {
      "name": "python3",
      "display_name": "Python 3"
    },
    "language_info": {
      "name": "python"
    }
  },
  "cells": [
    {
      "cell_type": "markdown",
      "metadata": {
        "id": "view-in-github",
        "colab_type": "text"
      },
      "source": [
        "<a href=\"https://colab.research.google.com/github/YEON2020/to_localtest/blob/main/Untitled1.ipynb\" target=\"_parent\"><img src=\"https://colab.research.google.com/assets/colab-badge.svg\" alt=\"Open In Colab\"/></a>"
      ]
    },
    {
      "cell_type": "code",
      "execution_count": null,
      "metadata": {
        "id": "tBzo_BBNNUPK"
      },
      "outputs": [],
      "source": [
        "def sequential_search(A, key, low, high):\n",
        "    for i in range(low, high+1):\n",
        "        if A[i].key == key:\n",
        "            return i\n",
        "    return None"
      ]
    },
    {
      "cell_type": "code",
      "source": [
        "items = []\n",
        "def insert(pos, elem):\n",
        "    items.insert(pos, elem)\n",
        "def delete(pos):\n",
        "    items.pop(pos)\n",
        "def getEntry(pos):\n",
        "    return items[pos]\n",
        "def isEmpty():\n",
        "    if len(items) == 0:\n",
        "        return True\n",
        "    else:\n",
        "        return False\n",
        "def size():\n",
        "    return len(items)\n",
        "def clear():\n",
        "    items = []\n",
        "def find(item):\n",
        ""
      ],
      "metadata": {
        "id": "OAO9mosxgQki"
      },
      "execution_count": null,
      "outputs": []
    }
  ]
}