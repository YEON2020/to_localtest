{
  "nbformat": 4,
  "nbformat_minor": 0,
  "metadata": {
    "colab": {
      "provenance": [],
      "authorship_tag": "ABX9TyN7Ok03Y/QFaiy9oOFXBvSB",
      "include_colab_link": true
    },
    "kernelspec": {
      "name": "python3",
      "display_name": "Python 3"
    },
    "language_info": {
      "name": "python"
    }
  },
  "cells": [
    {
      "cell_type": "markdown",
      "metadata": {
        "id": "view-in-github",
        "colab_type": "text"
      },
      "source": [
        "<a href=\"https://colab.research.google.com/github/YEON2020/to_localtest/blob/main/Untitled1.ipynb\" target=\"_parent\"><img src=\"https://colab.research.google.com/assets/colab-badge.svg\" alt=\"Open In Colab\"/></a>"
      ]
    },
    {
      "cell_type": "code",
      "execution_count": null,
      "metadata": {
        "id": "GULDAFh-Egzd"
      },
      "outputs": [],
      "source": [
        "S = {A, E, B, G, C, F}\n",
        "dist(A)\n",
        "s = A\n",
        "s ="
      ]
    },
    {
      "cell_type": "code",
      "source": [
        "import heapq\n",
        "\n",
        "def dijkstra(graph, start):\n",
        "    # 시작 노드에서 각 노드까지의 최단 경로 길이\n",
        "    distances = {node: float('inf') for node in graph}\n",
        "    distances[start] = 0\n",
        "    priority_queue = [(0, start)]\n",
        "\n",
        "    while priority_queue:\n",
        "        current_distance, current_node = heapq.heappop(priority_queue)\n",
        "\n",
        "        if current_distance > distances[current_node]:\n",
        "            continue\n",
        "\n",
        "        for neighbor, weight in graph[current_node].items():\n",
        "            distance = current_distance + weight\n",
        "\n",
        "            if distance < distances[neighbor]:\n",
        "                distances[neighbor] = distance\n",
        "                heapq.heappush(priority_queue, (distance, neighbor))\n",
        "\n",
        "    return distances\n",
        "\n",
        "# 그래프 정의\n",
        "graph = {\n",
        "    'A': {'B': 7, 'C': 9, 'E': 3, 'F': 10},\n",
        "    'B': {'A': 7, 'C': 6, 'D': 4, 'E': 2},\n",
        "    'C': {'A': 9, 'B': 6, 'D': 2, 'F': 9},\n",
        "    'D': {'B': 4, 'C': 2, 'G': 11},\n",
        "    'E': {'A': 3, 'B': 2, 'G': 8},\n",
        "    'F': {'A': 10, 'C': 9},\n",
        "    'G': {'E': 8, 'D': 4}\n",
        "}\n",
        "\n",
        "# 시작 노드 A에서 각 노드까지의 최단 경로 계산\n",
        "start_node = 'A'\n",
        "shortest_paths = dijkstra(graph, start_node)\n",
        "\n",
        "# 최단 경로 출력\n",
        "for node, distance in shortest_paths.items():\n",
        "    print(f\"최단 경로 {start_node} -> {node} : {distance}\")\n"
      ],
      "metadata": {
        "colab": {
          "base_uri": "https://localhost:8080/"
        },
        "id": "BivGbtMsE5-Q",
        "outputId": "5fe46544-bfc0-4930-ad56-011475540a79"
      },
      "execution_count": null,
      "outputs": [
        {
          "output_type": "stream",
          "name": "stdout",
          "text": [
            "최단 경로 A -> A : 0\n",
            "최단 경로 A -> B : 5\n",
            "최단 경로 A -> C : 9\n",
            "최단 경로 A -> D : 9\n",
            "최단 경로 A -> E : 3\n",
            "최단 경로 A -> F : 10\n",
            "최단 경로 A -> G : 11\n"
          ]
        }
      ]
    },
    {
      "cell_type": "code",
      "source": [
        "vertex = {'A', 'B', 'C', 'D', 'E', 'F', 'G'}\n",
        "weight = [ [0, 7, INF, INF, 3, 10, INF ],\n",
        "            [7, 0, 4, 10, 2, 6, INF ],\n",
        "            [INF, 4, 0, 2, INF, INF, INF ],\n",
        "            [INF, 10, 2, 0, 11, 9, 4 ],\n",
        "            [3, 2, INF, 11, 0, 13, 5 ],\n",
        "            [10, 6, INF, 9, 13, 0, INF ],\n",
        "            [INF, INF, INF, 4, 5, INF, 0 ] ]"
      ],
      "metadata": {
        "id": "phbPW4z1NzRe"
      },
      "execution_count": null,
      "outputs": []
    },
    {
      "cell_type": "code",
      "source": [
        "map = {\n",
        "      'A' : {'B' :7, 'C': 9, 'E':3, 'F':10},\n",
        "      'B' : {'A':7, 'C':6, 'D':4, 'E':2},\n",
        "      'C' : {'A':9, 'B':6, 'D':2, 'F':9},\n",
        "      'D' : {'B':4, 'C':2, 'G':11},\n",
        "      'E' : {'A':3, 'B':2, 'G':8},\n",
        "      'F' : {'A':10, 'C':9},\n",
        "      'G' : {'E':8, 'D':4}\n",
        "      }\n",
        "\n",
        "S = set()\n",
        "S = {'A'}\n",
        "dist(A) = 0\n",
        "dist(B) = 7\n",
        "dist(C) = INF\n",
        "dist(D) = INF\n",
        "dist(E) = 3\n",
        "dist(F) = 10\n",
        "dist(G) = INF\n",
        "\n",
        "S = {'A', 'B'}\n",
        "dist(A) = 0\n",
        "dist(B) = 0\n",
        "dist(C) = 4\n",
        "dist(D) = 10\n",
        "dist(E) = 2\n",
        "dist(F) = 6\n",
        "dist(G) = INF\n",
        "\n",
        "S = {'A', 'B', 'C'}\n",
        "dist(A) = 0\n",
        "dist(B) = 0\n",
        "dist(C) = 0\n",
        "dist(D) = 2\n",
        "dist(E) = 2\n",
        "dist(F) = 4\n",
        "dist(G) = 10\n",
        "\n",
        "S = {'A', 'B', 'C', 'D'}\n",
        "dist(A) = 0\n",
        "dist(B) = 0\n",
        "dist(C) = 0\n",
        "dist(D) = 0\n",
        "dist(E) = 2\n",
        "dist(F) = 4\n",
        "dist(G) = 6\n",
        "\n",
        "S = {'A', 'B', 'C', 'D', 'E'}\n",
        "dist(A) = 0\n",
        "dist(B) = 0\n",
        "dist(C) = 0\n",
        "dist(D) = 0\n",
        "dist(E) = 0\n",
        "dist(F) = 4\n",
        "dist(G) = 6\n",
        "\n",
        "S = {'A', 'B', 'C', 'D', 'E', 'F'}\n",
        "dist(A) = 0\n",
        "dist(B) = 0\n",
        "dist(C) = 0\n",
        "dist(D) = 0\n",
        "dist(E) = 0\n",
        "dist(F) = 0\n",
        "dist(G) = 6\n",
        "\n",
        "S = {'A', 'B', 'C', 'D', 'E', 'F', 'G'}\n",
        "dist(A) = 0\n",
        "dist(B) = 0\n",
        "dist(C) = 0\n",
        "dist(D) = 0\n",
        "dist(E) = 0\n",
        "dist(F) = 0\n",
        "dist(G) = 0\n"
      ],
      "metadata": {
        "id": "pPaKF74TFASP"
      },
      "execution_count": null,
      "outputs": []
    },
    {
      "cell_type": "code",
      "source": [
        "import heapq\n",
        "\n",
        "INF = float('inf')\n",
        "\n",
        "# 그래프 정의 (인접 행렬)\n",
        "vertex = ['A', 'B', 'C', 'D', 'E', 'F', 'G']\n",
        "weight = [\n",
        "    [0, 7, INF, INF, 3, 10, INF],\n",
        "    [7, 0, 4, 10, 2, 6, INF],\n",
        "    [INF, 4, 0, 2, INF, INF, INF],\n",
        "    [INF, 10, 2, 0, 11, 9, 4],\n",
        "    [3, 2, INF, 11, 0, 13, 5],\n",
        "    [10, 6, INF, 9, 13, 0, INF],\n",
        "    [INF, INF, INF, 4, 5, INF, 0]\n",
        "]\n",
        "\n",
        "def dijkstra(vertex, weight, start):\n",
        "    # 초기화\n",
        "    distances = {v: INF for v in vertex}\n",
        "    distances[vertex[start]] = 0\n",
        "    priority_queue = [(0, vertex[start])]\n",
        "    path = {v: None for v in vertex}\n",
        "    S = set()\n",
        "\n",
        "    while priority_queue:\n",
        "        current_distance, current_vertex = heapq.heappop(priority_queue)\n",
        "\n",
        "        if current_vertex in S:\n",
        "            continue\n",
        "\n",
        "        S.add(current_vertex)\n",
        "\n",
        "        for neighbor_index, weight_value in enumerate(weight[vertex.index(current_vertex)]):\n",
        "            if weight_value != INF and weight_value != 0:\n",
        "                distance = current_distance + weight_value\n",
        "\n",
        "                if distance < distances[vertex[neighbor_index]]:\n",
        "                    distances[vertex[neighbor_index]] = distance\n",
        "                    heapq.heappush(priority_queue, (distance, vertex[neighbor_index]))\n",
        "                    path[vertex[neighbor_index]] = current_vertex\n",
        "\n",
        "        print(f\"Current set S: {S}\")\n",
        "        print(f\"Distances: {distances}\")\n",
        "\n",
        "    return distances, path\n",
        "\n",
        "start_index = 0\n",
        "print(\"Shortest Path By Dijkstra Algorithm\")\n",
        "distances, path = dijkstra(vertex, weight, start_index)\n",
        "\n",
        "# 최단 경로 출력\n",
        "for end in range(len(vertex)):\n",
        "    if end != start_index:\n",
        "        print(f\"[최단경로: {vertex[start_index]}->{vertex[end]}] {vertex[end]}\", end='')\n",
        "        current = path[vertex[end]]\n",
        "        while current is not None:\n",
        "            print(f\" <- {current}\", end='')\n",
        "            current = path[current]\n",
        "        print()"
      ],
      "metadata": {
        "colab": {
          "base_uri": "https://localhost:8080/"
        },
        "id": "giHJjs_nQ0C8",
        "outputId": "eae671df-807e-4867-d5fa-aecdb0d26dd0"
      },
      "execution_count": null,
      "outputs": [
        {
          "output_type": "stream",
          "name": "stdout",
          "text": [
            "Shortest Path By Dijkstra Algorithm\n",
            "Current set S: {'A'}\n",
            "Distances: {'A': 0, 'B': 7, 'C': inf, 'D': inf, 'E': 3, 'F': 10, 'G': inf}\n",
            "Current set S: {'A', 'E'}\n",
            "Distances: {'A': 0, 'B': 5, 'C': inf, 'D': 14, 'E': 3, 'F': 10, 'G': 8}\n",
            "Current set S: {'B', 'A', 'E'}\n",
            "Distances: {'A': 0, 'B': 5, 'C': 9, 'D': 14, 'E': 3, 'F': 10, 'G': 8}\n",
            "Current set S: {'B', 'A', 'G', 'E'}\n",
            "Distances: {'A': 0, 'B': 5, 'C': 9, 'D': 12, 'E': 3, 'F': 10, 'G': 8}\n",
            "Current set S: {'C', 'B', 'G', 'A', 'E'}\n",
            "Distances: {'A': 0, 'B': 5, 'C': 9, 'D': 11, 'E': 3, 'F': 10, 'G': 8}\n",
            "Current set S: {'C', 'B', 'G', 'F', 'A', 'E'}\n",
            "Distances: {'A': 0, 'B': 5, 'C': 9, 'D': 11, 'E': 3, 'F': 10, 'G': 8}\n",
            "Current set S: {'C', 'B', 'G', 'F', 'A', 'D', 'E'}\n",
            "Distances: {'A': 0, 'B': 5, 'C': 9, 'D': 11, 'E': 3, 'F': 10, 'G': 8}\n",
            "[최단경로: A->B] B <- E <- A\n",
            "[최단경로: A->C] C <- B <- E <- A\n",
            "[최단경로: A->D] D <- C <- B <- E <- A\n",
            "[최단경로: A->E] E <- A\n",
            "[최단경로: A->F] F <- A\n",
            "[최단경로: A->G] G <- E <- A\n"
          ]
        }
      ]
    },
    {
      "cell_type": "code",
      "source": [
        "def dijkstra(vertex, weight, start):\n",
        "    distance = [float(INF)] * len(vertex)\n",
        "    distance[start] = 0\n",
        "    visited = [False] * len(vertex)\n",
        "    while True:\n"
      ],
      "metadata": {
        "id": "7Ntr8KqNHsb-"
      },
      "execution_count": null,
      "outputs": []
    },
    {
      "cell_type": "code",
      "source": [
        "def main():\n",
        "    side1 = float(input('한 변의 길이를 입력하라: '))\n",
        "    side2 = float(input('다른 한 변의 길이를 입력하라: '))\n",
        "    hyp = (side1 * side1 + side2 * side2) ** 0.5\n",
        "    print('빗변의 길이는 ', hyp)"
      ],
      "metadata": {
        "id": "9eydXA4p5eIs"
      },
      "execution_count": 3,
      "outputs": []
    },
    {
      "cell_type": "code",
      "source": [
        "def main():\n",
        "    age = int(input('나이를 입력하라: '))\n",
        "    name = input('이름을 입력하라: ')\n",
        ""
      ],
      "metadata": {
        "id": "oG_8oTvSHcuV"
      },
      "execution_count": null,
      "outputs": []
    }
  ]
}