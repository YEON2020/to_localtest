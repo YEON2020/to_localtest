{
  "nbformat": 4,
  "nbformat_minor": 0,
  "metadata": {
    "colab": {
      "provenance": [],
      "authorship_tag": "ABX9TyPpOnFphJNAcMdXyR7P9d4e",
      "include_colab_link": true
    },
    "kernelspec": {
      "name": "python3",
      "display_name": "Python 3"
    },
    "language_info": {
      "name": "python"
    }
  },
  "cells": [
    {
      "cell_type": "markdown",
      "metadata": {
        "id": "view-in-github",
        "colab_type": "text"
      },
      "source": [
        "<a href=\"https://colab.research.google.com/github/YEON2020/to_localtest/blob/main/%EC%95%88%EC%97%B0%EC%88%98_%EB%AF%B8%EB%A1%9C%ED%83%88%EC%B6%9C(%EB%84%93%EC%9D%B4%EC%9A%B0%EC%84%A0)_240522.ipynb\" target=\"_parent\"><img src=\"https://colab.research.google.com/assets/colab-badge.svg\" alt=\"Open In Colab\"/></a>"
      ]
    },
    {
      "cell_type": "code",
      "execution_count": null,
      "metadata": {
        "id": "7E_sbzjyn9_d"
      },
      "outputs": [],
      "source": [
        "from collections import deque\n",
        "\n",
        "map = [['1', '1', '1', '1', '1', '1'],\n",
        "       ['e', '0', '0', '0', '0', '1'],\n",
        "       ['1', '0', '1', '0', '1', '1'],\n",
        "       ['1', '1', '1', '0', '0', 'x'],\n",
        "       ['1', '1', '1', '0', '1', '1'],\n",
        "       ['1', '1', '1', '1', '1', '1']]\n",
        "\n",
        "MAZE_SIZE = 6\n",
        "\n",
        "def is_valid_move(row, col):\n",
        "    if row < 0 or row >= MAZE_SIZE or col < 0 or col >= MAZE_SIZE:\n",
        "        return False\n",
        "    if map[row][col] == '1':\n",
        "        return False\n",
        "    return True\n",
        "\n",
        "def breadth_first_search():\n",
        "    queue = deque([(1, 0)])\n",
        "    visited = set()\n",
        "\n",
        "    while queue:\n",
        "        current_row, current_col = queue.popleft()\n",
        "        visited.add((current_row, current_col))\n",
        "\n",
        "        if map[current_row][current_col] == 'x':\n",
        "            return True\n",
        "\n",
        "        for dr, dc in [(1, 0), (-1, 0), (0, 1), (0, -1)]:\n",
        "            next_row, next_col = current_row + dr, current_col + dc\n",
        "            if (next_row, next_col) not in visited and is_valid_move(next_row, next_col):\n",
        "                queue.append((next_row, next_col))\n",
        "\n",
        "    return False\n",
        "\n",
        "if breadth_first_search():\n",
        "    print(\"출구에 도착했습니다.\")\n",
        "else:\n",
        "    print(\"출구를 찾을 수 없습니다.\")"
      ]
    }
  ]
}