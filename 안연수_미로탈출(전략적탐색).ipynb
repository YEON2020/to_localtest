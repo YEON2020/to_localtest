{
  "nbformat": 4,
  "nbformat_minor": 0,
  "metadata": {
    "colab": {
      "provenance": [],
      "authorship_tag": "ABX9TyOwwetH4K0Z9HueKtUT9d9x",
      "include_colab_link": true
    },
    "kernelspec": {
      "name": "python3",
      "display_name": "Python 3"
    },
    "language_info": {
      "name": "python"
    }
  },
  "cells": [
    {
      "cell_type": "markdown",
      "metadata": {
        "id": "view-in-github",
        "colab_type": "text"
      },
      "source": [
        "<a href=\"https://colab.research.google.com/github/YEON2020/to_localtest/blob/main/%EC%95%88%EC%97%B0%EC%88%98_%EB%AF%B8%EB%A1%9C%ED%83%88%EC%B6%9C(%EC%A0%84%EB%9E%B5%EC%A0%81%ED%83%90%EC%83%89).ipynb\" target=\"_parent\"><img src=\"https://colab.research.google.com/assets/colab-badge.svg\" alt=\"Open In Colab\"/></a>"
      ]
    },
    {
      "cell_type": "code",
      "execution_count": null,
      "metadata": {
        "id": "JpoSnQULo5Ig"
      },
      "outputs": [],
      "source": [
        "import heapq\n",
        "\n",
        "def heuristic(a, b):\n",
        "\n",
        "    return abs(a[0] - b[0]) + abs(a[1] - b[1])\n",
        "\n",
        "def a_star(maze, start, end):\n",
        "    rows, cols = len(maze), len(maze[0])\n",
        "    open_set = []\n",
        "    heapq.heappush(open_set, (0, start))\n",
        "\n",
        "    came_from = {}\n",
        "    g_score = {start: 0}\n",
        "    f_score = {start: heuristic(start, end)}\n",
        "\n",
        "    while open_set:\n",
        "        current = heapq.heappop(open_set)[1]\n",
        "\n",
        "        if current == end:\n",
        "            path = []\n",
        "            while current in came_from:\n",
        "                path.append(current)\n",
        "                current = came_from[current]\n",
        "            path.append(start)\n",
        "            path.reverse()\n",
        "            return path\n",
        "\n",
        "        x, y = current\n",
        "        for dx, dy in [(-1, 0), (1, 0), (0, -1), (0, 1)]:\n",
        "            neighbor = (x + dx, y + dy)\n",
        "            if 0 <= neighbor[0] < rows and 0 <= neighbor[1] < cols and maze[neighbor[0]][neighbor[1]] != '1':\n",
        "                tentative_g_score = g_score[current] + 1\n",
        "\n",
        "                if neighbor not in g_score or tentative_g_score < g_score[neighbor]:\n",
        "                    came_from[neighbor] = current\n",
        "                    g_score[neighbor] = tentative_g_score\n",
        "                    f_score[neighbor] = g_score[neighbor] + heuristic(neighbor, end)\n",
        "                    if neighbor not in [i[1] for i in open_set]:\n",
        "                        heapq.heappush(open_set, (f_score[neighbor], neighbor))\n",
        "\n",
        "    return \"출구를 찾을 수 없습니다.\"\n",
        "\n",
        "maze = [\n",
        "    ['1', '1', '1', '1', '1', '1'],\n",
        "    ['e', '0', '0', '0', '0', '1'],\n",
        "    ['1', '0', '1', '1', '0', '1'],\n",
        "    ['1', '0', '1', '1', '0', 'x'],\n",
        "    ['1', '0', '0', '0', '1', '1'],\n",
        "    ['1', '1', '1', '1', '1', '1']\n",
        "]\n",
        "\n",
        "start = None\n",
        "end = None\n",
        "\n",
        "for i in range(len(maze)):\n",
        "    for j in range(len(maze[i])):\n",
        "        if maze[i][j] == 'e':\n",
        "            start = (i, j)\n",
        "        elif maze[i][j] == 'x':\n",
        "            end = (i, j)\n",
        "\n",
        "path = a_star(maze, start, end)\n",
        "\n",
        "if path == \"출구를 찾을 수 없습니다.\":\n",
        "    print(path)\n",
        "else:\n",
        "    print(\"경로: \", path)"
      ]
    }
  ]
}