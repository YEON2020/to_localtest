{
  "nbformat": 4,
  "nbformat_minor": 0,
  "metadata": {
    "colab": {
      "provenance": [],
      "authorship_tag": "ABX9TyM4zaONADvt2/gjb65aWL7f",
      "include_colab_link": true
    },
    "kernelspec": {
      "name": "python3",
      "display_name": "Python 3"
    },
    "language_info": {
      "name": "python"
    }
  },
  "cells": [
    {
      "cell_type": "markdown",
      "metadata": {
        "id": "view-in-github",
        "colab_type": "text"
      },
      "source": [
        "<a href=\"https://colab.research.google.com/github/YEON2020/to_localtest/blob/main/%EC%95%88%EC%97%B0%EC%88%98_%EB%AF%B8%EB%A1%9C%ED%83%88%EC%B6%9C(%EC%A0%84%EB%9E%B5%EC%A0%81%ED%83%90%EC%83%89).ipynb\" target=\"_parent\"><img src=\"https://colab.research.google.com/assets/colab-badge.svg\" alt=\"Open In Colab\"/></a>"
      ]
    },
    {
      "cell_type": "code",
      "execution_count": null,
      "metadata": {
        "id": "JpoSnQULo5Ig"
      },
      "outputs": [],
      "source": [
        "import heapq\n",
        "\n",
        "map = [['1', '1', '1', '1', '1', '1'],\n",
        "       ['e', '0', '0', '0', '0', '1'],\n",
        "       ['1', '0', '1', '0', '1', '1'],\n",
        "       ['1', '1', '1', '0', '0', 'x'],\n",
        "       ['1', '1', '1', '0', '1', '1'],\n",
        "       ['1', '1', '1', '1', '1', '1']]\n",
        "\n",
        "MAZE_SIZE = 6\n",
        "\n",
        "def is_valid_move(row, col):\n",
        "    if row < 0 or row >= MAZE_SIZE or col < 0 or col >= MAZE_SIZE:\n",
        "        return False\n",
        "    if map[row][col] == '1':\n",
        "        return False\n",
        "    return True\n",
        "\n",
        "def heuristic(row, col):\n",
        "    exit_row, exit_col = 3, 5\n",
        "    return abs(row - exit_row) + abs(col - exit_col)\n",
        "\n",
        "def strategic_search():\n",
        "    priority_queue = [((1, 0), 0, 0)]\n",
        "    visited = set()\n",
        "\n",
        "    while priority_queue:\n",
        "        (current_row, current_col), total_distance, _ = heapq.heappop(priority_queue)\n",
        "        if (current_row, current_col) in visited:\n",
        "            continue\n",
        "        visited.add((current_row, current_col))\n",
        "\n",
        "        if map[current_row][current_col] == 'x':\n",
        "            return True\n",
        "\n",
        "        for dr, dc in [(1, 0), (-1, 0), (0, 1), (0, -1)]:\n",
        "            next_row, next_col = current_row + dr, current_col + dc\n",
        "            if is_valid_move(next_row, next_col):\n",
        "                next_distance = total_distance + 1\n",
        "                heapq.heappush(priority_queue, ((next_row, next_col), next_distance, next_distance + heuristic(next_row, next_col)))\n",
        "\n",
        "    return False\n",
        "\n",
        "if strategic_search():\n",
        "    print(\"출구에 도착했습니다.\")\n",
        "else:\n",
        "    print(\"출구를 찾을 수 없습니다.\")"
      ]
    }
  ]
}