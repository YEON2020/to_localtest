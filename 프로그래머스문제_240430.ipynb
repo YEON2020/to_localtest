{
  "nbformat": 4,
  "nbformat_minor": 0,
  "metadata": {
    "colab": {
      "provenance": [],
      "authorship_tag": "ABX9TyMWGK2wvPTvKLWj01THLi9X",
      "include_colab_link": true
    },
    "kernelspec": {
      "name": "python3",
      "display_name": "Python 3"
    },
    "language_info": {
      "name": "python"
    }
  },
  "cells": [
    {
      "cell_type": "markdown",
      "metadata": {
        "id": "view-in-github",
        "colab_type": "text"
      },
      "source": [
        "<a href=\"https://colab.research.google.com/github/YEON2020/to_localtest/blob/main/%ED%94%84%EB%A1%9C%EA%B7%B8%EB%9E%98%EB%A8%B8%EC%8A%A4%EB%AC%B8%EC%A0%9C_240430.ipynb\" target=\"_parent\"><img src=\"https://colab.research.google.com/assets/colab-badge.svg\" alt=\"Open In Colab\"/></a>"
      ]
    },
    {
      "cell_type": "code",
      "source": [
        "def solution(maze):\n",
        "    answer = 0\n",
        "    return answer"
      ],
      "metadata": {
        "id": "-bx20I2rK7FJ"
      },
      "execution_count": null,
      "outputs": []
    },
    {
      "cell_type": "code",
      "execution_count": null,
      "metadata": {
        "id": "lNwV8ziVuQSm"
      },
      "outputs": [],
      "source": [
        "def solution(num1, num2):\n",
        "    answer = -1\n",
        "    answer = num1+ num2\n",
        "    return answer"
      ]
    },
    {
      "cell_type": "code",
      "source": [
        "solution(100, 2)"
      ],
      "metadata": {
        "colab": {
          "base_uri": "https://localhost:8080/"
        },
        "id": "2DAuwR011ZGZ",
        "outputId": "14b75139-cd76-4276-fb29-6d40eb978e8a"
      },
      "execution_count": null,
      "outputs": [
        {
          "output_type": "execute_result",
          "data": {
            "text/plain": [
              "102"
            ]
          },
          "metadata": {},
          "execution_count": 10
        }
      ]
    },
    {
      "cell_type": "code",
      "source": [
        "def solution(num1, num2):\n",
        "    if num1 == num2:\n",
        "        answer = 1\n",
        "    else:\n",
        "        answer = -1\n",
        "    return answer"
      ],
      "metadata": {
        "id": "T5nCHVfHyQ1o"
      },
      "execution_count": null,
      "outputs": []
    },
    {
      "cell_type": "code",
      "source": [
        "solution(2, 3)"
      ],
      "metadata": {
        "colab": {
          "base_uri": "https://localhost:8080/"
        },
        "id": "_jfef8W3s3Cw",
        "outputId": "c123eda6-a8d0-4667-a51e-1255ca10a6f8"
      },
      "execution_count": null,
      "outputs": [
        {
          "output_type": "execute_result",
          "data": {
            "text/plain": [
              "-1"
            ]
          },
          "metadata": {},
          "execution_count": 15
        }
      ]
    },
    {
      "cell_type": "code",
      "source": [
        "def solution(num1, num2):\n",
        "    answer = -1\n",
        "    answer = num1 % num2\n",
        "    return answer"
      ],
      "metadata": {
        "id": "3U4RUq4RQa7W"
      },
      "execution_count": 3,
      "outputs": []
    },
    {
      "cell_type": "code",
      "source": [
        "solution(10, 5)"
      ],
      "metadata": {
        "colab": {
          "base_uri": "https://localhost:8080/"
        },
        "id": "A5pnhGZzhnlU",
        "outputId": "3d6db4cc-7b1d-4a09-89d2-c7fa5da0a7ab"
      },
      "execution_count": 4,
      "outputs": [
        {
          "output_type": "execute_result",
          "data": {
            "text/plain": [
              "0"
            ]
          },
          "metadata": {},
          "execution_count": 4
        }
      ]
    },
    {
      "cell_type": "code",
      "source": [
        "def solution(num1, num2):\n",
        "    if num1 % num2:\n",
        "        answer = 0\n",
        "    else:\n",
        "        answer = 1\n",
        "    return answer"
      ],
      "metadata": {
        "id": "R4e2qKPNt9Dy"
      },
      "execution_count": null,
      "outputs": []
    },
    {
      "cell_type": "code",
      "source": [
        "solution(3, 2)"
      ],
      "metadata": {
        "colab": {
          "base_uri": "https://localhost:8080/"
        },
        "id": "uY5_Nq1DurnR",
        "outputId": "89dc96e4-4c2d-4ebd-e93c-99402c55a854"
      },
      "execution_count": null,
      "outputs": [
        {
          "output_type": "execute_result",
          "data": {
            "text/plain": [
              "0"
            ]
          },
          "metadata": {},
          "execution_count": 22
        }
      ]
    },
    {
      "cell_type": "code",
      "source": [
        "def solution(num1, num2):\n",
        "    answer = -1\n",
        "    if num1 == num2 :\n",
        "        answer = 1\n",
        "    return answer"
      ],
      "metadata": {
        "id": "jFkF_-YnsJ9o"
      },
      "execution_count": null,
      "outputs": []
    },
    {
      "cell_type": "code",
      "source": [
        "def solution(num1, num2):\n",
        "    if num1 == num2:\n",
        "        answer = 1\n",
        "    else:\n",
        "        answer = -1\n",
        "    return answer"
      ],
      "metadata": {
        "id": "QkNfruKqsdEP"
      },
      "execution_count": null,
      "outputs": []
    },
    {
      "cell_type": "code",
      "source": [
        "def solution(num1, num2):\n",
        "    answer = 0\n",
        "\n",
        "    return answer\n",
        "\n",
        "    if num1 == num2;\n",
        "        print(1)\n",
        "    else:\n",
        "        print(-1)"
      ],
      "metadata": {
        "colab": {
          "base_uri": "https://localhost:8080/",
          "height": 111
        },
        "id": "iJ8fIMwYXUV2",
        "outputId": "2426b038-65e5-4a02-eb19-4a1e9ff1a385"
      },
      "execution_count": null,
      "outputs": [
        {
          "output_type": "error",
          "ename": "SyntaxError",
          "evalue": "invalid syntax (<ipython-input-1-214918c4fc10>, line 5)",
          "traceback": [
            "\u001b[0;36m  File \u001b[0;32m\"<ipython-input-1-214918c4fc10>\"\u001b[0;36m, line \u001b[0;32m5\u001b[0m\n\u001b[0;31m    if num1 == num2;\u001b[0m\n\u001b[0m                   ^\u001b[0m\n\u001b[0;31mSyntaxError\u001b[0m\u001b[0;31m:\u001b[0m invalid syntax\n"
          ]
        }
      ]
    },
    {
      "cell_type": "code",
      "source": [
        "def solution(num1, num2):\n",
        "    num1 = num2\n",
        "    answer = 0\n",
        "    if num1 == num2:\n",
        "        answer = -1\n",
        "    return answer"
      ],
      "metadata": {
        "id": "vQ2N6SlzqCO1"
      },
      "execution_count": null,
      "outputs": []
    },
    {
      "cell_type": "code",
      "source": [
        "solution(2, 3)"
      ],
      "metadata": {
        "colab": {
          "base_uri": "https://localhost:8080/"
        },
        "id": "TVvcC6qYqnuo",
        "outputId": "24ce019a-f564-4309-d4ad-a10045d3e80c"
      },
      "execution_count": null,
      "outputs": [
        {
          "output_type": "execute_result",
          "data": {
            "text/plain": [
              "-1"
            ]
          },
          "metadata": {},
          "execution_count": 10
        }
      ]
    },
    {
      "cell_type": "code",
      "source": [
        "class ComplexNumber:\n",
        "    def __init__(self, r = 0, i=0):\n",
        "        self.real = r\n",
        "        self.imag = i\n",
        "    def get_data(self):\n",
        "        print(f'{self.real} + {self.imag}j')\n",
        "\n",
        "num1 = ComplexNumber(2, 3)\n",
        "num1.get_data()\n",
        "\n",
        "num2 = ComplexNumber(5)\n",
        "num2.attr = 10\n",
        "\n",
        "print((num2.real, num2.imag, num2.attr))\n",
        "# print(num1.attr)"
      ],
      "metadata": {
        "colab": {
          "base_uri": "https://localhost:8080/"
        },
        "id": "07uLn9LEzSK4",
        "outputId": "2afa0564-6d52-4522-b8ff-4179274a568b"
      },
      "execution_count": null,
      "outputs": [
        {
          "output_type": "stream",
          "name": "stdout",
          "text": [
            "2 + 3j\n",
            "(5, 0, 10)\n"
          ]
        }
      ]
    },
    {
      "cell_type": "code",
      "source": [
        "# 사각형 - 직사각형 변의 길이 , 피타고라스 a^2 + b^2 = c^2\n",
        "# \t     정사각형 변의 길이가 똑같다 = 각 변의 길이가 똑같은 비교문, if\n",
        "import math"
      ],
      "metadata": {
        "id": "S91o-tiqAwHT"
      },
      "execution_count": null,
      "outputs": []
    },
    {
      "cell_type": "code",
      "source": [
        "class Polygon:\n",
        "\n",
        "    def __init__(self, no_of_sides):\n",
        "        self.n = no_of_sides\n",
        "        self.sides = [0 for i in range(no_of_sides)]\n",
        "\n",
        "    def inputsides(self):\n",
        "        self.sides = [float(input(\"Enter side \"+str(i+1)+\" : \")) for i in range(self.n_sides)]\n",
        "\n",
        "    # def _직사각형(samples, t, k=3):\n",
        "    # #직사각형\n",
        "    # d_g = []\n",
        "    # for i in samples:\n",
        "    #     d = math.sqrt( (i[0]-t[0])**2 + (i[1]-t[1])**2 ) #피타고라스\n",
        "    #     s_t = [d, i[2]]\n",
        "    #     d_g.append(s_t)\n",
        "\n",
        "class Triangle(Polygon):\n",
        "    def __init__(self):\n",
        "        Polygon.__init__(self,3)\n",
        "        #super().__init__(3)\n",
        "    def findArea(self):\n",
        "        a, b, c = self.sides\n",
        "        # calculate the semi-perimeter\n",
        "        s = (a + b + c) / 2\n",
        "        area = (s*(s-a)*(s-b)*(s-c)) ** 0.5\n",
        "        print('The area of the triangle is %0.2f' %area)\n"
      ],
      "metadata": {
        "id": "KM7Azz6q4opi"
      },
      "execution_count": null,
      "outputs": []
    },
    {
      "cell_type": "code",
      "source": [
        "class Rectangle(Polygon):\n",
        "    def __init__(self):\n",
        "        self.area=0\n",
        "\n",
        "    #변의 길이 검증 함수\n",
        "    def checkSides(self):\n",
        "        self.inputsides()\n",
        "        a = set(self.sides)\n",
        "        if len(s) == 1:\n",
        "            self.area = list(s)[0] * list(s)[0]\n",
        "            return True\n",
        "        elif len(s) == 2:\n",
        "            self.area - list(s)[0] * list(s)[1]\n",
        "            return True\n",
        "        else:\n",
        "            return False\n",
        "\n",
        "    def findAreas(self):\n",
        "        return self.area"
      ],
      "metadata": {
        "id": "XdvFI6KBDpp1"
      },
      "execution_count": null,
      "outputs": []
    },
    {
      "cell_type": "code",
      "source": [
        "s = 사각형()\n",
        "while True:\n",
        "    s.inputsides\n",
        "    if s.checkSides():\n",
        "        break\n",
        "s.findAreas()"
      ],
      "metadata": {
        "colab": {
          "base_uri": "https://localhost:8080/",
          "height": 222
        },
        "id": "l7dfAy6bEfpE",
        "outputId": "4c033024-fbce-4456-8f83-318814771586"
      },
      "execution_count": null,
      "outputs": [
        {
          "output_type": "error",
          "ename": "NameError",
          "evalue": "name '사각형' is not defined",
          "traceback": [
            "\u001b[0;31m---------------------------------------------------------------------------\u001b[0m",
            "\u001b[0;31mNameError\u001b[0m                                 Traceback (most recent call last)",
            "\u001b[0;32m<ipython-input-20-28c4cee01b80>\u001b[0m in \u001b[0;36m<cell line: 1>\u001b[0;34m()\u001b[0m\n\u001b[0;32m----> 1\u001b[0;31m \u001b[0ms\u001b[0m \u001b[0;34m=\u001b[0m \u001b[0m사각형\u001b[0m\u001b[0;34m(\u001b[0m\u001b[0;34m)\u001b[0m\u001b[0;34m\u001b[0m\u001b[0;34m\u001b[0m\u001b[0m\n\u001b[0m\u001b[1;32m      2\u001b[0m \u001b[0;32mwhile\u001b[0m \u001b[0;32mTrue\u001b[0m\u001b[0;34m:\u001b[0m\u001b[0;34m\u001b[0m\u001b[0;34m\u001b[0m\u001b[0m\n\u001b[1;32m      3\u001b[0m     \u001b[0ms\u001b[0m\u001b[0;34m.\u001b[0m\u001b[0minputsides\u001b[0m\u001b[0;34m\u001b[0m\u001b[0;34m\u001b[0m\u001b[0m\n\u001b[1;32m      4\u001b[0m     \u001b[0;32mif\u001b[0m \u001b[0ms\u001b[0m\u001b[0;34m.\u001b[0m\u001b[0mcheckSides\u001b[0m\u001b[0;34m(\u001b[0m\u001b[0;34m)\u001b[0m\u001b[0;34m:\u001b[0m\u001b[0;34m\u001b[0m\u001b[0;34m\u001b[0m\u001b[0m\n\u001b[1;32m      5\u001b[0m         \u001b[0;32mbreak\u001b[0m\u001b[0;34m\u001b[0m\u001b[0;34m\u001b[0m\u001b[0m\n",
            "\u001b[0;31mNameError\u001b[0m: name '사각형' is not defined"
          ]
        }
      ]
    }
  ]
}