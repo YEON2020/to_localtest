{
  "nbformat": 4,
  "nbformat_minor": 0,
  "metadata": {
    "colab": {
      "provenance": [],
      "authorship_tag": "ABX9TyOsUwUKB05vHFR7XcI48zit",
      "include_colab_link": true
    },
    "kernelspec": {
      "name": "python3",
      "display_name": "Python 3"
    },
    "language_info": {
      "name": "python"
    }
  },
  "cells": [
    {
      "cell_type": "markdown",
      "metadata": {
        "id": "view-in-github",
        "colab_type": "text"
      },
      "source": [
        "<a href=\"https://colab.research.google.com/github/YEON2020/to_localtest/blob/main/%EC%95%88%EC%97%B0%EC%88%98_%EB%AF%B8%EB%A1%9C%ED%83%88%EC%B6%9C(%EA%B9%8A%EC%9D%B4%EC%9A%B0%EC%84%A0).ipynb\" target=\"_parent\"><img src=\"https://colab.research.google.com/assets/colab-badge.svg\" alt=\"Open In Colab\"/></a>"
      ]
    },
    {
      "cell_type": "markdown",
      "source": [
        "미로 탐색(깊이 우선 탐색)\n",
        "• 지나온 경로를 저장하는 방식\n",
        "○ 탐색 알고리즘\n",
        "1. 시작위치를 스택에 추가.\n",
        "(현재 스택에는 시작위치만 있음)\n",
        "2. 스택이 공백이 아니면, 하나의 위치를 꺼냄\n",
        "(현재위치). 현재 위치에 “방문했음“ 표시.\n",
        "만약, 스택이 공백이면, 출구 없음(종료)\n",
        "3. 현재위치가 출구이면, 탐색 성공\n",
        "4. 현재위치가 출구가 아니라면,\n",
        "주변(상화좌우 or 좌우상하 등)을 탐색.\n",
        "만약 주변이 아직 방문전이라면, 그 방의\n",
        "위치를 모두 스택에 삽입\n",
        "5. 단계 2로 돌아감"
      ],
      "metadata": {
        "id": "kzQ_TgOTsJhJ"
      }
    },
    {
      "cell_type": "code",
      "source": [
        "class MazeSolver:\n",
        "    def __init__(self, maze):\n",
        "        self.maze = maze\n",
        "        self.MAZE_SIZE = len(maze)\n",
        "        self.visited = [[False] * self.MAZE_SIZE for _ in range(self.MAZE_SIZE)]\n",
        "        self.path = []\n",
        "\n",
        "    def isValidPos(self, x, y):\n",
        "        if x < 0 or y < 0 or x >= self.MAZE_SIZE or y >= self.MAZE_SIZE:\n",
        "            return False\n",
        "        return self.maze[y][x] == '0' or self.maze[y][x] == 'x'\n",
        "\n",
        "    def DFS(self, x, y):\n",
        "        if not self.isValidPos(x, y) or self.visited[y][x]:\n",
        "            return False\n",
        "\n",
        "        self.visited[y][x] = True\n",
        "        self.path.append((x, y))\n",
        "\n",
        "        if self.maze[y][x] == 'x':\n",
        "            return True\n",
        "\n",
        "        self.maze[y][x] = '.'  # 현재 위치를 방문한 것으로 표시\n",
        "\n",
        "        # 상하좌우 탐색\n",
        "        if (self.DFS(x, y - 1) or  # 위\n",
        "            self.DFS(x, y + 1) or  # 아래\n",
        "            self.DFS(x - 1, y) or  # 왼쪽\n",
        "            self.DFS(x + 1, y)):   # 오른쪽\n",
        "            return True\n",
        "\n",
        "        self.path.pop()\n",
        "        return False\n",
        "\n",
        "    def solve(self):\n",
        "        start_x, start_y = [(ix, iy) for ix, row in enumerate(self.maze) for iy, i in enumerate(row) if i == 'e'][0]\n",
        "        self.maze[start_y][start_x] = '0'\n",
        "        if self.DFS(start_x, start_y):\n",
        "            return True, self.path\n",
        "        else:\n",
        "            return False, self.path"
      ],
      "metadata": {
        "id": "-kQ1RFKIEyla"
      },
      "execution_count": 16,
      "outputs": []
    },
    {
      "cell_type": "code",
      "source": [
        "# 미로 맵 설정\n",
        "maze = [\n",
        "    ['1', '1', '1', '1', '1', '1'],\n",
        "    ['e', '0', '0', '0', '0', '1'],\n",
        "    ['1', '0', '1', '0', '1', '1'],\n",
        "    ['1', '1', '1', '0', '0', 'x'],\n",
        "    ['1', '1', '1', '0', '1', '1'],\n",
        "    ['1', '1', '1', '1', '1', '1']\n",
        "]\n",
        "\n",
        "solver = MazeSolver(maze)\n",
        "result, path = solver.solve()\n",
        "\n",
        "if result:\n",
        "    print('DFS: 미로탐색 성공')\n",
        "    print('경로:', path)\n",
        "else:\n",
        "    print('DFS: 미로탐색 실패')"
      ],
      "metadata": {
        "colab": {
          "base_uri": "https://localhost:8080/"
        },
        "id": "K80MltxcE1gy",
        "outputId": "d060f8e4-d5d1-4010-b982-67a90cb8fdf5"
      },
      "execution_count": 17,
      "outputs": [
        {
          "output_type": "stream",
          "name": "stdout",
          "text": [
            "DFS: 미로탐색 성공\n",
            "경로: [(1, 0), (1, 1), (2, 1), (3, 1), (3, 2), (3, 3), (4, 3), (5, 3)]\n"
          ]
        }
      ]
    }
  ]
}