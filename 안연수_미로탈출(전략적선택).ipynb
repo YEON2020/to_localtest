{
  "nbformat": 4,
  "nbformat_minor": 0,
  "metadata": {
    "colab": {
      "provenance": [],
      "authorship_tag": "ABX9TyMaDajt4tB/W9t4A3EIh5m/",
      "include_colab_link": true
    },
    "kernelspec": {
      "name": "python3",
      "display_name": "Python 3"
    },
    "language_info": {
      "name": "python"
    }
  },
  "cells": [
    {
      "cell_type": "markdown",
      "metadata": {
        "id": "view-in-github",
        "colab_type": "text"
      },
      "source": [
        "<a href=\"https://colab.research.google.com/github/YEON2020/to_localtest/blob/main/%EC%95%88%EC%97%B0%EC%88%98_%EB%AF%B8%EB%A1%9C%ED%83%88%EC%B6%9C(%EC%A0%84%EB%9E%B5%EC%A0%81%EC%84%A0%ED%83%9D).ipynb\" target=\"_parent\"><img src=\"https://colab.research.google.com/assets/colab-badge.svg\" alt=\"Open In Colab\"/></a>"
      ]
    },
    {
      "cell_type": "code",
      "execution_count": 7,
      "metadata": {
        "id": "GZ90QoF8JAbf"
      },
      "outputs": [],
      "source": [
        "class PriorityQueue:\n",
        "    def __init__(self):\n",
        "        self.items = []\n",
        "    def isEmpty(self):\n",
        "        return len(self.items) == 0\n",
        "    def size(self):\n",
        "        return len(self.items)\n",
        "    def clear(self):\n",
        "        self.items = []\n",
        "    def enqueue(self, item):\n",
        "        self.items.append(item)\n",
        "    def findMaxIndex(self):\n",
        "        if self.isEmpty():\n",
        "            return None\n",
        "        else:\n",
        "            highest = 0\n",
        "            for i in range(1, self.size()):\n",
        "                if self.items[i] > self.items[highest]:\n",
        "                    highest = i\n",
        "            return highest\n",
        "\n",
        "    def dequeue(self):\n",
        "        highest = self.findMaxIndex()\n",
        "        if highest is not None:\n",
        "            return self.items.pop(highest)\n",
        "\n",
        "    def peek(self):\n",
        "        highest = findMaxIndex()\n",
        "        if highest is not None:\n",
        "            return self.items[highest]\n",
        "    def display(self):\n",
        "        if not self.isEmpty():\n",
        "            print(self.items)"
      ]
    },
    {
      "cell_type": "code",
      "source": [
        "class PriorityQueue:\n",
        "    def __init__(self):\n",
        "        self.items = []\n",
        "\n",
        "    def isEmpty(self):\n",
        "        return len(self.items) == 0\n",
        "\n",
        "    def size(self):\n",
        "        return len(self.items)\n",
        "\n",
        "    def clear(self):\n",
        "        self.items = []\n",
        "\n",
        "    def enqueue(self, priority, item):\n",
        "        self.items.append((priority, item))\n",
        "\n",
        "    def findMaxIndex(self):\n",
        "        if self.isEmpty():\n",
        "            return None\n",
        "        else:\n",
        "            highest = 0\n",
        "            for i in range(1, self.size()):\n",
        "                if self.items[i][0] < self.items[highest][0]:  # 최소 우선순위 찾기\n",
        "                    highest = i\n",
        "            return highest\n",
        "\n",
        "    def dequeue(self):\n",
        "        highest = self.findMaxIndex()\n",
        "        if highest is not None:\n",
        "            return self.items.pop(highest)\n",
        "\n",
        "    def peek(self):\n",
        "        highest = self.findMaxIndex()\n",
        "        if highest is not None:\n",
        "            return self.items[highest]\n",
        "\n",
        "    def display(self):\n",
        "        if not self.isEmpty():\n",
        "            print(self.items)\n",
        "\n",
        "def heuristic(a, b):\n",
        "    return abs(a[0] - b[0]) + abs(a[1] - b[1])\n",
        "\n",
        "class MazeSolver:\n",
        "    def __init__(self, maze):\n",
        "        self.maze = maze\n",
        "        self.MAZE_SIZE = len(maze)\n",
        "        self.start = self.find_start()\n",
        "        self.end = self.find_end()\n",
        "        self.visited = [[False] * self.MAZE_SIZE for _ in range(self.MAZE_SIZE)]\n",
        "\n",
        "    def find_start(self):\n",
        "        for y in range(self.MAZE_SIZE):\n",
        "            for x in range(self.MAZE_SIZE):\n",
        "                if self.maze[y][x] == 'e':\n",
        "                    return (x, y)\n",
        "        return None\n",
        "\n",
        "    def find_end(self):\n",
        "        for y in range(self.MAZE_SIZE):\n",
        "            for x in range(self.MAZE_SIZE):\n",
        "                if self.maze[y][x] == 'x':\n",
        "                    return (x, y)\n",
        "        return None\n",
        "\n",
        "    def isValidPos(self, x, y):\n",
        "        if x < 0 or y < 0 or x >= self.MAZE_SIZE or y >= self.MAZE_SIZE:\n",
        "            return False\n",
        "        return self.maze[y][x] == '0' or self.maze[y][x] == 'x'\n",
        "\n",
        "    def solve(self):\n",
        "        pq = PriorityQueue()\n",
        "        pq.enqueue(0, self.start)\n",
        "        parent = {self.start: None}\n",
        "\n",
        "        while not pq.isEmpty():\n",
        "            current = pq.dequeue()[1]\n",
        "            if self.visited[current[1]][current[0]]:\n",
        "                continue\n",
        "\n",
        "            self.visited[current[1]][current[0]] = True\n",
        "            x, y = current\n",
        "\n",
        "            if self.maze[y][x] == 'x':\n",
        "                return self.construct_path(parent, current)\n",
        "\n",
        "            for (dx, dy) in [(-1, 0), (1, 0), (0, -1), (0, 1)]:\n",
        "                next_x, next_y = x + dx, y + dy\n",
        "                if self.isValidPos(next_x, next_y) and not self.visited[next_y][next_x]:\n",
        "                    priority = heuristic((next_x, next_y), self.end)\n",
        "                    pq.enqueue(priority, (next_x, next_y))\n",
        "                    parent[(next_x, next_y)] = (x, y)\n",
        "\n",
        "        return []\n",
        "\n",
        "    def construct_path(self, parent, end):\n",
        "        path = []\n",
        "        while end:\n",
        "            path.append(end)\n",
        "            end = parent[end]\n",
        "        path.reverse()\n",
        "        return path"
      ],
      "metadata": {
        "id": "SrE3HHX3LSzt"
      },
      "execution_count": 8,
      "outputs": []
    },
    {
      "cell_type": "code",
      "source": [
        "# 미로 맵 설정\n",
        "maze = [\n",
        "    ['1', '1', '1', '1', '1', '1'],\n",
        "    ['e', '0', '0', '0', '0', '1'],\n",
        "    ['1', '0', '1', '0', '1', '1'],\n",
        "    ['1', '1', '1', '0', '0', 'x'],\n",
        "    ['1', '1', '1', '0', '1', '1'],\n",
        "    ['1', '1', '1', '1', '1', '1']\n",
        "]\n",
        "MAZE_SIZE = 6\n",
        "\n",
        "solver = MazeSolver(maze)\n",
        "path = solver.solve()\n",
        "\n",
        "if path:\n",
        "    print('우선순위 큐를 이용한 미로탐색 성공')\n",
        "    print('경로:', path)\n",
        "else:\n",
        "    print('우선순위 큐를 이용한 미로탐색 실패')"
      ],
      "metadata": {
        "colab": {
          "base_uri": "https://localhost:8080/"
        },
        "id": "m1iybR2XQtJX",
        "outputId": "ffd0f471-1ef0-40a1-ceda-e9de9b487476"
      },
      "execution_count": 9,
      "outputs": [
        {
          "output_type": "stream",
          "name": "stdout",
          "text": [
            "우선순위 큐를 이용한 미로탐색 성공\n",
            "경로: [(0, 1), (1, 1), (2, 1), (3, 1), (3, 2), (3, 3), (4, 3), (5, 3)]\n"
          ]
        }
      ]
    }
  ]
}