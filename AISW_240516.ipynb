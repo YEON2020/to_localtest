{
  "nbformat": 4,
  "nbformat_minor": 0,
  "metadata": {
    "colab": {
      "provenance": [],
      "authorship_tag": "ABX9TyPAk6ZuBzK9fyCJdowRL085",
      "include_colab_link": true
    },
    "kernelspec": {
      "name": "python3",
      "display_name": "Python 3"
    },
    "language_info": {
      "name": "python"
    }
  },
  "cells": [
    {
      "cell_type": "markdown",
      "metadata": {
        "id": "view-in-github",
        "colab_type": "text"
      },
      "source": [
        "<a href=\"https://colab.research.google.com/github/YEON2020/to_localtest/blob/main/AISW_240516.ipynb\" target=\"_parent\"><img src=\"https://colab.research.google.com/assets/colab-badge.svg\" alt=\"Open In Colab\"/></a>"
      ]
    },
    {
      "cell_type": "code",
      "execution_count": 1,
      "metadata": {
        "colab": {
          "base_uri": "https://localhost:8080/"
        },
        "id": "qpdWOpx2scKS",
        "outputId": "fa37452b-63fd-44e9-edf2-878f595d5f13"
      },
      "outputs": [
        {
          "output_type": "stream",
          "name": "stdout",
          "text": [
            "경로를 찾았습니다: [(0, 0), (0, 1), (1, 1), (2, 1), (2, 2), (2, 3), (2, 4), (3, 4), (1, 3), (0, 3), (0, 4), (2, 0), (3, 1), (4, 1), (4, 2), (4, 3)]\n"
          ]
        }
      ],
      "source": [
        "def dfs_maze_solver(maze, start, end):\n",
        "    # 방향 벡터 (상, 하, 좌, 우)\n",
        "    directions = [(-1, 0), (1, 0), (0, -1), (0, 1)]\n",
        "\n",
        "    # 시작 위치를 스택에 추가\n",
        "    stack = [start]\n",
        "    # 방문한 경로를 저장할 리스트\n",
        "    path = []\n",
        "    # 방문 여부를 체크할 리스트\n",
        "    visited = [[False for _ in range(len(maze[0]))] for _ in range(len(maze))]\n",
        "\n",
        "    while stack:\n",
        "        # 현재 위치를 스택에서 꺼냄\n",
        "        current_position = stack.pop()\n",
        "        x, y = current_position\n",
        "\n",
        "        # 현재 위치가 출구인지 확인\n",
        "        if current_position == end:\n",
        "            path.append(current_position)\n",
        "            return path  # 탐색 성공\n",
        "\n",
        "        # 현재 위치 방문 표시\n",
        "        if not visited[x][y]:\n",
        "            visited[x][y] = True\n",
        "            path.append(current_position)\n",
        "\n",
        "            # 주변을 탐색\n",
        "            for direction in directions:\n",
        "                next_x, next_y = x + direction[0], y + direction[1]\n",
        "                # 다음 위치가 미로의 범위 내에 있고, 벽이 아니며, 방문 전인 경우 스택에 추가\n",
        "                if 0 <= next_x < len(maze) and 0 <= next_y < len(maze[0]) and maze[next_x][next_y] != '1' and not visited[next_x][next_y]:\n",
        "                    stack.append((next_x, next_y))\n",
        "\n",
        "    return None  # 출구가 없음 (탐색 실패)\n",
        "\n",
        "# 미로 예제 (2차원 리스트)\n",
        "maze = [\n",
        "    ['S', '0', '1', '0', '0'],\n",
        "    ['1', '0', '1', '0', '1'],\n",
        "    ['0', '0', '0', '0', '0'],\n",
        "    ['1', '0', '1', '1', '0'],\n",
        "    ['0', '0', '0', 'E', '1']\n",
        "]\n",
        "\n",
        "# 시작 위치와 출구 위치\n",
        "start = (0, 0)  # S의 위치\n",
        "end = (4, 3)  # E의 위치\n",
        "\n",
        "# 미로 탐색\n",
        "path = dfs_maze_solver(maze, start, end)\n",
        "\n",
        "if path:\n",
        "    print(\"경로를 찾았습니다:\", path)\n",
        "else:\n",
        "    print(\"출구를 찾을 수 없습니다.\")\n"
      ]
    },
    {
      "cell_type": "code",
      "source": [
        "def dfs_maze_solver(maze, start, end):\n",
        "    directions = [(-1, 0), (1, 0), (0, -1), (0, 1)]\n",
        "\n",
        "    stack = [start]\n",
        "    path = []\n",
        "    visited = [[False for _ in range(len(maze[0]))] for _ in range(len(maze))]\n",
        "\n",
        "    while stack:\n",
        "        current_position = stack.pop()\n",
        "        x, y = current_position\n",
        "\n",
        "        if current_position == end:\n",
        "            path.append(current_position)\n",
        "            return path\n",
        "\n",
        "        if not visited[x][y]:\n",
        "            visited[x][y] = True\n",
        "            path.append(current_position)\n",
        "\n",
        "\n",
        "            for direction in directions:\n",
        "                next_x, next_y = x + direction[0], y + direction[1]\n",
        "                if 0 <= next_x < len(maze) and 0 <= next_y < len(maze[0]) and maze[next_x][next_y] != '1' and not visited[next_x][next_y]:\n",
        "                    stack.append((next_x, next_y))\n",
        "\n",
        "    return None\n",
        "\n",
        "maze = [\n",
        "    ['S', '0', '1', '0', '0'],\n",
        "    ['1', '0', '1', '0', '1'],\n",
        "    ['0', '0', '0', '0', '0'],\n",
        "    ['1', '0', '1', '1', '0'],\n",
        "    ['0', '0', '0', 'E', '1']\n",
        "]\n",
        "\n",
        "start = (0, 0)\n",
        "end = (4, 3)\n",
        "\n",
        "path = dfs_maze_solver(maze, start, end)\n",
        "\n",
        "if path:\n",
        "    print(\"경로를 찾았습니다:\", path)\n",
        "else:\n",
        "    print(\"출구를 찾을 수 없습니다.\")"
      ],
      "metadata": {
        "id": "MvD-Gfts1yNb"
      },
      "execution_count": null,
      "outputs": []
    },
    {
      "cell_type": "code",
      "source": [
        "stack = [start]\n",
        "path = []\n",
        "visited = [[False for _ in range(len(maze[0]))] for _ in range(len(maze))]\n",
        "\n",
        "while stack:\n",
        "    current_position = stack.pop()\n",
        "    x, y = current_position\n",
        "\n",
        "    if current_position == end:\n",
        "        path.append(current_position)\n",
        "\n",
        "    if not visited[x][y]:\n",
        "        visited[x][y] = True\n",
        "        path.append(current_position)\n",
        "\n",
        "\n",
        "        for direction in directions:\n",
        "            next_x, next_y = x + direction[0], y + direction[1]\n",
        "            if 0 <= next_x < len(maze) and 0 <= next_y < len(maze[0]) and maze[next_x][next_y] != '1' and not visited[next_x][next_y]:\n",
        "                stack.append((next_x, next_y))\n"
      ],
      "metadata": {
        "id": "Q6r2Yz_E2BZ7"
      },
      "execution_count": null,
      "outputs": []
    },
    {
      "cell_type": "code",
      "source": [
        "# 1. 빈 스택 Stack() 만들기\n",
        "# stack = Stack()\n",
        "# 2. if문과 비교할 map 구조의 리스트 작성\n",
        "# map = [[0,0,1],[1,0,1],[1,1,1]]\n",
        "# map = [0] [0]\n",
        "#       y축 x축\n",
        "# 3. if문으로 map에서 0이면 빈 곳(진행할 수 있는 곳)\n",
        "# \t\t              1이면 막힌 곳(진행할 수 없는 곳)\n",
        "# map[0][0] == 0이면 진행할 수 있는 곳\n",
        "# map[0][0] == 1이면 진행할 수 없는 곳"
      ],
      "metadata": {
        "id": "jmTNgq1f_E1N"
      },
      "execution_count": null,
      "outputs": []
    },
    {
      "cell_type": "code",
      "source": [
        "map = [[0,0,1],[1,0,1],[1,1,1]]\n",
        "\n",
        "stack = []\n",
        "\n",
        "stack = Stack()\n",
        "\n",
        "# (0,0) (0,1) (0,2) (-1,1) (1,1)\n",
        "\n",
        "if map[0][0] == 0:\n",
        "    stack.push([0,0])\n",
        "\n",
        "elif map[0][1] == 0:\n",
        "    stack.push([0,1])\n",
        "\n",
        "elif map[0][2] == 0:\n",
        "    stack.push([0,2])\n",
        "\n",
        "elif map[-1][1] == 0:\n",
        "    stack.push([-1,1])\n",
        "\n",
        "elif map[1][1] == 0:\n",
        "    stack.push([1,1])\n",
        "\n",
        "\n"
      ],
      "metadata": {
        "id": "mVDkIZNa3Ueb"
      },
      "execution_count": null,
      "outputs": []
    }
  ]
}