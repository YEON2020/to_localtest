{
  "nbformat": 4,
  "nbformat_minor": 0,
  "metadata": {
    "colab": {
      "provenance": [],
      "authorship_tag": "ABX9TyMIh29ZAP+/pmNkTuUmcBHq",
      "include_colab_link": true
    },
    "kernelspec": {
      "name": "python3",
      "display_name": "Python 3"
    },
    "language_info": {
      "name": "python"
    }
  },
  "cells": [
    {
      "cell_type": "markdown",
      "metadata": {
        "id": "view-in-github",
        "colab_type": "text"
      },
      "source": [
        "<a href=\"https://colab.research.google.com/github/YEON2020/to_localtest/blob/main/AISW_240516.ipynb\" target=\"_parent\"><img src=\"https://colab.research.google.com/assets/colab-badge.svg\" alt=\"Open In Colab\"/></a>"
      ]
    },
    {
      "cell_type": "code",
      "execution_count": null,
      "metadata": {
        "colab": {
          "base_uri": "https://localhost:8080/"
        },
        "id": "qpdWOpx2scKS",
        "outputId": "fa37452b-63fd-44e9-edf2-878f595d5f13"
      },
      "outputs": [
        {
          "output_type": "stream",
          "name": "stdout",
          "text": [
            "경로를 찾았습니다: [(0, 0), (0, 1), (1, 1), (2, 1), (2, 2), (2, 3), (2, 4), (3, 4), (1, 3), (0, 3), (0, 4), (2, 0), (3, 1), (4, 1), (4, 2), (4, 3)]\n"
          ]
        }
      ],
      "source": [
        "def dfs_maze_solver(maze, start, end):\n",
        "    # 방향 벡터 (상, 하, 좌, 우)\n",
        "    directions = [(-1, 0), (1, 0), (0, -1), (0, 1)]\n",
        "\n",
        "    # 시작 위치를 스택에 추가\n",
        "    stack = [start]\n",
        "    # 방문한 경로를 저장할 리스트\n",
        "    path = []\n",
        "    # 방문 여부를 체크할 리스트\n",
        "    visited = [[False for _ in range(len(maze[0]))] for _ in range(len(maze))]\n",
        "\n",
        "    while stack:\n",
        "        # 현재 위치를 스택에서 꺼냄\n",
        "        current_position = stack.pop()\n",
        "        x, y = current_position\n",
        "\n",
        "        # 현재 위치가 출구인지 확인\n",
        "        if current_position == end:\n",
        "            path.append(current_position)\n",
        "            return path  # 탐색 성공\n",
        "\n",
        "        # 현재 위치 방문 표시\n",
        "        if not visited[x][y]:\n",
        "            visited[x][y] = True\n",
        "            path.append(current_position)\n",
        "\n",
        "            # 주변을 탐색\n",
        "            for direction in directions:\n",
        "                next_x, next_y = x + direction[0], y + direction[1]\n",
        "                # 다음 위치가 미로의 범위 내에 있고, 벽이 아니며, 방문 전인 경우 스택에 추가\n",
        "                if 0 <= next_x < len(maze) and 0 <= next_y < len(maze[0]) and maze[next_x][next_y] != '1' and not visited[next_x][next_y]:\n",
        "                    stack.append((next_x, next_y))\n",
        "\n",
        "    return None  # 출구가 없음 (탐색 실패)\n",
        "\n",
        "# 미로 예제 (2차원 리스트)\n",
        "maze = [\n",
        "    ['S', '0', '1', '0', '0'],\n",
        "    ['1', '0', '1', '0', '1'],\n",
        "    ['0', '0', '0', '0', '0'],\n",
        "    ['1', '0', '1', '1', '0'],\n",
        "    ['0', '0', '0', 'E', '1']\n",
        "]\n",
        "\n",
        "# 시작 위치와 출구 위치\n",
        "start = (0, 0)  # S의 위치\n",
        "end = (4, 3)  # E의 위치\n",
        "\n",
        "# 미로 탐색\n",
        "path = dfs_maze_solver(maze, start, end)\n",
        "\n",
        "if path:\n",
        "    print(\"경로를 찾았습니다:\", path)\n",
        "else:\n",
        "    print(\"출구를 찾을 수 없습니다.\")\n"
      ]
    },
    {
      "cell_type": "code",
      "source": [
        "def dfs_maze_solver(maze, start, end):\n",
        "    directions = [(-1, 0), (1, 0), (0, -1), (0, 1)]\n",
        "\n",
        "    stack = [start]\n",
        "    path = []\n",
        "    visited = [[False for _ in range(len(maze[0]))] for _ in range(len(maze))]\n",
        "\n",
        "    while stack:\n",
        "        current_position = stack.pop()\n",
        "        x, y = current_position\n",
        "\n",
        "        if current_position == end:\n",
        "            path.append(current_position)\n",
        "            return path\n",
        "\n",
        "        if not visited[x][y]:\n",
        "            visited[x][y] = True\n",
        "            path.append(current_position)\n",
        "\n",
        "\n",
        "            for direction in directions:\n",
        "                next_x, next_y = x + direction[0], y + direction[1]\n",
        "                if 0 <= next_x < len(maze) and 0 <= next_y < len(maze[0]) and maze[next_x][next_y] != '1' and not visited[next_x][next_y]:\n",
        "                    stack.append((next_x, next_y))\n",
        "\n",
        "    return None\n",
        "\n",
        "maze = [\n",
        "    ['S', '0', '1', '0', '0'],\n",
        "    ['1', '0', '1', '0', '1'],\n",
        "    ['0', '0', '0', '0', '0'],\n",
        "    ['1', '0', '1', '1', '0'],\n",
        "    ['0', '0', '0', 'E', '1']\n",
        "]\n",
        "\n",
        "start = (0, 0)\n",
        "end = (4, 3)\n",
        "\n",
        "path = dfs_maze_solver(maze, start, end)\n",
        "\n",
        "if path:\n",
        "    print(\"경로를 찾았습니다:\", path)\n",
        "else:\n",
        "    print(\"출구를 찾을 수 없습니다.\")"
      ],
      "metadata": {
        "id": "MvD-Gfts1yNb"
      },
      "execution_count": null,
      "outputs": []
    },
    {
      "cell_type": "code",
      "source": [
        "stack = [start]\n",
        "path = []\n",
        "visited = [[False for _ in range(len(maze[0]))] for _ in range(len(maze))]\n",
        "\n",
        "while stack:\n",
        "    current_position = stack.pop()\n",
        "    x, y = current_position\n",
        "\n",
        "    if current_position == end:\n",
        "        path.append(current_position)\n",
        "\n",
        "    if not visited[x][y]:\n",
        "        visited[x][y] = True\n",
        "        path.append(current_position)\n",
        "\n",
        "\n",
        "        for direction in directions:\n",
        "            next_x, next_y = x + direction[0], y + direction[1]\n",
        "            if 0 <= next_x < len(maze) and 0 <= next_y < len(maze[0]) and maze[next_x][next_y] != '1' and not visited[next_x][next_y]:\n",
        "                stack.append((next_x, next_y))\n"
      ],
      "metadata": {
        "id": "Q6r2Yz_E2BZ7"
      },
      "execution_count": null,
      "outputs": []
    },
    {
      "cell_type": "code",
      "source": [
        "# 1. 빈 스택 Stack() 만들기\n",
        "# stack = Stack()\n",
        "# 2. if문과 비교할 map 구조의 리스트 작성\n",
        "# map = [[0,0,1],[1,0,1],[1,1,1]]\n",
        "# map = [0] [0]\n",
        "#       y축 x축\n",
        "# 3. if문으로 map에서 0이면 빈 곳(진행할 수 있는 곳)\n",
        "# \t\t              1이면 막힌 곳(진행할 수 없는 곳)\n",
        "# map[0][0] == 0이면 진행할 수 있는 곳\n",
        "# map[0][0] == 1이면 진행할 수 없는 곳"
      ],
      "metadata": {
        "id": "jmTNgq1f_E1N"
      },
      "execution_count": null,
      "outputs": []
    },
    {
      "cell_type": "code",
      "source": [
        "map = [[0,0,1],[1,0,1],[1,1,1]]\n",
        "\n",
        "stack = []\n",
        "\n",
        "stack = Stack()\n",
        "\n",
        "# (0,0) (0,1) (0,2) (-1,1) (1,1)\n",
        "\n",
        "if map[0][0] == 0:\n",
        "    stack.push([0,0])\n",
        "\n",
        "elif map[0][1] == 0:\n",
        "    stack.push([0,1])\n",
        "\n",
        "elif map[0][2] == 0:\n",
        "    stack.push([0,2])\n",
        "\n",
        "elif map[-1][1] == 0:\n",
        "    stack.push([-1,1])\n",
        "\n",
        "elif map[1][1] == 0:\n",
        "    stack.push([1,1])"
      ],
      "metadata": {
        "id": "mVDkIZNa3Ueb"
      },
      "execution_count": null,
      "outputs": []
    },
    {
      "cell_type": "code",
      "source": [
        "f = 2 = 0\n",
        "\n",
        "f=0  f=1  f=2  f=3  f=4\n",
        "r=1  r=2  r=3  r=4  f=5"
      ],
      "metadata": {
        "colab": {
          "base_uri": "https://localhost:8080/",
          "height": 111
        },
        "id": "M6DSxzCkL4do",
        "outputId": "55320d23-488a-4933-a81e-93476111e271"
      },
      "execution_count": null,
      "outputs": [
        {
          "output_type": "error",
          "ename": "SyntaxError",
          "evalue": "cannot assign to literal (<ipython-input-2-c785675c266a>, line 1)",
          "traceback": [
            "\u001b[0;36m  File \u001b[0;32m\"<ipython-input-2-c785675c266a>\"\u001b[0;36m, line \u001b[0;32m1\u001b[0m\n\u001b[0;31m    f = 2 = 0\u001b[0m\n\u001b[0m        ^\u001b[0m\n\u001b[0;31mSyntaxError\u001b[0m\u001b[0;31m:\u001b[0m cannot assign to literal\n"
          ]
        }
      ]
    },
    {
      "cell_type": "code",
      "source": [
        "front = []\n",
        "\n",
        "# front_1 = (front+1)%7\n",
        "# rear_1 = (rear+1)%7\n",
        "\n",
        "for i in range(7):\n",
        "    front.append(i)\n",
        "front_1 = (front[0]+1)%7\n",
        "    # if int(front_1) == 0:\n",
        "    #     print(front)\n",
        "\n",
        "print(front)\n",
        "print(front_1)"
      ],
      "metadata": {
        "colab": {
          "base_uri": "https://localhost:8080/"
        },
        "id": "7x86-XkJL6L5",
        "outputId": "e800ed77-8b0d-4698-82ce-d4f0350ab5a2"
      },
      "execution_count": null,
      "outputs": [
        {
          "output_type": "stream",
          "name": "stdout",
          "text": [
            "[0, 1, 2, 3, 4, 5, 6]\n",
            "1\n"
          ]
        }
      ]
    },
    {
      "cell_type": "code",
      "source": [
        "type(front_1)\n",
        "\n",
        "for y in front_1:\n",
        "    print(y)"
      ],
      "metadata": {
        "colab": {
          "base_uri": "https://localhost:8080/",
          "height": 203
        },
        "id": "nla0ME20Q5sB",
        "outputId": "759071cb-70cf-4ff5-c90c-b11371c265cb"
      },
      "execution_count": null,
      "outputs": [
        {
          "output_type": "error",
          "ename": "TypeError",
          "evalue": "'int' object is not subscriptable",
          "traceback": [
            "\u001b[0;31m---------------------------------------------------------------------------\u001b[0m",
            "\u001b[0;31mTypeError\u001b[0m                                 Traceback (most recent call last)",
            "\u001b[0;32m<ipython-input-23-ce6efb3a6292>\u001b[0m in \u001b[0;36m<cell line: 3>\u001b[0;34m()\u001b[0m\n\u001b[1;32m      1\u001b[0m \u001b[0mtype\u001b[0m\u001b[0;34m(\u001b[0m\u001b[0mfront_1\u001b[0m\u001b[0;34m)\u001b[0m\u001b[0;34m\u001b[0m\u001b[0;34m\u001b[0m\u001b[0m\n\u001b[1;32m      2\u001b[0m \u001b[0;34m\u001b[0m\u001b[0m\n\u001b[0;32m----> 3\u001b[0;31m \u001b[0;32mfor\u001b[0m \u001b[0my\u001b[0m \u001b[0;32min\u001b[0m \u001b[0mfront_1\u001b[0m\u001b[0;34m[\u001b[0m\u001b[0;36m0\u001b[0m\u001b[0;34m]\u001b[0m\u001b[0;34m:\u001b[0m\u001b[0;34m\u001b[0m\u001b[0;34m\u001b[0m\u001b[0m\n\u001b[0m\u001b[1;32m      4\u001b[0m     \u001b[0mprint\u001b[0m\u001b[0;34m(\u001b[0m\u001b[0my\u001b[0m\u001b[0;34m)\u001b[0m\u001b[0;34m\u001b[0m\u001b[0;34m\u001b[0m\u001b[0m\n",
            "\u001b[0;31mTypeError\u001b[0m: 'int' object is not subscriptable"
          ]
        }
      ]
    },
    {
      "cell_type": "code",
      "source": [
        "class CircularQueue:\n",
        "    def __init__(self, size):\n",
        "        self.size = size\n",
        "        self.queue = [None] * size\n",
        "        self.front = self.rear = -1\n",
        "\n",
        "    def is_full(self):\n",
        "        # 포화 상태: front가 rear의 다음 위치와 같다면 큐는 포화 상태입니다.\n",
        "        return (self.rear + 1) % self.size == self.front\n",
        "\n",
        "    def is_empty(self):\n",
        "        # 공백 상태: front와 rear가 같다면 큐는 공백 상태입니다.\n",
        "        return self.front == self.rear\n",
        "\n",
        "    def enqueue(self, item):\n",
        "        if self.is_full():\n",
        "            print(\"Queue is full\")\n",
        "            return\n",
        "        # 처음 요소를 삽입하는 경우\n",
        "        if self.front == -1:\n",
        "            self.front = 0\n",
        "        # rear를 다음 위치로 이동\n",
        "        self.rear = (self.rear + 1) % self.size\n",
        "        self.queue[self.rear] = item\n",
        "\n",
        "    def dequeue(self):\n",
        "        if self.is_empty():\n",
        "            print(\"Queue is empty\")\n",
        "            return None\n",
        "        item = self.queue[self.front]\n",
        "        # 공백 상태로 복귀\n",
        "        if self.front == self.rear:\n",
        "            self.front = self.rear = -1\n",
        "        else:\n",
        "            # front를 다음 위치로 이동\n",
        "            self.front = (self.front + 1) % self.size\n",
        "        return item\n",
        "\n",
        "    def display(self):\n",
        "        if self.is_empty():\n",
        "            print(\"Queue is empty\")\n",
        "            return\n",
        "        if self.rear >= self.front:\n",
        "            print(\"Queue:\", end=\" \")\n",
        "            for i in range(self.front, self.rear + 1):\n",
        "                print(self.queue[i], end=\" \")\n",
        "            print()\n",
        "        else:\n",
        "            print(\"Queue:\", end=\" \")\n",
        "            for i in range(self.front, self.size):\n",
        "                print(self.queue[i], end=\" \")\n",
        "            for i in range(0, self.rear + 1):\n",
        "                print(self.queue[i], end=\" \")\n",
        "            print()\n",
        "\n",
        "# 원형 큐 사용 예제\n",
        "cq = CircularQueue(5)\n",
        "cq.enqueue(10)\n",
        "cq.enqueue(20)\n",
        "cq.enqueue(30)\n",
        "cq.enqueue(40)\n",
        "cq.enqueue(50)\n",
        "\n",
        "cq.display()  # 큐의 현재 상태 출력\n",
        "\n",
        "cq.dequeue()\n",
        "cq.dequeue()\n",
        "\n",
        "cq.display()  # 요소 두 개를 제거한 후의 큐 상태 출력\n",
        "\n",
        "cq.enqueue(60)\n",
        "cq.enqueue(70)\n",
        "\n",
        "cq.display()  # 요소를 다시 추가한 후의 큐 상태 출력"
      ],
      "metadata": {
        "colab": {
          "base_uri": "https://localhost:8080/"
        },
        "id": "5kXYSZ0rSxAR",
        "outputId": "43e459d9-0d29-4d04-ca21-26babbc5e473"
      },
      "execution_count": null,
      "outputs": [
        {
          "output_type": "stream",
          "name": "stdout",
          "text": [
            "Queue: 10 20 30 40 50 \n",
            "Queue: 30 40 50 \n",
            "Queue: 30 40 50 60 70 \n"
          ]
        }
      ]
    },
    {
      "cell_type": "code",
      "source": [
        "class CircularQueue:\n",
        "    def __init__(self, max_size):\n",
        "        self.max_size = max_size\n",
        "        self.queue = [None] * max_size\n",
        "        self.front = 0\n",
        "        self.rear = 0\n",
        "\n",
        "    def is_full(self):\n",
        "        # 포화 상태: (rear + 1) % max_size가 front와 같으면 큐는 포화 상태입니다.\n",
        "        return (self.rear + 1) % self.max_size == self.front\n",
        "\n",
        "    def is_empty(self):\n",
        "        # 공백 상태: front와 rear가 같으면 큐는 공백 상태입니다.\n",
        "        return self.front == self.rear\n",
        "\n",
        "    def enqueue(self, item):\n",
        "        if self.is_full():\n",
        "            print(\"Queue is full\")\n",
        "            return\n",
        "        # rear 위치에 아이템을 삽입\n",
        "        self.queue[self.rear] = item\n",
        "        # rear를 다음 위치로 이동\n",
        "        self.rear = (self.rear + 1) % self.max_size\n",
        "\n",
        "    def dequeue(self):\n",
        "        if self.is_empty():\n",
        "            print(\"Queue is empty\")\n",
        "            return None\n",
        "        # front의 다음 위치에서 아이템을 제거\n",
        "        item = self.queue[self.front]\n",
        "        self.queue[self.front] = None\n",
        "        # front를 다음 위치로 이동\n",
        "        self.front = (self.front + 1) % self.max_size\n",
        "        return item\n",
        "\n",
        "    def display(self):\n",
        "        if self.is_empty():\n",
        "            print(\"Queue is empty\")\n",
        "            return\n",
        "        print(\"Queue:\", end=\" \")\n",
        "        i = self.front\n",
        "        while i != self.rear:\n",
        "            print(self.queue[i], end=\" \")\n",
        "            i = (i + 1) % self.max_size\n",
        "        print()\n",
        "\n",
        "# 원형 큐 사용 예제\n",
        "cq = CircularQueue(5)\n",
        "cq.enqueue(10)\n",
        "cq.enqueue(20)\n",
        "cq.enqueue(30)\n",
        "cq.enqueue(40)\n",
        "\n",
        "cq.display()  # 큐의 현재 상태 출력\n",
        "\n",
        "cq.dequeue()\n",
        "cq.dequeue()\n",
        "\n",
        "cq.display()  # 요소 두 개를 제거한 후의 큐 상태 출력\n",
        "\n",
        "cq.enqueue(50)\n",
        "cq.enqueue(60)\n",
        "\n",
        "cq.display()  # 요소를 다시 추가한 후의 큐 상태 출력\n",
        "\n",
        "cq.enqueue(70)  # 큐가 가득 찬 상태에서 삽입 시도"
      ],
      "metadata": {
        "colab": {
          "base_uri": "https://localhost:8080/"
        },
        "id": "d8rfBhkMVmcb",
        "outputId": "380a0b78-c443-4af4-e00e-9f889d474b07"
      },
      "execution_count": null,
      "outputs": [
        {
          "output_type": "stream",
          "name": "stdout",
          "text": [
            "Queue: 10 20 30 40 \n",
            "Queue: 30 40 \n",
            "Queue: 30 40 50 60 \n",
            "Queue is full\n"
          ]
        }
      ]
    },
    {
      "cell_type": "code",
      "source": [
        "MAX_QSIZE = 10\n",
        "class CircularQueue:\n",
        "    def __init__(self):\n",
        "        self.front = 0\n",
        "        self.rear = 0\n",
        "        self.items = [None] * MAX_QSIZE\n",
        "\n",
        "    def isEmpty(self):\n",
        "        return self.front == self.rear\n",
        "    def isFull(self):\n",
        "        return self.front == (self.rear+1)%MAX_QSIZE\n",
        "    def clear(self):\n",
        "        self.front = self.rear\n",
        "    def enqueue(self, item):\n",
        "        if not self.isFull():\n",
        "            self.rear = (self.rear+1)% MAX_QSIZE\n",
        "            self.items[self.rear] = item\n",
        "    def dequeue(self):\n",
        "        if not self.isEmpty():\n",
        "            self.front = (self.front+1)%MAX_QSIZE\n",
        "            return self.items[self.front]\n",
        "    def peek(self):\n",
        "        if not self.isEmpty():\n",
        "            return self.items[(self.front + 1) % MAX_QSIZE]\n",
        "    def size(self):\n",
        "        return (self.rear = self.front + MAX_QSIZE) % MAX_QSIZE\n",
        "    def display (self):\n",
        "\n",
        "\n",
        "\n",
        "\n",
        "        print(\"[f=%s,r=%d] ==> \"%(self.front, self.rear), out)\n",
        "\n",
        "\n"
      ],
      "metadata": {
        "id": "b_ItCmVnywxG"
      },
      "execution_count": null,
      "outputs": []
    },
    {
      "cell_type": "code",
      "source": [
        "class Deque(CircularQueue):\n",
        "    def add_front(self, item):\n",
        "        if not self.is_full():\n",
        "            self.items[self.front] = item\n",
        "            self.front = (self.front - 1 + MAX_QSIZE) % MAX_QSIZE\n",
        "        else:\n",
        "            raise OverflowError(\"Deque is full\")\n",
        "\n",
        "    def delete_front(self):\n",
        "        return self.dequeue()\n",
        "\n",
        "    def get_front(self):\n",
        "        return self.peek()\n",
        "\n",
        "    def add_rear(self, item):\n",
        "        self.enqueue(item)\n",
        "\n",
        "    def delete_rear(self):\n",
        "        if not self.is_empty():\n",
        "            item = self.items[self.rear]\n",
        "            self.items[self.rear] = None\n",
        "            self.rear = (self.rear - 1 + MAX_QSIZE) % MAX_QSIZE\n",
        "            return item\n",
        "        else:\n",
        "            raise IndexError(\"Deque is empty\")\n",
        "\n",
        "    def get_rear(self):\n",
        "        if not self.is_empty():\n",
        "            return self.items[self.rear]\n",
        "        else:\n",
        "            raise IndexError(\"Deque is empty\")\n",
        "\n",
        "\n",
        "# 덱 사용 예제\n",
        "dq = Deque()\n",
        "dq.add_rear(10)\n",
        "dq.add_rear(20)\n",
        "dq.add_front(5)\n",
        "dq.add_front(1)\n",
        "dq.display()  # 덱의 현재 상태 출력\n",
        "\n",
        "print(\"Front item:\", dq.get_front())\n",
        "print(\"Rear item:\", dq.get_rear())\n",
        "\n",
        "print(\"Deleted front item:\", dq.delete_front())\n",
        "print(\"Deleted rear item:\", dq.delete_rear())\n",
        "\n",
        "dq.display()  # 삭제 후 덱의 상태 출력"
      ],
      "metadata": {
        "id": "kVOptgjr3Um2"
      },
      "execution_count": null,
      "outputs": []
    },
    {
      "cell_type": "code",
      "source": [
        "class Node:\n",
        "    def __init__(self, item, link):\n",
        "        self.item = item\n",
        "        self.link = link"
      ],
      "metadata": {
        "id": "WfachjBHUb6u"
      },
      "execution_count": null,
      "outputs": []
    },
    {
      "cell_type": "code",
      "source": [
        "top = Node(3, None)\n",
        "top = Node(4, top)\n",
        "top = Node(5, top)\n",
        "top = Node(6, top)"
      ],
      "metadata": {
        "id": "jP5waLesUPLY"
      },
      "execution_count": null,
      "outputs": []
    },
    {
      "cell_type": "code",
      "source": [
        "print(top)"
      ],
      "metadata": {
        "colab": {
          "base_uri": "https://localhost:8080/"
        },
        "id": "rJq6f_Z0WDZX",
        "outputId": "c6f80d81-2381-4719-992c-545da7c326ef"
      },
      "execution_count": null,
      "outputs": [
        {
          "output_type": "stream",
          "name": "stdout",
          "text": [
            "<__main__.Node object at 0x7d45cc846e60>\n"
          ]
        }
      ]
    },
    {
      "cell_type": "code",
      "source": [
        "stack_1 = Node(3, None)\n",
        "top = stack_1\n",
        "\n",
        "stack_2 = Node(4, stack_1)\n",
        "top = stack_2\n",
        "\n",
        "stack_3 = Node(5, stack_2)\n",
        "top = stack_3\n",
        "\n",
        "stack_4 = Node(6, stack_3)\n",
        "top = stack_4"
      ],
      "metadata": {
        "id": "n4hYdxmxVOM9"
      },
      "execution_count": null,
      "outputs": []
    },
    {
      "cell_type": "code",
      "source": [
        "print(id(top))\n",
        "print(id(top))"
      ],
      "metadata": {
        "colab": {
          "base_uri": "https://localhost:8080/"
        },
        "id": "DF_D9hOxUVUL",
        "outputId": "0c134845-27ea-436b-8632-2909573026b7"
      },
      "execution_count": null,
      "outputs": [
        {
          "output_type": "stream",
          "name": "stdout",
          "text": [
            "137738737441072\n",
            "137738737441072\n"
          ]
        }
      ]
    },
    {
      "cell_type": "code",
      "source": [
        "print(id(Node(3, None)))"
      ],
      "metadata": {
        "colab": {
          "base_uri": "https://localhost:8080/"
        },
        "id": "OkB39V4cUo7q",
        "outputId": "51f04b9e-fa6a-49fd-cc0d-e269003fb11b"
      },
      "execution_count": null,
      "outputs": [
        {
          "output_type": "stream",
          "name": "stdout",
          "text": [
            "137738737437088\n"
          ]
        }
      ]
    },
    {
      "cell_type": "code",
      "source": [
        "temp = [5,3,8,4,9,1,6,2,7]\n",
        "\n",
        "a = len(temp)\n",
        "\n",
        "for y in temp:\n",
        "    temp = temp\n",
        "    print(y)\n",
        "    print(temp)\n",
        "\n",
        "# for i in range(len(temp)):\n",
        "\n",
        "#     print(i)\n",
        "\n",
        "# print(a)"
      ],
      "metadata": {
        "id": "LzeQUpq6fj-v",
        "colab": {
          "base_uri": "https://localhost:8080/"
        },
        "outputId": "440728ce-2613-42b4-9cb2-34736e090e1f"
      },
      "execution_count": 14,
      "outputs": [
        {
          "output_type": "stream",
          "name": "stdout",
          "text": [
            "5\n",
            "[5, 3, 8, 4, 9, 1, 6, 2, 7]\n",
            "3\n",
            "[5, 3, 8, 4, 9, 1, 6, 2, 7]\n",
            "8\n",
            "[5, 3, 8, 4, 9, 1, 6, 2, 7]\n",
            "4\n",
            "[5, 3, 8, 4, 9, 1, 6, 2, 7]\n",
            "9\n",
            "[5, 3, 8, 4, 9, 1, 6, 2, 7]\n",
            "1\n",
            "[5, 3, 8, 4, 9, 1, 6, 2, 7]\n",
            "6\n",
            "[5, 3, 8, 4, 9, 1, 6, 2, 7]\n",
            "2\n",
            "[5, 3, 8, 4, 9, 1, 6, 2, 7]\n",
            "7\n",
            "[5, 3, 8, 4, 9, 1, 6, 2, 7]\n"
          ]
        }
      ]
    },
    {
      "cell_type": "code",
      "source": [
        "temp = [5,3,8,4,9,1,6,2,7]\n",
        "\n",
        "for i in range(len(temp)):\n",
        "    for j in range(i+1, len(temp)):\n",
        "        if temp[i][0] > temp[j][0]:\n",
        "            temp_1 = temp\n",
        "            temp[j] = temp[i]\n",
        "            temp[i] = temp_1"
      ],
      "metadata": {
        "id": "iPOOepGiEp3K"
      },
      "execution_count": null,
      "outputs": []
    },
    {
      "cell_type": "code",
      "source": [
        "temp = [5,3,8,4,9,1,6,2,7] # 정렬안된 리스트\n",
        "temp_1 = temp[0] #최소 값\n",
        "temp_index = 0\n",
        "add_index = [] #정렬된 리스트\n",
        "\n",
        "for i in range(len(temp)):\n",
        "    if temp[i] < temp_1:\n",
        "        temp_1 = temp[i]\n",
        "        temp_index = i\n",
        "\n",
        "add_index.append(temp.pop(temp_index))\n",
        "\n",
        "print(temp_1, temp_index)\n",
        "print(\"정렬된 리스트 : \", add_index)\n",
        "print(\"정렬안된 리스트 : \", temp)"
      ],
      "metadata": {
        "colab": {
          "base_uri": "https://localhost:8080/"
        },
        "id": "n9YeMu75GEhy",
        "outputId": "9f090b8e-f464-46ff-88dd-57644152998a"
      },
      "execution_count": 17,
      "outputs": [
        {
          "output_type": "stream",
          "name": "stdout",
          "text": [
            "1 5\n",
            "정렬된 리스트 :  [1]\n",
            "정렬안된 리스트 :  [5, 3, 8, 4, 9, 6, 2, 7]\n"
          ]
        }
      ]
    },
    {
      "cell_type": "code",
      "source": [
        "temp = [5,3,8,4,9,1,6,2,7] # 정렬안된 리스트\n",
        "\n",
        "while len(temp) > 0:\n",
        "    temp_1 = temp[0] #최소 값\n",
        "    temp_index = 0\n",
        "    add_index = [] #정렬된 리스트\n",
        "\n",
        "    for i in range(len(temp)):\n",
        "        if temp[i] < temp_1:\n",
        "            temp_1 = temp[i]\n",
        "            temp_index = i\n",
        "\n",
        "    add_index.append(temp.pop(temp_index))\n",
        "\n",
        "    print(temp_1, temp_index)\n",
        "    print(\"정렬된 리스트 : \", add_index)\n",
        "    print(\"정렬안된 리스트 : \", temp)\n",
        "    break"
      ],
      "metadata": {
        "colab": {
          "base_uri": "https://localhost:8080/"
        },
        "id": "zkOBgsycH5AK",
        "outputId": "35873ce4-5de9-4a55-fe17-65166907d13f"
      },
      "execution_count": 19,
      "outputs": [
        {
          "output_type": "stream",
          "name": "stdout",
          "text": [
            "1 5\n",
            "정렬된 리스트 :  [1]\n",
            "정렬안된 리스트 :  [5, 3, 8, 4, 9, 6, 2, 7]\n"
          ]
        }
      ]
    }
  ]
}