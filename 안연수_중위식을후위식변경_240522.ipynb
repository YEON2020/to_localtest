{
  "nbformat": 4,
  "nbformat_minor": 0,
  "metadata": {
    "colab": {
      "provenance": [],
      "authorship_tag": "ABX9TyO0xL0ft+RP5+TD2/2JH4IU",
      "include_colab_link": true
    },
    "kernelspec": {
      "name": "python3",
      "display_name": "Python 3"
    },
    "language_info": {
      "name": "python"
    }
  },
  "cells": [
    {
      "cell_type": "markdown",
      "metadata": {
        "id": "view-in-github",
        "colab_type": "text"
      },
      "source": [
        "<a href=\"https://colab.research.google.com/github/YEON2020/to_localtest/blob/main/%EC%95%88%EC%97%B0%EC%88%98_%EC%A4%91%EC%9C%84%EC%8B%9D%EC%9D%84%ED%9B%84%EC%9C%84%EC%8B%9D%EB%B3%80%EA%B2%BD_240522.ipynb\" target=\"_parent\"><img src=\"https://colab.research.google.com/assets/colab-badge.svg\" alt=\"Open In Colab\"/></a>"
      ]
    },
    {
      "cell_type": "code",
      "execution_count": null,
      "metadata": {
        "id": "hIf4PiDLnR0h"
      },
      "outputs": [],
      "source": [
        "def infix_to_postfix(expression):\n",
        "    precedence = {'+': 1, '-': 1, '*': 2, '/': 2}\n",
        "    output = []\n",
        "    operators = []\n",
        "\n",
        "    for char in expression:\n",
        "        if char.isalnum():\n",
        "            output.append(char)\n",
        "        elif char == '(':\n",
        "            operators.append(char)\n",
        "        elif char == ')':\n",
        "            while operators and operators[-1] != '(':\n",
        "                output.append(operators.pop())\n",
        "            operators.pop()\n",
        "        elif char in precedence:\n",
        "            while (operators and operators[-1] != '(' and\n",
        "                   precedence[operators[-1]] >= precedence[char]):\n",
        "                output.append(operators.pop())\n",
        "            operators.append(char)\n",
        "\n",
        "    while operators:\n",
        "        output.append(operators.pop())\n",
        "\n",
        "    return ''.join(output)\n",
        "\n",
        "sample = \"(A+B)*C\"\n",
        "print(\"중위식: \"+sample+\" → 후위식: \"+infix_to_postfix(sample))"
      ]
    }
  ]
}