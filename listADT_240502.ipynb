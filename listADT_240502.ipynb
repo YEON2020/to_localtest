{
  "nbformat": 4,
  "nbformat_minor": 0,
  "metadata": {
    "colab": {
      "provenance": [],
      "authorship_tag": "ABX9TyOvVUBjgKngCdTEav8GLx0G",
      "include_colab_link": true
    },
    "kernelspec": {
      "name": "python3",
      "display_name": "Python 3"
    },
    "language_info": {
      "name": "python"
    }
  },
  "cells": [
    {
      "cell_type": "markdown",
      "metadata": {
        "id": "view-in-github",
        "colab_type": "text"
      },
      "source": [
        "<a href=\"https://colab.research.google.com/github/YEON2020/to_localtest/blob/main/listADT_240502.ipynb\" target=\"_parent\"><img src=\"https://colab.research.google.com/assets/colab-badge.svg\" alt=\"Open In Colab\"/></a>"
      ]
    },
    {
      "cell_type": "code",
      "source": [
        "class ListADT:\n",
        "    def __init__(self):\n",
        "        self.items = []\n",
        "\n",
        "    def insert(self, pos, e):\n",
        "        self.items.insert(pos, e)\n",
        "\n",
        "    def delete(self, pos):\n",
        "        if not self.isEmpty():\n",
        "            return self.items.pop(pos)\n",
        "        else:\n",
        "            raise IndexError(\"List is empty, cannot delete.\")\n",
        "\n",
        "    def isEmpty(self):\n",
        "        return len(self.items) == 0\n",
        "\n",
        "    def getEntry(self, pos):\n",
        "        if pos < 0 or pos >= len(self.items):\n",
        "            raise IndexError(\"Position out of range.\")\n",
        "        return self.items[pos]\n",
        "\n",
        "    def size(self):\n",
        "        return len(self.items)\n",
        "\n",
        "    def clear(self):\n",
        "        self.items.clear()\n",
        "\n",
        "    def find(self, item):\n",
        "        for i, val in enumerate(self.items):\n",
        "            if val == item:\n",
        "                return i\n",
        "        return -1\n",
        "\n",
        "    def replace(self, pos, item):\n",
        "        if pos < 0 or pos >= len(self.items):\n",
        "            raise IndexError(\"Position out of range.\")\n",
        "        self.items[pos] = item\n",
        "\n",
        "    def sort(self):\n",
        "        self.items.sort()\n",
        "\n",
        "    def merge(self, lst):\n",
        "        self.items.extend(lst.items)\n",
        "\n",
        "    def display(self):\n",
        "        print(self.items)\n",
        "\n",
        "    def append(self, e):\n",
        "        self.items.append(e)\n",
        "\n",
        "# 사용 예\n",
        "my_list = ListADT()\n",
        "my_list.append(10)\n",
        "my_list.insert(0, 5)\n",
        "my_list.insert(1, 7)\n",
        "my_list.display()  # 출력: [5, 7, 10]\n",
        "print(\"Size of list:\", my_list.size())  # 출력: Size of list: 3\n",
        "print(\"Element at position 1:\", my_list.getEntry(1))  # 출력: Element at position 1: 7\n",
        "my_list.delete(0)\n",
        "my_list.display()  # 출력: [7, 10]\n",
        "my_list.sort()\n",
        "my_list.display()  # 출력: [7, 10]\n",
        "\n",
        "# 새 리스트를 만들고 병합\n",
        "new_list = ListADT()\n",
        "new_list.append(20)\n",
        "new_list.append(30)\n",
        "my_list.merge(new_list)\n",
        "my_list.display()  # 출력: [7, 10, 20, 30]"
      ],
      "metadata": {
        "colab": {
          "base_uri": "https://localhost:8080/"
        },
        "id": "kHkj8doS2S_V",
        "outputId": "fb065d5b-c4f2-48a4-8878-71a8a0e1b942"
      },
      "execution_count": 9,
      "outputs": [
        {
          "output_type": "stream",
          "name": "stdout",
          "text": [
            "[5, 7, 10]\n",
            "Size of list: 3\n",
            "Element at position 1: 7\n",
            "[7, 10]\n",
            "[7, 10]\n",
            "[7, 10, 20, 30]\n"
          ]
        }
      ]
    },
    {
      "cell_type": "code",
      "execution_count": 8,
      "metadata": {
        "id": "BPGtdJNi1yXF"
      },
      "outputs": [],
      "source": [
        "class ListADT:\n",
        "\n",
        "    def __init__(self):\n",
        "        self.items = []\n",
        "\n",
        "    def insert(self,pos,e):\n",
        "        self.items.insert(pos, e)\n",
        "\n",
        "    def\n",
        "\n",
        "        list_1 = []\n",
        "        e = 10\n",
        "        self.list_1.append(e)\n",
        "\n",
        "        print(list_1)\n",
        "\n",
        "        # insert(5, 6)\n",
        "\n",
        "\n",
        "\n",
        "\n",
        "\n",
        "    # del delete(pos, e):\n",
        "    #     self.delete.pop(e)\n",
        "\n",
        "    # del getEntry(pos, e):\n",
        "    #     return pos, e\n",
        "\n",
        "    # del isEmpty()\n"
      ]
    },
    {
      "cell_type": "code",
      "source": [
        "class Line_edit:\n",
        "\n",
        "    def __init__(self, ):\n",
        "        self.items = []\n",
        "\n",
        "    def insert_Line(self, temp, ed):\n",
        "\n",
        "        self.items.insert(temp, ed)\n",
        "        self.items.append(temp, ed)\n",
        "\n",
        "    def delete_Line(self, temp, ed):\n",
        "        self.items.remove(temp, ed)\n",
        "\n",
        "    def alter_Line(self, temp, ed):\n",
        "        self.items.update(temp, ed)"
      ],
      "metadata": {
        "id": "SHRDJKwuHZDh"
      },
      "execution_count": null,
      "outputs": []
    },
    {
      "cell_type": "code",
      "source": [
        "#Arraylist 클래스를 상속 받아서 라인편집기 클래스를 만들기"
      ],
      "metadata": {
        "id": "wd1EQTqpMA6r"
      },
      "execution_count": null,
      "outputs": []
    },
    {
      "cell_type": "code",
      "source": [
        "items = []\n",
        "\n",
        "i, j = input(\"행 번호와 문자열 입력?= \").split(' ')\n",
        "\n",
        "if a == i:\n",
        "    temp = items.append(i,j)\n",
        "print(temp)\n",
        "# print(i, j)"
      ],
      "metadata": {
        "colab": {
          "base_uri": "https://localhost:8080/",
          "height": 240
        },
        "id": "DYHxVtPgJm5Z",
        "outputId": "ddf2e077-3d16-4474-dbd7-44434ef76f1a"
      },
      "execution_count": 17,
      "outputs": [
        {
          "name": "stdout",
          "output_type": "stream",
          "text": [
            "행 번호와 문자열 입력?= 3 5\n"
          ]
        },
        {
          "output_type": "error",
          "ename": "TypeError",
          "evalue": "list.append() takes exactly one argument (2 given)",
          "traceback": [
            "\u001b[0;31m---------------------------------------------------------------------------\u001b[0m",
            "\u001b[0;31mTypeError\u001b[0m                                 Traceback (most recent call last)",
            "\u001b[0;32m<ipython-input-17-d6a018c2def4>\u001b[0m in \u001b[0;36m<cell line: 5>\u001b[0;34m()\u001b[0m\n\u001b[1;32m      4\u001b[0m \u001b[0;34m\u001b[0m\u001b[0m\n\u001b[1;32m      5\u001b[0m \u001b[0;32mif\u001b[0m \u001b[0ma\u001b[0m \u001b[0;34m==\u001b[0m \u001b[0mi\u001b[0m\u001b[0;34m:\u001b[0m\u001b[0;34m\u001b[0m\u001b[0;34m\u001b[0m\u001b[0m\n\u001b[0;32m----> 6\u001b[0;31m     \u001b[0mtemp\u001b[0m \u001b[0;34m=\u001b[0m \u001b[0mitems\u001b[0m\u001b[0;34m.\u001b[0m\u001b[0mappend\u001b[0m\u001b[0;34m(\u001b[0m\u001b[0mi\u001b[0m\u001b[0;34m,\u001b[0m\u001b[0mj\u001b[0m\u001b[0;34m)\u001b[0m\u001b[0;34m\u001b[0m\u001b[0;34m\u001b[0m\u001b[0m\n\u001b[0m\u001b[1;32m      7\u001b[0m \u001b[0mprint\u001b[0m\u001b[0;34m(\u001b[0m\u001b[0mtemp\u001b[0m\u001b[0;34m)\u001b[0m\u001b[0;34m\u001b[0m\u001b[0;34m\u001b[0m\u001b[0m\n\u001b[1;32m      8\u001b[0m \u001b[0;31m# print(i, j)\u001b[0m\u001b[0;34m\u001b[0m\u001b[0;34m\u001b[0m\u001b[0m\n",
            "\u001b[0;31mTypeError\u001b[0m: list.append() takes exactly one argument (2 given)"
          ]
        }
      ]
    },
    {
      "cell_type": "code",
      "source": [
        "set_edit = {}\n",
        "\n",
        "set_edit = {1,2,3,4,8,9}; set_B = {4,5,6,7,8}\n",
        "\n",
        "a = set_edit.union(set_B) #합집합\n",
        "\n",
        "print(a)"
      ],
      "metadata": {
        "colab": {
          "base_uri": "https://localhost:8080/"
        },
        "id": "s0xkFN7jM7oi",
        "outputId": "2cb2026e-3f53-44df-e4e8-23ac096e2cec"
      },
      "execution_count": 20,
      "outputs": [
        {
          "output_type": "stream",
          "name": "stdout",
          "text": [
            "{1, 2, 3, 4, 5, 6, 7, 8, 9}\n"
          ]
        }
      ]
    },
    {
      "cell_type": "code",
      "source": [
        "b = set_edit.intersection(set_B)\n",
        "print(b)"
      ],
      "metadata": {
        "colab": {
          "base_uri": "https://localhost:8080/"
        },
        "id": "6zqf5uGmOfDi",
        "outputId": "07ca3ba7-7479-49ef-c26e-809fa15f289c"
      },
      "execution_count": 22,
      "outputs": [
        {
          "output_type": "stream",
          "name": "stdout",
          "text": [
            "{8, 4}\n"
          ]
        }
      ]
    },
    {
      "cell_type": "code",
      "source": [
        "set_edit ={}\n",
        "\n",
        "set_edit ={1,2,3,4,8,9}; set_B = {4,5,6,7,8}\n",
        "\n",
        "list_1 =[]\n",
        "list_1.append(set_edit)\n",
        "\n",
        "a = list_1.count(set_edit)\n",
        "\n",
        "print(list_1)\n",
        "print(a)"
      ],
      "metadata": {
        "colab": {
          "base_uri": "https://localhost:8080/"
        },
        "id": "gnx2X64BPBxz",
        "outputId": "2644ef7d-3729-41e6-d5b8-1653b05b80c5"
      },
      "execution_count": 27,
      "outputs": [
        {
          "output_type": "stream",
          "name": "stdout",
          "text": [
            "[{1, 2, 3, 4, 8, 9}]\n",
            "1\n"
          ]
        }
      ]
    },
    {
      "cell_type": "code",
      "source": [
        "items = []\n",
        "\n",
        "\n",
        "a = len(items)\n",
        "print(a)\n",
        "\n",
        "for i in items:\n",
        "    if i == e:\n",
        "        return True\n",
        "\n",
        "\n",
        "if items == setB:\n",
        "items"
      ],
      "metadata": {
        "colab": {
          "base_uri": "https://localhost:8080/"
        },
        "id": "0AzlbRLYQ0ey",
        "outputId": "b8b13a21-2077-4797-e20a-23e6be14eb68"
      },
      "execution_count": 28,
      "outputs": [
        {
          "output_type": "stream",
          "name": "stdout",
          "text": [
            "0\n"
          ]
        }
      ]
    }
  ]
}