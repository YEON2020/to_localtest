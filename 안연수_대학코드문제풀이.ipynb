{
  "nbformat": 4,
  "nbformat_minor": 0,
  "metadata": {
    "colab": {
      "provenance": [],
      "authorship_tag": "ABX9TyPtLt84wuHhtS+9QTOR9eeY",
      "include_colab_link": true
    },
    "kernelspec": {
      "name": "python3",
      "display_name": "Python 3"
    },
    "language_info": {
      "name": "python"
    }
  },
  "cells": [
    {
      "cell_type": "markdown",
      "metadata": {
        "id": "view-in-github",
        "colab_type": "text"
      },
      "source": [
        "<a href=\"https://colab.research.google.com/github/YEON2020/to_localtest/blob/main/%EC%95%88%EC%97%B0%EC%88%98_%EB%8C%80%ED%95%99%EC%BD%94%EB%93%9C%EB%AC%B8%EC%A0%9C%ED%92%80%EC%9D%B4.ipynb\" target=\"_parent\"><img src=\"https://colab.research.google.com/assets/colab-badge.svg\" alt=\"Open In Colab\"/></a>"
      ]
    },
    {
      "cell_type": "code",
      "source": [
        "#1번 문제\n",
        "\n",
        "data = {1, 2, 3, 4, 5}\n",
        "for i , v in enumerate(data): #튜플 자료구조\n",
        "    if v % 2 == 0:\n",
        "        print(v)"
      ],
      "metadata": {
        "colab": {
          "base_uri": "https://localhost:8080/"
        },
        "id": "IOdKfKtVgdmI",
        "outputId": "5bbb02a1-3567-489c-a165-bd10650646ac"
      },
      "execution_count": 61,
      "outputs": [
        {
          "output_type": "stream",
          "name": "stdout",
          "text": [
            "2\n",
            "4\n"
          ]
        }
      ]
    },
    {
      "cell_type": "code",
      "source": [
        "#2번 문제\n",
        "\n",
        "a = 10; b = 5\n",
        "\n",
        "def fun1(num1, num2):\n",
        "    return num1 + num2\n",
        "print(fun1(a, b))"
      ],
      "metadata": {
        "colab": {
          "base_uri": "https://localhost:8080/"
        },
        "id": "UHJpyHlMhptn",
        "outputId": "55e50631-7e4d-4fd3-81eb-fc4394730f86"
      },
      "execution_count": 3,
      "outputs": [
        {
          "output_type": "stream",
          "name": "stdout",
          "text": [
            "15\n"
          ]
        }
      ]
    },
    {
      "cell_type": "code",
      "source": [
        "#3번 문제\n",
        "\n",
        "print(list(filter(lambda x: print (\"{}*{}={}\".format(4, x, 4*x)) if x%2 == 0 else print (\"condition not satisfied\"), range(1, 10))))"
      ],
      "metadata": {
        "colab": {
          "base_uri": "https://localhost:8080/"
        },
        "id": "ZnVdbro1h5RR",
        "outputId": "c7f0d8bf-8bcd-45d6-d139-65fa960255d2"
      },
      "execution_count": 44,
      "outputs": [
        {
          "output_type": "stream",
          "name": "stdout",
          "text": [
            "condition not satisfied\n",
            "4*2=8\n",
            "condition not satisfied\n",
            "4*4=16\n",
            "condition not satisfied\n",
            "4*6=24\n",
            "condition not satisfied\n",
            "4*8=32\n",
            "condition not satisfied\n",
            "[]\n"
          ]
        }
      ]
    },
    {
      "cell_type": "code",
      "source": [
        "#4번 문제\n",
        "\n",
        "def fun2(num):\n",
        "    v1 = 0\n",
        "    for i in range(num):\n",
        "        v1 = v1 + i\n",
        "    return v1\n",
        "print(fun2(10))"
      ],
      "metadata": {
        "colab": {
          "base_uri": "https://localhost:8080/"
        },
        "id": "3_LyeLpYYRDq",
        "outputId": "9fdacd1b-7109-4f14-c427-076920734bce"
      },
      "execution_count": 54,
      "outputs": [
        {
          "output_type": "stream",
          "name": "stdout",
          "text": [
            "45\n"
          ]
        }
      ]
    },
    {
      "cell_type": "code",
      "source": [
        "# for x in range(1, 10):\n",
        "#     a = int(x)\n",
        "\n",
        "numbers = list(filter(lambda x: (x % 2 == 0), list(range(1,10))))\n",
        "\n",
        "# x = numbers\n",
        "\n",
        "print(numbers)\n",
        "\n",
        "print(\"{} * {} = {}\".format(4, x, 4*x))"
      ],
      "metadata": {
        "colab": {
          "base_uri": "https://localhost:8080/"
        },
        "id": "h36mxMlyxoVR",
        "outputId": "3c577ce6-817c-4e91-d94d-b6293801cf2a"
      },
      "execution_count": 39,
      "outputs": [
        {
          "output_type": "stream",
          "name": "stdout",
          "text": [
            "[2, 4, 6, 8]\n",
            "4 * [2, 4, 6, 8] = [2, 4, 6, 8, 2, 4, 6, 8, 2, 4, 6, 8, 2, 4, 6, 8]\n"
          ]
        }
      ]
    },
    {
      "cell_type": "code",
      "source": [
        "x = 4\n",
        "print(\"{} * {} = {}\".format(4, x, 4*x)) if x % 2 == 0 else print('error')"
      ],
      "metadata": {
        "colab": {
          "base_uri": "https://localhost:8080/"
        },
        "id": "PBGZtiVPY0Yx",
        "outputId": "c3c12d56-da6b-47c5-9fbb-10c155b097a9"
      },
      "execution_count": 63,
      "outputs": [
        {
          "output_type": "stream",
          "name": "stdout",
          "text": [
            "4 * 4 = 16\n"
          ]
        }
      ]
    },
    {
      "cell_type": "code",
      "source": [
        "x = 4\n",
        "print(\"{} * {} = {}\".format(4, x, 4*x)); print('1') if x%2 == 0 else print('error')"
      ],
      "metadata": {
        "colab": {
          "base_uri": "https://localhost:8080/"
        },
        "id": "vlNvM1z0gY24",
        "outputId": "32fc321b-7332-4654-f863-7fed9900124b"
      },
      "execution_count": 68,
      "outputs": [
        {
          "output_type": "stream",
          "name": "stdout",
          "text": [
            "4 * 4 = 16\n",
            "1\n"
          ]
        }
      ]
    },
    {
      "cell_type": "code",
      "source": [
        "# def f1():\n",
        "#     return 1\n",
        "\n",
        "# x = (f1(), print('2'), 2)\n",
        "# print(x)\n",
        "\n",
        "def f1():\n",
        "    return 2\n",
        "\n",
        "# x = (f1(), print('2'), 2)\n",
        "\n",
        "x1 = f1()\n",
        "x2 = None\n",
        "x3 = 4\n",
        "\n",
        "x = (x1, x2, x3)\n",
        "\n",
        "print(x)"
      ],
      "metadata": {
        "colab": {
          "base_uri": "https://localhost:8080/"
        },
        "id": "4f_xQNAXhTS4",
        "outputId": "c4fdcfc6-b329-4e53-e081-d58e17591c0e"
      },
      "execution_count": 81,
      "outputs": [
        {
          "output_type": "stream",
          "name": "stdout",
          "text": [
            "(2, None, 4)\n"
          ]
        }
      ]
    },
    {
      "cell_type": "markdown",
      "source": [
        "첫달 28 입금\n",
        "\n",
        "매달마다 6 입금\n",
        "\n",
        "6 * 7 = 42\n",
        "\n",
        "7개월간 매달 6만원 입금하면 28 + 42 = 70만원 됨\n",
        "\n",
        "8만원 씩 매달 4달 입금 = 32만원\n",
        "\n",
        "그래서 70 + 32만원\n",
        "\n",
        "첫달 start  = 28\n",
        "\n",
        "두번째달부터~ before = 6\n",
        "\n",
        "목표치까지 도달할 금액 after = 8\n",
        "\n",
        "\n",
        "완료 저축 금액 100만원까지"
      ],
      "metadata": {
        "id": "SdYQsX5Yj7b7"
      }
    },
    {
      "cell_type": "code",
      "source": [
        "start = int(input(\"첫달 입금금액? = \"))\n",
        "before = int(input(\"두번째달 입금금액? = \"))\n",
        "after = int(input(\"7개월 후 입금금액? = \"))\n",
        "\n",
        "money = start\n",
        "month = 1\n",
        "while money < 70:\n",
        "    money += before\n",
        "    month += 1\n",
        "while money < 100:\n",
        "    money += after\n",
        "\n",
        "    month += 1\n",
        "\n",
        "print(month)\n"
      ],
      "metadata": {
        "colab": {
          "base_uri": "https://localhost:8080/"
        },
        "id": "Owcuf4mU4k7P",
        "outputId": "fb391a0b-37e1-4a13-8c96-d1588317b74c"
      },
      "execution_count": 1,
      "outputs": [
        {
          "output_type": "stream",
          "name": "stdout",
          "text": [
            "첫달 입금금액? = 28\n",
            "두번째달 입금금액? = 6\n",
            "7개월 후 입금금액? = 8\n",
            "12\n"
          ]
        }
      ]
    },
    {
      "cell_type": "code",
      "source": [
        "import random\n",
        "random.randint(1, 6)\n",
        "\n",
        "A_1 = random.randint(1, 6)\n",
        "\n",
        "A_2 = random.randint(1, 6)\n",
        "\n",
        "product_1 = [\"벤츠\", \"아우디\", \"람보르기니\", \"BMW\", \"현대\", \"기아\"]\n",
        "\n",
        "product_2 = [\"솥밥\", \"TV\", \"모니터\", \"컴퓨터\", \"프린터\", \"노트북\"]\n",
        "\n",
        "# print(A_1)\n",
        "\n",
        "# print(A_2)\n",
        "\n",
        "# for i in range(6):\n",
        "#     if A_1 == product_1:\n",
        "\n",
        "#     for x in range(6):\n",
        "#         if A_2 == product_2:\n",
        "\n",
        "#     print(A_1[product_1-1])\n",
        "\n",
        "if A_1 == product_1[0] and A_2 == product_2[0]:\n",
        "    print(product_1[0],product_1[A_1-1])\n",
        "    print(product_2[0],product_2[A_2-1])\n",
        "\n",
        "elif A_1 == product_1[1] and A_2 == product_2[1]:\n",
        "    print(product_1[1],product_1[A_1-1])\n",
        "    print(product_2[1],product_2[A_2-1])\n",
        "\n",
        "elif A_1 == product_1[2] and A_2 == product_2[2]:\n",
        "    print(product_1[2],product_1[A_1-1])\n",
        "    print(product_2[2],product_2[A_2-1])\n",
        "\n",
        "elif A_1 == product_1[3] and A_2 == product_2[3]:\n",
        "    print(product_1[3],product_1[A_1-1])\n",
        "    print(product_2[3],product_2[A_2-1])\n",
        "\n",
        "elif A_1 == product_1[4] and A_2 == product_2[4]:\n",
        "    print(product_1[4],product_1[A_1-1])\n",
        "    print(product_2[4],product_2[A_2-1])\n",
        "\n",
        "elif A_1 == product_1[5] and A_2 == product_2[5]:\n",
        "    print(product_1[5],product_1[A_1-1])\n",
        "    print(product_2[5],product_2[A_2-1])\n",
        "\n",
        "elif A_1 == product_1[6] and A_2 == product_2[6]:\n",
        "    print(product_1[6],product_1[A_1-1])\n",
        "    print(product_2[6],product_2[A_2-1])\n"
      ],
      "metadata": {
        "colab": {
          "base_uri": "https://localhost:8080/",
          "height": 222
        },
        "id": "uyoLmF6S2uEL",
        "outputId": "13c33f95-a0cd-4c1e-c721-12d0dd769b92"
      },
      "execution_count": 24,
      "outputs": [
        {
          "output_type": "error",
          "ename": "IndexError",
          "evalue": "list index out of range",
          "traceback": [
            "\u001b[0;31m---------------------------------------------------------------------------\u001b[0m",
            "\u001b[0;31mIndexError\u001b[0m                                Traceback (most recent call last)",
            "\u001b[0;32m<ipython-input-24-2264c8d76f8e>\u001b[0m in \u001b[0;36m<cell line: 48>\u001b[0;34m()\u001b[0m\n\u001b[1;32m     46\u001b[0m     \u001b[0mprint\u001b[0m\u001b[0;34m(\u001b[0m\u001b[0mproduct_2\u001b[0m\u001b[0;34m[\u001b[0m\u001b[0;36m5\u001b[0m\u001b[0;34m]\u001b[0m\u001b[0;34m,\u001b[0m\u001b[0mproduct_2\u001b[0m\u001b[0;34m[\u001b[0m\u001b[0mA_2\u001b[0m\u001b[0;34m-\u001b[0m\u001b[0;36m1\u001b[0m\u001b[0;34m]\u001b[0m\u001b[0;34m)\u001b[0m\u001b[0;34m\u001b[0m\u001b[0;34m\u001b[0m\u001b[0m\n\u001b[1;32m     47\u001b[0m \u001b[0;34m\u001b[0m\u001b[0m\n\u001b[0;32m---> 48\u001b[0;31m \u001b[0;32mif\u001b[0m \u001b[0mA_1\u001b[0m \u001b[0;34m==\u001b[0m \u001b[0mproduct_1\u001b[0m\u001b[0;34m[\u001b[0m\u001b[0;36m6\u001b[0m\u001b[0;34m]\u001b[0m \u001b[0;32mand\u001b[0m \u001b[0mA_2\u001b[0m \u001b[0;34m==\u001b[0m \u001b[0mproduct_2\u001b[0m\u001b[0;34m[\u001b[0m\u001b[0;36m6\u001b[0m\u001b[0;34m]\u001b[0m\u001b[0;34m:\u001b[0m\u001b[0;34m\u001b[0m\u001b[0;34m\u001b[0m\u001b[0m\n\u001b[0m\u001b[1;32m     49\u001b[0m     \u001b[0mprint\u001b[0m\u001b[0;34m(\u001b[0m\u001b[0mproduct_1\u001b[0m\u001b[0;34m[\u001b[0m\u001b[0;36m6\u001b[0m\u001b[0;34m]\u001b[0m\u001b[0;34m,\u001b[0m\u001b[0mproduct_1\u001b[0m\u001b[0;34m[\u001b[0m\u001b[0mA_1\u001b[0m\u001b[0;34m-\u001b[0m\u001b[0;36m1\u001b[0m\u001b[0;34m]\u001b[0m\u001b[0;34m)\u001b[0m\u001b[0;34m\u001b[0m\u001b[0;34m\u001b[0m\u001b[0m\n\u001b[1;32m     50\u001b[0m     \u001b[0mprint\u001b[0m\u001b[0;34m(\u001b[0m\u001b[0mproduct_2\u001b[0m\u001b[0;34m[\u001b[0m\u001b[0;36m6\u001b[0m\u001b[0;34m]\u001b[0m\u001b[0;34m,\u001b[0m\u001b[0mproduct_2\u001b[0m\u001b[0;34m[\u001b[0m\u001b[0mA_2\u001b[0m\u001b[0;34m-\u001b[0m\u001b[0;36m1\u001b[0m\u001b[0;34m]\u001b[0m\u001b[0;34m)\u001b[0m\u001b[0;34m\u001b[0m\u001b[0;34m\u001b[0m\u001b[0m\n",
            "\u001b[0;31mIndexError\u001b[0m: list index out of range"
          ]
        }
      ]
    },
    {
      "cell_type": "code",
      "source": [
        "import random\n",
        "numA = random.randint(1, 6) ; numB = random.randint(1, 6)\n",
        "\n",
        "product_1 = [\"벤츠\", \"아우디\", \"람보르기니\", \"BMW\", \"현대\", \"기아\"]\n",
        "product_2 = [\"벤츠\", \"아우디\", \"람보르기니\", \"BMW\", \"현대\", \"기아\"]\n",
        "product_3 = [\"벤츠\", \"아우디\", \"람보르기니\", \"BMW\", \"현대\", \"기아\"]\n",
        "product_4 = [\"벤츠\", \"아우디\", \"람보르기니\", \"BMW\", \"현대\", \"기아\"]\n",
        "product_5 = [\"벤츠\", \"아우디\", \"람보르기니\", \"BMW\", \"현대\", \"기아\"]\n",
        "product_6 = [\"벤츠\", \"아우디\", \"람보르기니\", \"BMW\", \"현대\", \"기아\"]\n",
        "\n",
        "product = [product_1, product_2, product_3, product_4, product_5, product_6]\n",
        "\n",
        "print(product[numA-1][numB-1])\n",
        "\n",
        "if numA == 1:\n",
        "    print(product[numA-1][numB-1])\n",
        "elif numA == 2:\n",
        "    print(product[numA-1][numB-1])\n",
        "elif numA == 3:\n",
        "    print(product[numA-1][numB-1])\n",
        "elif numA == 4:\n",
        "    print(product[numA-1][numB-1])\n",
        "elif numA == 5:\n",
        "    print(product[numA-1][numB-1])\n",
        "elif numA == 6:\n",
        "    print(product[numA-1][numB-1])"
      ],
      "metadata": {
        "colab": {
          "base_uri": "https://localhost:8080/"
        },
        "id": "Oob62tjOdPqN",
        "outputId": "71888122-025b-4b01-8f16-bb8f7ee7b195"
      },
      "execution_count": 12,
      "outputs": [
        {
          "output_type": "stream",
          "name": "stdout",
          "text": [
            "기아\n",
            "기아\n"
          ]
        }
      ]
    },
    {
      "cell_type": "code",
      "source": [
        "gender_input = input(\"성별은? = \")\n",
        "\n",
        "degree_input = input(\"학위는? = \")\n",
        "\n",
        "salary_input = input(\"연봉은? = \")\n",
        "\n",
        "# gender = ['남', '여']\n",
        "\n",
        "degree = ['학사', '석사', '박사']\n",
        "\n",
        "salary = ['3천', '5천', '7천', '8천', '1억']\n",
        "\n",
        "rating = {'가':'A등급', '나':'B등급', '다':'C등급', '라':'D등급'}\n",
        "\n",
        "# W_rating = ['A등급', 'B등급', 'C등급', 'D등급']\n",
        "\n",
        "if  gender_input == \"남\" and degree[0] and salary[1]:\n",
        "    print(rating['라'])\n",
        "elif gender_input == \"남\" and degree[1] and salary[2]:\n",
        "    print(rating['다'])\n",
        "elif gender_input == \"남\" and degree[2] and salary[4]:\n",
        "    print(rating['나'])\n",
        "elif gender_input == \"여\" and degree[0] and salary[0]:\n",
        "    print(rating['다'])\n",
        "elif gender_input == \"여\" and degree[1] and salary[1]:\n",
        "    print(rating['나'])\n",
        "elif gender_input == \"여\" and degree[2] and salary[2]:\n",
        "    print(rating['가'])"
      ],
      "metadata": {
        "colab": {
          "base_uri": "https://localhost:8080/"
        },
        "id": "aCuJB_WFohc9",
        "outputId": "1296253d-c79e-413f-a003-34663d0e55a3"
      },
      "execution_count": 33,
      "outputs": [
        {
          "output_type": "stream",
          "name": "stdout",
          "text": [
            "성별은? = 남\n",
            "학위는? = 박사\n",
            "연봉은? = 1억\n",
            "D등급\n"
          ]
        }
      ]
    },
    {
      "cell_type": "code",
      "source": [
        "gender_input = input(\"성별은? = \")\n",
        "\n",
        "degree_input = input(\"학위는? = \")\n",
        "\n",
        "salary_input = input(\"연봉은? = \")\n",
        "\n",
        "# gender = ['남', '여']\n",
        "\n",
        "degree = {'가':'학사', '나' : '석사', '다':'박사'}\n",
        "\n",
        "salary = {'가' : '3천', '나': '5천', '다' : '7천', '라' : '8천', '마' : '1억'}\n",
        "\n",
        "rating = {'가':'A등급', '나':'B등급', '다':'C등급', '라':'D등급'}\n",
        "\n",
        "# W_rating = ['A등급', 'B등급', 'C등급', 'D등급']\n",
        "\n",
        "if  gender_input == \"남\" and degree_input == degree['가'] and salary_input == salary['나']:\n",
        "    print(rating['라'])\n",
        "elif gender_input == \"남\" and degree_input == degree['나'] and salary_input == salary['다']:\n",
        "    print(rating['다'])\n",
        "elif gender_input == \"남\" and degree_input == degree['다'] and salary_input == salary['마']:\n",
        "    print(rating['나'])\n",
        "elif gender_input == \"여\" and degree_input == degree['가'] and salary_input == salary['가']:\n",
        "    print(rating['다'])\n",
        "elif gender_input == \"여\" and degree_input == degree['나'] and salary_input == salary['나']:\n",
        "    print(rating['나'])\n",
        "elif gender_input == \"여\" and degree_input == degree['다'] and salary_input == salary['다']:\n",
        "    print(rating['가'])"
      ],
      "metadata": {
        "colab": {
          "base_uri": "https://localhost:8080/"
        },
        "id": "IXgfCbpG63ad",
        "outputId": "60959e81-d188-4496-e13c-ad2e26e7f2f2"
      },
      "execution_count": 36,
      "outputs": [
        {
          "output_type": "stream",
          "name": "stdout",
          "text": [
            "성별은? = 남\n",
            "학위는? = 석사\n",
            "연봉은? = 7천\n",
            "C등급\n"
          ]
        }
      ]
    }
  ]
}