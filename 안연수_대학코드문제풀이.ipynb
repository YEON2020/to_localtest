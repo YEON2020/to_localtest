{
  "nbformat": 4,
  "nbformat_minor": 0,
  "metadata": {
    "colab": {
      "provenance": [],
      "authorship_tag": "ABX9TyM7tJjUFiaikUM0cnOkmyLi",
      "include_colab_link": true
    },
    "kernelspec": {
      "name": "python3",
      "display_name": "Python 3"
    },
    "language_info": {
      "name": "python"
    }
  },
  "cells": [
    {
      "cell_type": "markdown",
      "metadata": {
        "id": "view-in-github",
        "colab_type": "text"
      },
      "source": [
        "<a href=\"https://colab.research.google.com/github/YEON2020/to_localtest/blob/main/%EC%95%88%EC%97%B0%EC%88%98_%EB%8C%80%ED%95%99%EC%BD%94%EB%93%9C%EB%AC%B8%EC%A0%9C%ED%92%80%EC%9D%B4.ipynb\" target=\"_parent\"><img src=\"https://colab.research.google.com/assets/colab-badge.svg\" alt=\"Open In Colab\"/></a>"
      ]
    },
    {
      "cell_type": "code",
      "execution_count": null,
      "metadata": {
        "id": "VhAHE71YwmUX"
      },
      "outputs": [],
      "source": [
        "start = int(input())\n",
        "before = int(input())\n",
        "after = int(input())\n",
        "\n",
        "money = start\n",
        "month = 1\n",
        "while money < 70:\n",
        "    money += after\n",
        "\n",
        "    month += 1\n",
        "while money < 100:\n",
        "\n",
        "    after += before\n",
        "\n",
        "    month += 1\n",
        "\n",
        "print(month)"
      ]
    },
    {
      "cell_type": "code",
      "source": [
        "data = {1, 2, 3, 4, 5}\n",
        "for i , v in enumerate(data):\n",
        "    if v % 2 == 0:\n",
        "        print(v)"
      ],
      "metadata": {
        "colab": {
          "base_uri": "https://localhost:8080/"
        },
        "id": "IOdKfKtVgdmI",
        "outputId": "9044f1f3-bb6a-4241-b8b2-e7a8db7e3003"
      },
      "execution_count": 8,
      "outputs": [
        {
          "output_type": "stream",
          "name": "stdout",
          "text": [
            "2\n",
            "4\n"
          ]
        }
      ]
    },
    {
      "cell_type": "code",
      "source": [
        "a = 10; b = 5\n",
        "def fun1(num1, num2):\n",
        "    return num1 + num2\n",
        "print(fun1(a, b))"
      ],
      "metadata": {
        "colab": {
          "base_uri": "https://localhost:8080/"
        },
        "id": "UHJpyHlMhptn",
        "outputId": "55e50631-7e4d-4fd3-81eb-fc4394730f86"
      },
      "execution_count": 3,
      "outputs": [
        {
          "output_type": "stream",
          "name": "stdout",
          "text": [
            "15\n"
          ]
        }
      ]
    },
    {
      "cell_type": "code",
      "source": [
        "print(list(filter(lambda x: (x%2==0), format(4, x, 4*x) print(\"{} * {} = {}\"). else: print('condition not satisfied'), range(1, 10))))"
      ],
      "metadata": {
        "id": "ZnVdbro1h5RR"
      },
      "execution_count": null,
      "outputs": []
    },
    {
      "cell_type": "code",
      "source": [
        "def fun2(num):\n",
        "    v1 = 0\n",
        "    for i in range(num):\n",
        "        v1 = v1 + i\n",
        "    return v1\n",
        "print(fun2(10))"
      ],
      "metadata": {
        "colab": {
          "base_uri": "https://localhost:8080/"
        },
        "id": "NJyDYqTklm74",
        "outputId": "a1d1648f-44f1-4fb9-878c-315a1ee6fc48"
      },
      "execution_count": 6,
      "outputs": [
        {
          "output_type": "stream",
          "name": "stdout",
          "text": [
            "45\n"
          ]
        }
      ]
    }
  ]
}