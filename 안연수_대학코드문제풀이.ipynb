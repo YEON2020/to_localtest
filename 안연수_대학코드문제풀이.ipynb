{
  "nbformat": 4,
  "nbformat_minor": 0,
  "metadata": {
    "colab": {
      "provenance": [],
      "authorship_tag": "ABX9TyP6Uh7lr8pSSC6aog037D8A",
      "include_colab_link": true
    },
    "kernelspec": {
      "name": "python3",
      "display_name": "Python 3"
    },
    "language_info": {
      "name": "python"
    }
  },
  "cells": [
    {
      "cell_type": "markdown",
      "metadata": {
        "id": "view-in-github",
        "colab_type": "text"
      },
      "source": [
        "<a href=\"https://colab.research.google.com/github/YEON2020/to_localtest/blob/main/%EC%95%88%EC%97%B0%EC%88%98_%EB%8C%80%ED%95%99%EC%BD%94%EB%93%9C%EB%AC%B8%EC%A0%9C%ED%92%80%EC%9D%B4.ipynb\" target=\"_parent\"><img src=\"https://colab.research.google.com/assets/colab-badge.svg\" alt=\"Open In Colab\"/></a>"
      ]
    },
    {
      "cell_type": "code",
      "source": [
        "#1번 문제\n",
        "\n",
        "data = {1, 2, 3, 4, 5}\n",
        "for i , v in enumerate(data):\n",
        "    if v % 2 == 0:\n",
        "        print(v)"
      ],
      "metadata": {
        "colab": {
          "base_uri": "https://localhost:8080/"
        },
        "id": "IOdKfKtVgdmI",
        "outputId": "9044f1f3-bb6a-4241-b8b2-e7a8db7e3003"
      },
      "execution_count": 8,
      "outputs": [
        {
          "output_type": "stream",
          "name": "stdout",
          "text": [
            "2\n",
            "4\n"
          ]
        }
      ]
    },
    {
      "cell_type": "code",
      "source": [
        "#2번 문제\n",
        "\n",
        "a = 10; b = 5\n",
        "def fun1(num1, num2):\n",
        "    return num1 + num2\n",
        "print(fun1(a, b))"
      ],
      "metadata": {
        "colab": {
          "base_uri": "https://localhost:8080/"
        },
        "id": "UHJpyHlMhptn",
        "outputId": "55e50631-7e4d-4fd3-81eb-fc4394730f86"
      },
      "execution_count": 3,
      "outputs": [
        {
          "output_type": "stream",
          "name": "stdout",
          "text": [
            "15\n"
          ]
        }
      ]
    },
    {
      "cell_type": "code",
      "source": [
        "#3번 문제\n",
        "\n",
        "print(list(filter(lambda x: print (\"{}*{}={}\".format(4, x, 4*x)) if x%2 == 0 else print (\"condition not satisfied\"), range(1, 10))))"
      ],
      "metadata": {
        "colab": {
          "base_uri": "https://localhost:8080/"
        },
        "id": "ZnVdbro1h5RR",
        "outputId": "c7f0d8bf-8bcd-45d6-d139-65fa960255d2"
      },
      "execution_count": 44,
      "outputs": [
        {
          "output_type": "stream",
          "name": "stdout",
          "text": [
            "condition not satisfied\n",
            "4*2=8\n",
            "condition not satisfied\n",
            "4*4=16\n",
            "condition not satisfied\n",
            "4*6=24\n",
            "condition not satisfied\n",
            "4*8=32\n",
            "condition not satisfied\n",
            "[]\n"
          ]
        }
      ]
    },
    {
      "cell_type": "code",
      "source": [
        "#4번 문제\n",
        "\n",
        "def fun2(num):\n",
        "    v1 = 0\n",
        "    for i in range(num):\n",
        "        v1 = v1 + i\n",
        "    return v1\n",
        "print(fun2(10))"
      ],
      "metadata": {
        "id": "3_LyeLpYYRDq"
      },
      "execution_count": null,
      "outputs": []
    },
    {
      "cell_type": "code",
      "source": [
        "# for x in range(1, 10):\n",
        "#     a = int(x)\n",
        "\n",
        "numbers = list(filter(lambda x: (x % 2 == 0), list(range(1,10))))\n",
        "\n",
        "# x = numbers\n",
        "\n",
        "print(numbers)\n",
        "\n",
        "print(\"{} * {} = {}\".format(4, x, 4*x))"
      ],
      "metadata": {
        "colab": {
          "base_uri": "https://localhost:8080/"
        },
        "id": "h36mxMlyxoVR",
        "outputId": "3c577ce6-817c-4e91-d94d-b6293801cf2a"
      },
      "execution_count": 39,
      "outputs": [
        {
          "output_type": "stream",
          "name": "stdout",
          "text": [
            "[2, 4, 6, 8]\n",
            "4 * [2, 4, 6, 8] = [2, 4, 6, 8, 2, 4, 6, 8, 2, 4, 6, 8, 2, 4, 6, 8]\n"
          ]
        }
      ]
    }
  ]
}