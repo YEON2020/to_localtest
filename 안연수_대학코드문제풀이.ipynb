{
  "nbformat": 4,
  "nbformat_minor": 0,
  "metadata": {
    "colab": {
      "provenance": [],
      "authorship_tag": "ABX9TyM3IWyV0srSXpxBWRxfqd5N",
      "include_colab_link": true
    },
    "kernelspec": {
      "name": "python3",
      "display_name": "Python 3"
    },
    "language_info": {
      "name": "python"
    }
  },
  "cells": [
    {
      "cell_type": "markdown",
      "metadata": {
        "id": "view-in-github",
        "colab_type": "text"
      },
      "source": [
        "<a href=\"https://colab.research.google.com/github/YEON2020/to_localtest/blob/main/%EC%95%88%EC%97%B0%EC%88%98_%EB%8C%80%ED%95%99%EC%BD%94%EB%93%9C%EB%AC%B8%EC%A0%9C%ED%92%80%EC%9D%B4.ipynb\" target=\"_parent\"><img src=\"https://colab.research.google.com/assets/colab-badge.svg\" alt=\"Open In Colab\"/></a>"
      ]
    },
    {
      "cell_type": "code",
      "source": [
        "#1번 문제\n",
        "\n",
        "data = {1, 2, 3, 4, 5}\n",
        "for i , v in enumerate(data): #튜플 자료구조\n",
        "    if v % 2 == 0:\n",
        "        print(v)"
      ],
      "metadata": {
        "colab": {
          "base_uri": "https://localhost:8080/"
        },
        "id": "IOdKfKtVgdmI",
        "outputId": "5bbb02a1-3567-489c-a165-bd10650646ac"
      },
      "execution_count": 61,
      "outputs": [
        {
          "output_type": "stream",
          "name": "stdout",
          "text": [
            "2\n",
            "4\n"
          ]
        }
      ]
    },
    {
      "cell_type": "code",
      "source": [
        "#2번 문제\n",
        "\n",
        "a = 10; b = 5\n",
        "\n",
        "def fun1(num1, num2):\n",
        "    return num1 + num2\n",
        "print(fun1(a, b))"
      ],
      "metadata": {
        "colab": {
          "base_uri": "https://localhost:8080/"
        },
        "id": "UHJpyHlMhptn",
        "outputId": "55e50631-7e4d-4fd3-81eb-fc4394730f86"
      },
      "execution_count": 3,
      "outputs": [
        {
          "output_type": "stream",
          "name": "stdout",
          "text": [
            "15\n"
          ]
        }
      ]
    },
    {
      "cell_type": "code",
      "source": [
        "#3번 문제\n",
        "\n",
        "print(list(filter(lambda x: print (\"{}*{}={}\".format(4, x, 4*x)) if x%2 == 0 else print (\"condition not satisfied\"), range(1, 10))))"
      ],
      "metadata": {
        "colab": {
          "base_uri": "https://localhost:8080/"
        },
        "id": "ZnVdbro1h5RR",
        "outputId": "c7f0d8bf-8bcd-45d6-d139-65fa960255d2"
      },
      "execution_count": 44,
      "outputs": [
        {
          "output_type": "stream",
          "name": "stdout",
          "text": [
            "condition not satisfied\n",
            "4*2=8\n",
            "condition not satisfied\n",
            "4*4=16\n",
            "condition not satisfied\n",
            "4*6=24\n",
            "condition not satisfied\n",
            "4*8=32\n",
            "condition not satisfied\n",
            "[]\n"
          ]
        }
      ]
    },
    {
      "cell_type": "code",
      "source": [
        "#4번 문제\n",
        "\n",
        "def fun2(num):\n",
        "    v1 = 0\n",
        "    for i in range(num):\n",
        "        v1 = v1 + i\n",
        "    return v1\n",
        "print(fun2(10))"
      ],
      "metadata": {
        "colab": {
          "base_uri": "https://localhost:8080/"
        },
        "id": "3_LyeLpYYRDq",
        "outputId": "9fdacd1b-7109-4f14-c427-076920734bce"
      },
      "execution_count": 54,
      "outputs": [
        {
          "output_type": "stream",
          "name": "stdout",
          "text": [
            "45\n"
          ]
        }
      ]
    },
    {
      "cell_type": "code",
      "source": [
        "# for x in range(1, 10):\n",
        "#     a = int(x)\n",
        "\n",
        "numbers = list(filter(lambda x: (x % 2 == 0), list(range(1,10))))\n",
        "\n",
        "# x = numbers\n",
        "\n",
        "print(numbers)\n",
        "\n",
        "print(\"{} * {} = {}\".format(4, x, 4*x))"
      ],
      "metadata": {
        "colab": {
          "base_uri": "https://localhost:8080/"
        },
        "id": "h36mxMlyxoVR",
        "outputId": "3c577ce6-817c-4e91-d94d-b6293801cf2a"
      },
      "execution_count": 39,
      "outputs": [
        {
          "output_type": "stream",
          "name": "stdout",
          "text": [
            "[2, 4, 6, 8]\n",
            "4 * [2, 4, 6, 8] = [2, 4, 6, 8, 2, 4, 6, 8, 2, 4, 6, 8, 2, 4, 6, 8]\n"
          ]
        }
      ]
    },
    {
      "cell_type": "code",
      "source": [
        "x = 4\n",
        "print(\"{} * {} = {}\".format(4, x, 4*x)) if x % 2 == 0 else print('error')"
      ],
      "metadata": {
        "colab": {
          "base_uri": "https://localhost:8080/"
        },
        "id": "PBGZtiVPY0Yx",
        "outputId": "c3c12d56-da6b-47c5-9fbb-10c155b097a9"
      },
      "execution_count": 63,
      "outputs": [
        {
          "output_type": "stream",
          "name": "stdout",
          "text": [
            "4 * 4 = 16\n"
          ]
        }
      ]
    },
    {
      "cell_type": "code",
      "source": [
        "x = 4\n",
        "print(\"{} * {} = {}\".format(4, x, 4*x)); print('1') if x%2 == 0 else print('error')"
      ],
      "metadata": {
        "colab": {
          "base_uri": "https://localhost:8080/"
        },
        "id": "vlNvM1z0gY24",
        "outputId": "32fc321b-7332-4654-f863-7fed9900124b"
      },
      "execution_count": 68,
      "outputs": [
        {
          "output_type": "stream",
          "name": "stdout",
          "text": [
            "4 * 4 = 16\n",
            "1\n"
          ]
        }
      ]
    },
    {
      "cell_type": "code",
      "source": [
        "# def f1():\n",
        "#     return 1\n",
        "\n",
        "# x = (f1(), print('2'), 2)\n",
        "# print(x)\n",
        "\n",
        "def f1():\n",
        "    return 2\n",
        "\n",
        "# x = (f1(), print('2'), 2)\n",
        "\n",
        "x1 = f1()\n",
        "x2 = None\n",
        "x3 = 4\n",
        "\n",
        "x = (x1, x2, x3)\n",
        "\n",
        "print(x)"
      ],
      "metadata": {
        "colab": {
          "base_uri": "https://localhost:8080/"
        },
        "id": "4f_xQNAXhTS4",
        "outputId": "c4fdcfc6-b329-4e53-e081-d58e17591c0e"
      },
      "execution_count": 81,
      "outputs": [
        {
          "output_type": "stream",
          "name": "stdout",
          "text": [
            "(2, None, 4)\n"
          ]
        }
      ]
    }
  ]
}