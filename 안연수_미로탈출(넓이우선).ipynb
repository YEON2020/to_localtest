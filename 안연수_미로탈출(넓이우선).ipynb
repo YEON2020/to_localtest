{
  "nbformat": 4,
  "nbformat_minor": 0,
  "metadata": {
    "colab": {
      "provenance": [],
      "authorship_tag": "ABX9TyOE1YrM95Jj9ftvDj/WEo6/",
      "include_colab_link": true
    },
    "kernelspec": {
      "name": "python3",
      "display_name": "Python 3"
    },
    "language_info": {
      "name": "python"
    }
  },
  "cells": [
    {
      "cell_type": "markdown",
      "metadata": {
        "id": "view-in-github",
        "colab_type": "text"
      },
      "source": [
        "<a href=\"https://colab.research.google.com/github/YEON2020/to_localtest/blob/main/%EC%95%88%EC%97%B0%EC%88%98_%EB%AF%B8%EB%A1%9C%ED%83%88%EC%B6%9C(%EB%84%93%EC%9D%B4%EC%9A%B0%EC%84%A0).ipynb\" target=\"_parent\"><img src=\"https://colab.research.google.com/assets/colab-badge.svg\" alt=\"Open In Colab\"/></a>"
      ]
    },
    {
      "cell_type": "code",
      "execution_count": 2,
      "metadata": {
        "id": "7E_sbzjyn9_d"
      },
      "outputs": [],
      "source": [
        "from collections import deque\n",
        "\n",
        "class MazeSolverBFS:\n",
        "    def __init__(self, maze):\n",
        "        self.maze = maze\n",
        "        self.MAZE_SIZE = len(maze)\n",
        "        self.visited = [[False] * self.MAZE_SIZE for _ in range(self.MAZE_SIZE)]\n",
        "        self.path = []\n",
        "        self.start = self.find_start()\n",
        "\n",
        "    def find_start(self):\n",
        "        for y in range(self.MAZE_SIZE):\n",
        "            for x in range(self.MAZE_SIZE):\n",
        "                if self.maze[y][x] == 'e':\n",
        "                    return (x, y)\n",
        "        return None\n",
        "\n",
        "    def isValidPos(self, x, y):\n",
        "        if x < 0 or y < 0 or x >= self.MAZE_SIZE or y >= self.MAZE_SIZE:\n",
        "            return False\n",
        "        return self.maze[y][x] == '0' or self.maze[y][x] == 'x'\n",
        "\n",
        "    def BFS(self):\n",
        "        queue = deque([self.start])\n",
        "        self.visited[self.start[1]][self.start[0]] = True\n",
        "        parent = {self.start: None}\n",
        "\n",
        "        while queue:\n",
        "            here = queue.popleft()\n",
        "            x, y = here\n",
        "            self.path.append(here)\n",
        "            print(here, end='->')\n",
        "\n",
        "            if self.maze[y][x] == 'x':\n",
        "                return True, self.construct_path(parent, here)\n",
        "\n",
        "            for (dx, dy) in [(-1, 0), (1, 0), (0, -1), (0, 1)]:\n",
        "                next_x, next_y = x + dx, y + dy\n",
        "                if self.isValidPos(next_x, next_y) and not self.visited[next_y][next_x]:\n",
        "                    queue.append((next_x, next_y))\n",
        "                    self.visited[next_y][next_x] = True\n",
        "                    parent[(next_x, next_y)] = (x, y)\n",
        "\n",
        "        return False, []\n",
        "\n",
        "    def construct_path(self, parent, end):\n",
        "        path = []\n",
        "        while end:\n",
        "            path.append(end)\n",
        "            end = parent[end]\n",
        "        path.reverse()\n",
        "        return path\n",
        "\n",
        "    def solve(self):\n",
        "        result, path = self.BFS()\n",
        "        if result:\n",
        "            print('BFS: 미로탐색 성공')\n",
        "            print('경로:', path)\n",
        "        else:\n",
        "            print('BFS: 미로탐색 실패')"
      ]
    },
    {
      "cell_type": "code",
      "source": [
        "# 미로 맵 설정\n",
        "maze = [\n",
        "    ['1', '1', '1', '1', '1', '1'],\n",
        "    ['e', '0', '1', '0', '0', '1'],\n",
        "    ['1', '0', '0', '0', '1', '1'],\n",
        "    ['1', '0', '1', '0', '1', '1'],\n",
        "    ['1', '0', '1', '0', '0', 'x'],\n",
        "    ['1', '1', '1', '1', '1', '1']\n",
        "]\n",
        "\n",
        "solver = MazeSolverBFS(maze)\n",
        "solver.solve()"
      ],
      "metadata": {
        "colab": {
          "base_uri": "https://localhost:8080/"
        },
        "id": "DCuZhj4EHMtS",
        "outputId": "c53dcb0b-8a69-4830-c109-0a54d5a71c24"
      },
      "execution_count": 3,
      "outputs": [
        {
          "output_type": "stream",
          "name": "stdout",
          "text": [
            "(0, 1)->(1, 1)->(1, 2)->(2, 2)->(1, 3)->(3, 2)->(1, 4)->(3, 1)->(3, 3)->(4, 1)->(3, 4)->(4, 4)->(5, 4)->BFS: 미로탐색 성공\n",
            "경로: [(0, 1), (1, 1), (1, 2), (2, 2), (3, 2), (3, 3), (3, 4), (4, 4), (5, 4)]\n"
          ]
        }
      ]
    }
  ]
}