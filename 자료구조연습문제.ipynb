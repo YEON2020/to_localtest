{
  "nbformat": 4,
  "nbformat_minor": 0,
  "metadata": {
    "colab": {
      "provenance": [],
      "authorship_tag": "ABX9TyNkQdFuRCJYGWq9vHSocLsn",
      "include_colab_link": true
    },
    "kernelspec": {
      "name": "python3",
      "display_name": "Python 3"
    },
    "language_info": {
      "name": "python"
    }
  },
  "cells": [
    {
      "cell_type": "markdown",
      "metadata": {
        "id": "view-in-github",
        "colab_type": "text"
      },
      "source": [
        "<a href=\"https://colab.research.google.com/github/YEON2020/to_localtest/blob/main/%EC%9E%90%EB%A3%8C%EA%B5%AC%EC%A1%B0%EC%97%B0%EC%8A%B5%EB%AC%B8%EC%A0%9C.ipynb\" target=\"_parent\"><img src=\"https://colab.research.google.com/assets/colab-badge.svg\" alt=\"Open In Colab\"/></a>"
      ]
    },
    {
      "cell_type": "code",
      "source": [
        "def dfs(graph, start, visited = set()):\n",
        "    if start not in visited :\n",
        "        visited.add(start)\n",
        "        print(start, end = ' ')\n",
        "        nbr = graph[start] - visited\n",
        "        for v in nbr:\n",
        "            dfs(graph, v, visited)"
      ],
      "metadata": {
        "id": "aWKjZWE-ii2F"
      },
      "execution_count": 13,
      "outputs": []
    },
    {
      "cell_type": "code",
      "source": [
        "graph = {\n",
        "    'A' : {'B', 'C'},\n",
        "    'B' : {'A', 'D', 'E'},\n",
        "    'C' : {'A', 'F'},\n",
        "    'D' : {'B'},\n",
        "    'E' : {'B', 'F'},\n",
        "    'F' : {'C', 'E'}\n",
        "}\n",
        "\n",
        "dfs(graph, 'A')"
      ],
      "metadata": {
        "colab": {
          "base_uri": "https://localhost:8080/"
        },
        "id": "DK-bQUEwkGmU",
        "outputId": "e62ff59e-2dd3-4bc6-a4b1-55499e18b9db"
      },
      "execution_count": 14,
      "outputs": [
        {
          "output_type": "stream",
          "name": "stdout",
          "text": [
            "A C F E B D "
          ]
        }
      ]
    },
    {
      "cell_type": "code",
      "source": [
        "def find_connected_component(graph):\n",
        "    visited = set()\n",
        "    colorList = []\n",
        "    for vtx in graph:\n",
        "        if vtx not in visited:\n",
        "            color = dfs_cc(graph, [], vtx, visited)\n",
        "            colorList.append(color)\n",
        "    print(\"그래프 연결성분 개수 = %d\" % len(colorList))\n",
        "    print(colorList)"
      ],
      "metadata": {
        "id": "VkFdLrR3rPBM"
      },
      "execution_count": 15,
      "outputs": []
    },
    {
      "cell_type": "code",
      "source": [
        "def dfs_cc(graph, color, vertex, visited):\n",
        "    if vertex not in visited:\n",
        "        visited.add(vertex)\n",
        "        color.append(vertex)\n",
        "        nbr = graph[vertex] - visited\n",
        "        for v in nbr:\n",
        "            dfs_cc(graph, color, v, visited)\n",
        "    return color"
      ],
      "metadata": {
        "id": "eJOXQd6AuCzR"
      },
      "execution_count": 16,
      "outputs": []
    },
    {
      "cell_type": "code",
      "source": [
        "mygraph = { \"A\" : set([\"B\", \"C\"]),\n",
        "            \"B\" : set([\"A\"]),\n",
        "            \"C\" : set([\"A\"]),\n",
        "            \"D\" : set([\"E\"]),\n",
        "            \"E\" : set([\"D\"])}\n",
        "find_connected_component(mygraph)"
      ],
      "metadata": {
        "colab": {
          "base_uri": "https://localhost:8080/"
        },
        "id": "wKSiU8emvUsS",
        "outputId": "b235a16f-da4f-4919-b20c-885d8a45de55"
      },
      "execution_count": 17,
      "outputs": [
        {
          "output_type": "stream",
          "name": "stdout",
          "text": [
            "그래프 연결성분 개수 = 2\n",
            "[['A', 'C', 'B'], ['D', 'E']]\n"
          ]
        }
      ]
    },
    {
      "cell_type": "code",
      "source": [
        "graph = {\n",
        "    'A': {'B', 'C'},\n",
        "    'B': {'A', 'D', 'E'},\n",
        "    'C': {'A'},\n",
        "    'D': {'B'},\n",
        "    'E': {'B'},\n",
        "    'F': {'G'},\n",
        "    'G': {'F'}\n",
        "}\n",
        "\n",
        "find_connected_component(graph)"
      ],
      "metadata": {
        "colab": {
          "base_uri": "https://localhost:8080/"
        },
        "id": "uVncPkC2ugw4",
        "outputId": "28c35f72-3e96-4028-a21e-fdee99c15414"
      },
      "execution_count": 11,
      "outputs": [
        {
          "output_type": "stream",
          "name": "stdout",
          "text": [
            "그래프 연결성분 개수 = 2\n",
            "[['A', 'C', 'B', 'D', 'E'], ['F', 'G']]\n"
          ]
        }
      ]
    },
    {
      "cell_type": "code",
      "source": [
        "motorcycles = ['honda', 'yamaha', 'suzuki']\n",
        "print(motorcycles)"
      ],
      "metadata": {
        "colab": {
          "base_uri": "https://localhost:8080/"
        },
        "id": "RSpp1WFIoEGS",
        "outputId": "c26d8919-6ca9-4c3a-8062-8f13ca74ef44"
      },
      "execution_count": null,
      "outputs": [
        {
          "output_type": "stream",
          "name": "stdout",
          "text": [
            "['honda', 'yamaha', 'suzuki']\n"
          ]
        }
      ]
    },
    {
      "cell_type": "code",
      "source": [
        "motorcycles[0]= 'ducati'\n",
        "print(motorcycles)"
      ],
      "metadata": {
        "colab": {
          "base_uri": "https://localhost:8080/"
        },
        "id": "pd1t9ih0pQBo",
        "outputId": "e92f1efc-da6b-406d-91ff-92bbce246f04"
      },
      "execution_count": null,
      "outputs": [
        {
          "output_type": "stream",
          "name": "stdout",
          "text": [
            "['ducati', 'yamaha', 'suzuki']\n"
          ]
        }
      ]
    },
    {
      "cell_type": "code",
      "source": [
        "motorcycles.append('ducati')\n",
        "print(motorcycles)"
      ],
      "metadata": {
        "colab": {
          "base_uri": "https://localhost:8080/"
        },
        "id": "M7irCZt7phmA",
        "outputId": "cb197dc0-9c71-4b32-82f5-1490d8658014"
      },
      "execution_count": null,
      "outputs": [
        {
          "output_type": "stream",
          "name": "stdout",
          "text": [
            "['ducati', 'yamaha', 'suzuki', 'ducati', 'ducati']\n"
          ]
        }
      ]
    },
    {
      "cell_type": "code",
      "source": [
        "motorcycles = []\n",
        "\n",
        "motorcycles.append('honda')\n",
        "print(motorcycles)\n",
        "motorcycles.append('yamaha')\n",
        "print(motorcycles)\n",
        "motorcycles.append('suzuki')\n",
        "print(motorcycles)"
      ],
      "metadata": {
        "colab": {
          "base_uri": "https://localhost:8080/"
        },
        "id": "GdWuvvayphcQ",
        "outputId": "4bd5db5d-dec2-4b1f-8742-aac762b8535a"
      },
      "execution_count": null,
      "outputs": [
        {
          "output_type": "stream",
          "name": "stdout",
          "text": [
            "['honda']\n",
            "['honda', 'yamaha']\n",
            "['honda', 'yamaha', 'suzuki']\n"
          ]
        }
      ]
    },
    {
      "cell_type": "code",
      "execution_count": null,
      "metadata": {
        "id": "tBzo_BBNNUPK"
      },
      "outputs": [],
      "source": [
        "def sequential_search(A, key, low, high):\n",
        "    for i in range(low, high+1):\n",
        "        if A[i].key == key:\n",
        "            return i\n",
        "    return None"
      ]
    },
    {
      "cell_type": "code",
      "source": [
        "items = []\n",
        "def insert(pos, elem):\n",
        "    items.insert(pos, elem)\n",
        "def delete(pos):\n",
        "    items.pop(pos)\n",
        "def getEntry(pos):\n",
        "    return items[pos]\n",
        "def isEmpty():\n",
        "    if len(items) == 0:\n",
        "        return True\n",
        "    else:\n",
        "        return False\n",
        "def size():\n",
        "    return len(items)\n",
        "def clear():\n",
        "    items = []\n",
        "def find(item):\n"
      ],
      "metadata": {
        "id": "OAO9mosxgQki"
      },
      "execution_count": null,
      "outputs": []
    },
    {
      "cell_type": "code",
      "source": [
        "map = BSTMap()\n",
        "data = [7, 8, 9, 2, 1, 5, 3, 6, 4]"
      ],
      "metadata": {
        "id": "z-mkGMKPXrR4"
      },
      "execution_count": null,
      "outputs": []
    },
    {
      "cell_type": "code",
      "source": [
        "# root.key > key\n",
        "#     root.left\n",
        "# root.key < key\n",
        "#     root.right"
      ],
      "metadata": {
        "id": "9huCbT45YznP"
      },
      "execution_count": null,
      "outputs": []
    },
    {
      "cell_type": "code",
      "source": [
        "def insert_avl(parent, node):\n",
        "    if node.key < parent.key:\n",
        "        if parent.left != None:\n",
        "            parent.left = insert_avl(parent.left, node)\n",
        "        else:\n",
        "            parent.left = node\n",
        "        return reBalance(parent)\n",
        "\n",
        "    elif node.key > parent.key:\n",
        "        if parent.right != None:\n",
        "            parent.right = insert_avl(parent.right, node)\n",
        "        else:\n",
        "            parent.right = node\n",
        "        return reBalance(parent)\n",
        "    else:\n",
        "        print(\"중복된 키 에러\")"
      ],
      "metadata": {
        "id": "lOxtTJYaYTlv"
      },
      "execution_count": null,
      "outputs": []
    },
    {
      "cell_type": "code",
      "source": [
        "class AVLMap(BSTMap):\n",
        "    def __init__(self):\n",
        "        super().__init__()\n",
        "\n",
        "    def insert(self, key, value = None):\n",
        "        n = BSTNode(key, value)\n",
        "        if self.isEmpty():\n",
        "            self.root = n\n",
        "        else:\n",
        "            self.root = insert_avl(self.root, n)\n",
        "\n",
        "    def display(self, msg = 'AVLMap : '):\n",
        "        print(msg, end = ' ')\n",
        "        levelorder(self.root)\n",
        "        print()"
      ],
      "metadata": {
        "colab": {
          "base_uri": "https://localhost:8080/",
          "height": 222
        },
        "id": "tqrA-ayxaZxL",
        "outputId": "46c77928-aac4-4e7d-e2b2-fcd43b01b8e1"
      },
      "execution_count": null,
      "outputs": [
        {
          "output_type": "error",
          "ename": "NameError",
          "evalue": "name 'BSTMap' is not defined",
          "traceback": [
            "\u001b[0;31m---------------------------------------------------------------------------\u001b[0m",
            "\u001b[0;31mNameError\u001b[0m                                 Traceback (most recent call last)",
            "\u001b[0;32m<ipython-input-5-ddb47f86b6a6>\u001b[0m in \u001b[0;36m<cell line: 1>\u001b[0;34m()\u001b[0m\n\u001b[0;32m----> 1\u001b[0;31m \u001b[0;32mclass\u001b[0m \u001b[0mAVLMap\u001b[0m\u001b[0;34m(\u001b[0m\u001b[0mBSTMap\u001b[0m\u001b[0;34m)\u001b[0m\u001b[0;34m:\u001b[0m\u001b[0;34m\u001b[0m\u001b[0;34m\u001b[0m\u001b[0m\n\u001b[0m\u001b[1;32m      2\u001b[0m     \u001b[0;32mdef\u001b[0m \u001b[0m__init__\u001b[0m\u001b[0;34m(\u001b[0m\u001b[0mself\u001b[0m\u001b[0;34m)\u001b[0m\u001b[0;34m:\u001b[0m\u001b[0;34m\u001b[0m\u001b[0;34m\u001b[0m\u001b[0m\n\u001b[1;32m      3\u001b[0m         \u001b[0msuper\u001b[0m\u001b[0;34m(\u001b[0m\u001b[0;34m)\u001b[0m\u001b[0;34m.\u001b[0m\u001b[0m__init__\u001b[0m\u001b[0;34m(\u001b[0m\u001b[0;34m)\u001b[0m\u001b[0;34m\u001b[0m\u001b[0;34m\u001b[0m\u001b[0m\n\u001b[1;32m      4\u001b[0m \u001b[0;34m\u001b[0m\u001b[0m\n\u001b[1;32m      5\u001b[0m     \u001b[0;32mdef\u001b[0m \u001b[0minsert\u001b[0m\u001b[0;34m(\u001b[0m\u001b[0mself\u001b[0m\u001b[0;34m,\u001b[0m \u001b[0mkey\u001b[0m\u001b[0;34m,\u001b[0m \u001b[0mvalue\u001b[0m \u001b[0;34m=\u001b[0m \u001b[0;32mNone\u001b[0m\u001b[0;34m)\u001b[0m\u001b[0;34m:\u001b[0m\u001b[0;34m\u001b[0m\u001b[0;34m\u001b[0m\u001b[0m\n",
            "\u001b[0;31mNameError\u001b[0m: name 'BSTMap' is not defined"
          ]
        }
      ]
    },
    {
      "cell_type": "code",
      "source": [
        "node = [7,8,9,2,1,5,3,6,4]\n",
        "map = AVLMap()\n",
        "\n",
        "for i in node:\n",
        "    map.insert(i)\n",
        "    map.display(\"AVL(%d) : \" % i)\n",
        "\n",
        "print(\" 노드의 개수 = %d\" % count_node(map.root))\n",
        "print(\" 단말의 개수 = %d\" % count_leaf(map.root))\n",
        "print(\" 트리의 높이 = %d\" % calc_height(map.root))"
      ],
      "metadata": {
        "colab": {
          "base_uri": "https://localhost:8080/",
          "height": 222
        },
        "id": "XY18SUMzgYM9",
        "outputId": "aa205665-459c-47e4-a440-b1cb354b432c"
      },
      "execution_count": null,
      "outputs": [
        {
          "output_type": "error",
          "ename": "NameError",
          "evalue": "name 'AVLMap' is not defined",
          "traceback": [
            "\u001b[0;31m---------------------------------------------------------------------------\u001b[0m",
            "\u001b[0;31mNameError\u001b[0m                                 Traceback (most recent call last)",
            "\u001b[0;32m<ipython-input-6-98fad633adda>\u001b[0m in \u001b[0;36m<cell line: 2>\u001b[0;34m()\u001b[0m\n\u001b[1;32m      1\u001b[0m \u001b[0mnode\u001b[0m \u001b[0;34m=\u001b[0m \u001b[0;34m[\u001b[0m\u001b[0;36m7\u001b[0m\u001b[0;34m,\u001b[0m\u001b[0;36m8\u001b[0m\u001b[0;34m,\u001b[0m\u001b[0;36m9\u001b[0m\u001b[0;34m,\u001b[0m\u001b[0;36m2\u001b[0m\u001b[0;34m,\u001b[0m\u001b[0;36m1\u001b[0m\u001b[0;34m,\u001b[0m\u001b[0;36m5\u001b[0m\u001b[0;34m,\u001b[0m\u001b[0;36m3\u001b[0m\u001b[0;34m,\u001b[0m\u001b[0;36m6\u001b[0m\u001b[0;34m,\u001b[0m\u001b[0;36m4\u001b[0m\u001b[0;34m]\u001b[0m\u001b[0;34m\u001b[0m\u001b[0;34m\u001b[0m\u001b[0m\n\u001b[0;32m----> 2\u001b[0;31m \u001b[0mmap\u001b[0m \u001b[0;34m=\u001b[0m \u001b[0mAVLMap\u001b[0m\u001b[0;34m(\u001b[0m\u001b[0;34m)\u001b[0m\u001b[0;34m\u001b[0m\u001b[0;34m\u001b[0m\u001b[0m\n\u001b[0m\u001b[1;32m      3\u001b[0m \u001b[0;34m\u001b[0m\u001b[0m\n\u001b[1;32m      4\u001b[0m \u001b[0;32mfor\u001b[0m \u001b[0mi\u001b[0m \u001b[0;32min\u001b[0m \u001b[0mnode\u001b[0m\u001b[0;34m:\u001b[0m\u001b[0;34m\u001b[0m\u001b[0;34m\u001b[0m\u001b[0m\n\u001b[1;32m      5\u001b[0m     \u001b[0mmap\u001b[0m\u001b[0;34m.\u001b[0m\u001b[0minsert\u001b[0m\u001b[0;34m(\u001b[0m\u001b[0mi\u001b[0m\u001b[0;34m)\u001b[0m\u001b[0;34m\u001b[0m\u001b[0;34m\u001b[0m\u001b[0m\n",
            "\u001b[0;31mNameError\u001b[0m: name 'AVLMap' is not defined"
          ]
        }
      ]
    }
  ]
}