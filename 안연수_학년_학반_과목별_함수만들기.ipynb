{
  "nbformat": 4,
  "nbformat_minor": 0,
  "metadata": {
    "colab": {
      "provenance": [],
      "authorship_tag": "ABX9TyO2W5z1pZtGg5Wj3fsKLkJS",
      "include_colab_link": true
    },
    "kernelspec": {
      "name": "python3",
      "display_name": "Python 3"
    },
    "language_info": {
      "name": "python"
    }
  },
  "cells": [
    {
      "cell_type": "markdown",
      "metadata": {
        "id": "view-in-github",
        "colab_type": "text"
      },
      "source": [
        "<a href=\"https://colab.research.google.com/github/YEON2020/to_localtest/blob/main/%EC%95%88%EC%97%B0%EC%88%98_%ED%95%99%EB%85%84_%ED%95%99%EB%B0%98_%EA%B3%BC%EB%AA%A9%EB%B3%84_%ED%95%A8%EC%88%98%EB%A7%8C%EB%93%A4%EA%B8%B0.ipynb\" target=\"_parent\"><img src=\"https://colab.research.google.com/assets/colab-badge.svg\" alt=\"Open In Colab\"/></a>"
      ]
    },
    {
      "cell_type": "markdown",
      "source": [
        "문제 : 초등학교 성적프로그램 제작.\n",
        "한 학년 반이 1반.2.3.4 총 4개의 반이 있음.\n",
        "초등학교 6학년까지의 반이 있고\n",
        "각 반에는 학생이 20명씩 있음.\n",
        "국영수 시험을 을 보고 시험점수는 랜덤함수를 이용하여\n",
        "질문 : 1학년의 국어점수의 평균을 어떻게 되냐 물어보면\n",
        "국어점수에대한 평균에 대한 함수를 만들어서…\n",
        "1 학년별 과목의 평균 점수\n",
        "2 특정 반에 관한 과목의 평균 점수\n",
        "3 학생의 등수를 만듦\n",
        "4 학년별로 각 반의 최고점수와 최저점수"
      ],
      "metadata": {
        "id": "jFqUv3lhTVjV"
      }
    },
    {
      "cell_type": "code",
      "source": [
        "import random"
      ],
      "metadata": {
        "id": "Y2477DCKTbNs"
      },
      "execution_count": 7,
      "outputs": []
    },
    {
      "cell_type": "code",
      "source": [
        "subject_1 = [\"국어\", \"영어\", \"수학\"]\n",
        "\n",
        "student_1 = [\"1학년\", \"2학년\", \"3학년\", \"4학년\", \"5학년\", \"6학년\"]\n",
        "\n",
        "number_classroom = [\"1반\", \"2반\", \"3반\", \"4반\"]\n",
        "\n",
        "student_year1 = {}\n",
        "\n",
        "total_score = []\n",
        "\n",
        "score1 = {}\n",
        "\n",
        "student_class = 20\n",
        "number_class = 4\n",
        "\n",
        "for i in range(student_class):\n",
        "    student_year1[number_classroom[0]] = {}\n",
        "    for j in range(len(subject_1)):\n",
        "        score = random.randint(0, 100)\n",
        "        total_score.append(score)\n",
        "\n",
        "\n",
        "print(total_score)\n",
        "print(student_year1)\n",
        "# print(total_score[0])\n",
        "# print(total_score[1])\n",
        "# print(total_score[2])\n",
        "\n",
        "print(len(total_score))\n",
        "        # print(j)\n",
        "    # print(total_score)\n",
        "\n",
        "# classroom_1 = {\"국어\":total_score[0], \"영어\":total_score[1], \"수학\":total_score[2]}\n",
        "# print(classroom_1[\"국어\"])"
      ],
      "metadata": {
        "colab": {
          "base_uri": "https://localhost:8080/"
        },
        "id": "DbrvT8tQTgCs",
        "outputId": "9d759db0-2b70-4108-921c-3444d2c3b079"
      },
      "execution_count": 8,
      "outputs": [
        {
          "output_type": "stream",
          "name": "stdout",
          "text": [
            "[27, 80, 27, 5, 67, 2, 11, 56, 52, 34, 37, 96, 17, 84, 14, 14, 30, 29, 94, 27, 52, 20, 32, 40, 39, 29, 36, 81, 68, 5, 49, 43, 16, 77, 79, 0, 2, 20, 0, 64, 29, 17, 13, 69, 25, 21, 69, 41, 48, 96, 90, 46, 5, 8, 27, 64, 56, 35, 71, 30]\n",
            "{'1반': {}}\n",
            "60\n"
          ]
        }
      ]
    },
    {
      "cell_type": "code",
      "source": [
        "# _학생들 = {'1학년':{'1반':student_class, '국어':score}}\n",
        "\n",
        "_학생들 = {student_1[0]:{number_classroom[0]:student_class, subject_1[0]:score}}\n",
        "\n",
        "print(_학생들['1학년']['국어'])\n",
        "\n",
        "for y in range(_학생들):\n",
        "    print(y)\n",
        "\n",
        "\n",
        "# print(student_year1)\n",
        "\n",
        "# print(student_1)\n",
        "\n",
        "# for y in student_1:\n",
        "#     print(y)\n",
        "# # print(temp1)\n",
        "\n",
        "# _1반 = {\"국어\":total_score[0], \"영어\":total_score[1], \"수학\":total_score[2]}\n",
        "# print(_1반[\"국어\"])\n",
        "\n",
        "# total_score = 0\n",
        "# for score in _1반[\"국어\"]:\n",
        "#     total_score += score\n",
        "\n",
        "# score_avg = total_score / len(_1반[\"국어\"])\n",
        "# print(score_avg)"
      ],
      "metadata": {
        "colab": {
          "base_uri": "https://localhost:8080/",
          "height": 240
        },
        "id": "BWK5tUpWTi4n",
        "outputId": "66f9d070-ee04-4050-9f0a-929bc1f4d57f"
      },
      "execution_count": 9,
      "outputs": [
        {
          "output_type": "stream",
          "name": "stdout",
          "text": [
            "30\n"
          ]
        },
        {
          "output_type": "error",
          "ename": "TypeError",
          "evalue": "'dict' object cannot be interpreted as an integer",
          "traceback": [
            "\u001b[0;31m---------------------------------------------------------------------------\u001b[0m",
            "\u001b[0;31mTypeError\u001b[0m                                 Traceback (most recent call last)",
            "\u001b[0;32m<ipython-input-9-141b9f5ee7bf>\u001b[0m in \u001b[0;36m<cell line: 7>\u001b[0;34m()\u001b[0m\n\u001b[1;32m      5\u001b[0m \u001b[0mprint\u001b[0m\u001b[0;34m(\u001b[0m\u001b[0m_학생들\u001b[0m\u001b[0;34m[\u001b[0m\u001b[0;34m'1학년'\u001b[0m\u001b[0;34m]\u001b[0m\u001b[0;34m[\u001b[0m\u001b[0;34m'국어'\u001b[0m\u001b[0;34m]\u001b[0m\u001b[0;34m)\u001b[0m\u001b[0;34m\u001b[0m\u001b[0;34m\u001b[0m\u001b[0m\n\u001b[1;32m      6\u001b[0m \u001b[0;34m\u001b[0m\u001b[0m\n\u001b[0;32m----> 7\u001b[0;31m \u001b[0;32mfor\u001b[0m \u001b[0my\u001b[0m \u001b[0;32min\u001b[0m \u001b[0mrange\u001b[0m\u001b[0;34m(\u001b[0m\u001b[0m_학생들\u001b[0m\u001b[0;34m)\u001b[0m\u001b[0;34m:\u001b[0m\u001b[0;34m\u001b[0m\u001b[0;34m\u001b[0m\u001b[0m\n\u001b[0m\u001b[1;32m      8\u001b[0m     \u001b[0mprint\u001b[0m\u001b[0;34m(\u001b[0m\u001b[0my\u001b[0m\u001b[0;34m)\u001b[0m\u001b[0;34m\u001b[0m\u001b[0;34m\u001b[0m\u001b[0m\n\u001b[1;32m      9\u001b[0m \u001b[0;34m\u001b[0m\u001b[0m\n",
            "\u001b[0;31mTypeError\u001b[0m: 'dict' object cannot be interpreted as an integer"
          ]
        }
      ]
    },
    {
      "cell_type": "code",
      "source": [
        "\"\"\"1학년, 1반, 학생 20명\n",
        "국어, 영어, 수학\n",
        "\n",
        "점수 = {\"1학년\":\n",
        "                {\"1반\":\n",
        "                    {\"국어\":[],\n",
        "                     \"영어\":[],\n",
        "                     \"수학\":[]},\n",
        "                 \"2반\":\n",
        "                    {\"국어\":[],\n",
        "                     \"영어\":[],\n",
        "                     \"수학\":[]},\n",
        "                 \"3반\":\n",
        "                    {\"국어\":[],\n",
        "                     \"영어\":[],\n",
        "                     \"수학\":[]},\n",
        "                 \"4반\":\n",
        "                    {\"국어\":[],\n",
        "                     \"영어\":[],\n",
        "                     \"수학\":[]}\n",
        "                }\n",
        "        }\n",
        "점수[\"1학년\"][\"1반\"][\"국어\"]\"\"\""
      ],
      "metadata": {
        "id": "0DHO55cp4cPg"
      },
      "execution_count": null,
      "outputs": []
    },
    {
      "cell_type": "code",
      "source": [
        "str1, str2 = input().strip().split(' ')\n",
        "print(str1+str2)"
      ],
      "metadata": {
        "colab": {
          "base_uri": "https://localhost:8080/"
        },
        "id": "mYNd0_peubht",
        "outputId": "9b4750f1-c8ee-49ac-9126-43649a0cd86b"
      },
      "execution_count": 4,
      "outputs": [
        {
          "output_type": "stream",
          "name": "stdout",
          "text": [
            "안 연\n",
            "안연\n"
          ]
        }
      ]
    },
    {
      "cell_type": "code",
      "source": [
        "start = int(input(\"첫달?\"))\n",
        "before = int(input(\"두번째?\"))\n",
        "# after = int(input(\"셋째?\"))\n",
        "\n",
        "money = start\n",
        "month = 1\n",
        "while money < 70:\n",
        "    money += before\n",
        "    month += 1\n",
        "# while money < 100:\n",
        "#     money += after\n",
        "#     month += 1\n",
        "\n",
        "print(\"70만원까지의 개월 수?\",month)"
      ],
      "metadata": {
        "colab": {
          "base_uri": "https://localhost:8080/"
        },
        "id": "iR0Jdzn3wUVl",
        "outputId": "2c21a74f-4c9e-42bd-eac4-3af53896b630"
      },
      "execution_count": 8,
      "outputs": [
        {
          "output_type": "stream",
          "name": "stdout",
          "text": [
            "첫달?28\n",
            "두번째?6\n",
            "70만원까지의 개월 수? 8\n"
          ]
        }
      ]
    },
    {
      "cell_type": "code",
      "source": [
        "str, n = input().strip().split(' ')\n",
        "n = int(n)\n",
        "print(str*n)"
      ],
      "metadata": {
        "colab": {
          "base_uri": "https://localhost:8080/"
        },
        "id": "A_UqeAFSxrJt",
        "outputId": "8656c096-293f-4310-bb31-26697f46d5f7"
      },
      "execution_count": 11,
      "outputs": [
        {
          "output_type": "stream",
          "name": "stdout",
          "text": [
            "string 5\n",
            "stringstringstringstringstring\n"
          ]
        }
      ]
    },
    {
      "cell_type": "code",
      "source": [
        "A = str\n",
        "for i in range(n):\n",
        "    temp = A+str\n",
        "    print(temp)"
      ],
      "metadata": {
        "colab": {
          "base_uri": "https://localhost:8080/"
        },
        "id": "qdifq_V4yrsd",
        "outputId": "44af6ba6-047e-47ce-db67-6c5319752d50"
      },
      "execution_count": 12,
      "outputs": [
        {
          "output_type": "stream",
          "name": "stdout",
          "text": [
            "stringstring\n",
            "stringstring\n",
            "stringstring\n",
            "stringstring\n",
            "stringstring\n"
          ]
        }
      ]
    },
    {
      "cell_type": "code",
      "source": [
        "a= int(input(\"입력? \"))\n",
        "\n",
        "if a%2 == 0 : #짝수\n",
        "    print(a, \"a is even\")\n",
        "else: #홀수\n",
        "    print(a, \"a is odd\")"
      ],
      "metadata": {
        "colab": {
          "base_uri": "https://localhost:8080/"
        },
        "id": "7cnmVIXnzx1k",
        "outputId": "0fa81c84-cf0e-44bd-9f1f-7937ec4424be"
      },
      "execution_count": 14,
      "outputs": [
        {
          "output_type": "stream",
          "name": "stdout",
          "text": [
            "입력? 3\n",
            "3 a is odd\n"
          ]
        }
      ]
    },
    {
      "cell_type": "code",
      "source": [
        "number = int(input('number: '))\n",
        "n = int(input('n: '))\n",
        "m = int(input('m: '))\n",
        "\n",
        "def solution(number, n , m):\n",
        "    answer = 0\n",
        "    if 10 <= number <= 100 and 2 <= n < 10 and 2 <= m < 10:\n",
        "        if number % n == 0 and number % m == 0:\n",
        "            answer = 1\n",
        "    return answer\n",
        "\n",
        "result = solution(number, n, m)\n",
        "print(\"Answer:\", result)"
      ],
      "metadata": {
        "colab": {
          "base_uri": "https://localhost:8080/"
        },
        "id": "zJtImnqQ0qdW",
        "outputId": "a3d95d3c-c980-4d47-801b-16d6511a91a0"
      },
      "execution_count": 16,
      "outputs": [
        {
          "output_type": "stream",
          "name": "stdout",
          "text": [
            "number: 10\n",
            "n: 3\n",
            "m: 4\n",
            "Answer: 0\n"
          ]
        }
      ]
    },
    {
      "cell_type": "code",
      "source": [
        "a = {}\n",
        "a = [] #error\n",
        "\n",
        "for i in range(10):\n",
        "    a[i] = i #아무런 item이 없는 리스트에 값을 대입할 수 없음\n",
        "\n",
        "print(a)"
      ],
      "metadata": {
        "colab": {
          "base_uri": "https://localhost:8080/"
        },
        "id": "LH6icjMn6zwf",
        "outputId": "6a9ff1d7-2f12-4461-dab7-ec4dcf8d74e2"
      },
      "execution_count": 22,
      "outputs": [
        {
          "output_type": "stream",
          "name": "stdout",
          "text": [
            "{0: 0, 1: 1, 2: 2, 3: 3, 4: 4, 5: 5, 6: 6, 7: 7, 8: 8, 9: 9}\n"
          ]
        }
      ]
    },
    {
      "cell_type": "code",
      "source": [
        "# with open(\"test.txt\", 'a', encoding = 'utf-8') as f:\n",
        "#     f.write(\"my first file\\n\")\n",
        "#     f.write(\"This file\\n\\n\")\n",
        "#     f.write(\"contains three lines\\n\")\n",
        "#     f.write(\"YEON_HighTech\")"
      ],
      "metadata": {
        "id": "ncXopBDjuJpr"
      },
      "execution_count": 14,
      "outputs": []
    },
    {
      "cell_type": "code",
      "source": [
        "# with open(\"test1.xlsx\", 'a', encoding = 'utf-8') as f:\n",
        "#     f.write(\"my first file\\n\")\n",
        "#     f.write(\"This file\\n\\n\")\n",
        "#     f.write(\"contains three lines\\n\")\n",
        "#     f.write(\"YEON_HighTech\")"
      ],
      "metadata": {
        "id": "F68qOYCCIKbP"
      },
      "execution_count": 10,
      "outputs": []
    },
    {
      "cell_type": "code",
      "source": [
        "# f = open(\"test.txt\", \"a\")\n",
        "# f = open(\"test.txt\", mode='r', encoding = 'utf-8')\n",
        "# f = open(\"test.txt\", mode='r', encoding = 'cp1252')\n",
        "\n",
        "# f.close"
      ],
      "metadata": {
        "colab": {
          "base_uri": "https://localhost:8080/"
        },
        "id": "g7evXJSoNMXr",
        "outputId": "57fd20f0-eb57-4389-9088-24504ea1d095"
      },
      "execution_count": 11,
      "outputs": [
        {
          "output_type": "execute_result",
          "data": {
            "text/plain": [
              "<function TextIOWrapper.close()>"
            ]
          },
          "metadata": {},
          "execution_count": 11
        }
      ]
    },
    {
      "cell_type": "code",
      "source": [
        "f = open(\"test.txt\", \"r\", encoding = \"utf-8\")\n",
        "print(f.read(4))\n",
        "print(f.read(4))\n",
        "s1 = f.read()\n",
        "print(s1)\n",
        "f.read()"
      ],
      "metadata": {
        "colab": {
          "base_uri": "https://localhost:8080/",
          "height": 165
        },
        "id": "M2YPskVettgL",
        "outputId": "d482f76f-3913-4938-8b1d-6da094f903cd"
      },
      "execution_count": 21,
      "outputs": [
        {
          "output_type": "stream",
          "name": "stdout",
          "text": [
            "my f\n",
            "irst\n",
            " file\n",
            "This file\n",
            "\n",
            "contains three lines\n",
            "YEON_HighTech\n"
          ]
        },
        {
          "output_type": "execute_result",
          "data": {
            "text/plain": [
              "''"
            ],
            "application/vnd.google.colaboratory.intrinsic+json": {
              "type": "string"
            }
          },
          "metadata": {},
          "execution_count": 21
        }
      ]
    },
    {
      "cell_type": "code",
      "source": [
        "print(f.tell())\n",
        "f.seek(0)\n",
        "f.read()"
      ],
      "metadata": {
        "colab": {
          "base_uri": "https://localhost:8080/",
          "height": 54
        },
        "id": "N64v1glyvjkb",
        "outputId": "ddcd1a10-6499-4283-f993-a9aa3e1f88dd"
      },
      "execution_count": 18,
      "outputs": [
        {
          "output_type": "stream",
          "name": "stdout",
          "text": [
            "59\n"
          ]
        },
        {
          "output_type": "execute_result",
          "data": {
            "text/plain": [
              "'my first file\\nThis file\\n\\ncontains three lines\\nYEON_HighTech'"
            ],
            "application/vnd.google.colaboratory.intrinsic+json": {
              "type": "string"
            }
          },
          "metadata": {},
          "execution_count": 18
        }
      ]
    },
    {
      "cell_type": "code",
      "source": [
        "f.seek(0)\n",
        "for line in f:\n",
        "    print(line, end = ' ')"
      ],
      "metadata": {
        "colab": {
          "base_uri": "https://localhost:8080/"
        },
        "id": "DG-q8MCWvz7-",
        "outputId": "9b2df2f8-8ac2-4899-a1bb-9a23445a098b"
      },
      "execution_count": 19,
      "outputs": [
        {
          "output_type": "stream",
          "name": "stdout",
          "text": [
            "my first file\n",
            " This file\n",
            " \n",
            " contains three lines\n",
            " YEON_HighTech "
          ]
        }
      ]
    },
    {
      "cell_type": "code",
      "source": [
        "f.seek(0)\n",
        "# print(f.readline)\n",
        "# print(f.readline)\n",
        "# print(f.readline)\n",
        "# print(f.readline)\n",
        "\n",
        "f.readline()\n",
        "\n",
        "# a = f.readline()\n",
        "# print(a)"
      ],
      "metadata": {
        "colab": {
          "base_uri": "https://localhost:8080/",
          "height": 35
        },
        "id": "VN0Ls7GGx451",
        "outputId": "de2a3b79-040a-45fd-f9ac-c55e6803e50c"
      },
      "execution_count": 32,
      "outputs": [
        {
          "output_type": "execute_result",
          "data": {
            "text/plain": [
              "'my first file\\n'"
            ],
            "application/vnd.google.colaboratory.intrinsic+json": {
              "type": "string"
            }
          },
          "metadata": {},
          "execution_count": 32
        }
      ]
    },
    {
      "cell_type": "code",
      "source": [
        "f.seek(0)\n",
        "b = f.readlines()\n",
        "print(b)"
      ],
      "metadata": {
        "colab": {
          "base_uri": "https://localhost:8080/"
        },
        "id": "AEgk7A28yNUu",
        "outputId": "98eb2e87-669d-4693-b874-3733534c3b33"
      },
      "execution_count": 29,
      "outputs": [
        {
          "output_type": "stream",
          "name": "stdout",
          "text": [
            "['my first file\\n', 'This file\\n', '\\n', 'contains three lines\\n', 'YEON_HighTech']\n"
          ]
        }
      ]
    },
    {
      "cell_type": "markdown",
      "source": [
        "test파일에 장원영 사기 린 스 드메 론 저장\n",
        "\n",
        "글자가 영사 스드를 만다면\n",
        "영사를 A로 바꾸고\n",
        "스드를 B로 바꾼다."
      ],
      "metadata": {
        "id": "Y_5WIe6I0tDv"
      }
    },
    {
      "cell_type": "code",
      "source": [
        "with open(\"test.txt\", 'w', encoding = 'utf-8') as f:\n",
        "    f.write(\"장원영사기린스드메론\\n\")"
      ],
      "metadata": {
        "id": "y7OHoEQizrEL"
      },
      "execution_count": 95,
      "outputs": []
    },
    {
      "cell_type": "code",
      "source": [
        "f = open(\"test.txt\", \"r\", encoding = \"utf-8\")\n",
        "print(f.read(2))\n",
        "print(f.read(2))\n",
        "print(f.read(2))\n",
        "print(f.read(2))\n",
        "s1 = f.read()\n",
        "print(s1)\n",
        "# f.read()"
      ],
      "metadata": {
        "colab": {
          "base_uri": "https://localhost:8080/"
        },
        "id": "VCJpFcaS1CRU",
        "outputId": "8bb4ad48-7bf7-4ed9-a91a-a74195e5a36e"
      },
      "execution_count": 107,
      "outputs": [
        {
          "output_type": "stream",
          "name": "stdout",
          "text": [
            "장원\n",
            "영사\n",
            "기린\n",
            "스드\n",
            "메론\n",
            "\n",
            "<_io.TextIOWrapper name='test.txt' mode='r' encoding='utf-8'>\n"
          ]
        }
      ]
    },
    {
      "cell_type": "code",
      "source": [
        "f.seek(3)\n",
        "f.readline()"
      ],
      "metadata": {
        "colab": {
          "base_uri": "https://localhost:8080/"
        },
        "id": "DbDlavfw01j9",
        "outputId": "3a3ec802-7d72-4fc3-8cf5-0486870b2512"
      },
      "execution_count": 106,
      "outputs": [
        {
          "output_type": "stream",
          "name": "stdout",
          "text": [
            "<class 'str'>\n"
          ]
        }
      ]
    },
    {
      "cell_type": "code",
      "source": [
        "f.seek(0)\n",
        "for line in f:\n",
        "    a = line[2:4]\n",
        "    b = line[6:8]\n",
        "    if line[2:4] == \"영사\":\n",
        "\n",
        "    elif line[6:8] == \"스드\":\n",
        "    # print(a)\n",
        "    # print(b)\n",
        "    # print(line)"
      ],
      "metadata": {
        "colab": {
          "base_uri": "https://localhost:8080/"
        },
        "id": "i92ScFGC4-vd",
        "outputId": "5ba960a7-3a43-4949-f243-ec6860b1c852"
      },
      "execution_count": 102,
      "outputs": [
        {
          "output_type": "stream",
          "name": "stdout",
          "text": [
            "영사\n",
            "스드\n"
          ]
        }
      ]
    },
    {
      "cell_type": "code",
      "source": [
        "print(type(a))\n",
        "print(type(b))\n",
        "print(type(line))"
      ],
      "metadata": {
        "colab": {
          "base_uri": "https://localhost:8080/"
        },
        "id": "A-CPgNXX6wcS",
        "outputId": "7dd84c13-b9c6-411b-f7f8-5b5a7296f190"
      },
      "execution_count": 105,
      "outputs": [
        {
          "output_type": "stream",
          "name": "stdout",
          "text": [
            "<class 'str'>\n",
            "<class 'str'>\n",
            "<class 'str'>\n"
          ]
        }
      ]
    }
  ]
}