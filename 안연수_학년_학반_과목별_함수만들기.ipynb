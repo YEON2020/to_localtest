{
  "nbformat": 4,
  "nbformat_minor": 0,
  "metadata": {
    "colab": {
      "provenance": [],
      "authorship_tag": "ABX9TyOjz3nGOhHkCXCbxUYVVg3+",
      "include_colab_link": true
    },
    "kernelspec": {
      "name": "python3",
      "display_name": "Python 3"
    },
    "language_info": {
      "name": "python"
    }
  },
  "cells": [
    {
      "cell_type": "markdown",
      "metadata": {
        "id": "view-in-github",
        "colab_type": "text"
      },
      "source": [
        "<a href=\"https://colab.research.google.com/github/YEON2020/to_localtest/blob/main/%EC%95%88%EC%97%B0%EC%88%98_%ED%95%99%EB%85%84_%ED%95%99%EB%B0%98_%EA%B3%BC%EB%AA%A9%EB%B3%84_%ED%95%A8%EC%88%98%EB%A7%8C%EB%93%A4%EA%B8%B0.ipynb\" target=\"_parent\"><img src=\"https://colab.research.google.com/assets/colab-badge.svg\" alt=\"Open In Colab\"/></a>"
      ]
    },
    {
      "cell_type": "markdown",
      "source": [
        "문제 : 초등학교 성적프로그램 제작.\n",
        "한 학년 반이 1반.2.3.4 총 4개의 반이 있음.\n",
        "초등학교 6학년까지의 반이 있고\n",
        "각 반에는 학생이 20명씩 있음.\n",
        "국영수 시험을 을 보고 시험점수는 랜덤함수를 이용하여\n",
        "질문 : 1학년의 국어점수의 평균을 어떻게 되냐 물어보면\n",
        "국어점수에대한 평균에 대한 함수를 만들어서…\n",
        "1 학년별 과목의 평균 점수\n",
        "2 특정 반에 관한 과목의 평균 점수\n",
        "3 학생의 등수를 만듦\n",
        "4 학년별로 각 반의 최고점수와 최저점수"
      ],
      "metadata": {
        "id": "jFqUv3lhTVjV"
      }
    },
    {
      "cell_type": "code",
      "source": [
        "import random"
      ],
      "metadata": {
        "id": "Y2477DCKTbNs"
      },
      "execution_count": 7,
      "outputs": []
    },
    {
      "cell_type": "code",
      "source": [
        "subject_1 = [\"국어\", \"영어\", \"수학\"]\n",
        "\n",
        "student_1 = [\"1학년\", \"2학년\", \"3학년\", \"4학년\", \"5학년\", \"6학년\"]\n",
        "\n",
        "number_classroom = [\"1반\", \"2반\", \"3반\", \"4반\"]\n",
        "\n",
        "student_year1 = {}\n",
        "\n",
        "total_score = []\n",
        "\n",
        "score1 = {}\n",
        "\n",
        "student_class = 20\n",
        "number_class = 4\n",
        "\n",
        "for i in range(student_class):\n",
        "    student_year1[number_classroom[0]] = {}\n",
        "    for j in range(len(subject_1)):\n",
        "        score = random.randint(0, 100)\n",
        "        total_score.append(score)\n",
        "\n",
        "\n",
        "print(total_score)\n",
        "print(student_year1)\n",
        "# print(total_score[0])\n",
        "# print(total_score[1])\n",
        "# print(total_score[2])\n",
        "\n",
        "print(len(total_score))\n",
        "        # print(j)\n",
        "    # print(total_score)\n",
        "\n",
        "# classroom_1 = {\"국어\":total_score[0], \"영어\":total_score[1], \"수학\":total_score[2]}\n",
        "# print(classroom_1[\"국어\"])"
      ],
      "metadata": {
        "colab": {
          "base_uri": "https://localhost:8080/"
        },
        "id": "DbrvT8tQTgCs",
        "outputId": "9d759db0-2b70-4108-921c-3444d2c3b079"
      },
      "execution_count": 8,
      "outputs": [
        {
          "output_type": "stream",
          "name": "stdout",
          "text": [
            "[27, 80, 27, 5, 67, 2, 11, 56, 52, 34, 37, 96, 17, 84, 14, 14, 30, 29, 94, 27, 52, 20, 32, 40, 39, 29, 36, 81, 68, 5, 49, 43, 16, 77, 79, 0, 2, 20, 0, 64, 29, 17, 13, 69, 25, 21, 69, 41, 48, 96, 90, 46, 5, 8, 27, 64, 56, 35, 71, 30]\n",
            "{'1반': {}}\n",
            "60\n"
          ]
        }
      ]
    },
    {
      "cell_type": "code",
      "source": [
        "# _학생들 = {'1학년':{'1반':student_class, '국어':score}}\n",
        "\n",
        "_학생들 = {student_1[0]:{number_classroom[0]:student_class, subject_1[0]:score}}\n",
        "\n",
        "print(_학생들['1학년']['국어'])\n",
        "\n",
        "for y in range(_학생들):\n",
        "    print(y)\n",
        "\n",
        "\n",
        "# print(student_year1)\n",
        "\n",
        "# print(student_1)\n",
        "\n",
        "# for y in student_1:\n",
        "#     print(y)\n",
        "# # print(temp1)\n",
        "\n",
        "# _1반 = {\"국어\":total_score[0], \"영어\":total_score[1], \"수학\":total_score[2]}\n",
        "# print(_1반[\"국어\"])\n",
        "\n",
        "# total_score = 0\n",
        "# for score in _1반[\"국어\"]:\n",
        "#     total_score += score\n",
        "\n",
        "# score_avg = total_score / len(_1반[\"국어\"])\n",
        "# print(score_avg)"
      ],
      "metadata": {
        "colab": {
          "base_uri": "https://localhost:8080/",
          "height": 240
        },
        "id": "BWK5tUpWTi4n",
        "outputId": "66f9d070-ee04-4050-9f0a-929bc1f4d57f"
      },
      "execution_count": 9,
      "outputs": [
        {
          "output_type": "stream",
          "name": "stdout",
          "text": [
            "30\n"
          ]
        },
        {
          "output_type": "error",
          "ename": "TypeError",
          "evalue": "'dict' object cannot be interpreted as an integer",
          "traceback": [
            "\u001b[0;31m---------------------------------------------------------------------------\u001b[0m",
            "\u001b[0;31mTypeError\u001b[0m                                 Traceback (most recent call last)",
            "\u001b[0;32m<ipython-input-9-141b9f5ee7bf>\u001b[0m in \u001b[0;36m<cell line: 7>\u001b[0;34m()\u001b[0m\n\u001b[1;32m      5\u001b[0m \u001b[0mprint\u001b[0m\u001b[0;34m(\u001b[0m\u001b[0m_학생들\u001b[0m\u001b[0;34m[\u001b[0m\u001b[0;34m'1학년'\u001b[0m\u001b[0;34m]\u001b[0m\u001b[0;34m[\u001b[0m\u001b[0;34m'국어'\u001b[0m\u001b[0;34m]\u001b[0m\u001b[0;34m)\u001b[0m\u001b[0;34m\u001b[0m\u001b[0;34m\u001b[0m\u001b[0m\n\u001b[1;32m      6\u001b[0m \u001b[0;34m\u001b[0m\u001b[0m\n\u001b[0;32m----> 7\u001b[0;31m \u001b[0;32mfor\u001b[0m \u001b[0my\u001b[0m \u001b[0;32min\u001b[0m \u001b[0mrange\u001b[0m\u001b[0;34m(\u001b[0m\u001b[0m_학생들\u001b[0m\u001b[0;34m)\u001b[0m\u001b[0;34m:\u001b[0m\u001b[0;34m\u001b[0m\u001b[0;34m\u001b[0m\u001b[0m\n\u001b[0m\u001b[1;32m      8\u001b[0m     \u001b[0mprint\u001b[0m\u001b[0;34m(\u001b[0m\u001b[0my\u001b[0m\u001b[0;34m)\u001b[0m\u001b[0;34m\u001b[0m\u001b[0;34m\u001b[0m\u001b[0m\n\u001b[1;32m      9\u001b[0m \u001b[0;34m\u001b[0m\u001b[0m\n",
            "\u001b[0;31mTypeError\u001b[0m: 'dict' object cannot be interpreted as an integer"
          ]
        }
      ]
    }
  ]
}