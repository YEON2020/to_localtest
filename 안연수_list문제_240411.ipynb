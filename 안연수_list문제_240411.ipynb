{
  "nbformat": 4,
  "nbformat_minor": 0,
  "metadata": {
    "colab": {
      "provenance": [],
      "authorship_tag": "ABX9TyPGgwKrEhL56mcTtL1mxvao",
      "include_colab_link": true
    },
    "kernelspec": {
      "name": "python3",
      "display_name": "Python 3"
    },
    "language_info": {
      "name": "python"
    }
  },
  "cells": [
    {
      "cell_type": "markdown",
      "metadata": {
        "id": "view-in-github",
        "colab_type": "text"
      },
      "source": [
        "<a href=\"https://colab.research.google.com/github/YEON2020/to_localtest/blob/main/%EC%95%88%EC%97%B0%EC%88%98_list%EB%AC%B8%EC%A0%9C_240411.ipynb\" target=\"_parent\"><img src=\"https://colab.research.google.com/assets/colab-badge.svg\" alt=\"Open In Colab\"/></a>"
      ]
    },
    {
      "cell_type": "code",
      "execution_count": 6,
      "metadata": {
        "colab": {
          "base_uri": "https://localhost:8080/"
        },
        "id": "4TLsKExlxecj",
        "outputId": "b75208c4-d8b4-40a1-f734-37b7824f5689"
      },
      "outputs": [
        {
          "output_type": "stream",
          "name": "stdout",
          "text": [
            "['4', '5', '6']\n",
            "False\n",
            "3.3000000000000003\n"
          ]
        }
      ],
      "source": [
        "a = \"456\"\n",
        "\n",
        "a = list(a)\n",
        "print(a)\n",
        "\n",
        "print((1.1 + 2.2) == 3.3)\n",
        "print(1.1 + 2.2)"
      ]
    },
    {
      "cell_type": "code",
      "source": [
        "#0~ 100을 리스트에 삽입, 0을 만나면 a 로 바꾸고 1을 만나면 b로 바꾸고 2를 만나면 c로 바꾼다.\n",
        "#a b c 몇개 인지 출력\n",
        "\n",
        "import random\n",
        "random.randint(0,9)\n",
        "# numbers = list(range(101))\n",
        "numbers = random.randint(0, 9)\n",
        "b = {0:'a', 1:'b', 2:'c', 3:'d', 4:'e', 5:'f', 6:'g', 7:'h', 8:'i', 9:'j'}\n",
        "c = []\n",
        "\n",
        "for i in range(0, 100):\n",
        "    if numbers == 0:\n",
        "        c.append(b[0])\n",
        "    elif numbers == 1:\n",
        "        c.append(b[1])\n",
        "    elif numbers == 2:\n",
        "        c.append(b[2])\n",
        "    elif numbers == 3:\n",
        "        c.append(b[3])\n",
        "    elif numbers == 4:\n",
        "        c.append(b[4])\n",
        "    elif numbers == 5:\n",
        "        c.append(b[5])\n",
        "    elif numbers == 6:\n",
        "        c.append(b[6])\n",
        "    elif numbers == 7:\n",
        "        c.append(b[7])\n",
        "    elif numbers == 8:\n",
        "        c.append(b[8])\n",
        "    elif numbers == 9:\n",
        "        c.append(b[9])\n",
        "\n",
        "a_count = c.count('a') ; b_count = c.count('b') ; c_count = c.count('c') ; d_count = c.count('d');\n",
        "e_count = c.count('e') ; f_count = c.count('f') ; g_count = c.count('g') ; h_count = c.count('h');\n",
        "i_count = c.count('i') ; j_count = c.count('j') ;\n",
        "\n",
        "print(f'a개의 갯수 : {a_count}')\n",
        "print(f'b개의 갯수 : {b_count}')\n",
        "print(f'c개의 갯수 : {c_count}')\n",
        "print(f'd개의 갯수 : {d_count}')\n",
        "print(f'e개의 갯수 : {e_count}')\n",
        "print(f'f개의 갯수 : {f_count}')\n",
        "print(f'g개의 갯수 : {g_count}')\n",
        "print(f'h개의 갯수 : {h_count}')\n",
        "print(f'i개의 갯수 : {i_count}')\n",
        "print(f'j개의 갯수 : {j_count}')"
      ],
      "metadata": {
        "colab": {
          "base_uri": "https://localhost:8080/"
        },
        "id": "EiH18CfS8ncP",
        "outputId": "3d89263d-fca1-4cce-a18f-0e83d3965951"
      },
      "execution_count": 49,
      "outputs": [
        {
          "output_type": "stream",
          "name": "stdout",
          "text": [
            "a개의 갯수 : 0\n",
            "b개의 갯수 : 0\n",
            "c개의 갯수 : 0\n",
            "d개의 갯수 : 0\n",
            "e개의 갯수 : 0\n",
            "f개의 갯수 : 0\n",
            "g개의 갯수 : 100\n",
            "h개의 갯수 : 0\n",
            "i개의 갯수 : 0\n",
            "j개의 갯수 : 0\n",
            "k개의 갯수 : 0\n"
          ]
        }
      ]
    },
    {
      "cell_type": "code",
      "source": [
        "import random\n",
        "\n",
        "a = []\n",
        "\n",
        "for i in range(0, 100):\n",
        "    a.append(random.randint(0, 9))\n",
        "\n",
        "print(a)\n",
        "print(len(a))"
      ],
      "metadata": {
        "colab": {
          "base_uri": "https://localhost:8080/"
        },
        "id": "WWsCEnOhcCFG",
        "outputId": "47a79d00-3e51-4710-d2e5-c4f231b63c3e"
      },
      "execution_count": 52,
      "outputs": [
        {
          "output_type": "stream",
          "name": "stdout",
          "text": [
            "[2, 0, 7, 6, 3, 9, 0, 3, 5, 2, 3, 4, 7, 3, 2, 9, 2, 2, 4, 4, 9, 8, 9, 1, 7, 3, 8, 8, 7, 0, 4, 8, 8, 7, 0, 9, 6, 4, 0, 6, 2, 4, 5, 9, 3, 5, 9, 9, 1, 2, 2, 3, 0, 2, 0, 4, 2, 7, 7, 2, 5, 8, 4, 1, 0, 0, 0, 9, 9, 1, 4, 4, 9, 7, 9, 1, 7, 2, 8, 1, 3, 3, 4, 5, 2, 9, 2, 6, 9, 1, 7, 4, 5, 8, 8, 3, 8, 6, 8, 3]\n",
            "100\n"
          ]
        }
      ]
    },
    {
      "cell_type": "code",
      "source": [
        "b = []\n",
        "\n",
        "# for i in a:\n",
        "#     if i == 0:\n",
        "#         b.append('a')\n",
        "#     elif i == 1:\n",
        "#         b.append('b')\n",
        "\n",
        "mapping_t = {0:'a', 1:'b', 2:'c', 3:'d', 4:'e', 5:'f', 6:'g', 7:'h', 8:'i', 9:'j'}\n",
        "\n",
        "for i in a:\n",
        "    b.append(mapping_t[i])\n",
        "print(b)"
      ],
      "metadata": {
        "colab": {
          "base_uri": "https://localhost:8080/"
        },
        "id": "rDa-He8reYsp",
        "outputId": "b0aaee10-df89-423a-bc2b-aee4f318b53f"
      },
      "execution_count": 53,
      "outputs": [
        {
          "output_type": "stream",
          "name": "stdout",
          "text": [
            "['c', 'a', 'h', 'g', 'd', 'j', 'a', 'd', 'f', 'c', 'd', 'e', 'h', 'd', 'c', 'j', 'c', 'c', 'e', 'e', 'j', 'i', 'j', 'b', 'h', 'd', 'i', 'i', 'h', 'a', 'e', 'i', 'i', 'h', 'a', 'j', 'g', 'e', 'a', 'g', 'c', 'e', 'f', 'j', 'd', 'f', 'j', 'j', 'b', 'c', 'c', 'd', 'a', 'c', 'a', 'e', 'c', 'h', 'h', 'c', 'f', 'i', 'e', 'b', 'a', 'a', 'a', 'j', 'j', 'b', 'e', 'e', 'j', 'h', 'j', 'b', 'h', 'c', 'i', 'b', 'd', 'd', 'e', 'f', 'c', 'j', 'c', 'g', 'j', 'b', 'h', 'e', 'f', 'i', 'i', 'd', 'i', 'g', 'i', 'd']\n"
          ]
        }
      ]
    },
    {
      "cell_type": "code",
      "source": [
        "b.count('b')\n",
        "\n",
        "for i in ['a', 'b', 'c', 'd', 'e', 'f', 'g', 'h', 'i', 'j']:\n",
        "    print(\"{}의 갯수 : {}\".format(i, b.count(i)))"
      ],
      "metadata": {
        "colab": {
          "base_uri": "https://localhost:8080/"
        },
        "id": "EbNo_eSzgCD_",
        "outputId": "ec1d654e-1ccd-4df7-9863-511a134fee54"
      },
      "execution_count": 54,
      "outputs": [
        {
          "output_type": "stream",
          "name": "stdout",
          "text": [
            "a의 갯수 : 10\n",
            "b의 갯수 : 7\n",
            "c의 갯수 : 14\n",
            "d의 갯수 : 11\n",
            "e의 갯수 : 12\n",
            "f의 갯수 : 6\n",
            "g의 갯수 : 5\n",
            "h의 갯수 : 10\n",
            "i의 갯수 : 11\n",
            "j의 갯수 : 14\n"
          ]
        }
      ]
    }
  ]
}