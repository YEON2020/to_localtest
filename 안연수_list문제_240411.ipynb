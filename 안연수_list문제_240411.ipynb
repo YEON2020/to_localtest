{
  "nbformat": 4,
  "nbformat_minor": 0,
  "metadata": {
    "colab": {
      "provenance": [],
      "mount_file_id": "1F_A_rYj49rBzTPkPQyFSHTGI6UPwjMvw",
      "authorship_tag": "ABX9TyNK23KdQo7EaN50zyuQ5nHu",
      "include_colab_link": true
    },
    "kernelspec": {
      "name": "python3",
      "display_name": "Python 3"
    },
    "language_info": {
      "name": "python"
    }
  },
  "cells": [
    {
      "cell_type": "markdown",
      "metadata": {
        "id": "view-in-github",
        "colab_type": "text"
      },
      "source": [
        "<a href=\"https://colab.research.google.com/github/YEON2020/to_localtest/blob/main/%EC%95%88%EC%97%B0%EC%88%98_list%EB%AC%B8%EC%A0%9C_240411.ipynb\" target=\"_parent\"><img src=\"https://colab.research.google.com/assets/colab-badge.svg\" alt=\"Open In Colab\"/></a>"
      ]
    },
    {
      "cell_type": "code",
      "execution_count": 6,
      "metadata": {
        "colab": {
          "base_uri": "https://localhost:8080/"
        },
        "id": "4TLsKExlxecj",
        "outputId": "b75208c4-d8b4-40a1-f734-37b7824f5689"
      },
      "outputs": [
        {
          "output_type": "stream",
          "name": "stdout",
          "text": [
            "['4', '5', '6']\n",
            "False\n",
            "3.3000000000000003\n"
          ]
        }
      ],
      "source": [
        "a = \"456\"\n",
        "\n",
        "a = list(a)\n",
        "print(a)\n",
        "\n",
        "print((1.1 + 2.2) == 3.3)\n",
        "print(1.1 + 2.2)"
      ]
    },
    {
      "cell_type": "code",
      "source": [
        "#0~ 100을 리스트에 삽입, 0을 만나면 a 로 바꾸고 1을 만나면 b로 바꾸고 2를 만나면 c로 바꾼다.\n",
        "#a b c 몇개 인지 출력\n",
        "\n",
        "import random\n",
        "random.randint(0,9)\n",
        "# numbers = list(range(101))\n",
        "numbers = random.randint(0, 9)\n",
        "b = {0:'a', 1:'b', 2:'c', 3:'d', 4:'e', 5:'f', 6:'g', 7:'h', 8:'i', 9:'j'}\n",
        "c = []\n",
        "\n",
        "for i in range(0, 100):\n",
        "    if numbers == 0:\n",
        "        c.append(b[0])\n",
        "    elif numbers == 1:\n",
        "        c.append(b[1])\n",
        "    elif numbers == 2:\n",
        "        c.append(b[2])\n",
        "    elif numbers == 3:\n",
        "        c.append(b[3])\n",
        "    elif numbers == 4:\n",
        "        c.append(b[4])\n",
        "    elif numbers == 5:\n",
        "        c.append(b[5])\n",
        "    elif numbers == 6:\n",
        "        c.append(b[6])\n",
        "    elif numbers == 7:\n",
        "        c.append(b[7])\n",
        "    elif numbers == 8:\n",
        "        c.append(b[8])\n",
        "    elif numbers == 9:\n",
        "        c.append(b[9])\n",
        "\n",
        "a_count = c.count('a') ; b_count = c.count('b') ; c_count = c.count('c') ; d_count = c.count('d');\n",
        "e_count = c.count('e') ; f_count = c.count('f') ; g_count = c.count('g') ; h_count = c.count('h');\n",
        "i_count = c.count('i') ; j_count = c.count('j') ;\n",
        "\n",
        "print(f'a개의 갯수 : {a_count}')\n",
        "print(f'b개의 갯수 : {b_count}')\n",
        "print(f'c개의 갯수 : {c_count}')\n",
        "print(f'd개의 갯수 : {d_count}')\n",
        "print(f'e개의 갯수 : {e_count}')\n",
        "print(f'f개의 갯수 : {f_count}')\n",
        "print(f'g개의 갯수 : {g_count}')\n",
        "print(f'h개의 갯수 : {h_count}')\n",
        "print(f'i개의 갯수 : {i_count}')\n",
        "print(f'j개의 갯수 : {j_count}')"
      ],
      "metadata": {
        "colab": {
          "base_uri": "https://localhost:8080/"
        },
        "id": "EiH18CfS8ncP",
        "outputId": "3d89263d-fca1-4cce-a18f-0e83d3965951"
      },
      "execution_count": 49,
      "outputs": [
        {
          "output_type": "stream",
          "name": "stdout",
          "text": [
            "a개의 갯수 : 0\n",
            "b개의 갯수 : 0\n",
            "c개의 갯수 : 0\n",
            "d개의 갯수 : 0\n",
            "e개의 갯수 : 0\n",
            "f개의 갯수 : 0\n",
            "g개의 갯수 : 100\n",
            "h개의 갯수 : 0\n",
            "i개의 갯수 : 0\n",
            "j개의 갯수 : 0\n",
            "k개의 갯수 : 0\n"
          ]
        }
      ]
    },
    {
      "cell_type": "code",
      "source": [
        "import random\n",
        "\n",
        "a = []\n",
        "\n",
        "for i in range(0, 100):\n",
        "    a.append(random.randint(0, 9))\n",
        "\n",
        "print(a)\n",
        "print(len(a))"
      ],
      "metadata": {
        "colab": {
          "base_uri": "https://localhost:8080/"
        },
        "id": "WWsCEnOhcCFG",
        "outputId": "df5ced64-1ee2-44fa-9850-61d1e637bac8"
      },
      "execution_count": 80,
      "outputs": [
        {
          "output_type": "stream",
          "name": "stdout",
          "text": [
            "[3, 5, 8, 1, 7, 4, 6, 3, 2, 7, 6, 5, 8, 0, 1, 7, 9, 8, 4, 2, 8, 3, 3, 3, 5, 1, 4, 6, 4, 0, 0, 8, 4, 7, 0, 8, 2, 5, 2, 6, 5, 1, 3, 8, 6, 9, 6, 2, 1, 5, 8, 2, 1, 2, 3, 8, 7, 9, 4, 6, 0, 1, 9, 0, 6, 2, 5, 3, 6, 2, 7, 2, 3, 9, 6, 9, 8, 8, 3, 3, 8, 0, 0, 9, 3, 6, 3, 2, 8, 0, 1, 9, 1, 9, 6, 3, 0, 5, 1, 6]\n",
            "100\n"
          ]
        }
      ]
    },
    {
      "cell_type": "code",
      "source": [
        "b = []\n",
        "\n",
        "# for i in a:\n",
        "#     if i == 0:\n",
        "#         b.append('a')\n",
        "#     elif i == 1:\n",
        "#         b.append('b')\n",
        "\n",
        "mapping_t = {0:'a', 1:'b', 2:'c', 3:'d', 4:'e', 5:'f', 6:'g', 7:'h', 8:'i', 9:'j'}\n",
        "\n",
        "for i in a:\n",
        "    b.append(mapping_t[i])\n",
        "print(b)"
      ],
      "metadata": {
        "colab": {
          "base_uri": "https://localhost:8080/"
        },
        "id": "rDa-He8reYsp",
        "outputId": "b0aaee10-df89-423a-bc2b-aee4f318b53f"
      },
      "execution_count": 53,
      "outputs": [
        {
          "output_type": "stream",
          "name": "stdout",
          "text": [
            "['c', 'a', 'h', 'g', 'd', 'j', 'a', 'd', 'f', 'c', 'd', 'e', 'h', 'd', 'c', 'j', 'c', 'c', 'e', 'e', 'j', 'i', 'j', 'b', 'h', 'd', 'i', 'i', 'h', 'a', 'e', 'i', 'i', 'h', 'a', 'j', 'g', 'e', 'a', 'g', 'c', 'e', 'f', 'j', 'd', 'f', 'j', 'j', 'b', 'c', 'c', 'd', 'a', 'c', 'a', 'e', 'c', 'h', 'h', 'c', 'f', 'i', 'e', 'b', 'a', 'a', 'a', 'j', 'j', 'b', 'e', 'e', 'j', 'h', 'j', 'b', 'h', 'c', 'i', 'b', 'd', 'd', 'e', 'f', 'c', 'j', 'c', 'g', 'j', 'b', 'h', 'e', 'f', 'i', 'i', 'd', 'i', 'g', 'i', 'd']\n"
          ]
        }
      ]
    },
    {
      "cell_type": "code",
      "source": [
        "b.count('b')\n",
        "\n",
        "for i in ['a', 'b', 'c', 'd', 'e', 'f', 'g', 'h', 'i', 'j']:\n",
        "    print(\"{}의 갯수 : {}\".format(i, b.count(i)))"
      ],
      "metadata": {
        "colab": {
          "base_uri": "https://localhost:8080/"
        },
        "id": "EbNo_eSzgCD_",
        "outputId": "c0e48bc8-c29f-4a9c-dd87-bc05e02887af"
      },
      "execution_count": 58,
      "outputs": [
        {
          "output_type": "stream",
          "name": "stdout",
          "text": [
            "a의 갯수 : 10\n",
            "b의 갯수 : 7\n",
            "c의 갯수 : 14\n",
            "d의 갯수 : 11\n",
            "e의 갯수 : 12\n",
            "f의 갯수 : 6\n",
            "g의 갯수 : 5\n",
            "h의 갯수 : 10\n",
            "i의 갯수 : 11\n",
            "j의 갯수 : 14\n"
          ]
        }
      ]
    },
    {
      "cell_type": "code",
      "source": [
        "num_list = [y for y in range(100) if y % 2 == 0 if y % 5 == 0]\n",
        "print(num_list)\n",
        "\n",
        "for y in range(100):\n",
        "    if y % 2 == 0:\n",
        "        if y % 5 == 0:\n",
        "            y\n",
        "            print(y)"
      ],
      "metadata": {
        "colab": {
          "base_uri": "https://localhost:8080/"
        },
        "id": "P9ngXUV7kvG_",
        "outputId": "0b65b96e-da75-43c7-df63-b53735426601"
      },
      "execution_count": 89,
      "outputs": [
        {
          "output_type": "stream",
          "name": "stdout",
          "text": [
            "[0, 10, 20, 30, 40, 50, 60, 70, 80, 90]\n",
            "0\n",
            "10\n",
            "20\n",
            "30\n",
            "40\n",
            "50\n",
            "60\n",
            "70\n",
            "80\n",
            "90\n"
          ]
        }
      ]
    },
    {
      "cell_type": "code",
      "source": [
        "[x+y for x in ['python', 'c'] for y in ['Lang' , 'Prog']]"
      ],
      "metadata": {
        "colab": {
          "base_uri": "https://localhost:8080/"
        },
        "id": "er8iHOjLlYv-",
        "outputId": "21e58a2d-2033-4799-a144-a8dc63278bb3"
      },
      "execution_count": 87,
      "outputs": [
        {
          "output_type": "execute_result",
          "data": {
            "text/plain": [
              "['pythonLang', 'pythonProg', 'cLang', 'cProg']"
            ]
          },
          "metadata": {},
          "execution_count": 87
        }
      ]
    },
    {
      "cell_type": "code",
      "source": [
        "obj = [\"Even\" if i % 2 == 0 else \"Odd\" for i in range(10)]\n",
        "print(obj)"
      ],
      "metadata": {
        "colab": {
          "base_uri": "https://localhost:8080/"
        },
        "id": "1bIQYe3blok4",
        "outputId": "ab30997c-060d-4a2a-eca1-389222f025b7"
      },
      "execution_count": 88,
      "outputs": [
        {
          "output_type": "stream",
          "name": "stdout",
          "text": [
            "['Even', 'Odd', 'Even', 'Odd', 'Even', 'Odd', 'Even', 'Odd', 'Even', 'Odd']\n"
          ]
        }
      ]
    },
    {
      "cell_type": "code",
      "source": [
        "import random\n",
        "\n",
        "for i in range(5):\n",
        "    numbers = random.randint(0,10)\n",
        "    print(numbers)"
      ],
      "metadata": {
        "colab": {
          "base_uri": "https://localhost:8080/"
        },
        "id": "6smsBRHwnkuZ",
        "outputId": "1611d49c-1275-44b1-f225-67ac581c7f6f"
      },
      "execution_count": 91,
      "outputs": [
        {
          "output_type": "stream",
          "name": "stdout",
          "text": [
            "2\n",
            "1\n",
            "6\n",
            "4\n",
            "2\n"
          ]
        }
      ]
    },
    {
      "cell_type": "code",
      "source": [
        "transposed = []\n",
        "matrix = [[1, 2, 3, 4], [4, 5, 6, 8]]\n",
        "\n",
        "for i in range(len(matrix[0])):\n",
        "    transposed_row = []\n",
        "\n",
        "    for row in matrix:\n",
        "        transposed_row.append(row[i])\n",
        "    transposed.append(transposed_row)\n",
        "print(transposed)"
      ],
      "metadata": {
        "colab": {
          "base_uri": "https://localhost:8080/"
        },
        "id": "j67sKch-t9QJ",
        "outputId": "1bdf77a2-df36-4422-d92f-e30db411e1b2"
      },
      "execution_count": 96,
      "outputs": [
        {
          "output_type": "stream",
          "name": "stdout",
          "text": [
            "[[1, 4], [2, 5], [3, 6], [4, 8]]\n"
          ]
        }
      ]
    },
    {
      "cell_type": "code",
      "source": [
        "matrix = [[1, 2], [3, 4], [5, 6], [7, 8]]\n",
        "transpose = \\\n",
        "[[row[i] for row in matrix] for i in range(2)]\n",
        "print(transpose)"
      ],
      "metadata": {
        "colab": {
          "base_uri": "https://localhost:8080/"
        },
        "id": "CRDMZssIwF8K",
        "outputId": "9c0eea36-aba1-4333-e98e-c2b8fe4df398"
      },
      "execution_count": 97,
      "outputs": [
        {
          "output_type": "stream",
          "name": "stdout",
          "text": [
            "[[1, 3, 5, 7], [2, 4, 6, 8]]\n"
          ]
        }
      ]
    },
    {
      "cell_type": "code",
      "source": [
        " a= (1, 2, 3)\n",
        " b = 1, 2, 3\n",
        "\n",
        " print(type(a))\n",
        " print(type(b))\n",
        "\n",
        " a = ((1, 2, 3), 4, 5)\n",
        " a[0][0] = 0\n",
        "\n",
        " print(a)"
      ],
      "metadata": {
        "colab": {
          "base_uri": "https://localhost:8080/",
          "height": 258
        },
        "id": "V5zu-TpU7Yop",
        "outputId": "88e26f0b-fe71-4e3a-d2b7-9aa722018684"
      },
      "execution_count": 106,
      "outputs": [
        {
          "output_type": "stream",
          "name": "stdout",
          "text": [
            "<class 'tuple'>\n",
            "<class 'tuple'>\n"
          ]
        },
        {
          "output_type": "error",
          "ename": "TypeError",
          "evalue": "'tuple' object does not support item assignment",
          "traceback": [
            "\u001b[0;31m---------------------------------------------------------------------------\u001b[0m",
            "\u001b[0;31mTypeError\u001b[0m                                 Traceback (most recent call last)",
            "\u001b[0;32m<ipython-input-106-8f0833a40226>\u001b[0m in \u001b[0;36m<cell line: 8>\u001b[0;34m()\u001b[0m\n\u001b[1;32m      6\u001b[0m \u001b[0;34m\u001b[0m\u001b[0m\n\u001b[1;32m      7\u001b[0m \u001b[0ma\u001b[0m \u001b[0;34m=\u001b[0m \u001b[0;34m(\u001b[0m\u001b[0;34m(\u001b[0m\u001b[0;36m1\u001b[0m\u001b[0;34m,\u001b[0m \u001b[0;36m2\u001b[0m\u001b[0;34m,\u001b[0m \u001b[0;36m3\u001b[0m\u001b[0;34m)\u001b[0m\u001b[0;34m,\u001b[0m \u001b[0;36m4\u001b[0m\u001b[0;34m,\u001b[0m \u001b[0;36m5\u001b[0m\u001b[0;34m)\u001b[0m\u001b[0;34m\u001b[0m\u001b[0;34m\u001b[0m\u001b[0m\n\u001b[0;32m----> 8\u001b[0;31m \u001b[0ma\u001b[0m\u001b[0;34m[\u001b[0m\u001b[0;36m0\u001b[0m\u001b[0;34m]\u001b[0m\u001b[0;34m[\u001b[0m\u001b[0;36m0\u001b[0m\u001b[0;34m]\u001b[0m \u001b[0;34m=\u001b[0m \u001b[0;36m0\u001b[0m\u001b[0;34m\u001b[0m\u001b[0;34m\u001b[0m\u001b[0m\n\u001b[0m\u001b[1;32m      9\u001b[0m \u001b[0;34m\u001b[0m\u001b[0m\n\u001b[1;32m     10\u001b[0m \u001b[0mprint\u001b[0m\u001b[0;34m(\u001b[0m\u001b[0ma\u001b[0m\u001b[0;34m)\u001b[0m\u001b[0;34m\u001b[0m\u001b[0;34m\u001b[0m\u001b[0m\n",
            "\u001b[0;31mTypeError\u001b[0m: 'tuple' object does not support item assignment"
          ]
        }
      ]
    },
    {
      "cell_type": "code",
      "source": [
        "my_dict = dict ({1:'apple', 2:'ball'})\n",
        "print(my_dict)\n",
        "\n",
        "my_dict = dict([(1, 'apple'), (2, 'ball')])\n",
        "print(my_dict)\n",
        "\n",
        "my_dict = dict([[1, 'apple'], [2, 'ball']])\n",
        "print(my_dict)\n",
        "\n",
        "my_dict = dict(((1, 'apple'), (2, 'ball')))\n",
        "print(my_dict)"
      ],
      "metadata": {
        "colab": {
          "base_uri": "https://localhost:8080/"
        },
        "id": "Am7uqMtR9nj4",
        "outputId": "5069a0dc-d7e4-41e7-948f-e179b5a6dc75"
      },
      "execution_count": 113,
      "outputs": [
        {
          "output_type": "stream",
          "name": "stdout",
          "text": [
            "{1: 'apple', 2: 'ball'}\n",
            "{1: 'apple', 2: 'ball'}\n",
            "{1: 'apple', 2: 'ball'}\n",
            "{1: 'apple', 2: 'ball'}\n"
          ]
        }
      ]
    },
    {
      "cell_type": "code",
      "source": [
        "list_1 = []\n",
        "mapping_t = ['a', 'b', 'c', 'd', 'e', 'f', 'g', 'h', 'i', 'j']\n",
        "\n",
        "for i , v in enumerate(mapping_t):\n",
        "    temp = [i, v]\n",
        "    # list_1[mapping_t[i]] = v\n",
        "    list_1.append(temp)\n",
        "    # temp = [i, v]\n",
        "    # list_1.append(i, v)\n",
        "\n",
        "print(list_1)\n",
        "print"
      ],
      "metadata": {
        "colab": {
          "base_uri": "https://localhost:8080/"
        },
        "id": "FQ11vw7SCv3t",
        "outputId": "e8841e70-aad1-48d8-b91c-2f06af846eb3"
      },
      "execution_count": 138,
      "outputs": [
        {
          "output_type": "stream",
          "name": "stdout",
          "text": [
            "[[0, 'a'], [1, 'b'], [2, 'c'], [3, 'd'], [4, 'e'], [5, 'f'], [6, 'g'], [7, 'h'], [8, 'i'], [9, 'j']]\n"
          ]
        }
      ]
    },
    {
      "cell_type": "code",
      "source": [
        "my_dict = {'name':'Jack', 'age':26}\n",
        "my_dict['add'] = 'Dt'\n",
        "\n",
        "print(my_dict)"
      ],
      "metadata": {
        "colab": {
          "base_uri": "https://localhost:8080/"
        },
        "id": "g2mT5B6SE0QP",
        "outputId": "ba8b22b9-22de-4ed0-a28a-9201ea5a0b35"
      },
      "execution_count": 140,
      "outputs": [
        {
          "output_type": "stream",
          "name": "stdout",
          "text": [
            "{'name': 'Jack', 'age': 26, 'add': 'Dt'}\n"
          ]
        }
      ]
    },
    {
      "cell_type": "code",
      "source": [
        "f = open(\"/content/123.txt\")\n",
        "f.read(8)"
      ],
      "metadata": {
        "colab": {
          "base_uri": "https://localhost:8080/",
          "height": 35
        },
        "id": "YRV4vjlwNadh",
        "outputId": "00e442c4-ccb4-4267-902a-df16730e7474"
      },
      "execution_count": 4,
      "outputs": [
        {
          "output_type": "execute_result",
          "data": {
            "text/plain": [
              "'123\\n456'"
            ],
            "application/vnd.google.colaboratory.intrinsic+json": {
              "type": "string"
            }
          },
          "metadata": {},
          "execution_count": 4
        }
      ]
    },
    {
      "cell_type": "code",
      "source": [
        "import random\n",
        "gender_list1 = ['남자', '여자']\n",
        "high_list1 = [190, 170, 175, 160]\n",
        "weight_list1 = [110, 70, 65, 50]\n",
        "\n",
        "def _KNN(k, sd, t):\n",
        "    return k, sd,t\n",
        "\n",
        "# for i in range(100):\n",
        "    numbers1 = random.sample(range(100),k = 2)\n",
        "    numbers2 = random.sample(range(100),k = 4)\n",
        "    numbers3 = random.sample(range(100),k = 4)\n",
        "\n",
        "    print(numbers1)\n",
        "    print(numbers2)\n",
        "    print(numbers3)\n",
        "    # numbers1 = random.sample(gender_list1,k =100)\n",
        "    # numbers2 = random.sample(high_list1,k =100)\n",
        "    # numbers3 = random.sample(weight_list1,k =100)\n",
        "    # if gender_list1 == numbers1[0]:\n",
        "    # elif high_list1 == numbers2[0]:\n",
        "    # elif weight_list1 == numbers3[0]:\n",
        "\n",
        "\n",
        "\n",
        "_KNN(100, 170, 65)\n",
        "_KNN(100, 160, 50)\n",
        "\n"
      ],
      "metadata": {
        "colab": {
          "base_uri": "https://localhost:8080/"
        },
        "id": "Do-TjkP5vb1Z",
        "outputId": "ec145287-0f38-42e8-bee5-23c4785f66fb"
      },
      "execution_count": 6,
      "outputs": [
        {
          "output_type": "execute_result",
          "data": {
            "text/plain": [
              "(100, 160, 50)"
            ]
          },
          "metadata": {},
          "execution_count": 6
        }
      ]
    },
    {
      "cell_type": "code",
      "source": [
        "import random\n",
        "import math\n",
        "\n",
        "samples = []\n",
        "\n",
        "for i in range(100):\n",
        "    m_w = random.randint(65,100)\n",
        "    m_h = random.randint(170, 190)\n",
        "    w_w = random.randint(50, 70)\n",
        "    w_h = random.randint(150, 175)\n",
        "    m = [m_w, m_h, '남']\n",
        "    w = [w_w, w_h, '여']\n",
        "    samples.append(m)\n",
        "    samples.append(w)"
      ],
      "metadata": {
        "id": "Ye78RyfFCUJE"
      },
      "execution_count": 10,
      "outputs": []
    },
    {
      "cell_type": "code",
      "source": [
        "samples"
      ],
      "metadata": {
        "colab": {
          "base_uri": "https://localhost:8080/"
        },
        "id": "AHWg7bcmDvNY",
        "outputId": "9dd0ebba-6e3f-41af-94ea-d79ceae2242a"
      },
      "execution_count": 11,
      "outputs": [
        {
          "output_type": "execute_result",
          "data": {
            "text/plain": [
              "[[81, 174, '남'],\n",
              " [54, 151, '여'],\n",
              " [92, 174, '남'],\n",
              " [63, 150, '여'],\n",
              " [71, 186, '남'],\n",
              " [60, 160, '여'],\n",
              " [70, 178, '남'],\n",
              " [59, 163, '여'],\n",
              " [99, 188, '남'],\n",
              " [69, 150, '여'],\n",
              " [83, 181, '남'],\n",
              " [58, 161, '여'],\n",
              " [97, 183, '남'],\n",
              " [64, 162, '여'],\n",
              " [94, 190, '남'],\n",
              " [57, 154, '여'],\n",
              " [96, 181, '남'],\n",
              " [52, 163, '여'],\n",
              " [96, 173, '남'],\n",
              " [62, 172, '여'],\n",
              " [79, 173, '남'],\n",
              " [55, 173, '여'],\n",
              " [80, 170, '남'],\n",
              " [53, 166, '여'],\n",
              " [65, 178, '남'],\n",
              " [58, 162, '여'],\n",
              " [88, 171, '남'],\n",
              " [52, 158, '여'],\n",
              " [72, 184, '남'],\n",
              " [63, 169, '여'],\n",
              " [87, 183, '남'],\n",
              " [69, 171, '여'],\n",
              " [80, 177, '남'],\n",
              " [53, 163, '여'],\n",
              " [90, 189, '남'],\n",
              " [60, 160, '여'],\n",
              " [87, 188, '남'],\n",
              " [60, 154, '여'],\n",
              " [69, 177, '남'],\n",
              " [55, 168, '여'],\n",
              " [90, 186, '남'],\n",
              " [50, 162, '여'],\n",
              " [98, 172, '남'],\n",
              " [52, 167, '여'],\n",
              " [88, 180, '남'],\n",
              " [59, 151, '여'],\n",
              " [65, 173, '남'],\n",
              " [61, 173, '여'],\n",
              " [67, 182, '남'],\n",
              " [70, 161, '여'],\n",
              " [71, 189, '남'],\n",
              " [65, 151, '여'],\n",
              " [68, 189, '남'],\n",
              " [51, 151, '여'],\n",
              " [83, 184, '남'],\n",
              " [54, 155, '여'],\n",
              " [82, 187, '남'],\n",
              " [60, 175, '여'],\n",
              " [100, 184, '남'],\n",
              " [62, 171, '여'],\n",
              " [100, 182, '남'],\n",
              " [50, 174, '여'],\n",
              " [88, 174, '남'],\n",
              " [60, 153, '여'],\n",
              " [77, 184, '남'],\n",
              " [66, 170, '여'],\n",
              " [92, 173, '남'],\n",
              " [68, 169, '여'],\n",
              " [98, 173, '남'],\n",
              " [60, 171, '여'],\n",
              " [94, 190, '남'],\n",
              " [64, 150, '여'],\n",
              " [97, 185, '남'],\n",
              " [50, 174, '여'],\n",
              " [98, 180, '남'],\n",
              " [59, 173, '여'],\n",
              " [84, 173, '남'],\n",
              " [66, 159, '여'],\n",
              " [98, 175, '남'],\n",
              " [55, 171, '여'],\n",
              " [65, 184, '남'],\n",
              " [69, 173, '여'],\n",
              " [90, 181, '남'],\n",
              " [51, 155, '여'],\n",
              " [91, 170, '남'],\n",
              " [54, 169, '여'],\n",
              " [84, 174, '남'],\n",
              " [68, 160, '여'],\n",
              " [67, 183, '남'],\n",
              " [50, 152, '여'],\n",
              " [98, 183, '남'],\n",
              " [60, 151, '여'],\n",
              " [70, 187, '남'],\n",
              " [65, 169, '여'],\n",
              " [75, 171, '남'],\n",
              " [53, 169, '여'],\n",
              " [67, 173, '남'],\n",
              " [65, 157, '여'],\n",
              " [90, 170, '남'],\n",
              " [61, 157, '여'],\n",
              " [79, 178, '남'],\n",
              " [62, 170, '여'],\n",
              " [71, 175, '남'],\n",
              " [70, 167, '여'],\n",
              " [73, 171, '남'],\n",
              " [50, 171, '여'],\n",
              " [99, 175, '남'],\n",
              " [50, 161, '여'],\n",
              " [80, 186, '남'],\n",
              " [55, 155, '여'],\n",
              " [98, 185, '남'],\n",
              " [68, 161, '여'],\n",
              " [67, 170, '남'],\n",
              " [58, 159, '여'],\n",
              " [96, 184, '남'],\n",
              " [60, 170, '여'],\n",
              " [87, 172, '남'],\n",
              " [51, 165, '여'],\n",
              " [70, 190, '남'],\n",
              " [67, 152, '여'],\n",
              " [70, 187, '남'],\n",
              " [66, 155, '여'],\n",
              " [94, 170, '남'],\n",
              " [70, 159, '여'],\n",
              " [70, 170, '남'],\n",
              " [69, 150, '여'],\n",
              " [78, 182, '남'],\n",
              " [60, 171, '여'],\n",
              " [71, 182, '남'],\n",
              " [58, 172, '여'],\n",
              " [97, 171, '남'],\n",
              " [66, 175, '여'],\n",
              " [88, 181, '남'],\n",
              " [50, 156, '여'],\n",
              " [81, 184, '남'],\n",
              " [61, 152, '여'],\n",
              " [87, 182, '남'],\n",
              " [63, 171, '여'],\n",
              " [80, 183, '남'],\n",
              " [54, 157, '여'],\n",
              " [93, 174, '남'],\n",
              " [66, 170, '여'],\n",
              " [92, 180, '남'],\n",
              " [58, 150, '여'],\n",
              " [80, 184, '남'],\n",
              " [57, 157, '여'],\n",
              " [77, 173, '남'],\n",
              " [50, 165, '여'],\n",
              " [89, 184, '남'],\n",
              " [59, 166, '여'],\n",
              " [68, 178, '남'],\n",
              " [63, 162, '여'],\n",
              " [84, 179, '남'],\n",
              " [62, 165, '여'],\n",
              " [68, 173, '남'],\n",
              " [65, 162, '여'],\n",
              " [86, 185, '남'],\n",
              " [59, 155, '여'],\n",
              " [92, 183, '남'],\n",
              " [57, 169, '여'],\n",
              " [85, 171, '남'],\n",
              " [55, 164, '여'],\n",
              " [74, 171, '남'],\n",
              " [64, 161, '여'],\n",
              " [66, 186, '남'],\n",
              " [58, 169, '여'],\n",
              " [85, 178, '남'],\n",
              " [52, 170, '여'],\n",
              " [93, 173, '남'],\n",
              " [66, 150, '여'],\n",
              " [74, 176, '남'],\n",
              " [58, 153, '여'],\n",
              " [79, 183, '남'],\n",
              " [69, 155, '여'],\n",
              " [87, 181, '남'],\n",
              " [57, 160, '여'],\n",
              " [80, 189, '남'],\n",
              " [58, 160, '여'],\n",
              " [79, 189, '남'],\n",
              " [51, 173, '여'],\n",
              " [88, 179, '남'],\n",
              " [57, 170, '여'],\n",
              " [71, 183, '남'],\n",
              " [55, 151, '여'],\n",
              " [91, 173, '남'],\n",
              " [52, 162, '여'],\n",
              " [96, 184, '남'],\n",
              " [67, 157, '여'],\n",
              " [82, 188, '남'],\n",
              " [56, 152, '여'],\n",
              " [99, 179, '남'],\n",
              " [56, 171, '여'],\n",
              " [65, 179, '남'],\n",
              " [59, 163, '여'],\n",
              " [100, 183, '남'],\n",
              " [52, 165, '여'],\n",
              " [94, 177, '남'],\n",
              " [70, 153, '여'],\n",
              " [90, 172, '남'],\n",
              " [65, 168, '여']]"
            ]
          },
          "metadata": {},
          "execution_count": 11
        }
      ]
    },
    {
      "cell_type": "code",
      "source": [
        "t_w = random.randint(65,100)\n",
        "t_h = random.randint(170, 190)\n",
        "t = [t_w, t_h]\n",
        "\n",
        "d_g = []\n",
        "\n",
        "for i in samples:\n",
        "    d = math.sqrt((i[0]-t[0])**2 + (i[1]-t[1])**2)\n",
        "\n",
        "    s_t = [d, i[2]]\n",
        "    d_g.append(d)\n",
        "    print(d)"
      ],
      "metadata": {
        "colab": {
          "base_uri": "https://localhost:8080/"
        },
        "id": "89cX6UbzEseO",
        "outputId": "476b06dd-678f-4077-c99e-3e068e1aea24"
      },
      "execution_count": 14,
      "outputs": [
        {
          "output_type": "stream",
          "name": "stdout",
          "text": [
            "13.152946437965905\n",
            "43.829214001622255\n",
            "18.384776310850235\n",
            "40.311288741492746\n",
            "8.06225774829855\n",
            "33.015148038438355\n",
            "12.727922061357855\n",
            "31.240998703626616\n",
            "20.024984394500787\n",
            "38.3275357934736\n",
            "7.211102550927978\n",
            "33.421549934136806\n",
            "18.439088914585774\n",
            "29.154759474226502\n",
            "15.297058540778355\n",
            "39.66106403010388\n",
            "18.027756377319946\n",
            "36.124783736376884\n",
            "22.02271554554524\n",
            "22.67156809750927\n",
            "14.0\n",
            "27.784887978899608\n",
            "17.029386365926403\n",
            "33.421549934136806\n",
            "16.64331697709324\n",
            "32.64965543462902\n",
            "18.35755975068582\n",
            "39.6232255123179\n",
            "7.615773105863909\n",
            "24.08318915758459\n",
            "8.94427190999916\n",
            "18.867962264113206\n",
            "10.04987562112089\n",
            "35.38361202590826\n",
            "11.180339887498949\n",
            "33.015148038438355\n",
            "8.06225774829855\n",
            "38.07886552931954\n",
            "14.142135623730951\n",
            "30.610455730027933\n",
            "11.045361017187261\n",
            "38.28837943815329\n",
            "24.20743687382041\n",
            "33.60059523282288\n",
            "11.40175425099138\n",
            "41.182520563948\n",
            "19.79898987322333\n",
            "22.80350850198276\n",
            "13.0\n",
            "27.51363298439521\n",
            "8.246211251235321\n",
            "38.62641583165593\n",
            "11.180339887498949\n",
            "45.60701700396552\n",
            "5.0\n",
            "40.607881008493905\n",
            "3.0\n",
            "22.47220505424423\n",
            "21.213203435596427\n",
            "23.345235059857504\n",
            "21.587033144922902\n",
            "31.78049716414141\n",
            "15.811388300841896\n",
            "38.948684188300895\n",
            "3.605551275463989\n",
            "21.400934559032695\n",
            "19.1049731745428\n",
            "21.095023109728988\n",
            "23.600847442411894\n",
            "24.839484696748443\n",
            "15.297058540778355\n",
            "39.92492955535426\n",
            "18.110770276274835\n",
            "31.78049716414141\n",
            "20.248456731316587\n",
            "24.413111231467404\n",
            "14.866068747318506\n",
            "30.870698080866262\n",
            "22.47220505424423\n",
            "28.844410203711913\n",
            "14.317821063276353\n",
            "17.204650534085253\n",
            "12.529964086141668\n",
            "42.5205832509386\n",
            "20.808652046684813\n",
            "30.805843601498726\n",
            "13.92838827718412\n",
            "29.154759474226502\n",
            "12.649110640673518\n",
            "45.45327270945405\n",
            "19.4164878389476\n",
            "40.70626487409524\n",
            "9.0\n",
            "22.80350850198276\n",
            "16.492422502470642\n",
            "31.622776601683793\n",
            "18.439088914585774\n",
            "33.1058907144937\n",
            "20.248456731316587\n",
            "34.9857113690718\n",
            "9.0\n",
            "24.041630560342615\n",
            "14.422205101855956\n",
            "21.93171219946131\n",
            "17.08800749063506\n",
            "33.12099032335839\n",
            "23.323807579381203\n",
            "38.948684188300895\n",
            "1.4142135623730951\n",
            "40.0\n",
            "19.1049731745428\n",
            "28.231188426986208\n",
            "20.808652046684813\n",
            "35.0\n",
            "17.26267650163207\n",
            "25.495097567963924\n",
            "17.0\n",
            "35.608987629529715\n",
            "9.486832980505138\n",
            "37.0\n",
            "9.0\n",
            "34.539832078341085\n",
            "22.67156809750927\n",
            "29.410882339705484\n",
            "19.235384061671343\n",
            "38.3275357934736\n",
            "5.0990195135927845\n",
            "24.839484696748443\n",
            "9.433981132056603\n",
            "25.80697580112788\n",
            "24.08318915758459\n",
            "17.69180601295413\n",
            "10.816653826391969\n",
            "42.44997055358225\n",
            "3.605551275463989\n",
            "39.35733730830886\n",
            "9.433981132056603\n",
            "22.627416997969522\n",
            "4.123105625617661\n",
            "39.05124837953327\n",
            "19.1049731745428\n",
            "21.400934559032695\n",
            "14.7648230602334\n",
            "42.5440947723653\n",
            "3.1622776601683795\n",
            "37.20215047547655\n",
            "14.142135623730951\n",
            "36.40054944640259\n",
            "10.44030650891055\n",
            "29.0\n",
            "14.212670403551895\n",
            "29.68164415931166\n",
            "9.433981132056603\n",
            "27.80287754891569\n",
            "17.804493814764857\n",
            "28.653097563788805\n",
            "7.280109889280518\n",
            "37.73592452822641\n",
            "13.601470508735444\n",
            "28.42534080710379\n",
            "17.08800749063506\n",
            "33.24154027718932\n",
            "16.76305461424021\n",
            "30.01666203960727\n",
            "13.038404810405298\n",
            "27.65863337187866\n",
            "10.816653826391969\n",
            "31.906112267087632\n",
            "19.79898987322333\n",
            "39.21734310225516\n",
            "12.083045973594572\n",
            "39.96248240537617\n",
            "4.0\n",
            "33.52610922848042\n",
            "10.0\n",
            "34.828149534535996\n",
            "2.23606797749979\n",
            "34.20526275297414\n",
            "2.0\n",
            "31.304951684997057\n",
            "12.041594578792296\n",
            "27.80287754891569\n",
            "8.94427190999916\n",
            "43.266615305567875\n",
            "18.439088914585774\n",
            "36.796738985948195\n",
            "17.26267650163207\n",
            "32.31098884280702\n",
            "3.1622776601683795\n",
            "41.88078318274385\n",
            "21.540659228538015\n",
            "28.0178514522438\n",
            "16.1245154965971\n",
            "31.240998703626616\n",
            "21.37755832643195\n",
            "34.828149534535996\n",
            "18.027756377319946\n",
            "35.17101079013795\n",
            "18.601075237738275\n",
            "23.600847442411894\n"
          ]
        }
      ]
    },
    {
      "cell_type": "code",
      "source": [
        "a= [2, 3, 1, 4, 6, 5]\n",
        "\n"
      ],
      "metadata": {
        "id": "tCSBUSx4GPwv"
      },
      "execution_count": null,
      "outputs": []
    },
    {
      "cell_type": "code",
      "source": [
        "# T = True; F=False\n",
        "days = ('월', '화', '수', '목', '금')\n",
        "ns = 5\n",
        "t2 = [{'월':0, '화':0, '수':0, '목':0, '금':1},\n",
        "      {'월':1, '화':0, '수':0, '목':0, '금':0},\n",
        "      {'월':0, '화':1, '수':0, '목':0, '금':0},\n",
        "      {'월':0, '화':0, '수':1, '목':0, '금':0},\n",
        "      {'월':0, '화':0, '수':0, '목':1, '금':0}\n",
        "]\n",
        "n = None\n",
        "while True:\n",
        "    n = int(input(\"차량번호 끝자리(0~9) : \"))\n",
        "    if n >= 0 and n <= 9 :\n",
        "        break\n",
        "d = None\n",
        "while True:\n",
        "    d = input(\"요일(월~금) : \")\n",
        "    if d in days:\n",
        "        break\n",
        "\n",
        "n = n % ns\n",
        "if t2[n][d]:\n",
        "    print(\"차량 5부제 해당\")\n",
        "else:\n",
        "    print(\"차량 5부제 미해당\")"
      ],
      "metadata": {
        "colab": {
          "base_uri": "https://localhost:8080/"
        },
        "id": "8b1H_GLCg5Fy",
        "outputId": "c53d0746-0f12-4678-a278-c3b93bc5c41c"
      },
      "execution_count": 2,
      "outputs": [
        {
          "output_type": "stream",
          "name": "stdout",
          "text": [
            "차량번호 끝자리(0~9) : 1\n",
            "요일(월~금) : 월\n",
            "차량 5부제 해당\n"
          ]
        }
      ]
    }
  ]
}