{
  "nbformat": 4,
  "nbformat_minor": 0,
  "metadata": {
    "colab": {
      "provenance": [],
      "authorship_tag": "ABX9TyPJ7cONVEsFUQVdA4dbs4Wr",
      "include_colab_link": true
    },
    "kernelspec": {
      "name": "python3",
      "display_name": "Python 3"
    },
    "language_info": {
      "name": "python"
    }
  },
  "cells": [
    {
      "cell_type": "markdown",
      "metadata": {
        "id": "view-in-github",
        "colab_type": "text"
      },
      "source": [
        "<a href=\"https://colab.research.google.com/github/YEON2020/to_localtest/blob/main/%EC%95%88%EC%97%B0%EC%88%98_list%EB%AC%B8%EC%A0%9C_240411.ipynb\" target=\"_parent\"><img src=\"https://colab.research.google.com/assets/colab-badge.svg\" alt=\"Open In Colab\"/></a>"
      ]
    },
    {
      "cell_type": "code",
      "execution_count": 6,
      "metadata": {
        "colab": {
          "base_uri": "https://localhost:8080/"
        },
        "id": "4TLsKExlxecj",
        "outputId": "b75208c4-d8b4-40a1-f734-37b7824f5689"
      },
      "outputs": [
        {
          "output_type": "stream",
          "name": "stdout",
          "text": [
            "['4', '5', '6']\n",
            "False\n",
            "3.3000000000000003\n"
          ]
        }
      ],
      "source": [
        "a = \"456\"\n",
        "\n",
        "a = list(a)\n",
        "print(a)\n",
        "\n",
        "print((1.1 + 2.2) == 3.3)\n",
        "print(1.1 + 2.2)"
      ]
    },
    {
      "cell_type": "code",
      "source": [
        "#0~ 100을 리스트에 삽입, 0을 만나면 a 로 바꾸고 1을 만나면 b로 바꾸고 2를 만나면 c로 바꾼다.\n",
        "#a b c 몇개 인지 출력\n",
        "\n",
        "import random\n",
        "random.randint(0,10)\n",
        "# numbers = list(range(101))\n",
        "numbers = random.randint(0, 10)\n",
        "b = {0:'a', 1:'b', 2:'c', 3:'d', 4:'e', 5:'f', 6:'g', 7:'h', 8:'i', 9:'j', 10:'k', 11:'l', 12:'n', 13: 'm',\n",
        "     14: 'o', 15:'p', 16:'q', 17:'r', 18:'s', 19:'t', 20:'u', 21:'v', 22:'w', 23:'x', 24:'y', 25:'z'}\n",
        "c = []\n",
        "\n",
        "for i in range(0, 100):\n",
        "    if numbers == 0:\n",
        "        c.append(b[0])\n",
        "    elif numbers == 1:\n",
        "        c.append(b[1])\n",
        "    elif numbers == 2:\n",
        "        c.append(b[2])\n",
        "    elif numbers == 3:\n",
        "        c.append(b[3])\n",
        "    elif numbers == 4:\n",
        "        c.append(b[4])\n",
        "    elif numbers == 5:\n",
        "        c.append(b[5])\n",
        "    elif numbers == 6:\n",
        "        c.append(b[6])\n",
        "    elif numbers == 7:\n",
        "        c.append(b[7])\n",
        "    elif numbers == 8:\n",
        "        c.append(b[8])\n",
        "    elif numbers == 9:\n",
        "        c.append(b[9])\n",
        "    elif numbers == 10:\n",
        "        c.append(b[10])\n",
        "    # elif numbers == b[12]:\n",
        "    #     c.append()\n",
        "    # elif numbers == b[13]:\n",
        "    #     c.append()\n",
        "    # elif numbers == b[14]:\n",
        "    #     c.append()\n",
        "    # elif numbers == b[15]:\n",
        "    #     c.append()\n",
        "    # elif numbers == b[16]:\n",
        "    #     c.append()\n",
        "    # elif numbers == b[17]:\n",
        "    #     c.append()\n",
        "    # elif numbers == b[18]:\n",
        "    #     c.append()\n",
        "    # elif numbers == b[19]:\n",
        "    #     c.append()\n",
        "    # elif numbers == b[20]:\n",
        "    #     c.append()\n",
        "    # elif numbers == b[21]:\n",
        "    #     c.append()\n",
        "    # elif numbers == b[22]:\n",
        "    #     c.append()\n",
        "    # elif numbers == b[23]:\n",
        "    #     c.append()\n",
        "    # elif numbers == b[24]:\n",
        "    #     c.append()\n",
        "    # elif numbers == b[25]:\n",
        "    #     c.append()\n",
        "\n",
        "# c.append(b)\n",
        "\n",
        "a_count = c.count('a') ; b_count = c.count('b') ; c_count = c.count('c') ; d_count = c.count('d');\n",
        "e_count = c.count('e') ; f_count = c.count('f') ; g_count = c.count('g') ; h_count = c.count('h');\n",
        "i_count = c.count('i') ; j_count = c.count('j') ; k_count = c.count('k') ;\n",
        "# l_count = c.count('l');\n",
        "# n_count = c.count('n') ; m_count = c.count('m') ; o_count = c.count('o') ; p_count = c.count('p') ;\n",
        "# q_count = c.count('q') ; r_count = c.count('r') ; s_count = c.count('s') ; t_count = c.count('t') ;\n",
        "# u_count = c.count('u') ; v_count = c.count('v') ; w_count = c.count('w') ; x_count = c.count('x') ;\n",
        "# y_count = c.count('y') ; z_count = c.count('z') ;\n",
        "\n",
        "print(f'a개의 갯수 : {a_count}')\n",
        "print(f'b개의 갯수 : {b_count}')\n",
        "print(f'c개의 갯수 : {c_count}')\n",
        "print(f'd개의 갯수 : {d_count}')\n",
        "print(f'e개의 갯수 : {e_count}')\n",
        "print(f'f개의 갯수 : {f_count}')\n",
        "print(f'g개의 갯수 : {g_count}')\n",
        "print(f'h개의 갯수 : {h_count}')\n",
        "print(f'i개의 갯수 : {i_count}')\n",
        "print(f'j개의 갯수 : {j_count}')\n",
        "print(f'k개의 갯수 : {k_count}')\n",
        "# print(f'l개의 갯수 : {l_count}')\n",
        "# print(f'n개의 갯수 : {n_count}')\n",
        "# print(f'm개의 갯수 : {m_count}')\n",
        "# print(f'o개의 갯수 : {o_count}')\n",
        "# print(f'p개의 갯수 : {p_count}')\n",
        "# print(f'q개의 갯수 : {q_count}')\n",
        "# print(f'r개의 갯수 : {r_count}')\n",
        "# print(f's개의 갯수 : {s_count}')\n",
        "# print(f't개의 갯수 : {t_count}')\n",
        "# print(f'u개의 갯수 : {u_count}')\n",
        "# print(f'v개의 갯수 : {v_count}')\n",
        "# print(f'w개의 갯수 : {w_count}')\n",
        "# print(f'x개의 갯수 : {x_count}')\n",
        "# print(f'y개의 갯수 : {y_count}')\n",
        "# print(f'z개의 갯수 : {z_count}')"
      ],
      "metadata": {
        "colab": {
          "base_uri": "https://localhost:8080/"
        },
        "id": "EiH18CfS8ncP",
        "outputId": "284444e8-21b0-47d6-b3eb-3d17c5b37142"
      },
      "execution_count": 47,
      "outputs": [
        {
          "output_type": "stream",
          "name": "stdout",
          "text": [
            "a개의 갯수 : 0\n",
            "b개의 갯수 : 0\n",
            "c개의 갯수 : 0\n",
            "d개의 갯수 : 0\n",
            "e개의 갯수 : 0\n",
            "f개의 갯수 : 0\n",
            "g개의 갯수 : 0\n",
            "h개의 갯수 : 100\n",
            "i개의 갯수 : 0\n",
            "j개의 갯수 : 0\n",
            "k개의 갯수 : 0\n"
          ]
        }
      ]
    }
  ]
}