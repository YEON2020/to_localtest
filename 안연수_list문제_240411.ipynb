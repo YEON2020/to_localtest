{
  "nbformat": 4,
  "nbformat_minor": 0,
  "metadata": {
    "colab": {
      "provenance": [],
      "mount_file_id": "1F_A_rYj49rBzTPkPQyFSHTGI6UPwjMvw",
      "authorship_tag": "ABX9TyMQ9eRbL4nG+4slD37kCGMN",
      "include_colab_link": true
    },
    "kernelspec": {
      "name": "python3",
      "display_name": "Python 3"
    },
    "language_info": {
      "name": "python"
    }
  },
  "cells": [
    {
      "cell_type": "markdown",
      "metadata": {
        "id": "view-in-github",
        "colab_type": "text"
      },
      "source": [
        "<a href=\"https://colab.research.google.com/github/YEON2020/to_localtest/blob/main/%EC%95%88%EC%97%B0%EC%88%98_list%EB%AC%B8%EC%A0%9C_240411.ipynb\" target=\"_parent\"><img src=\"https://colab.research.google.com/assets/colab-badge.svg\" alt=\"Open In Colab\"/></a>"
      ]
    },
    {
      "cell_type": "code",
      "execution_count": null,
      "metadata": {
        "colab": {
          "base_uri": "https://localhost:8080/"
        },
        "id": "4TLsKExlxecj",
        "outputId": "b75208c4-d8b4-40a1-f734-37b7824f5689"
      },
      "outputs": [
        {
          "output_type": "stream",
          "name": "stdout",
          "text": [
            "['4', '5', '6']\n",
            "False\n",
            "3.3000000000000003\n"
          ]
        }
      ],
      "source": [
        "a = \"456\"\n",
        "\n",
        "a = list(a)\n",
        "print(a)\n",
        "\n",
        "print((1.1 + 2.2) == 3.3)\n",
        "print(1.1 + 2.2)"
      ]
    },
    {
      "cell_type": "code",
      "source": [
        "#0~ 100을 리스트에 삽입, 0을 만나면 a 로 바꾸고 1을 만나면 b로 바꾸고 2를 만나면 c로 바꾼다.\n",
        "#a b c 몇개 인지 출력\n",
        "\n",
        "import random\n",
        "random.randint(0,9)\n",
        "# numbers = list(range(101))\n",
        "numbers = random.randint(0, 9)\n",
        "b = {0:'a', 1:'b', 2:'c', 3:'d', 4:'e', 5:'f', 6:'g', 7:'h', 8:'i', 9:'j'}\n",
        "c = []\n",
        "\n",
        "for i in range(0, 100):\n",
        "    if numbers == 0:\n",
        "        c.append(b[0])\n",
        "    elif numbers == 1:\n",
        "        c.append(b[1])\n",
        "    elif numbers == 2:\n",
        "        c.append(b[2])\n",
        "    elif numbers == 3:\n",
        "        c.append(b[3])\n",
        "    elif numbers == 4:\n",
        "        c.append(b[4])\n",
        "    elif numbers == 5:\n",
        "        c.append(b[5])\n",
        "    elif numbers == 6:\n",
        "        c.append(b[6])\n",
        "    elif numbers == 7:\n",
        "        c.append(b[7])\n",
        "    elif numbers == 8:\n",
        "        c.append(b[8])\n",
        "    elif numbers == 9:\n",
        "        c.append(b[9])\n",
        "\n",
        "a_count = c.count('a') ; b_count = c.count('b') ; c_count = c.count('c') ; d_count = c.count('d');\n",
        "e_count = c.count('e') ; f_count = c.count('f') ; g_count = c.count('g') ; h_count = c.count('h');\n",
        "i_count = c.count('i') ; j_count = c.count('j') ;\n",
        "\n",
        "print(f'a개의 갯수 : {a_count}')\n",
        "print(f'b개의 갯수 : {b_count}')\n",
        "print(f'c개의 갯수 : {c_count}')\n",
        "print(f'd개의 갯수 : {d_count}')\n",
        "print(f'e개의 갯수 : {e_count}')\n",
        "print(f'f개의 갯수 : {f_count}')\n",
        "print(f'g개의 갯수 : {g_count}')\n",
        "print(f'h개의 갯수 : {h_count}')\n",
        "print(f'i개의 갯수 : {i_count}')\n",
        "print(f'j개의 갯수 : {j_count}')"
      ],
      "metadata": {
        "colab": {
          "base_uri": "https://localhost:8080/"
        },
        "id": "EiH18CfS8ncP",
        "outputId": "3d89263d-fca1-4cce-a18f-0e83d3965951"
      },
      "execution_count": null,
      "outputs": [
        {
          "output_type": "stream",
          "name": "stdout",
          "text": [
            "a개의 갯수 : 0\n",
            "b개의 갯수 : 0\n",
            "c개의 갯수 : 0\n",
            "d개의 갯수 : 0\n",
            "e개의 갯수 : 0\n",
            "f개의 갯수 : 0\n",
            "g개의 갯수 : 100\n",
            "h개의 갯수 : 0\n",
            "i개의 갯수 : 0\n",
            "j개의 갯수 : 0\n",
            "k개의 갯수 : 0\n"
          ]
        }
      ]
    },
    {
      "cell_type": "code",
      "source": [
        "import random\n",
        "\n",
        "a = []\n",
        "\n",
        "for i in range(0, 100):\n",
        "    a.append(random.randint(0, 9))\n",
        "\n",
        "print(a)\n",
        "print(len(a))"
      ],
      "metadata": {
        "colab": {
          "base_uri": "https://localhost:8080/"
        },
        "id": "WWsCEnOhcCFG",
        "outputId": "df5ced64-1ee2-44fa-9850-61d1e637bac8"
      },
      "execution_count": null,
      "outputs": [
        {
          "output_type": "stream",
          "name": "stdout",
          "text": [
            "[3, 5, 8, 1, 7, 4, 6, 3, 2, 7, 6, 5, 8, 0, 1, 7, 9, 8, 4, 2, 8, 3, 3, 3, 5, 1, 4, 6, 4, 0, 0, 8, 4, 7, 0, 8, 2, 5, 2, 6, 5, 1, 3, 8, 6, 9, 6, 2, 1, 5, 8, 2, 1, 2, 3, 8, 7, 9, 4, 6, 0, 1, 9, 0, 6, 2, 5, 3, 6, 2, 7, 2, 3, 9, 6, 9, 8, 8, 3, 3, 8, 0, 0, 9, 3, 6, 3, 2, 8, 0, 1, 9, 1, 9, 6, 3, 0, 5, 1, 6]\n",
            "100\n"
          ]
        }
      ]
    },
    {
      "cell_type": "code",
      "source": [
        "b = []\n",
        "\n",
        "# for i in a:\n",
        "#     if i == 0:\n",
        "#         b.append('a')\n",
        "#     elif i == 1:\n",
        "#         b.append('b')\n",
        "\n",
        "mapping_t = {0:'a', 1:'b', 2:'c', 3:'d', 4:'e', 5:'f', 6:'g', 7:'h', 8:'i', 9:'j'}\n",
        "\n",
        "for i in a:\n",
        "    b.append(mapping_t[i])\n",
        "print(b)"
      ],
      "metadata": {
        "colab": {
          "base_uri": "https://localhost:8080/"
        },
        "id": "rDa-He8reYsp",
        "outputId": "b0aaee10-df89-423a-bc2b-aee4f318b53f"
      },
      "execution_count": null,
      "outputs": [
        {
          "output_type": "stream",
          "name": "stdout",
          "text": [
            "['c', 'a', 'h', 'g', 'd', 'j', 'a', 'd', 'f', 'c', 'd', 'e', 'h', 'd', 'c', 'j', 'c', 'c', 'e', 'e', 'j', 'i', 'j', 'b', 'h', 'd', 'i', 'i', 'h', 'a', 'e', 'i', 'i', 'h', 'a', 'j', 'g', 'e', 'a', 'g', 'c', 'e', 'f', 'j', 'd', 'f', 'j', 'j', 'b', 'c', 'c', 'd', 'a', 'c', 'a', 'e', 'c', 'h', 'h', 'c', 'f', 'i', 'e', 'b', 'a', 'a', 'a', 'j', 'j', 'b', 'e', 'e', 'j', 'h', 'j', 'b', 'h', 'c', 'i', 'b', 'd', 'd', 'e', 'f', 'c', 'j', 'c', 'g', 'j', 'b', 'h', 'e', 'f', 'i', 'i', 'd', 'i', 'g', 'i', 'd']\n"
          ]
        }
      ]
    },
    {
      "cell_type": "code",
      "source": [
        "b.count('b')\n",
        "\n",
        "for i in ['a', 'b', 'c', 'd', 'e', 'f', 'g', 'h', 'i', 'j']:\n",
        "    print(\"{}의 갯수 : {}\".format(i, b.count(i)))"
      ],
      "metadata": {
        "colab": {
          "base_uri": "https://localhost:8080/"
        },
        "id": "EbNo_eSzgCD_",
        "outputId": "c0e48bc8-c29f-4a9c-dd87-bc05e02887af"
      },
      "execution_count": null,
      "outputs": [
        {
          "output_type": "stream",
          "name": "stdout",
          "text": [
            "a의 갯수 : 10\n",
            "b의 갯수 : 7\n",
            "c의 갯수 : 14\n",
            "d의 갯수 : 11\n",
            "e의 갯수 : 12\n",
            "f의 갯수 : 6\n",
            "g의 갯수 : 5\n",
            "h의 갯수 : 10\n",
            "i의 갯수 : 11\n",
            "j의 갯수 : 14\n"
          ]
        }
      ]
    },
    {
      "cell_type": "code",
      "source": [
        "num_list = [y for y in range(100) if y % 2 == 0 if y % 5 == 0]\n",
        "print(num_list)\n",
        "\n",
        "for y in range(100):\n",
        "    if y % 2 == 0:\n",
        "        if y % 5 == 0:\n",
        "            y\n",
        "            print(y)"
      ],
      "metadata": {
        "colab": {
          "base_uri": "https://localhost:8080/"
        },
        "id": "P9ngXUV7kvG_",
        "outputId": "0b65b96e-da75-43c7-df63-b53735426601"
      },
      "execution_count": null,
      "outputs": [
        {
          "output_type": "stream",
          "name": "stdout",
          "text": [
            "[0, 10, 20, 30, 40, 50, 60, 70, 80, 90]\n",
            "0\n",
            "10\n",
            "20\n",
            "30\n",
            "40\n",
            "50\n",
            "60\n",
            "70\n",
            "80\n",
            "90\n"
          ]
        }
      ]
    },
    {
      "cell_type": "code",
      "source": [
        "[x+y for x in ['python', 'c'] for y in ['Lang' , 'Prog']]"
      ],
      "metadata": {
        "colab": {
          "base_uri": "https://localhost:8080/"
        },
        "id": "er8iHOjLlYv-",
        "outputId": "21e58a2d-2033-4799-a144-a8dc63278bb3"
      },
      "execution_count": null,
      "outputs": [
        {
          "output_type": "execute_result",
          "data": {
            "text/plain": [
              "['pythonLang', 'pythonProg', 'cLang', 'cProg']"
            ]
          },
          "metadata": {},
          "execution_count": 87
        }
      ]
    },
    {
      "cell_type": "code",
      "source": [
        "obj = [\"Even\" if i % 2 == 0 else \"Odd\" for i in range(10)]\n",
        "print(obj)"
      ],
      "metadata": {
        "colab": {
          "base_uri": "https://localhost:8080/"
        },
        "id": "1bIQYe3blok4",
        "outputId": "ab30997c-060d-4a2a-eca1-389222f025b7"
      },
      "execution_count": null,
      "outputs": [
        {
          "output_type": "stream",
          "name": "stdout",
          "text": [
            "['Even', 'Odd', 'Even', 'Odd', 'Even', 'Odd', 'Even', 'Odd', 'Even', 'Odd']\n"
          ]
        }
      ]
    },
    {
      "cell_type": "code",
      "source": [
        "import random\n",
        "\n",
        "for i in range(5):\n",
        "    numbers = random.randint(0,10)\n",
        "    print(numbers)"
      ],
      "metadata": {
        "colab": {
          "base_uri": "https://localhost:8080/"
        },
        "id": "6smsBRHwnkuZ",
        "outputId": "1611d49c-1275-44b1-f225-67ac581c7f6f"
      },
      "execution_count": null,
      "outputs": [
        {
          "output_type": "stream",
          "name": "stdout",
          "text": [
            "2\n",
            "1\n",
            "6\n",
            "4\n",
            "2\n"
          ]
        }
      ]
    },
    {
      "cell_type": "code",
      "source": [
        "transposed = []\n",
        "matrix = [[1, 2, 3, 4], [4, 5, 6, 8]]\n",
        "\n",
        "for i in range(len(matrix[0])):\n",
        "    transposed_row = []\n",
        "\n",
        "    for row in matrix:\n",
        "        transposed_row.append(row[i])\n",
        "    transposed.append(transposed_row)\n",
        "print(transposed)"
      ],
      "metadata": {
        "colab": {
          "base_uri": "https://localhost:8080/"
        },
        "id": "j67sKch-t9QJ",
        "outputId": "1bdf77a2-df36-4422-d92f-e30db411e1b2"
      },
      "execution_count": null,
      "outputs": [
        {
          "output_type": "stream",
          "name": "stdout",
          "text": [
            "[[1, 4], [2, 5], [3, 6], [4, 8]]\n"
          ]
        }
      ]
    },
    {
      "cell_type": "code",
      "source": [
        "matrix = [[1, 2], [3, 4], [5, 6], [7, 8]]\n",
        "transpose = \\\n",
        "[[row[i] for row in matrix] for i in range(2)]\n",
        "print(transpose)"
      ],
      "metadata": {
        "colab": {
          "base_uri": "https://localhost:8080/"
        },
        "id": "CRDMZssIwF8K",
        "outputId": "9c0eea36-aba1-4333-e98e-c2b8fe4df398"
      },
      "execution_count": null,
      "outputs": [
        {
          "output_type": "stream",
          "name": "stdout",
          "text": [
            "[[1, 3, 5, 7], [2, 4, 6, 8]]\n"
          ]
        }
      ]
    },
    {
      "cell_type": "code",
      "source": [
        " a= (1, 2, 3)\n",
        " b = 1, 2, 3\n",
        "\n",
        " print(type(a))\n",
        " print(type(b))\n",
        "\n",
        " a = ((1, 2, 3), 4, 5)\n",
        " a[0][0] = 0\n",
        "\n",
        " print(a)"
      ],
      "metadata": {
        "colab": {
          "base_uri": "https://localhost:8080/",
          "height": 258
        },
        "id": "V5zu-TpU7Yop",
        "outputId": "88e26f0b-fe71-4e3a-d2b7-9aa722018684"
      },
      "execution_count": null,
      "outputs": [
        {
          "output_type": "stream",
          "name": "stdout",
          "text": [
            "<class 'tuple'>\n",
            "<class 'tuple'>\n"
          ]
        },
        {
          "output_type": "error",
          "ename": "TypeError",
          "evalue": "'tuple' object does not support item assignment",
          "traceback": [
            "\u001b[0;31m---------------------------------------------------------------------------\u001b[0m",
            "\u001b[0;31mTypeError\u001b[0m                                 Traceback (most recent call last)",
            "\u001b[0;32m<ipython-input-106-8f0833a40226>\u001b[0m in \u001b[0;36m<cell line: 8>\u001b[0;34m()\u001b[0m\n\u001b[1;32m      6\u001b[0m \u001b[0;34m\u001b[0m\u001b[0m\n\u001b[1;32m      7\u001b[0m \u001b[0ma\u001b[0m \u001b[0;34m=\u001b[0m \u001b[0;34m(\u001b[0m\u001b[0;34m(\u001b[0m\u001b[0;36m1\u001b[0m\u001b[0;34m,\u001b[0m \u001b[0;36m2\u001b[0m\u001b[0;34m,\u001b[0m \u001b[0;36m3\u001b[0m\u001b[0;34m)\u001b[0m\u001b[0;34m,\u001b[0m \u001b[0;36m4\u001b[0m\u001b[0;34m,\u001b[0m \u001b[0;36m5\u001b[0m\u001b[0;34m)\u001b[0m\u001b[0;34m\u001b[0m\u001b[0;34m\u001b[0m\u001b[0m\n\u001b[0;32m----> 8\u001b[0;31m \u001b[0ma\u001b[0m\u001b[0;34m[\u001b[0m\u001b[0;36m0\u001b[0m\u001b[0;34m]\u001b[0m\u001b[0;34m[\u001b[0m\u001b[0;36m0\u001b[0m\u001b[0;34m]\u001b[0m \u001b[0;34m=\u001b[0m \u001b[0;36m0\u001b[0m\u001b[0;34m\u001b[0m\u001b[0;34m\u001b[0m\u001b[0m\n\u001b[0m\u001b[1;32m      9\u001b[0m \u001b[0;34m\u001b[0m\u001b[0m\n\u001b[1;32m     10\u001b[0m \u001b[0mprint\u001b[0m\u001b[0;34m(\u001b[0m\u001b[0ma\u001b[0m\u001b[0;34m)\u001b[0m\u001b[0;34m\u001b[0m\u001b[0;34m\u001b[0m\u001b[0m\n",
            "\u001b[0;31mTypeError\u001b[0m: 'tuple' object does not support item assignment"
          ]
        }
      ]
    },
    {
      "cell_type": "code",
      "source": [
        "my_dict = dict ({1:'apple', 2:'ball'})\n",
        "print(my_dict)\n",
        "\n",
        "my_dict = dict([(1, 'apple'), (2, 'ball')])\n",
        "print(my_dict)\n",
        "\n",
        "my_dict = dict([[1, 'apple'], [2, 'ball']])\n",
        "print(my_dict)\n",
        "\n",
        "my_dict = dict(((1, 'apple'), (2, 'ball')))\n",
        "print(my_dict)"
      ],
      "metadata": {
        "colab": {
          "base_uri": "https://localhost:8080/"
        },
        "id": "Am7uqMtR9nj4",
        "outputId": "5069a0dc-d7e4-41e7-948f-e179b5a6dc75"
      },
      "execution_count": null,
      "outputs": [
        {
          "output_type": "stream",
          "name": "stdout",
          "text": [
            "{1: 'apple', 2: 'ball'}\n",
            "{1: 'apple', 2: 'ball'}\n",
            "{1: 'apple', 2: 'ball'}\n",
            "{1: 'apple', 2: 'ball'}\n"
          ]
        }
      ]
    },
    {
      "cell_type": "code",
      "source": [
        "list_1 = []\n",
        "mapping_t = ['a', 'b', 'c', 'd', 'e', 'f', 'g', 'h', 'i', 'j']\n",
        "\n",
        "for i , v in enumerate(mapping_t):\n",
        "    temp = [i, v]\n",
        "    # list_1[mapping_t[i]] = v\n",
        "    list_1.append(temp)\n",
        "    # temp = [i, v]\n",
        "    # list_1.append(i, v)\n",
        "\n",
        "print(list_1)\n",
        "print"
      ],
      "metadata": {
        "colab": {
          "base_uri": "https://localhost:8080/"
        },
        "id": "FQ11vw7SCv3t",
        "outputId": "e8841e70-aad1-48d8-b91c-2f06af846eb3"
      },
      "execution_count": null,
      "outputs": [
        {
          "output_type": "stream",
          "name": "stdout",
          "text": [
            "[[0, 'a'], [1, 'b'], [2, 'c'], [3, 'd'], [4, 'e'], [5, 'f'], [6, 'g'], [7, 'h'], [8, 'i'], [9, 'j']]\n"
          ]
        }
      ]
    },
    {
      "cell_type": "code",
      "source": [
        "my_dict = {'name':'Jack', 'age':26}\n",
        "my_dict['add'] = 'Dt'\n",
        "\n",
        "print(my_dict)"
      ],
      "metadata": {
        "colab": {
          "base_uri": "https://localhost:8080/"
        },
        "id": "g2mT5B6SE0QP",
        "outputId": "ba8b22b9-22de-4ed0-a28a-9201ea5a0b35"
      },
      "execution_count": null,
      "outputs": [
        {
          "output_type": "stream",
          "name": "stdout",
          "text": [
            "{'name': 'Jack', 'age': 26, 'add': 'Dt'}\n"
          ]
        }
      ]
    },
    {
      "cell_type": "code",
      "source": [
        "f = open(\"/content/123.txt\")\n",
        "f.read(8)"
      ],
      "metadata": {
        "colab": {
          "base_uri": "https://localhost:8080/",
          "height": 35
        },
        "id": "YRV4vjlwNadh",
        "outputId": "00e442c4-ccb4-4267-902a-df16730e7474"
      },
      "execution_count": null,
      "outputs": [
        {
          "output_type": "execute_result",
          "data": {
            "text/plain": [
              "'123\\n456'"
            ],
            "application/vnd.google.colaboratory.intrinsic+json": {
              "type": "string"
            }
          },
          "metadata": {},
          "execution_count": 4
        }
      ]
    },
    {
      "cell_type": "code",
      "source": [
        "import random\n",
        "gender_list1 = ['남자', '여자']\n",
        "high_list1 = [190, 170, 175, 160]\n",
        "weight_list1 = [110, 70, 65, 50]\n",
        "\n",
        "def _KNN(k, sd, t):\n",
        "    return k, sd,t\n",
        "\n",
        "# for i in range(100):\n",
        "    numbers1 = random.sample(range(100),k = 2)\n",
        "    numbers2 = random.sample(range(100),k = 4)\n",
        "    numbers3 = random.sample(range(100),k = 4)\n",
        "\n",
        "    print(numbers1)\n",
        "    print(numbers2)\n",
        "    print(numbers3)\n",
        "    # numbers1 = random.sample(gender_list1,k =100)\n",
        "    # numbers2 = random.sample(high_list1,k =100)\n",
        "    # numbers3 = random.sample(weight_list1,k =100)\n",
        "    # if gender_list1 == numbers1[0]:\n",
        "    # elif high_list1 == numbers2[0]:\n",
        "    # elif weight_list1 == numbers3[0]:\n",
        "\n",
        "\n",
        "\n",
        "_KNN(100, 170, 65)\n",
        "_KNN(100, 160, 50)\n",
        "\n"
      ],
      "metadata": {
        "colab": {
          "base_uri": "https://localhost:8080/"
        },
        "id": "Do-TjkP5vb1Z",
        "outputId": "ec145287-0f38-42e8-bee5-23c4785f66fb"
      },
      "execution_count": null,
      "outputs": [
        {
          "output_type": "execute_result",
          "data": {
            "text/plain": [
              "(100, 160, 50)"
            ]
          },
          "metadata": {},
          "execution_count": 6
        }
      ]
    },
    {
      "cell_type": "code",
      "source": [
        "import random\n",
        "import math\n",
        "\n",
        "samples = []\n",
        "\n",
        "for i in range(100):\n",
        "    m_w = random.randint(65,100)\n",
        "    m_h = random.randint(170, 190)\n",
        "    w_w = random.randint(50, 70)\n",
        "    w_h = random.randint(150, 175)\n",
        "    m = [m_w, m_h, '남']\n",
        "    w = [w_w, w_h, '여']\n",
        "    samples.append(m)\n",
        "    samples.append(w)"
      ],
      "metadata": {
        "id": "Ye78RyfFCUJE"
      },
      "execution_count": null,
      "outputs": []
    },
    {
      "cell_type": "code",
      "source": [
        "samples"
      ],
      "metadata": {
        "id": "AHWg7bcmDvNY"
      },
      "execution_count": null,
      "outputs": []
    },
    {
      "cell_type": "code",
      "source": [
        "t_w = random.randint(65,100)\n",
        "t_h = random.randint(170, 190)\n",
        "t = [t_w, t_h]\n",
        "\n",
        "d_g = []\n",
        "\n",
        "for i in samples:\n",
        "    d = math.sqrt((i[0]-t[0])**2 + (i[1]-t[1])**2)\n",
        "\n",
        "    s_t = [d, i[2]]\n",
        "    d_g.append(s_t)\n",
        "\n",
        "for i in range(len(d_g)):\n",
        "    for j in range(i+1, len(d_g)):\n",
        "        if d_g[i][0] > d_g[j][0]:\n",
        "            temp = d_g[j]\n",
        "            d_g[j] = d_g[i]\n",
        "            d_g[i] = temp\n",
        "\n",
        "k = 10\n",
        "c_m = 0; c_w = 0\n",
        "for i in range(k):\n",
        "    if d_g[i][1] == '남':\n",
        "        c_m = c_m + 1\n",
        "    elif d_g[i][1] == '여':\n",
        "        c_w = c_w + 1\n",
        "\n",
        "if c_m > c_w:\n",
        "    print(\"몸무게: {}, 키: {}이고 성별은 {}로 예측.\".format(t_w,t_h,\"남\"))\n",
        "else:\n",
        "    print(\"몸무게: {}, 키: {}이고 성별은 {}로 예측.\".format(t_w,t_h,\"여\"))\n",
        "\n",
        "    print(d_g)"
      ],
      "metadata": {
        "colab": {
          "base_uri": "https://localhost:8080/"
        },
        "id": "89cX6UbzEseO",
        "outputId": "d9798ec9-c1a7-4928-89d9-1d1a031b47b8"
      },
      "execution_count": null,
      "outputs": [
        {
          "output_type": "stream",
          "name": "stdout",
          "text": [
            "몸무게: 83, 키: 184이고 성별은 남로 예측.\n"
          ]
        }
      ]
    },
    {
      "cell_type": "code",
      "source": [
        "def _KNN(samples, t, k=3):\n",
        "    #거리 계산\n",
        "    d_g = []\n",
        "\n",
        "    for i in samples:\n",
        "        d = math.sqrt((i[0]-t[0])**2 + (i[1]-t[1])**2)\n",
        "\n",
        "        s_t = [d, i[2]]\n",
        "        d_g.append(s_t)\n",
        "\n",
        "    #거리 정렬\n",
        "    for i in range(len(d_g)):\n",
        "        for j in range(i+1, len(d_g)):\n",
        "            if d_g[i][0] > d_g[j][0]:\n",
        "                temp = d_g[j]\n",
        "                d_g[j] = d_g[i]\n",
        "                d_g[i] = temp\n",
        "\n",
        "    #k개의 샘플로 예측\n",
        "    #k = 10\n",
        "    c_m = 0; c_w = 0\n",
        "    for i in range(k):\n",
        "        if d_g[i][1] == '남':\n",
        "            c_m = c_m + 1\n",
        "        elif d_g[i][1] == '여':\n",
        "            c_w = c_w + 1\n",
        "\n",
        "    _res = None\n",
        "    if c_m > c_w:\n",
        "        _res = '남'\n",
        "    else:\n",
        "        res = '여'\n",
        "\n",
        "    return res\n",
        "\n",
        "for i in range(10):\n",
        "    t_w = random.randint(65,100)\n",
        "    t_h = random.randint(170, 190)\n",
        "    t = [t_w, t_h]\n",
        "print(\"몸무게: {}, 키: {}이고 성별은 {}로 예측.\".format(t_w,t_h,_KNN(samples, t, k=3),\"남\"))"
      ],
      "metadata": {
        "colab": {
          "base_uri": "https://localhost:8080/",
          "height": 314
        },
        "id": "NMF1zyakoWU2",
        "outputId": "91729fc3-faba-4dfc-a158-5543b4837c68"
      },
      "execution_count": null,
      "outputs": [
        {
          "output_type": "error",
          "ename": "TypeError",
          "evalue": "object of type 'int' has no len()",
          "traceback": [
            "\u001b[0;31m---------------------------------------------------------------------------\u001b[0m",
            "\u001b[0;31mTypeError\u001b[0m                                 Traceback (most recent call last)",
            "\u001b[0;32m<ipython-input-22-e5d15638e7c2>\u001b[0m in \u001b[0;36m<cell line: 36>\u001b[0;34m()\u001b[0m\n\u001b[1;32m     38\u001b[0m     \u001b[0mt_h\u001b[0m \u001b[0;34m=\u001b[0m \u001b[0mrandom\u001b[0m\u001b[0;34m.\u001b[0m\u001b[0mrandint\u001b[0m\u001b[0;34m(\u001b[0m\u001b[0;36m170\u001b[0m\u001b[0;34m,\u001b[0m \u001b[0;36m190\u001b[0m\u001b[0;34m)\u001b[0m\u001b[0;34m\u001b[0m\u001b[0;34m\u001b[0m\u001b[0m\n\u001b[1;32m     39\u001b[0m     \u001b[0mt\u001b[0m \u001b[0;34m=\u001b[0m \u001b[0;34m[\u001b[0m\u001b[0mt_w\u001b[0m\u001b[0;34m,\u001b[0m \u001b[0mt_h\u001b[0m\u001b[0;34m]\u001b[0m\u001b[0;34m\u001b[0m\u001b[0;34m\u001b[0m\u001b[0m\n\u001b[0;32m---> 40\u001b[0;31m     \u001b[0mprint\u001b[0m\u001b[0;34m(\u001b[0m\u001b[0;34m\"몸무게: {}, 키: {}이고 성별은 {}로 예측.\"\u001b[0m\u001b[0;34m.\u001b[0m\u001b[0mformat\u001b[0m\u001b[0;34m(\u001b[0m\u001b[0mt_w\u001b[0m\u001b[0;34m,\u001b[0m\u001b[0mt_h\u001b[0m\u001b[0;34m,\u001b[0m\u001b[0m_KNN\u001b[0m\u001b[0;34m(\u001b[0m\u001b[0msamples\u001b[0m\u001b[0;34m,\u001b[0m \u001b[0mt\u001b[0m\u001b[0;34m,\u001b[0m \u001b[0mk\u001b[0m\u001b[0;34m=\u001b[0m\u001b[0;36m3\u001b[0m\u001b[0;34m)\u001b[0m\u001b[0;34m,\u001b[0m\u001b[0;34m\"남\"\u001b[0m\u001b[0;34m)\u001b[0m\u001b[0;34m)\u001b[0m\u001b[0;34m\u001b[0m\u001b[0;34m\u001b[0m\u001b[0m\n\u001b[0m",
            "\u001b[0;32m<ipython-input-22-e5d15638e7c2>\u001b[0m in \u001b[0;36m_KNN\u001b[0;34m(samples, t, k)\u001b[0m\n\u001b[1;32m     10\u001b[0m \u001b[0;34m\u001b[0m\u001b[0m\n\u001b[1;32m     11\u001b[0m     \u001b[0;31m#거리 정렬\u001b[0m\u001b[0;34m\u001b[0m\u001b[0;34m\u001b[0m\u001b[0m\n\u001b[0;32m---> 12\u001b[0;31m     \u001b[0;32mfor\u001b[0m \u001b[0mi\u001b[0m \u001b[0;32min\u001b[0m \u001b[0mrange\u001b[0m\u001b[0;34m(\u001b[0m\u001b[0mlen\u001b[0m\u001b[0;34m(\u001b[0m\u001b[0mk\u001b[0m\u001b[0;34m)\u001b[0m\u001b[0;34m)\u001b[0m\u001b[0;34m:\u001b[0m\u001b[0;34m\u001b[0m\u001b[0;34m\u001b[0m\u001b[0m\n\u001b[0m\u001b[1;32m     13\u001b[0m         \u001b[0;32mfor\u001b[0m \u001b[0mj\u001b[0m \u001b[0;32min\u001b[0m \u001b[0mrange\u001b[0m\u001b[0;34m(\u001b[0m\u001b[0mi\u001b[0m\u001b[0;34m+\u001b[0m\u001b[0;36m1\u001b[0m\u001b[0;34m,\u001b[0m \u001b[0mlen\u001b[0m\u001b[0;34m(\u001b[0m\u001b[0md_g\u001b[0m\u001b[0;34m)\u001b[0m\u001b[0;34m)\u001b[0m\u001b[0;34m:\u001b[0m\u001b[0;34m\u001b[0m\u001b[0;34m\u001b[0m\u001b[0m\n\u001b[1;32m     14\u001b[0m             \u001b[0;32mif\u001b[0m \u001b[0md_g\u001b[0m\u001b[0;34m[\u001b[0m\u001b[0mi\u001b[0m\u001b[0;34m]\u001b[0m\u001b[0;34m[\u001b[0m\u001b[0;36m0\u001b[0m\u001b[0;34m]\u001b[0m \u001b[0;34m>\u001b[0m \u001b[0md_g\u001b[0m\u001b[0;34m[\u001b[0m\u001b[0mj\u001b[0m\u001b[0;34m]\u001b[0m\u001b[0;34m[\u001b[0m\u001b[0;36m0\u001b[0m\u001b[0;34m]\u001b[0m\u001b[0;34m:\u001b[0m\u001b[0;34m\u001b[0m\u001b[0;34m\u001b[0m\u001b[0m\n",
            "\u001b[0;31mTypeError\u001b[0m: object of type 'int' has no len()"
          ]
        }
      ]
    },
    {
      "cell_type": "code",
      "source": [
        "#더 작은 값으로 정렬하는 법\n",
        "\n",
        "a = [6, 2, 1, 5, 4, 3, 7, 9, 12]\n",
        "\n",
        "for i in range(len(a)):\n",
        "    for j in range(i+1, len(a)):\n",
        "        # print(a[i], a[j])\n",
        "        if a[i] > a[j]:\n",
        "            temp = a[j]\n",
        "            a[j] = a[i]\n",
        "            a[i] = temp\n",
        "        print(a[i], a[j])\n",
        "print(a)"
      ],
      "metadata": {
        "id": "xBy10VhNjYyS"
      },
      "execution_count": null,
      "outputs": []
    },
    {
      "cell_type": "code",
      "source": [
        "#더 작은 값으로 정렬하는 법\n",
        "\n",
        "a = [6, 2, 1, 5, 4, 3, 7, 9, 12]\n",
        "\n",
        "for i in range(len(a)-1):\n",
        "    for j in range(i+1, len(a)):\n",
        "        # print(a[i], a[j])\n",
        "        if a[i] > a[j]:\n",
        "            temp = a[j]\n",
        "            a[j] = a[i]\n",
        "            a[i] = temp\n",
        "        print(a[i], a[j])\n",
        "print(a)"
      ],
      "metadata": {
        "id": "iuqA9U-Tl35B"
      },
      "execution_count": null,
      "outputs": []
    },
    {
      "cell_type": "code",
      "source": [
        "# T = True; F=False\n",
        "days = ('월', '화', '수', '목', '금')\n",
        "ns = 5\n",
        "t2 = [{'월':0, '화':0, '수':0, '목':0, '금':1},\n",
        "      {'월':1, '화':0, '수':0, '목':0, '금':0},\n",
        "      {'월':0, '화':1, '수':0, '목':0, '금':0},\n",
        "      {'월':0, '화':0, '수':1, '목':0, '금':0},\n",
        "      {'월':0, '화':0, '수':0, '목':1, '금':0}\n",
        "]\n",
        "n = None\n",
        "while True:\n",
        "    n = int(input(\"차량번호 끝자리(0~9) : \"))\n",
        "    if n >= 0 and n <= 9 :\n",
        "        break\n",
        "d = None\n",
        "while True:\n",
        "    d = input(\"요일(월~금) : \")\n",
        "    if d in days:\n",
        "        break\n",
        "\n",
        "n = n % ns\n",
        "if t2[n][d]:\n",
        "    print(\"차량 5부제 해당\")\n",
        "else:\n",
        "    print(\"차량 5부제 미해당\")"
      ],
      "metadata": {
        "colab": {
          "base_uri": "https://localhost:8080/"
        },
        "id": "8b1H_GLCg5Fy",
        "outputId": "c53d0746-0f12-4678-a278-c3b93bc5c41c"
      },
      "execution_count": null,
      "outputs": [
        {
          "output_type": "stream",
          "name": "stdout",
          "text": [
            "차량번호 끝자리(0~9) : 1\n",
            "요일(월~금) : 월\n",
            "차량 5부제 해당\n"
          ]
        }
      ]
    },
    {
      "cell_type": "code",
      "source": [
        "import numpy as np\n",
        "import matplotlib.pyplot as plt\n",
        "from sklearn.cluster import KMeans\n",
        "import random\n",
        "import math\n",
        "\n",
        "sample_list = []\n",
        "d_g = []\n",
        "\n",
        "# k = 4\n",
        "\n",
        "for i in range(500):\n",
        "    human_h = random.randint(170, 190)\n",
        "    human_w = random.randint(50, 70)\n",
        "    human_list = [human_h, human_w]\n",
        "    sample_list.append(human_list)\n",
        "\n",
        "# k = 4  # 클러스터의 수\n",
        "# model = KMeans(n_clusters=k)\n",
        "# model.fit(sample_list)\n",
        "\n",
        "for i in sample_list:\n",
        "    d = math.sqrt((i[0]-t[0])**2 + (i[1]-t[1])**2)\n",
        "\n",
        "    s_t = [d, i[1]]\n",
        "    d_g.append(s_t)\n",
        "\n",
        "for i in range(len(d_g)):\n",
        "    for j in range(i+1, len(d_g)):\n",
        "        if d_g[i][0] > d_g[j][0]:\n",
        "            temp = d_g[j]\n",
        "            d_g[j] = d_g[i]\n",
        "            d_g[i] = temp\n",
        "\n",
        "k = 4\n",
        "c_m = 0; c_w = 0\n",
        "for i in range(k):\n",
        "    if d_g[i][1] == '남':\n",
        "        c_m = c_m + 1\n",
        "    elif d_g[i][1] == '여':\n",
        "        c_w = c_w + 1\n",
        "\n",
        "if c_m > c_w:\n",
        "    print(\"몸무게: {}, 키: {}이고 성별은 {}로 예측.\".format(t_w,t_h))\n",
        "# else:\n",
        "#     # print(\"몸무게: {}, 키: {}이고 성별은 {}로 예측.\".format(t_w,t_h))\n",
        "\n",
        "    print(d_g)\n",
        "\n",
        "\n",
        "# print(model)\n",
        "print(sample_list)\n",
        "# print(len(sample_list))"
      ],
      "metadata": {
        "colab": {
          "base_uri": "https://localhost:8080/"
        },
        "id": "R_-RE5IHycY_",
        "outputId": "02adfbbd-44de-40ba-e185-fc64ec3cacc5"
      },
      "execution_count": null,
      "outputs": [
        {
          "output_type": "stream",
          "name": "stdout",
          "text": [
            "[[179, 65], [181, 69], [181, 58], [171, 59], [182, 63], [183, 52], [184, 56], [186, 70], [175, 69], [176, 64], [170, 54], [179, 70], [180, 67], [173, 58], [184, 70], [173, 66], [186, 55], [178, 60], [175, 64], [187, 65], [187, 69], [176, 55], [187, 60], [185, 63], [174, 61], [180, 64], [183, 60], [172, 62], [190, 58], [171, 55], [184, 69], [188, 68], [184, 54], [172, 59], [190, 60], [184, 52], [172, 51], [174, 53], [174, 53], [174, 63], [181, 61], [176, 65], [182, 66], [173, 55], [175, 66], [173, 69], [178, 50], [180, 54], [190, 59], [180, 68], [173, 60], [171, 69], [176, 61], [170, 62], [173, 65], [184, 57], [187, 58], [174, 56], [182, 69], [175, 55], [189, 68], [173, 61], [189, 51], [179, 54], [184, 51], [179, 62], [182, 54], [176, 54], [177, 50], [175, 56], [185, 58], [181, 69], [176, 57], [174, 62], [186, 60], [186, 53], [178, 68], [182, 67], [171, 67], [179, 55], [177, 59], [186, 52], [176, 61], [173, 53], [173, 52], [171, 65], [185, 59], [181, 65], [190, 64], [172, 54], [187, 64], [183, 70], [175, 55], [170, 58], [181, 65], [173, 65], [183, 56], [176, 53], [181, 62], [175, 59], [175, 55], [190, 58], [187, 64], [187, 52], [185, 56], [172, 63], [186, 61], [176, 63], [170, 52], [171, 54], [177, 67], [186, 58], [184, 56], [174, 70], [177, 63], [181, 50], [179, 53], [181, 50], [174, 59], [189, 55], [186, 62], [178, 60], [188, 61], [172, 62], [172, 67], [180, 70], [170, 66], [177, 59], [178, 58], [174, 57], [190, 60], [186, 60], [175, 68], [175, 64], [178, 62], [183, 68], [176, 63], [183, 70], [177, 68], [170, 65], [185, 70], [178, 68], [179, 59], [170, 59], [189, 51], [175, 56], [175, 50], [178, 53], [173, 63], [175, 68], [180, 55], [180, 57], [190, 58], [185, 70], [172, 68], [183, 65], [181, 70], [182, 50], [187, 60], [173, 53], [176, 61], [170, 51], [178, 64], [180, 55], [174, 58], [179, 70], [188, 59], [176, 59], [189, 58], [176, 62], [170, 55], [187, 55], [176, 54], [187, 66], [172, 62], [173, 61], [174, 56], [178, 57], [173, 60], [174, 62], [179, 53], [178, 69], [170, 67], [181, 53], [185, 60], [175, 51], [176, 60], [184, 54], [185, 66], [175, 52], [185, 55], [178, 61], [183, 57], [178, 52], [178, 51], [183, 67], [182, 58], [188, 51], [181, 61], [187, 60], [182, 67], [170, 53], [186, 68], [187, 61], [188, 69], [174, 54], [174, 54], [183, 69], [186, 67], [176, 62], [178, 55], [180, 58], [184, 52], [179, 66], [174, 60], [173, 50], [189, 51], [186, 58], [186, 67], [185, 65], [173, 62], [185, 58], [188, 62], [180, 50], [174, 56], [173, 58], [174, 62], [178, 56], [181, 58], [188, 65], [188, 51], [181, 69], [176, 66], [178, 58], [186, 67], [186, 67], [173, 63], [190, 65], [180, 64], [176, 70], [180, 51], [188, 60], [175, 52], [190, 66], [190, 55], [172, 53], [187, 57], [188, 69], [180, 70], [173, 59], [182, 62], [190, 60], [189, 54], [179, 59], [185, 64], [180, 54], [190, 53], [178, 70], [190, 66], [182, 58], [170, 61], [172, 61], [187, 66], [185, 54], [173, 53], [186, 61], [189, 59], [187, 64], [187, 62], [185, 60], [185, 61], [176, 68], [176, 70], [172, 56], [174, 62], [188, 67], [174, 61], [172, 57], [175, 63], [187, 67], [176, 68], [181, 57], [187, 53], [177, 52], [170, 68], [182, 56], [179, 61], [178, 70], [184, 61], [183, 67], [172, 53], [173, 59], [189, 61], [177, 51], [176, 60], [190, 62], [188, 67], [181, 68], [185, 63], [170, 62], [172, 70], [178, 69], [175, 69], [185, 70], [185, 64], [188, 65], [179, 50], [175, 67], [181, 57], [188, 51], [172, 69], [172, 58], [183, 55], [177, 56], [184, 68], [172, 59], [184, 63], [189, 67], [175, 67], [185, 60], [182, 65], [173, 59], [181, 63], [172, 64], [174, 52], [178, 52], [178, 51], [174, 69], [180, 67], [185, 53], [175, 69], [182, 62], [176, 65], [184, 69], [189, 54], [188, 64], [187, 55], [179, 66], [173, 63], [188, 62], [172, 58], [175, 65], [188, 65], [177, 68], [187, 70], [182, 56], [182, 55], [179, 53], [173, 64], [177, 60], [190, 51], [182, 52], [189, 52], [179, 65], [177, 53], [175, 57], [175, 70], [186, 61], [189, 70], [181, 53], [183, 66], [177, 65], [170, 68], [179, 64], [180, 54], [182, 51], [182, 56], [190, 68], [187, 59], [180, 50], [174, 51], [172, 65], [184, 57], [186, 56], [176, 55], [171, 58], [182, 55], [181, 54], [170, 56], [178, 52], [174, 63], [184, 55], [186, 53], [187, 60], [190, 61], [183, 70], [174, 57], [187, 70], [177, 54], [190, 56], [177, 59], [179, 66], [171, 62], [177, 60], [173, 61], [176, 66], [188, 55], [187, 68], [175, 69], [184, 58], [172, 55], [180, 56], [190, 54], [170, 57], [179, 51], [187, 69], [180, 64], [173, 55], [183, 60], [172, 62], [181, 68], [184, 52], [183, 50], [182, 63], [180, 50], [189, 54], [185, 60], [183, 63], [183, 67], [189, 65], [176, 53], [184, 58], [174, 65], [187, 61], [183, 55], [189, 58], [189, 55], [181, 52], [180, 60], [186, 62], [189, 53], [189, 50], [182, 58], [174, 65], [173, 59], [189, 55], [175, 63], [177, 68], [179, 50], [179, 65], [188, 57], [181, 52], [178, 53], [187, 68], [180, 52], [186, 55], [188, 66], [173, 50], [188, 62], [176, 58], [179, 62], [178, 52], [172, 53], [184, 67], [178, 68], [185, 64], [174, 68], [176, 60], [187, 55], [184, 70], [190, 58], [189, 52], [178, 62], [181, 69], [180, 64], [172, 59], [190, 52], [179, 55], [181, 54], [175, 55], [171, 53], [187, 64], [180, 57], [176, 55], [189, 69], [171, 68], [182, 58], [172, 68], [178, 58], [180, 59], [184, 50], [185, 66], [174, 64], [187, 53], [171, 64], [180, 64], [172, 60], [184, 52], [181, 67], [185, 65], [184, 52], [188, 54], [183, 61], [172, 63], [185, 69], [179, 52], [188, 65], [177, 52], [170, 54], [179, 50]]\n"
          ]
        }
      ]
    },
    {
      "cell_type": "code",
      "source": [
        "import numpy as np\n",
        "import matplotlib.pyplot as plt\n",
        "from sklearn.cluster import KMeans\n",
        "import random\n",
        "import math\n",
        "\n",
        "sample_list = []\n",
        "# d_g = []\n",
        "\n",
        "# k = 4\n",
        "\n",
        "for i in range(500):\n",
        "    human_h = random.randint(170, 190)\n",
        "    human_w = random.randint(50, 70)\n",
        "    human_list = [human_h, human_w]\n",
        "    sample_list.append(human_list)\n",
        "\n",
        "k = 4  # 클러스터의 수\n",
        "model = KMeans(n_clusters=k)\n",
        "model.fit(sample_list)\n",
        "\n",
        "centroids = model.cluster_centers_\n",
        "labels = model.labels_\n",
        "\n",
        "# for i in range(4):\n",
        "#     while True:\n",
        "\n",
        "print(len(labels))\n",
        "print(labels)\n",
        "\n",
        "# X= -2 * np.random.rand(500,2)\n",
        "# X1 = 1 + 2 * np.random.rand(50,2)\n",
        "# X[50:500, :] = X1\n",
        "# plt.scatter(X[ : , 0], X[ :, 1], s = 50, c = 'b')\n",
        "plt.show()"
      ],
      "metadata": {
        "colab": {
          "base_uri": "https://localhost:8080/"
        },
        "id": "JrJwrOLM_-OS",
        "outputId": "15225c53-c336-4cc0-af51-6cce6fb7360f"
      },
      "execution_count": 1,
      "outputs": [
        {
          "output_type": "stream",
          "name": "stdout",
          "text": [
            "500\n",
            "[3 1 0 3 2 3 2 3 0 3 3 1 2 0 3 3 2 1 2 3 0 1 1 1 3 3 3 2 0 0 0 3 1 0 3 1 0\n",
            " 2 3 2 1 2 3 3 3 2 3 0 3 0 2 3 2 1 3 2 0 3 1 3 3 0 3 3 3 2 1 1 2 1 3 0 0 2\n",
            " 2 2 3 1 3 1 0 0 1 0 1 2 1 1 3 0 1 3 0 3 0 0 1 2 1 1 3 0 2 2 2 0 2 2 0 1 0\n",
            " 3 1 2 1 0 0 0 1 3 2 0 3 3 2 0 1 2 1 3 3 2 3 3 3 0 1 2 3 0 3 1 2 3 3 0 3 2\n",
            " 0 1 1 0 2 2 1 1 0 3 0 2 3 1 1 0 3 2 0 0 3 3 3 3 1 2 3 0 3 2 3 0 0 3 3 3 2\n",
            " 3 3 3 3 3 0 2 2 3 1 2 3 1 1 1 0 0 0 0 3 1 3 1 3 0 3 3 0 1 1 0 1 1 3 2 1 2\n",
            " 0 0 0 3 2 3 3 0 2 1 2 1 2 0 3 3 2 0 2 1 0 3 0 2 1 1 2 2 2 3 0 0 2 1 2 0 2\n",
            " 0 1 3 1 2 3 2 1 1 3 1 2 2 0 3 0 3 1 3 3 0 3 1 1 0 3 3 0 2 0 0 2 2 3 3 0 3\n",
            " 3 1 0 2 0 1 0 2 2 1 0 1 3 1 2 1 1 3 3 2 3 3 2 1 2 2 2 2 2 0 1 3 0 0 1 0 0\n",
            " 0 2 3 1 3 1 1 0 2 1 2 0 0 0 2 2 2 3 0 2 0 1 2 2 0 3 2 0 1 1 2 3 0 2 1 0 3\n",
            " 0 0 0 2 1 2 1 0 0 1 2 1 2 0 0 1 0 3 3 3 0 1 0 3 1 1 1 2 0 2 0 2 0 1 2 0 3\n",
            " 0 2 1 0 2 3 0 1 2 0 0 3 2 3 0 1 3 3 0 0 3 2 0 1 2 2 2 3 3 0 1 3 0 3 2 3 1\n",
            " 1 1 0 3 2 0 3 0 0 0 2 1 1 1 2 3 3 3 0 1 2 2 2 0 3 2 3 2 1 0 3 1 3 3 1 2 3\n",
            " 1 3 2 0 3 2 0 0 1 0 1 0 3 3 0 2 0 0 0]\n"
          ]
        },
        {
          "output_type": "stream",
          "name": "stderr",
          "text": [
            "/usr/local/lib/python3.10/dist-packages/sklearn/cluster/_kmeans.py:870: FutureWarning: The default value of `n_init` will change from 10 to 'auto' in 1.4. Set the value of `n_init` explicitly to suppress the warning\n",
            "  warnings.warn(\n"
          ]
        }
      ]
    },
    {
      "cell_type": "code",
      "source": [
        "samples = []\n",
        "\n",
        "for i in range(100):\n",
        "    m_w = random.randint(65, 100) + random.randint(-5, 5)\n",
        "    m_h = random.randint(170, 190) + random.randint(-5, 5)\n",
        "    w_w = random.randint(50, 70) + random.randint(-5, 5)\n",
        "    w_h = random.randint(150, 175) + random.randint(-5, 5)\n",
        "    m = [m_w, m_h, '남']\n",
        "    w = [w_w, w_h, '여']\n",
        "    samples.append(m)\n",
        "    samples.append(w)\n",
        "\n",
        "x = []\n",
        "\n",
        "for s in samples:\n",
        "    # print(s)\n",
        "    x.append(s[0])\n",
        "\n",
        "print(x)\n",
        "\n",
        "y = list(s[0] for s in samples)\n",
        "print(y)"
      ],
      "metadata": {
        "colab": {
          "base_uri": "https://localhost:8080/"
        },
        "id": "NSqmYxrRn1-h",
        "outputId": "9ce20a91-3006-4608-8213-cbf31ecb6b9d"
      },
      "execution_count": 8,
      "outputs": [
        {
          "output_type": "stream",
          "name": "stdout",
          "text": [
            "[96, 46, 87, 59, 69, 56, 90, 54, 69, 72, 89, 69, 97, 55, 102, 62, 102, 55, 85, 50, 82, 51, 74, 66, 63, 72, 100, 60, 69, 71, 94, 57, 66, 66, 78, 62, 83, 52, 88, 62, 99, 63, 73, 57, 73, 59, 74, 62, 87, 70, 64, 65, 85, 68, 101, 69, 89, 50, 86, 48, 103, 49, 88, 61, 91, 53, 64, 49, 81, 59, 77, 53, 94, 53, 95, 57, 96, 58, 70, 63, 99, 46, 97, 70, 85, 51, 90, 53, 70, 55, 89, 61, 92, 49, 95, 63, 86, 48, 86, 62, 97, 65, 68, 64, 88, 68, 67, 69, 91, 51, 66, 69, 71, 60, 90, 73, 90, 63, 82, 65, 65, 67, 73, 50, 86, 55, 95, 51, 88, 72, 70, 59, 81, 69, 84, 61, 65, 57, 70, 57, 69, 58, 92, 72, 90, 56, 95, 62, 74, 50, 76, 62, 89, 72, 72, 55, 85, 63, 84, 63, 88, 52, 67, 70, 99, 61, 92, 64, 69, 66, 69, 64, 88, 59, 85, 70, 77, 58, 71, 53, 83, 66, 93, 58, 77, 67, 87, 65, 88, 63, 85, 63, 70, 50, 87, 59, 92, 58, 78, 59]\n",
            "[96, 46, 87, 59, 69, 56, 90, 54, 69, 72, 89, 69, 97, 55, 102, 62, 102, 55, 85, 50, 82, 51, 74, 66, 63, 72, 100, 60, 69, 71, 94, 57, 66, 66, 78, 62, 83, 52, 88, 62, 99, 63, 73, 57, 73, 59, 74, 62, 87, 70, 64, 65, 85, 68, 101, 69, 89, 50, 86, 48, 103, 49, 88, 61, 91, 53, 64, 49, 81, 59, 77, 53, 94, 53, 95, 57, 96, 58, 70, 63, 99, 46, 97, 70, 85, 51, 90, 53, 70, 55, 89, 61, 92, 49, 95, 63, 86, 48, 86, 62, 97, 65, 68, 64, 88, 68, 67, 69, 91, 51, 66, 69, 71, 60, 90, 73, 90, 63, 82, 65, 65, 67, 73, 50, 86, 55, 95, 51, 88, 72, 70, 59, 81, 69, 84, 61, 65, 57, 70, 57, 69, 58, 92, 72, 90, 56, 95, 62, 74, 50, 76, 62, 89, 72, 72, 55, 85, 63, 84, 63, 88, 52, 67, 70, 99, 61, 92, 64, 69, 66, 69, 64, 88, 59, 85, 70, 77, 58, 71, 53, 83, 66, 93, 58, 77, 67, 87, 65, 88, 63, 85, 63, 70, 50, 87, 59, 92, 58, 78, 59]\n"
          ]
        }
      ]
    }
  ]
}