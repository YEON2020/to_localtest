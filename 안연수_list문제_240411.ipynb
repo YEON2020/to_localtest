{
  "nbformat": 4,
  "nbformat_minor": 0,
  "metadata": {
    "colab": {
      "provenance": [],
      "authorship_tag": "ABX9TyOmtrok24I8/ThCkmtbzoeU",
      "include_colab_link": true
    },
    "kernelspec": {
      "name": "python3",
      "display_name": "Python 3"
    },
    "language_info": {
      "name": "python"
    }
  },
  "cells": [
    {
      "cell_type": "markdown",
      "metadata": {
        "id": "view-in-github",
        "colab_type": "text"
      },
      "source": [
        "<a href=\"https://colab.research.google.com/github/YEON2020/to_localtest/blob/main/%EC%95%88%EC%97%B0%EC%88%98_list%EB%AC%B8%EC%A0%9C_240411.ipynb\" target=\"_parent\"><img src=\"https://colab.research.google.com/assets/colab-badge.svg\" alt=\"Open In Colab\"/></a>"
      ]
    },
    {
      "cell_type": "code",
      "execution_count": 6,
      "metadata": {
        "colab": {
          "base_uri": "https://localhost:8080/"
        },
        "id": "4TLsKExlxecj",
        "outputId": "b75208c4-d8b4-40a1-f734-37b7824f5689"
      },
      "outputs": [
        {
          "output_type": "stream",
          "name": "stdout",
          "text": [
            "['4', '5', '6']\n",
            "False\n",
            "3.3000000000000003\n"
          ]
        }
      ],
      "source": [
        "a = \"456\"\n",
        "\n",
        "a = list(a)\n",
        "print(a)\n",
        "\n",
        "print((1.1 + 2.2) == 3.3)\n",
        "print(1.1 + 2.2)"
      ]
    },
    {
      "cell_type": "code",
      "source": [
        "import random\n",
        "random.randint(0,100)\n",
        "numbers = list(range(101))\n",
        "a = random.randict(0, 100)\n",
        "b = {0:'a', 1:'b', 2:'c', 3:'d', 4:'e', 5:'f', 6:'g', 7:'h', 8:'i', 9:'j', 10:'k', 11:'l', 12:'n', 13: 'm',\n",
        "     14: 'o', 15:'p', 16:'q', 17:'r', 18:'s', 19:'t', 20:'u', 21:'v', 22:'w', 23:'x', 24:'y', 25:'z'}\n",
        "\n",
        "for i in range(0, 100):\n",
        "    if b[0] == 'a'\n",
        "    elif b[1] == 'b'\n",
        "    elif b[2] == 'c'\n",
        "     for num in numbers\n",
        "    for x in b:\n",
        "\n",
        "c = []\n",
        "c.append(b)\n",
        "\n",
        "a_count =\n",
        "\n",
        "print(f'a개의 갯수 : {a_count}')\n",
        "print(f'b개의 갯수 : {b_count}')\n",
        "print(f'c개의 갯수 : {c_count}')\n",
        "print(f'd개의 갯수 : {d_count}')\n",
        "print(f'e개의 갯수 : {e_count}')\n",
        "print(f'f개의 갯수 : {f_count}')\n",
        "print(f'g개의 갯수 : {g_count}')\n",
        "print(f'h개의 갯수 : {h_count}')\n",
        "print(f'i개의 갯수 : {i_count}')\n",
        "print(f'j개의 갯수 : {j_count}')\n",
        "print(f'k개의 갯수 : {k_count}')\n",
        "print(f'l개의 갯수 : {l_count}')\n",
        "print(f'n개의 갯수 : {n_count}')\n",
        "print(f'm개의 갯수 : {m_count}')\n",
        "print(f'o개의 갯수 : {o_count}')\n",
        "print(f'p개의 갯수 : {p_count}')\n",
        "print(f'q개의 갯수 : {q_count}')\n",
        "print(f'r개의 갯수 : {r_count}')\n",
        "print(f's개의 갯수 : {s_count}')\n",
        "print(f't개의 갯수 : {t_count}')\n",
        "print(f'u개의 갯수 : {u_count}')\n",
        "print(f'v개의 갯수 : {v_count}')\n",
        "print(f'w개의 갯수 : {w_count}')\n",
        "print(f'x개의 갯수 : {x_count}')\n",
        "print(f'y개의 갯수 : {y_count}')\n",
        "print(f'z개의 갯수 : {z_count}')"
      ],
      "metadata": {
        "colab": {
          "base_uri": "https://localhost:8080/",
          "height": 111
        },
        "id": "EiH18CfS8ncP",
        "outputId": "1b064c5f-d45f-4b01-f7e8-157f9d1de7fc"
      },
      "execution_count": 23,
      "outputs": [
        {
          "output_type": "error",
          "ename": "SyntaxError",
          "evalue": "expected ':' (<ipython-input-23-84161864c037>, line 9)",
          "traceback": [
            "\u001b[0;36m  File \u001b[0;32m\"<ipython-input-23-84161864c037>\"\u001b[0;36m, line \u001b[0;32m9\u001b[0m\n\u001b[0;31m    if b[0] == 'a'\u001b[0m\n\u001b[0m                   ^\u001b[0m\n\u001b[0;31mSyntaxError\u001b[0m\u001b[0;31m:\u001b[0m expected ':'\n"
          ]
        }
      ]
    },
    {
      "cell_type": "code",
      "source": [
        "numbers = list(range(101))\n",
        "\n",
        "# 숫자를 문자로 변환: 0 -> 'a', 1 -> 'b'\n",
        "# 변환된 문자를 새로운 리스트에 저장\n",
        "converted = ['a' if num == 0 else 'b' if num == 1 else str(num) for num in numbers]\n",
        "\n",
        "# 'a', 'b', 'c'의 갯수를 세어 출력\n",
        "a_count = converted.count('a')\n",
        "b_count = converted.count('b')\n",
        "c_count = converted.count('c')  # 'c'가 나타나지 않아 0으로 계산됨\n",
        "\n",
        "print(f\"'a'의 개수: {a_count}\")\n",
        "print(f\"'b'의 개수: {b_count}\")\n",
        "print(f\"'c'의 개수: {c_count}\")"
      ],
      "metadata": {
        "colab": {
          "base_uri": "https://localhost:8080/"
        },
        "id": "2PBIzFetBNfw",
        "outputId": "060fcc8a-5dd2-4113-8d75-1d7e398b4a7e"
      },
      "execution_count": 20,
      "outputs": [
        {
          "output_type": "stream",
          "name": "stdout",
          "text": [
            "'a'의 개수: 1\n",
            "'b'의 개수: 1\n",
            "'c'의 개수: 0\n"
          ]
        }
      ]
    }
  ]
}