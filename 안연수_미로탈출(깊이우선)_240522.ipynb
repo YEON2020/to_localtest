{
  "nbformat": 4,
  "nbformat_minor": 0,
  "metadata": {
    "colab": {
      "provenance": [],
      "authorship_tag": "ABX9TyN3JubfAsnB0KgwL9wmW6Y4",
      "include_colab_link": true
    },
    "kernelspec": {
      "name": "python3",
      "display_name": "Python 3"
    },
    "language_info": {
      "name": "python"
    }
  },
  "cells": [
    {
      "cell_type": "markdown",
      "metadata": {
        "id": "view-in-github",
        "colab_type": "text"
      },
      "source": [
        "<a href=\"https://colab.research.google.com/github/YEON2020/to_localtest/blob/main/%EC%95%88%EC%97%B0%EC%88%98_%EB%AF%B8%EB%A1%9C%ED%83%88%EC%B6%9C(%EA%B9%8A%EC%9D%B4%EC%9A%B0%EC%84%A0)_240522.ipynb\" target=\"_parent\"><img src=\"https://colab.research.google.com/assets/colab-badge.svg\" alt=\"Open In Colab\"/></a>"
      ]
    },
    {
      "cell_type": "markdown",
      "source": [
        "미로 탐색(깊이 우선 탐색)\n",
        "• 지나온 경로를 저장하는 방식\n",
        "○ 탐색 알고리즘\n",
        "1. 시작위치를 스택에 추가.\n",
        "(현재 스택에는 시작위치만 있음)\n",
        "2. 스택이 공백이 아니면, 하나의 위치를 꺼냄\n",
        "(현재위치). 현재 위치에 “방문했음“ 표시.\n",
        "만약, 스택이 공백이면, 출구 없음(종료)\n",
        "3. 현재위치가 출구이면, 탐색 성공\n",
        "4. 현재위치가 출구가 아니라면,\n",
        "주변(상화좌우 or 좌우상하 등)을 탐색.\n",
        "만약 주변이 아직 방문전이라면, 그 방의\n",
        "위치를 모두 스택에 삽입\n",
        "5. 단계 2로 돌아감"
      ],
      "metadata": {
        "id": "kzQ_TgOTsJhJ"
      }
    },
    {
      "cell_type": "code",
      "source": [
        "map = [['1','1','1','1','1','1'],\n",
        "       ['e','0','0','0','0','1'],\n",
        "       ['1','0','1','0','1','1'],\n",
        "       ['1','1','1','0','0','x'],\n",
        "       ['1','1','1','0','1','1'],\n",
        "       ['1','1','1','1','1','1']]\n",
        "MAZE_SIZE = 6\n",
        "\n",
        "start = None\n",
        "end = None"
      ],
      "metadata": {
        "id": "3Gu-GfLvrHFw"
      },
      "execution_count": null,
      "outputs": []
    },
    {
      "cell_type": "code",
      "execution_count": null,
      "metadata": {
        "id": "9ss4-bHZqalx"
      },
      "outputs": [],
      "source": [
        "def dfs_map(map, start, end):\n",
        "    rows, cols = len(map), len(map[0])\n",
        "\n",
        "    directions = [(-1, 0), (1, 0), (0, -1), (0, 1)]\n",
        "\n",
        "    stack = [start]\n",
        "\n",
        "    path = []\n",
        "\n",
        "    for i in range(len(map)):\n",
        "        for j in range(len(map[i])):\n",
        "            if map[i][j] == 'e':\n",
        "                start = (i, j)\n",
        "            elif map[i][j] == 'x':\n",
        "                end = (i, j)\n",
        "\n",
        "    while stack:\n",
        "        current = stack.pop()\n",
        "\n",
        "        if current == end:\n",
        "            path.append(current)\n",
        "            return path\n",
        "\n",
        "        x, y = current\n",
        "        map[x][y] = \"방문했음\"\n",
        "\n",
        "        path.append(current)\n",
        "\n",
        "        for direction in directions:\n",
        "            nx, ny = x + direction[0], y + direction[1]\n",
        "\n",
        "            if 0 <= nx < rows and 0 <= ny < cols and map[nx][ny] in ['0', 'x']:\n",
        "                stack.append((nx, ny))\n",
        "\n",
        "    return \"출구가 없음\"\n",
        "\n",
        "    path = dfs_map(map, start, end)\n",
        "\n",
        "    if path == \"출구가 없습니다.\":\n",
        "        print(path)\n",
        "\n",
        "    else:\n",
        "        print(\"경로: \", path)"
      ]
    }
  ]
}