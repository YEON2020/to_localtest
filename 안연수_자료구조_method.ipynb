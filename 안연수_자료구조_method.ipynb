{
  "nbformat": 4,
  "nbformat_minor": 0,
  "metadata": {
    "colab": {
      "provenance": [],
      "authorship_tag": "ABX9TyOt50GFr+9muGn0FwPfQv0Z",
      "include_colab_link": true
    },
    "kernelspec": {
      "name": "python3",
      "display_name": "Python 3"
    },
    "language_info": {
      "name": "python"
    }
  },
  "cells": [
    {
      "cell_type": "markdown",
      "metadata": {
        "id": "view-in-github",
        "colab_type": "text"
      },
      "source": [
        "<a href=\"https://colab.research.google.com/github/YEON2020/to_localtest/blob/main/%EC%95%88%EC%97%B0%EC%88%98_%EC%9E%90%EB%A3%8C%EA%B5%AC%EC%A1%B0_method.ipynb\" target=\"_parent\"><img src=\"https://colab.research.google.com/assets/colab-badge.svg\" alt=\"Open In Colab\"/></a>"
      ]
    },
    {
      "cell_type": "markdown",
      "source": [
        "list 메소드(method)\n",
        "\n",
        "| |메소드|기능|\n",
        "|:--|:---:|:--:|\n",
        "|1|append(object)|기존 리스트 목록 끝에 1개 데이터 추가(2개 이상 추가 불가), (object) - tuple, list, dict 적용가능\n",
        "|2|extend(interable)|기존 리스트의 모든 요소를 다른 리스트에 이어붙이기 가능, (interable) - tuple, list, dict 적용가능\n",
        "|3|insert(index, object)|리스트의 정의 된 index 색인 위치에 object 값의 항목을 삽입한다, (index) - 요소를 삽입할 index 색인 위치, (object) - 리스트에 삽입되는 값의 항목\n",
        "|4|remove(object)|리스트 목록에서 object 객체를 제거(1개 인자만 제거 가능), (object)-리스트 목록 안에 지울 요소 값\n",
        "|5|pop(index)|주어진 인덱스에서 index에 기록된 정수의 인자를 제거 후 반환한다, (index)- 해당 요소의 위치\n",
        "|6|clear(value, start, stop)|데이터를 삭제한 경우 이전에 리스트 데이터를 저장한 모든 변수의 데이터도 삭제가능\n",
        "|7|index(object)|리스트 중에서 object가 몇 번째 index number 인지 알려주는 함수, (object)-index number로 반환할 특정 원소값\n",
        "|8|count(object)|리스트 안에 object가 몇개 들어 있는 지 개수로 반환해주는 함수, (object)-리스트 안에 특정 원소값을 찾는 요소\n",
        "|9|sort(key, reverse)|리스트의 객체들을 오름차순으로 순차적으로 정렬, (key)-정렬비교의 핵심 역할 기능, (reverse)-true이면 정렬 된 목록이 반대 또는 내림차순으로 정렬\n",
        "|10|reverse()|리스트의 객체들 순서 반대로 바꾸는 함수\n",
        "|11|copy()|리스트의 목록 객체들을 얕은 사본으로 복사"
      ],
      "metadata": {
        "id": "a5-2aPxQb011"
      }
    },
    {
      "cell_type": "code",
      "execution_count": null,
      "metadata": {
        "colab": {
          "base_uri": "https://localhost:8080/"
        },
        "id": "reHeezowbqtk",
        "outputId": "93d964cb-27ec-4602-8ac5-976a76345132"
      },
      "outputs": [
        {
          "output_type": "stream",
          "name": "stdout",
          "text": [
            "[1, 2, 3, 4, 5]\n",
            "[1, 2, 3, 4, 5, 6]\n",
            "[1, 2, 3, [4, 5]]\n"
          ]
        }
      ],
      "source": [
        "#메소드 : append(object)\n",
        "a= [1, 2, 3, 4]\n",
        "\n",
        "a.append(5)\n",
        "print(a)\n",
        "\n",
        "list_a=[1, 2, 3, 4, 5]\n",
        "list_a.append(6)\n",
        "print(list_a)\n",
        "\n",
        "a=[1,2,3]\n",
        "b=[4,5]\n",
        "a.append(b)\n",
        "print(a)"
      ]
    },
    {
      "cell_type": "code",
      "source": [
        "#메소드 : extend(interable)\n",
        "a=[1,2,3]\n",
        "b=[4,5,6]\n",
        "a.extend(b)\n",
        "print(a)\n",
        "\n",
        "a=[1,2,3]\n",
        "b={4:6}\n",
        "a.extend(b)\n",
        "print(a)"
      ],
      "metadata": {
        "colab": {
          "base_uri": "https://localhost:8080/"
        },
        "id": "3FKwHSgMnk9d",
        "outputId": "b0ad3c15-c1d6-402e-d79d-cf7f29921fb1"
      },
      "execution_count": null,
      "outputs": [
        {
          "output_type": "stream",
          "name": "stdout",
          "text": [
            "[1, 2, 3, 4, 5, 6]\n",
            "[1, 2, 3, 4]\n"
          ]
        }
      ]
    },
    {
      "cell_type": "code",
      "source": [
        "#메소드 : insert(index, object)\n",
        "list_a = [1, 2, 3, 4, 5]\n",
        "\n",
        "list_a.insert(3, 45)\n",
        "\n",
        "print(list_a)\n",
        "\n",
        "a = [1, 2, 3]\n",
        "\n",
        "a.insert(0, '4')\n",
        "print(a)\n",
        "\n",
        "a = [1, 2, 3]\n",
        "a.insert(1, (4, 5))\n",
        "print(a)"
      ],
      "metadata": {
        "colab": {
          "base_uri": "https://localhost:8080/"
        },
        "id": "j80_hp_IHJQX",
        "outputId": "d8117550-754c-4bd2-d6a0-cdcbcf41e0cf"
      },
      "execution_count": null,
      "outputs": [
        {
          "output_type": "stream",
          "name": "stdout",
          "text": [
            "[1, 2, 3, 45, 4, 5]\n",
            "['4', 1, 2, 3]\n",
            "[1, (4, 5), 2, 3]\n"
          ]
        }
      ]
    },
    {
      "cell_type": "code",
      "source": [
        "#메소드 : remove(object)\n",
        "a = [1, 2, 3]\n",
        "a.remove(1)\n",
        "print(a)\n",
        "\n",
        "a = [1, 2, 3, 1]\n",
        "a.remove(1)\n",
        "print(a)\n",
        "\n",
        "a = [1, 2, 3, 1]\n",
        "a.remove(4) #error"
      ],
      "metadata": {
        "colab": {
          "base_uri": "https://localhost:8080/",
          "height": 222
        },
        "id": "q3x5sbjvHkrg",
        "outputId": "1d7a456b-c1e4-42f9-a276-deb5b848dc0f"
      },
      "execution_count": null,
      "outputs": [
        {
          "output_type": "stream",
          "name": "stdout",
          "text": [
            "[2, 3]\n",
            "[2, 3, 1]\n"
          ]
        },
        {
          "output_type": "error",
          "ename": "ValueError",
          "evalue": "list.remove(x): x not in list",
          "traceback": [
            "\u001b[0;31m---------------------------------------------------------------------------\u001b[0m",
            "\u001b[0;31mValueError\u001b[0m                                Traceback (most recent call last)",
            "\u001b[0;32m<ipython-input-3-b0b1d2ef7eb6>\u001b[0m in \u001b[0;36m<cell line: 11>\u001b[0;34m()\u001b[0m\n\u001b[1;32m      9\u001b[0m \u001b[0;34m\u001b[0m\u001b[0m\n\u001b[1;32m     10\u001b[0m \u001b[0ma\u001b[0m \u001b[0;34m=\u001b[0m \u001b[0;34m[\u001b[0m\u001b[0;36m1\u001b[0m\u001b[0;34m,\u001b[0m \u001b[0;36m2\u001b[0m\u001b[0;34m,\u001b[0m \u001b[0;36m3\u001b[0m\u001b[0;34m,\u001b[0m \u001b[0;36m1\u001b[0m\u001b[0;34m]\u001b[0m\u001b[0;34m\u001b[0m\u001b[0;34m\u001b[0m\u001b[0m\n\u001b[0;32m---> 11\u001b[0;31m \u001b[0ma\u001b[0m\u001b[0;34m.\u001b[0m\u001b[0mremove\u001b[0m\u001b[0;34m(\u001b[0m\u001b[0;36m4\u001b[0m\u001b[0;34m)\u001b[0m\u001b[0;34m\u001b[0m\u001b[0;34m\u001b[0m\u001b[0m\n\u001b[0m",
            "\u001b[0;31mValueError\u001b[0m: list.remove(x): x not in list"
          ]
        }
      ]
    },
    {
      "cell_type": "code",
      "source": [
        "#메소드 : pop(index)\n",
        "a = [1, 2, 3]\n",
        "a.pop(0)\n",
        "print(a)\n",
        "\n",
        "a = [1, 2, 3]\n",
        "a.pop()\n",
        "print(a)\n",
        "\n",
        "a.pop()\n",
        "print(a)\n",
        "\n",
        "a.pop()\n",
        "print(a)\n",
        "\n",
        "primes = [2, 3, 5, 7, 11, 13, 17, 19, 23, 29]\n",
        "print(primes.pop())\n",
        "print(primes.pop(0))\n",
        "print(primes.pop(-1))\n",
        "print(primes.pop(10)) #error"
      ],
      "metadata": {
        "colab": {
          "base_uri": "https://localhost:8080/",
          "height": 314
        },
        "id": "rVmG78fQRSjQ",
        "outputId": "ad6ca364-7ae1-47ac-e955-d0814be1e0cf"
      },
      "execution_count": null,
      "outputs": [
        {
          "output_type": "stream",
          "name": "stdout",
          "text": [
            "[2, 3]\n",
            "[1, 2]\n",
            "[1]\n",
            "[]\n",
            "29\n",
            "2\n",
            "23\n"
          ]
        },
        {
          "output_type": "error",
          "ename": "IndexError",
          "evalue": "pop index out of range",
          "traceback": [
            "\u001b[0;31m---------------------------------------------------------------------------\u001b[0m",
            "\u001b[0;31mIndexError\u001b[0m                                Traceback (most recent call last)",
            "\u001b[0;32m<ipython-input-18-de1cdcfbfeb4>\u001b[0m in \u001b[0;36m<cell line: 20>\u001b[0;34m()\u001b[0m\n\u001b[1;32m     18\u001b[0m \u001b[0mprint\u001b[0m\u001b[0;34m(\u001b[0m\u001b[0mprimes\u001b[0m\u001b[0;34m.\u001b[0m\u001b[0mpop\u001b[0m\u001b[0;34m(\u001b[0m\u001b[0;36m0\u001b[0m\u001b[0;34m)\u001b[0m\u001b[0;34m)\u001b[0m\u001b[0;34m\u001b[0m\u001b[0;34m\u001b[0m\u001b[0m\n\u001b[1;32m     19\u001b[0m \u001b[0mprint\u001b[0m\u001b[0;34m(\u001b[0m\u001b[0mprimes\u001b[0m\u001b[0;34m.\u001b[0m\u001b[0mpop\u001b[0m\u001b[0;34m(\u001b[0m\u001b[0;34m-\u001b[0m\u001b[0;36m1\u001b[0m\u001b[0;34m)\u001b[0m\u001b[0;34m)\u001b[0m\u001b[0;34m\u001b[0m\u001b[0;34m\u001b[0m\u001b[0m\n\u001b[0;32m---> 20\u001b[0;31m \u001b[0mprint\u001b[0m\u001b[0;34m(\u001b[0m\u001b[0mprimes\u001b[0m\u001b[0;34m.\u001b[0m\u001b[0mpop\u001b[0m\u001b[0;34m(\u001b[0m\u001b[0;36m10\u001b[0m\u001b[0;34m)\u001b[0m\u001b[0;34m)\u001b[0m\u001b[0;34m\u001b[0m\u001b[0;34m\u001b[0m\u001b[0m\n\u001b[0m",
            "\u001b[0;31mIndexError\u001b[0m: pop index out of range"
          ]
        }
      ]
    },
    {
      "cell_type": "code",
      "source": [
        "#메소드 : clear(value, start, stop)\n",
        "primes = [2, 3, 5, 7, 11, 13, 17, 19, 23, 29]\n",
        "\n",
        "primes.clear()\n",
        "print(primes)"
      ],
      "metadata": {
        "colab": {
          "base_uri": "https://localhost:8080/"
        },
        "id": "kCGyUXX9T0cT",
        "outputId": "8856e278-f81b-43e2-931d-47d2f19eb7fd"
      },
      "execution_count": null,
      "outputs": [
        {
          "output_type": "stream",
          "name": "stdout",
          "text": [
            "[]\n"
          ]
        }
      ]
    },
    {
      "cell_type": "code",
      "source": [
        "#메소드 : index(value)\n",
        "a = [1, 2, 3, 1]\n",
        "print(a.index(1))\n",
        "\n",
        "list_a = [1, 2, 3, 4, 5]\n",
        "list_b = ['g', 'i', 'l', 'l', 'o', 'g']\n",
        "\n",
        "print(list_a.index(4))\n",
        "print(list_b.index('l'))"
      ],
      "metadata": {
        "colab": {
          "base_uri": "https://localhost:8080/"
        },
        "id": "DxJxnB7qUaid",
        "outputId": "059c872e-e41b-4397-e297-94c43051b557"
      },
      "execution_count": null,
      "outputs": [
        {
          "output_type": "stream",
          "name": "stdout",
          "text": [
            "0\n",
            "3\n",
            "2\n"
          ]
        }
      ]
    },
    {
      "cell_type": "code",
      "source": [
        "#메소드 : count(value)\n",
        "a = [1, 2, 3, 1]\n",
        "print(a.count(1))\n",
        "\n",
        "list_a = [1, 2, 3, 4, 5]\n",
        "list_b = ['g', 'i', 'l', 'l', 'o', 'g']\n",
        "print(list_a.count(5))\n",
        "print(list_b.count('l'))"
      ],
      "metadata": {
        "colab": {
          "base_uri": "https://localhost:8080/"
        },
        "id": "BnFoFvoqVVWK",
        "outputId": "04ab10a8-1949-46fe-bfd4-5c688cb341be"
      },
      "execution_count": null,
      "outputs": [
        {
          "output_type": "stream",
          "name": "stdout",
          "text": [
            "2\n",
            "1\n",
            "2\n"
          ]
        }
      ]
    },
    {
      "cell_type": "code",
      "source": [
        "#메소드 : sort(key, reverse)\n",
        "a = [5, 4, 3, 2, 1]\n",
        "a.sort()\n",
        "print(a)\n",
        "\n",
        "a = [1, 2, 3, 4, 5]\n",
        "a.sort(reverse = True)\n",
        "print(a)"
      ],
      "metadata": {
        "colab": {
          "base_uri": "https://localhost:8080/"
        },
        "id": "Vda9KxGDW7U2",
        "outputId": "2b5c153e-ba0c-431a-e451-3a051ed57ccf"
      },
      "execution_count": null,
      "outputs": [
        {
          "output_type": "stream",
          "name": "stdout",
          "text": [
            "[1, 2, 3, 4, 5]\n",
            "[5, 4, 3, 2, 1]\n"
          ]
        }
      ]
    },
    {
      "cell_type": "code",
      "source": [
        "#메소드 : reverse()\n",
        "a = [1, 2, 3, 4, 5]\n",
        "a.reverse()\n",
        "print(a)\n",
        "\n",
        "a = [5, 4, 3, 2, 1]\n",
        "a.reverse()\n",
        "a.reverse()\n",
        "print(a)\n",
        "\n",
        "list_b = ['d', 'i', 'l', 'l', 'o', 'g']\n",
        "list_b.reverse()\n",
        "print(list_b)"
      ],
      "metadata": {
        "colab": {
          "base_uri": "https://localhost:8080/"
        },
        "id": "MaDAWdsAXu1J",
        "outputId": "21deb876-b2ad-4ae4-e8d7-abfd02db149a"
      },
      "execution_count": null,
      "outputs": [
        {
          "output_type": "stream",
          "name": "stdout",
          "text": [
            "[5, 4, 3, 2, 1]\n",
            "[5, 4, 3, 2, 1]\n",
            "['g', 'o', 'l', 'l', 'i', 'd']\n"
          ]
        }
      ]
    },
    {
      "cell_type": "code",
      "source": [
        "#메소드 : copy()\n",
        "old_list = [1, 2, 3]\n",
        "new_list = old_list.copy()\n",
        "\n",
        "new_list.append('a')\n",
        "\n",
        "print('Old List:', old_list)\n",
        "print('New List:', new_list)\n",
        "\n",
        "print(id(old_list))\n",
        "print(id(new_list))\n"
      ],
      "metadata": {
        "colab": {
          "base_uri": "https://localhost:8080/"
        },
        "id": "Q8SH8BMyYqDA",
        "outputId": "ee52d974-6688-408e-caa6-521ce7f9d69f"
      },
      "execution_count": null,
      "outputs": [
        {
          "output_type": "stream",
          "name": "stdout",
          "text": [
            "Old List: [1, 2, 3]\n",
            "New List: [1, 2, 3, 'a']\n",
            "134444329429760\n",
            "134444820931584\n"
          ]
        }
      ]
    },
    {
      "cell_type": "markdown",
      "source": [
        "tuple 메소드(method)\n",
        "\n",
        "| |매소드|기능|\n",
        "|:--|:---:|:--:|\n",
        "|1|count(object)|튜플 내 요소의 개수 세기 가능, (object) - 리스트 안에 특정 원소값을 찾는 요소  \n",
        "|2|index(object)|튜플 내 요소가 있는 위치 index 반환, (object) - index number로 반환할 특정 원소값"
      ],
      "metadata": {
        "id": "n9ELYsBPgL7g"
      }
    },
    {
      "cell_type": "code",
      "source": [
        "#메소드 : count(object)\n",
        "tuple1 = (1, 2, 3, 4, 5, 2, 2)\n",
        "mse = tuple1.count(2)\n",
        "print(mse)\n",
        "\n",
        "my_tuple = (1, 2, 3, 2, 4, 5, 2)\n",
        "print(my_tuple.count(2))"
      ],
      "metadata": {
        "colab": {
          "base_uri": "https://localhost:8080/"
        },
        "id": "FhQIyPQZkDvF",
        "outputId": "c9d6e2f1-65f4-4c44-a2f8-7b98a1ac3ff1"
      },
      "execution_count": null,
      "outputs": [
        {
          "output_type": "stream",
          "name": "stdout",
          "text": [
            "3\n",
            "3\n"
          ]
        }
      ]
    },
    {
      "cell_type": "code",
      "source": [
        "#메소드 : index(object)\n",
        "tuple2 = (1, 2, 4, 5, 6, 3, 8)\n",
        "mse = tuple2.index(2)\n",
        "print(mse)\n",
        "\n",
        "my_tuple = (1, 2, 3, 2, 4, 5, 2, 9, 3, 7, 3)\n",
        "print(my_tuple.index(3))"
      ],
      "metadata": {
        "colab": {
          "base_uri": "https://localhost:8080/"
        },
        "id": "0plNoTXQldDf",
        "outputId": "8364c322-eab8-4e3a-a073-0b4af988abfc"
      },
      "execution_count": null,
      "outputs": [
        {
          "output_type": "stream",
          "name": "stdout",
          "text": [
            "1\n",
            "2\n"
          ]
        }
      ]
    },
    {
      "cell_type": "markdown",
      "source": [
        "dictionary 메소드(method)\n",
        "\n",
        "| |메소드|기능|\n",
        "|:--|:---:|:--:|\n",
        "|1|key()|딕셔너리 내의 모든 key 값을 출력(List 형태로 저장 가능)\n",
        "|2|values()|딕셔너리 내의 모든 values 값 출력(List 형태로 저장 가능)\n",
        "|3|items()|딕셔너리 내의 모든 key + values 값을 동시에 출력(List형태 저장 가능)\n",
        "|4|clear()|딕셔너리 내의 모든 항목을 삭제\n",
        "|5|copy()|딕셔너리 내의 {key:value} 항목을 복사\n",
        "|6|get(key값)|해당 key 값에 해당하는 value값 반환, Key값이 없으면 None 반환\n",
        "|7|pop(key값)|해당 key 값에 해당하는 value값 반환한 후 해당 항목 삭제, key값이 없으면 None 반환\n",
        "|8|popitem()|임의의 key + value 값을 동시에 제거한 후 반환\n",
        "|9|fromkeys(key, vaule)|새로 변수명으로 지정된 tuple, list, dictionary 자료구조와 value 값으로 신규 dictionary 생성\n",
        "|10|update(dict2)|기존 dictionary 끝에 새로운 dictionary(dict2)를 추가"
      ],
      "metadata": {
        "id": "TtUeghxDqxc4"
      }
    },
    {
      "cell_type": "code",
      "source": [
        "#메소드 : key()\n",
        "dict_1 = {'key1':123, 'key2':'abc', 'key3':(1, 2, 3)}\n",
        "mse = dict_1.keys()\n",
        "print(mse)"
      ],
      "metadata": {
        "colab": {
          "base_uri": "https://localhost:8080/"
        },
        "id": "YznkJUK48pZL",
        "outputId": "433b12bb-348e-4b31-cd2b-adae0f9ad536"
      },
      "execution_count": null,
      "outputs": [
        {
          "output_type": "stream",
          "name": "stdout",
          "text": [
            "dict_keys(['key1', 'key2', 'key3'])\n"
          ]
        }
      ]
    },
    {
      "cell_type": "code",
      "source": [
        "#메소드 : values()\n",
        "dict_1 = {'key1':123, 'key2':'abc', 'key3':(1, 2, 3)}\n",
        "mse = dict_1.values()\n",
        "print(mse)"
      ],
      "metadata": {
        "colab": {
          "base_uri": "https://localhost:8080/"
        },
        "id": "jxMO0asA9913",
        "outputId": "af46e273-3add-45e1-acf1-1c64af644287"
      },
      "execution_count": null,
      "outputs": [
        {
          "output_type": "stream",
          "name": "stdout",
          "text": [
            "dict_values([123, 'abc', (1, 2, 3)])\n"
          ]
        }
      ]
    },
    {
      "cell_type": "code",
      "source": [
        "#메소드 : items()\n",
        "dict_1 = {'key1':123, 'key2':'abc', 'key3':(1, 2, 3)}\n",
        "mse = dict_1.items()\n",
        "print(mse)"
      ],
      "metadata": {
        "colab": {
          "base_uri": "https://localhost:8080/"
        },
        "id": "Yodyv5MU-MS8",
        "outputId": "b39bef6d-7565-499e-d3d3-0a35172bd1a1"
      },
      "execution_count": null,
      "outputs": [
        {
          "output_type": "stream",
          "name": "stdout",
          "text": [
            "dict_items([('key1', 123), ('key2', 'abc'), ('key3', (1, 2, 3))])\n"
          ]
        }
      ]
    },
    {
      "cell_type": "code",
      "source": [
        "#메소드 : clear()\n",
        "dict_1 = {'key1':123, 'key2':'abc', 'key3':(1, 2, 3)}\n",
        "mse = dict_1.clear()\n",
        "print(mse)"
      ],
      "metadata": {
        "colab": {
          "base_uri": "https://localhost:8080/"
        },
        "id": "ofcWjla7-4lB",
        "outputId": "39250119-574e-4b99-d02e-f1c0dc3134fc"
      },
      "execution_count": null,
      "outputs": [
        {
          "output_type": "stream",
          "name": "stdout",
          "text": [
            "None\n"
          ]
        }
      ]
    },
    {
      "cell_type": "code",
      "source": [
        "#메소드 : copy()\n",
        "dict_1 = {'key1':123, 'key2':'abc', 'key3':(1, 2, 3)}\n",
        "dict_2 = dict_1.copy()\n",
        "print(dict_2)"
      ],
      "metadata": {
        "colab": {
          "base_uri": "https://localhost:8080/"
        },
        "id": "IukQ33zN_HWh",
        "outputId": "6ed3bc01-1eb3-4ab9-91fc-55293f2c9109"
      },
      "execution_count": null,
      "outputs": [
        {
          "output_type": "stream",
          "name": "stdout",
          "text": [
            "{'key1': 123, 'key2': 'abc', 'key3': (1, 2, 3)}\n"
          ]
        }
      ]
    },
    {
      "cell_type": "code",
      "source": [
        "#메소드 : get()\n",
        "dict_1 = {'key1':123, 'key2':'abc', 'key3':(1, 2, 3)}\n",
        "dict_2.get('key1', 'No_key')\n",
        "dict_2.get('key5', 'No_key')\n",
        "dict_2.get('key5') #None"
      ],
      "metadata": {
        "id": "yE8yHMhA_PJL"
      },
      "execution_count": null,
      "outputs": []
    },
    {
      "cell_type": "code",
      "source": [
        "#메소드 : pop(key값)\n",
        "my_dict = {\"apple\" : 5, \"banana\" : 3, \"cherry\" : 7}\n",
        "value = my_dict.pop(\"banana\")\n",
        "print(value)\n",
        "print(my_dict)\n",
        "\n",
        "value = my_dict.pop(\"orange\", None)\n",
        "print(value)#key값이 없으면 None 반환"
      ],
      "metadata": {
        "colab": {
          "base_uri": "https://localhost:8080/"
        },
        "id": "YC69jKsKAJuk",
        "outputId": "a1ba3c04-e748-4f83-b5d2-2dff764e791e"
      },
      "execution_count": null,
      "outputs": [
        {
          "output_type": "stream",
          "name": "stdout",
          "text": [
            "3\n",
            "{'apple': 5, 'cherry': 7}\n",
            "None\n"
          ]
        }
      ]
    },
    {
      "cell_type": "code",
      "source": [
        "#메소드 : popitem()\n",
        "my_dict = {\"apple\" : 5, \"banana\" : 3, \"cherry\" : 7}\n",
        "item = my_dict.popitem()\n",
        "print(item)\n",
        "print(my_dict)"
      ],
      "metadata": {
        "colab": {
          "base_uri": "https://localhost:8080/"
        },
        "id": "bSBYTu_OBaSk",
        "outputId": "2c02119a-d562-4916-f6d1-0ccd130872a1"
      },
      "execution_count": null,
      "outputs": [
        {
          "output_type": "stream",
          "name": "stdout",
          "text": [
            "('cherry', 7)\n",
            "{'apple': 5, 'banana': 3}\n"
          ]
        }
      ]
    },
    {
      "cell_type": "code",
      "source": [
        "#메소드 : fromkeys(key, value)\n",
        "keys = ['a', 'b', 'c']\n",
        "new_dict = dict.fromkeys(keys, 0)\n",
        "print(new_dict)\n",
        "\n",
        "keys = ['x', 'y', 'z']\n",
        "new_dict = dict.fromkeys(keys)\n",
        "print(new_dict)"
      ],
      "metadata": {
        "colab": {
          "base_uri": "https://localhost:8080/"
        },
        "id": "1fSVBvm8Bs8B",
        "outputId": "29229271-e649-436e-8585-d66b5024b2a6"
      },
      "execution_count": null,
      "outputs": [
        {
          "output_type": "stream",
          "name": "stdout",
          "text": [
            "{'a': 0, 'b': 0, 'c': 0}\n",
            "{'x': None, 'y': None, 'z': None}\n"
          ]
        }
      ]
    },
    {
      "cell_type": "code",
      "source": [
        "#메소드 : update(dict2)\n",
        "dict_1 = {'key1':123, 'key2':'abc', 'key3':(1, 2, 3)}\n",
        "dict_2 = {'key4':564, 'key5':'AYS', 'key6':[4,5,6]}\n",
        "dict_1.update(dict_2)\n",
        "print(dict_1)"
      ],
      "metadata": {
        "colab": {
          "base_uri": "https://localhost:8080/"
        },
        "id": "gRVvFn8rDZ4j",
        "outputId": "13a2a7fc-2c48-4ea5-8eec-5761a71b11a7"
      },
      "execution_count": null,
      "outputs": [
        {
          "output_type": "stream",
          "name": "stdout",
          "text": [
            "{'key1': 123, 'key2': 'abc', 'key3': (1, 2, 3), 'key4': 564, 'key5': 'AYS', 'key6': [4, 5, 6]}\n"
          ]
        }
      ]
    }
  ]
}