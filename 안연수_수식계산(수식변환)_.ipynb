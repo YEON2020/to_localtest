{
  "nbformat": 4,
  "nbformat_minor": 0,
  "metadata": {
    "colab": {
      "provenance": [],
      "authorship_tag": "ABX9TyMNR4v6RcdcxWEgUaqqKKbv",
      "include_colab_link": true
    },
    "kernelspec": {
      "name": "python3",
      "display_name": "Python 3"
    },
    "language_info": {
      "name": "python"
    }
  },
  "cells": [
    {
      "cell_type": "markdown",
      "metadata": {
        "id": "view-in-github",
        "colab_type": "text"
      },
      "source": [
        "<a href=\"https://colab.research.google.com/github/YEON2020/to_localtest/blob/main/%EC%95%88%EC%97%B0%EC%88%98_%EC%88%98%EC%8B%9D%EA%B3%84%EC%82%B0(%EC%88%98%EC%8B%9D%EB%B3%80%ED%99%98)_.ipynb\" target=\"_parent\"><img src=\"https://colab.research.google.com/assets/colab-badge.svg\" alt=\"Open In Colab\"/></a>"
      ]
    },
    {
      "cell_type": "code",
      "source": [
        "class Stack:\n",
        "    def __init__(self):\n",
        "        self.items = []\n",
        "    def is_empty(self):\n",
        "        return len(self.items) == 0\n",
        "    def push(self, item):\n",
        "        self.items.append(item)\n",
        "    def pop(self):\n",
        "        if not self.is_empty():\n",
        "            return self.items.pop()\n",
        "        else:\n",
        "            raise IndexError(\"pop from empty stack\")\n",
        "    def peek(self):\n",
        "        if not self.is_empty():\n",
        "            return self.items[-1]\n",
        "        else:\n",
        "            raise IndexError(\"peek from empty stack\")\n",
        "    def size(self):\n",
        "        return len(self.items)\n",
        "    def clear(self):\n",
        "        self.items = []"
      ],
      "metadata": {
        "id": "RGDELT4eHFG6"
      },
      "execution_count": 3,
      "outputs": []
    },
    {
      "cell_type": "code",
      "source": [
        "# 중위 표기식을 후위 표기식으로 변환하고 후위표기식을 계산\n",
        "class ExpressionEvaluator:\n",
        "    def __init__(self):\n",
        "        self.stack = Stack()\n",
        "    def eval_postfix(self, expr):\n",
        "        for token in expr:\n",
        "            if token in \"+-*/\":\n",
        "                val2 = self.stack.pop()\n",
        "                val1 = self.stack.pop()\n",
        "                result = self.apply_operator(token, val1, val2)\n",
        "                self.stack.push(result)\n",
        "            else:\n",
        "                self.stack.push(float(token))\n",
        "        return self.stack.pop()\n",
        "    def apply_operator(self, operator, val1, val2):\n",
        "        if operator == '+':\n",
        "            return val1 + val2\n",
        "        elif operator == '-':\n",
        "            return val1 - val2\n",
        "        elif operator == '*':\n",
        "            return val1 * val2\n",
        "        elif operator == '/':\n",
        "            return val1 / val2\n",
        "        else:\n",
        "            raise ValueError(\"Unknown operator: \" + operator)\n",
        "    def precedence(self, operator):\n",
        "        if operator in ('+', '-'):\n",
        "            return 1\n",
        "        elif operator in ('*', '/'):\n",
        "            return 2\n",
        "        else:\n",
        "            return 0\n",
        "    def infix_to_postfix(self, expr):\n",
        "        output = []\n",
        "        for term in expr:\n",
        "            if term.isnumeric():\n",
        "                output.append(term)\n",
        "            elif term == '(':\n",
        "                self.stack.push(term)\n",
        "            elif term == ')':\n",
        "                while not self.stack.is_empty() and self.stack.peek() != '(':\n",
        "                    output.append(self.stack.pop())\n",
        "                self.stack.pop()\n",
        "            elif term in \"+-*/\":\n",
        "                while (not self.stack.is_empty() and self.precedence(term) <=\n",
        "                       self.precedence(self.stack.peek())):\n",
        "                       output.append(self.stack.pop())\n",
        "                       self.stack.push(term)\n",
        "                while not self.stack.is_empty():\n",
        "                    output.append(self.stack.pop())\n",
        "                return output"
      ],
      "metadata": {
        "id": "yoITDj18lOCy"
      },
      "execution_count": 4,
      "outputs": []
    },
    {
      "cell_type": "code",
      "source": [
        "evaluator = ExpressionEvaluator()\n",
        "\n",
        "infix1 = ['8', '/', '2', '-', '3', '+', '(', '3', '*', '2', ')']\n",
        "infix2 = ['1', '/', '2', '*', '4', '*', '(', '1', '/', '4', ')']\n",
        "\n",
        "postfix1 = evaluator.infix_to_postfix(infix1)\n",
        "postfix2 = evaluator.infix_to_postfix(infix2)\n",
        "\n",
        "result1 = evaluator.eval_postfix(postfix1)\n",
        "result2 = evaluator.eval_postfix(postfix2)\n",
        "\n",
        "print('중위표기: ', infix1)\n",
        "print('후위표기: ', postfix1)\n",
        "print('계산결과: ', result1, end= '\\n\\n')\n",
        "print('중위표기: ', infix2)\n",
        "print('후위표기: ', postfix2)\n",
        "print('계산결과: ', result2)"
      ],
      "metadata": {
        "colab": {
          "base_uri": "https://localhost:8080/"
        },
        "id": "S2cXbrydt9JO",
        "outputId": "03a7b778-fe6c-4199-da7b-84f2a5513385"
      },
      "execution_count": 5,
      "outputs": [
        {
          "output_type": "stream",
          "name": "stdout",
          "text": [
            "중위표기:  ['8', '/', '2', '-', '3', '+', '(', '3', '*', '2', ')']\n",
            "후위표기:  ['8']\n",
            "계산결과:  8.0\n",
            "\n",
            "중위표기:  ['1', '/', '2', '*', '4', '*', '(', '1', '/', '4', ')']\n",
            "후위표기:  ['1']\n",
            "계산결과:  1.0\n"
          ]
        }
      ]
    }
  ]
}