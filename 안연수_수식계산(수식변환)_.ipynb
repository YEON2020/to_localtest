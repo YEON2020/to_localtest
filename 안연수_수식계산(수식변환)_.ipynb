{
  "nbformat": 4,
  "nbformat_minor": 0,
  "metadata": {
    "colab": {
      "provenance": [],
      "authorship_tag": "ABX9TyMLyWYOaJ5vSPqhw+KZ76Mx",
      "include_colab_link": true
    },
    "kernelspec": {
      "name": "python3",
      "display_name": "Python 3"
    },
    "language_info": {
      "name": "python"
    }
  },
  "cells": [
    {
      "cell_type": "markdown",
      "metadata": {
        "id": "view-in-github",
        "colab_type": "text"
      },
      "source": [
        "<a href=\"https://colab.research.google.com/github/YEON2020/to_localtest/blob/main/%EC%95%88%EC%97%B0%EC%88%98_%EC%88%98%EC%8B%9D%EA%B3%84%EC%82%B0(%EC%88%98%EC%8B%9D%EB%B3%80%ED%99%98)_.ipynb\" target=\"_parent\"><img src=\"https://colab.research.google.com/assets/colab-badge.svg\" alt=\"Open In Colab\"/></a>"
      ]
    },
    {
      "cell_type": "code",
      "source": [
        "class Stack:\n",
        "    def __init__(self):\n",
        "        self.top = []\n",
        "    def isEmpty(self):\n",
        "        return len(self.top) == 0\n",
        "    def size(self):\n",
        "        return len(self.top)\n",
        "    def clear(self):\n",
        "        self.top = []\n",
        "    def push(self, item):\n",
        "        self.top.append(item)\n",
        "    def pop(self):\n",
        "        if not self.isEmpty():\n",
        "            return self.top.pop(-1)\n",
        "    def peek(self):\n",
        "        if not self.isEmpty():\n",
        "            return self.top[-1]\n",
        "    def __str__(self):\n",
        "        return str(self.top[::-1])"
      ],
      "metadata": {
        "id": "RGDELT4eHFG6"
      },
      "execution_count": 13,
      "outputs": []
    },
    {
      "cell_type": "code",
      "source": [
        "def postfix(temp):\n",
        "    stack = []\n",
        "    operators = \"+-*/\"\n",
        "\n",
        "    for temps in temp:\n",
        "        if temps not in operators:\n",
        "            stack.append(int(temps))\n",
        "        elif temps in operators:\n",
        "            num2 = stack.pop()\n",
        "            num1 = stack.pop()\n",
        "            if temps == '+':\n",
        "                numbers = num1+num2\n",
        "            elif temps == '-':\n",
        "                numbers = num1-num2\n",
        "            elif temps == '*':\n",
        "                numbers = num1*num2\n",
        "            elif temps == '/':\n",
        "                numbers = num1/num2\n",
        "            stack.append(numbers)\n",
        "    return stack.pop()\n",
        "\n",
        "test = \"78+9*46-17/5\"\n",
        "print(postfix(test))"
      ],
      "metadata": {
        "colab": {
          "base_uri": "https://localhost:8080/"
        },
        "id": "wTuKZvS9EDBe",
        "outputId": "25f66b32-0c5b-4cf2-94d0-5350bee21a52"
      },
      "execution_count": 14,
      "outputs": [
        {
          "output_type": "stream",
          "name": "stdout",
          "text": [
            "5\n"
          ]
        }
      ]
    },
    {
      "cell_type": "code",
      "source": [
        "class Postfix(Stack):\n",
        "    def __init__(self):\n",
        "        super().__init__()\n",
        "        self.cal = ['+', '-', '*', '/']\n",
        "\n",
        "    def postfix(self, temp):\n",
        "        self.clear()\n",
        "        for temps in temp:\n",
        "            if temps in self.temp:\n",
        "                if self.size() < 2:\n",
        "                    return False\n",
        "                right = self.pop()\n",
        "                left = self.pop()\n",
        "                if temps == '+':\n",
        "                    self.push(left + right)\n",
        "                elif temps == '-':\n",
        "                    self.push(left - right)\n",
        "                elif temps == '*':\n",
        "                    self.push(left * right)\n",
        "                elif temps == '/':\n",
        "                    self.push(left / right)\n",
        "            else:\n",
        "                self.push(int(temps))\n",
        "        if self.size() == 1:\n",
        "            return self.stack[0]"
      ],
      "metadata": {
        "id": "wMcQN8IXHjIl"
      },
      "execution_count": 15,
      "outputs": []
    },
    {
      "cell_type": "code",
      "source": [
        "    def change_number(self, temp1):\n",
        "        operator = {'+': 1, '-': 1, '*': 2, '/': 2}\n",
        "        basckets = ['(', '{', '[', ')','}', ']']\n",
        "        self.clear()\n",
        "        number_1 = Stack()\n",
        "        n = 0\n",
        "        for temps in temp1:\n",
        "            if temps in basckets[0:3]:\n",
        "                self.push(temps)\n",
        "            elif temps in basckets[3:]:\n",
        "                while self.peek() not in basckets[0:3]:\n",
        "                    number_1.push(self.pop())\n",
        "                self.pop()\n",
        "            elif temps in self.cal:\n",
        "                if self.peek() in basckets:\n",
        "                    self.push(temps)\n",
        "                elif self.size() > 0 and operator[self.peek()] > = operator[temps]:\n",
        "                    number_1.push(self.pop())\n",
        "                    self.push(temps)\n",
        "                else:\n",
        "                    self.push(temps)\n",
        "            else:\n",
        "                number_1.push(temps)\n",
        "        for i in range(self.size()):\n",
        "            number_1.push(self.pop())\n",
        "        return number_1.stack"
      ],
      "metadata": {
        "colab": {
          "base_uri": "https://localhost:8080/",
          "height": 111
        },
        "id": "1Z5_FD3cIo8g",
        "outputId": "0e806b72-509c-44a4-ba8b-262789c2b0a2"
      },
      "execution_count": 17,
      "outputs": [
        {
          "output_type": "error",
          "ename": "SyntaxError",
          "evalue": "invalid syntax (<ipython-input-17-4dc8e91800f4>, line 17)",
          "traceback": [
            "\u001b[0;36m  File \u001b[0;32m\"<ipython-input-17-4dc8e91800f4>\"\u001b[0;36m, line \u001b[0;32m17\u001b[0m\n\u001b[0;31m    elif self.size() > 0 and operator[self.peek()] > = operator[temps]:\u001b[0m\n\u001b[0m                                                     ^\u001b[0m\n\u001b[0;31mSyntaxError\u001b[0m\u001b[0;31m:\u001b[0m invalid syntax\n"
          ]
        }
      ]
    },
    {
      "cell_type": "code",
      "source": [
        "post = Postfix()\n",
        "\n",
        "answer = post.postfix('76/8-54*+')\n",
        "print(answer)\n",
        "\n",
        "answer = post.change_number('8/4-7+6*3')\n",
        "print(answer)\n",
        "\n",
        "answer = post.change_number('(A+B)*C')\n",
        "print(answer)\n",
        "\n",
        "answer = post.change_number('A+B*C')\n",
        "print(answer)"
      ],
      "metadata": {
        "colab": {
          "base_uri": "https://localhost:8080/",
          "height": 351
        },
        "id": "cGTkwayjOGwX",
        "outputId": "28ef6a5e-b8ce-449e-a259-a7526c822bf2"
      },
      "execution_count": 18,
      "outputs": [
        {
          "output_type": "error",
          "ename": "AttributeError",
          "evalue": "'Postfix' object has no attribute 'temp'",
          "traceback": [
            "\u001b[0;31m---------------------------------------------------------------------------\u001b[0m",
            "\u001b[0;31mAttributeError\u001b[0m                            Traceback (most recent call last)",
            "\u001b[0;32m<ipython-input-18-df3e8b45dff3>\u001b[0m in \u001b[0;36m<cell line: 3>\u001b[0;34m()\u001b[0m\n\u001b[1;32m      1\u001b[0m \u001b[0mpost\u001b[0m \u001b[0;34m=\u001b[0m \u001b[0mPostfix\u001b[0m\u001b[0;34m(\u001b[0m\u001b[0;34m)\u001b[0m\u001b[0;34m\u001b[0m\u001b[0;34m\u001b[0m\u001b[0m\n\u001b[1;32m      2\u001b[0m \u001b[0;34m\u001b[0m\u001b[0m\n\u001b[0;32m----> 3\u001b[0;31m \u001b[0manswer\u001b[0m \u001b[0;34m=\u001b[0m \u001b[0mpost\u001b[0m\u001b[0;34m.\u001b[0m\u001b[0mpostfix\u001b[0m\u001b[0;34m(\u001b[0m\u001b[0;34m'76/8-54*+'\u001b[0m\u001b[0;34m)\u001b[0m\u001b[0;34m\u001b[0m\u001b[0;34m\u001b[0m\u001b[0m\n\u001b[0m\u001b[1;32m      4\u001b[0m \u001b[0mprint\u001b[0m\u001b[0;34m(\u001b[0m\u001b[0manswer\u001b[0m\u001b[0;34m)\u001b[0m\u001b[0;34m\u001b[0m\u001b[0;34m\u001b[0m\u001b[0m\n\u001b[1;32m      5\u001b[0m \u001b[0;34m\u001b[0m\u001b[0m\n",
            "\u001b[0;32m<ipython-input-15-9729a9126ebc>\u001b[0m in \u001b[0;36mpostfix\u001b[0;34m(self, temp)\u001b[0m\n\u001b[1;32m      7\u001b[0m         \u001b[0mself\u001b[0m\u001b[0;34m.\u001b[0m\u001b[0mclear\u001b[0m\u001b[0;34m(\u001b[0m\u001b[0;34m)\u001b[0m\u001b[0;34m\u001b[0m\u001b[0;34m\u001b[0m\u001b[0m\n\u001b[1;32m      8\u001b[0m         \u001b[0;32mfor\u001b[0m \u001b[0mtemps\u001b[0m \u001b[0;32min\u001b[0m \u001b[0mtemp\u001b[0m\u001b[0;34m:\u001b[0m\u001b[0;34m\u001b[0m\u001b[0;34m\u001b[0m\u001b[0m\n\u001b[0;32m----> 9\u001b[0;31m             \u001b[0;32mif\u001b[0m \u001b[0mtemps\u001b[0m \u001b[0;32min\u001b[0m \u001b[0mself\u001b[0m\u001b[0;34m.\u001b[0m\u001b[0mtemp\u001b[0m\u001b[0;34m:\u001b[0m\u001b[0;34m\u001b[0m\u001b[0;34m\u001b[0m\u001b[0m\n\u001b[0m\u001b[1;32m     10\u001b[0m                 \u001b[0;32mif\u001b[0m \u001b[0mself\u001b[0m\u001b[0;34m.\u001b[0m\u001b[0msize\u001b[0m\u001b[0;34m(\u001b[0m\u001b[0;34m)\u001b[0m \u001b[0;34m<\u001b[0m \u001b[0;36m2\u001b[0m\u001b[0;34m:\u001b[0m\u001b[0;34m\u001b[0m\u001b[0;34m\u001b[0m\u001b[0m\n\u001b[1;32m     11\u001b[0m                     \u001b[0;32mreturn\u001b[0m \u001b[0;32mFalse\u001b[0m\u001b[0;34m\u001b[0m\u001b[0;34m\u001b[0m\u001b[0m\n",
            "\u001b[0;31mAttributeError\u001b[0m: 'Postfix' object has no attribute 'temp'"
          ]
        }
      ]
    }
  ]
}