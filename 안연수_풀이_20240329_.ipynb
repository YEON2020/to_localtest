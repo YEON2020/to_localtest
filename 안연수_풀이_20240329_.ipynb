{
  "nbformat": 4,
  "nbformat_minor": 0,
  "metadata": {
    "colab": {
      "provenance": [],
      "authorship_tag": "ABX9TyPWFV+qBd95VrZsh4y3kW/j",
      "include_colab_link": true
    },
    "kernelspec": {
      "name": "python3",
      "display_name": "Python 3"
    },
    "language_info": {
      "name": "python"
    }
  },
  "cells": [
    {
      "cell_type": "markdown",
      "metadata": {
        "id": "view-in-github",
        "colab_type": "text"
      },
      "source": [
        "<a href=\"https://colab.research.google.com/github/YEON2020/to_localtest/blob/main/%EC%95%88%EC%97%B0%EC%88%98_%ED%92%80%EC%9D%B4_20240329_.ipynb\" target=\"_parent\"><img src=\"https://colab.research.google.com/assets/colab-badge.svg\" alt=\"Open In Colab\"/></a>"
      ]
    },
    {
      "cell_type": "code",
      "source": [
        "#곽정인_코드문제_1\n",
        "\n",
        "animal = input(\"동물종류는? = \")\n",
        "animal_name = input(\"이름은? = \")\n",
        "animal_age = int(input(\"나이는? = \"))\n",
        "animal_hobby = input(\"취미는? = \")\n",
        "\n",
        "a = animal\n",
        "b = animal_name\n",
        "c = animal_age\n",
        "d = animal_hobby\n",
        "\n",
        "Adult = c > 15\n",
        "\n",
        "\n",
        "if animal_age > 15:\n",
        "    mse = f\"우리집 {a}의 이름은 {b}예요. {b}는 {c}살이며 {d}를 좋아해요. {b}는 어른일까요? {Adult}\"\n",
        "\n",
        "else:\n",
        "    mse = f\"우리집 {a}의 이름은 {b}예요. {b}는 {c}살이며 {d}를 좋아해요. {b}는 어른일까요? {Adult}\"\n",
        "\n",
        "print(mse)"
      ],
      "metadata": {
        "colab": {
          "base_uri": "https://localhost:8080/"
        },
        "id": "lH3mhgWKN16w",
        "outputId": "acea124c-10dd-47de-e382-39e012a6c7b8"
      },
      "execution_count": 5,
      "outputs": [
        {
          "output_type": "stream",
          "name": "stdout",
          "text": [
            "동물종류는? = 고양이\n",
            "이름은? = 나비\n",
            "나이는? = 16\n",
            "취미는? = 잠자기\n",
            "우리집 고양이의 이름은 나비예요. 나비는 16살이며 잠자기를 좋아해요. 나비는 어른일까요? True\n"
          ]
        }
      ]
    },
    {
      "cell_type": "code",
      "source": [
        "#김소평_코드문제_2\n",
        "\n",
        "A = int(input(\"첫번째 숫자를 입력 = \"))\n",
        "\n",
        "B = int(input(\"두번째 숫자를 입력 = \"))\n",
        "\n",
        "C = A + B\n",
        "\n",
        "print(f\"{A} + {B} = {C}\")\n",
        "\n",
        "C = A - B\n",
        "\n",
        "print(f\"{A} - {B} = {C}\")"
      ],
      "metadata": {
        "colab": {
          "base_uri": "https://localhost:8080/"
        },
        "id": "HH4Q9oD2QrzD",
        "outputId": "1ff0d1b8-8ed3-4353-da01-c3368cd67623"
      },
      "execution_count": 5,
      "outputs": [
        {
          "output_type": "stream",
          "name": "stdout",
          "text": [
            "첫번째 숫자를 입력 = 2\n",
            "두번째 숫자를 입력 = 6\n",
            "2 + 6 = 8\n",
            "2 - 6 = -4\n"
          ]
        }
      ]
    },
    {
      "cell_type": "code",
      "source": [
        "#황선균_코드문제_3\n",
        "\n",
        "weight = int(input(\"무게판별기? = \"))\n",
        "\n",
        "if weight < 50:\n",
        "    mse = \"right\"\n",
        "elif weight >= 50 and weight <=100:\n",
        "    mse = \"left\"\n",
        "else:\n",
        "    mse = \"straight\"\n",
        "\n",
        "print(mse)"
      ],
      "metadata": {
        "colab": {
          "base_uri": "https://localhost:8080/"
        },
        "id": "DJ2jXofJV1FX",
        "outputId": "5a74a551-df7f-4051-8606-cbff5b62fe6c"
      },
      "execution_count": 6,
      "outputs": [
        {
          "output_type": "stream",
          "name": "stdout",
          "text": [
            "무게판별기? = 49\n",
            "right\n"
          ]
        }
      ]
    },
    {
      "cell_type": "code",
      "source": [
        "#추예진_코드문제_4\n",
        "\n",
        "PW = 1234\n",
        "\n",
        "b = len(str(PW))\n",
        "\n",
        "for error_code in range(6):\n",
        "    a = error_code\n",
        "\n",
        "    if a == 5:\n",
        "        print(\"전원 OFF\")\n",
        "        break\n",
        "\n",
        "    PW_info = int(input(\"비밀번호를 입력하세요? = \"))\n",
        "    c = len(str(PW_info))\n",
        "\n",
        "    if b != c:\n",
        "        print(\"입력한 번호길이가 틀립니다!\")\n",
        "\n",
        "    if PW_info == PW:\n",
        "        mse = \"잠금해제!\"\n",
        "        print(mse)\n",
        "\n",
        "        break\n",
        "\n",
        "    elif PW_info != PW:\n",
        "        mse = \"비밀번호를 틀리셨습니다. 5회 오류 시 전원이 꺼집니다!\"\n",
        "\n",
        "    print(mse)"
      ],
      "metadata": {
        "colab": {
          "base_uri": "https://localhost:8080/"
        },
        "id": "ClxIf69OW-M2",
        "outputId": "fb2e33ba-b187-48ca-ab3d-839aa81625d2"
      },
      "execution_count": 70,
      "outputs": [
        {
          "output_type": "stream",
          "name": "stdout",
          "text": [
            "비밀번호를 입력하세요? = 111\n",
            "입력한 번호길이가 틀립니다!\n",
            "비밀번호를 틀리셨습니다. 5회 오류 시 전원이 꺼집니다!\n",
            "비밀번호를 입력하세요? = 11111\n",
            "입력한 번호길이가 틀립니다!\n",
            "비밀번호를 틀리셨습니다. 5회 오류 시 전원이 꺼집니다!\n",
            "비밀번호를 입력하세요? = 111111\n",
            "입력한 번호길이가 틀립니다!\n",
            "비밀번호를 틀리셨습니다. 5회 오류 시 전원이 꺼집니다!\n",
            "비밀번호를 입력하세요? = 11\n",
            "입력한 번호길이가 틀립니다!\n",
            "비밀번호를 틀리셨습니다. 5회 오류 시 전원이 꺼집니다!\n",
            "비밀번호를 입력하세요? = 1111\n",
            "비밀번호를 틀리셨습니다. 5회 오류 시 전원이 꺼집니다!\n",
            "전원 OFF\n"
          ]
        }
      ]
    },
    {
      "cell_type": "code",
      "source": [
        "#최수아_코드문제_5\n",
        "\n",
        "item = input(\"상품은? = \")\n",
        "price = int(input(\"가격은? = \"))\n",
        "count = int(input(\"개수는? = \"))\n",
        "Total = price * count\n",
        "\n",
        "if count < 5 :\n",
        "    print(Total)\n",
        "\n",
        "else:\n",
        "    print(item, price, count, Total)"
      ],
      "metadata": {
        "colab": {
          "base_uri": "https://localhost:8080/"
        },
        "id": "Y5xQVm6VvdVJ",
        "outputId": "f78ff253-8c1a-476b-fccc-15f5003ccec4"
      },
      "execution_count": 5,
      "outputs": [
        {
          "output_type": "stream",
          "name": "stdout",
          "text": [
            "상품은? = 음식\n",
            "가격은? = 20000\n",
            "개수는? = 6\n",
            "음식 20000 6 120000\n"
          ]
        }
      ]
    },
    {
      "cell_type": "code",
      "source": [
        "#도성탁_코드문제_6\n",
        "\n",
        "A = int(input(\"값을 입력하세요! = \"))\n",
        "B = 1\n",
        "while B <= A:\n",
        "    print(B, end = ' ')\n",
        "    B += 1"
      ],
      "metadata": {
        "colab": {
          "base_uri": "https://localhost:8080/"
        },
        "id": "XPh26oVZOTKI",
        "outputId": "a08e7cdd-4f3f-45f2-a065-2f907aa0ede3"
      },
      "execution_count": 3,
      "outputs": [
        {
          "output_type": "stream",
          "name": "stdout",
          "text": [
            "값을 입력하세요! = 3\n",
            "1 2 3 "
          ]
        }
      ]
    },
    {
      "cell_type": "code",
      "source": [
        "#박재현_코드문제_7\n",
        "\n",
        "A = int(input(\"값을 입력하세요! = \"))\n",
        "B = int(input(\"값을 입력하세요! = \"))\n",
        "C = 13\n",
        "\n",
        "while"
      ],
      "metadata": {
        "id": "ps1l5j7Ozvn6"
      },
      "execution_count": null,
      "outputs": []
    },
    {
      "cell_type": "code",
      "source": [
        "#김영욱_코드문제_8\n",
        "\n",
        "N = int(input(\"값을 입력하세요! = \"))\n",
        "\n",
        "sum = 0\n",
        "\n",
        "A = 1\n",
        "\n",
        "while A <= N:\n",
        "    B = A**2\n",
        "    sum = sum + B\n",
        "    A = A + 1\n",
        "    print(sum)"
      ],
      "metadata": {
        "colab": {
          "base_uri": "https://localhost:8080/"
        },
        "id": "o18Eg0__5rEc",
        "outputId": "e7540de6-41bb-4de3-b466-588260af2b54"
      },
      "execution_count": 19,
      "outputs": [
        {
          "output_type": "stream",
          "name": "stdout",
          "text": [
            "값을 입력하세요! = 3\n",
            "1\n",
            "5\n",
            "14\n"
          ]
        }
      ]
    },
    {
      "cell_type": "code",
      "source": [
        "#원하린_코드문제_9\n",
        "\n",
        "like_food = \"짬뽕\"\n",
        "\n",
        "food_info = input(\"좋아하는 음식은? = \")\n",
        "\n",
        "while food_info != like_food:\n",
        "    print(f\"나는 {like_food}을 좋아한다고!\")\n",
        "    food_info = input(\"좋아하는 음식은? = \")\n",
        "\n",
        "if food_info == like_food:\n",
        "   print(f\"나는 {like_food}를 좋아한다고!\")\n",
        ""
      ],
      "metadata": {
        "colab": {
          "base_uri": "https://localhost:8080/"
        },
        "id": "jPl5CWcP9CdT",
        "outputId": "a416ff2b-d479-4904-fc77-99537c488fa4"
      },
      "execution_count": 45,
      "outputs": [
        {
          "output_type": "stream",
          "name": "stdout",
          "text": [
            "좋아하는 음식은? = 자장면\n",
            "나는 짬뽕을 좋아한다고!\n",
            "좋아하는 음식은? = 짬뽕\n",
            "나는 짬뽕를 좋아한다고!\n"
          ]
        }
      ]
    },
    {
      "cell_type": "code",
      "source": [
        "#정봉준_코드문제_10\n",
        "\n",
        "from math import pi\n",
        "\n",
        "i = 1\n",
        "\n",
        "for x in range(5):\n",
        "\n",
        "    while i <= 5:\n",
        "\n",
        "        r = int(input(\"값을 입력하세요? = \"))\n",
        "\n",
        "        a = r*r*pi\n",
        "        print(f\"{r}*{r}*{pi} = {a}\")\n",
        "\n",
        "        i = i + 1"
      ],
      "metadata": {
        "colab": {
          "base_uri": "https://localhost:8080/"
        },
        "id": "tkzcwUX0-1OL",
        "outputId": "81bb7dfb-7432-4924-eed7-faf1ae571d41"
      },
      "execution_count": 48,
      "outputs": [
        {
          "output_type": "stream",
          "name": "stdout",
          "text": [
            "값을 입력하세요? = 2\n",
            "2*2*3.141592653589793 = 12.566370614359172\n",
            "값을 입력하세요? = 3\n",
            "3*3*3.141592653589793 = 28.274333882308138\n",
            "값을 입력하세요? = 4\n",
            "4*4*3.141592653589793 = 50.26548245743669\n",
            "값을 입력하세요? = 5\n",
            "5*5*3.141592653589793 = 78.53981633974483\n",
            "값을 입력하세요? = 6\n",
            "6*6*3.141592653589793 = 113.09733552923255\n"
          ]
        }
      ]
    },
    {
      "cell_type": "code",
      "source": [
        "#최상현_코드문제_11\n",
        "\n",
        "A = int(input(\"값을 입력하세요? = \"))\n",
        "\n",
        "if A > 4:\n",
        "    mse = \"Yes!\"\n",
        "else:\n",
        "    mse = \"NO!\"\n",
        "\n",
        "print(mse)"
      ],
      "metadata": {
        "colab": {
          "base_uri": "https://localhost:8080/"
        },
        "id": "ccYhYAhOW1wt",
        "outputId": "0cbd7a9d-5d39-4569-8795-f35b4a07c3cf"
      },
      "execution_count": 51,
      "outputs": [
        {
          "output_type": "stream",
          "name": "stdout",
          "text": [
            "값을 입력하세요? = 4\n",
            "NO!\n"
          ]
        }
      ]
    },
    {
      "cell_type": "code",
      "source": [
        "#이정현_코드문제_12\n",
        "\n",
        "interview = int(input(\"인터뷰 대상자? = \"))\n",
        "\n",
        "walk_distance = int(input(\"출퇴근 거리?(단위km) = \"))\n",
        "\n",
        "if walk_distance >= 40:\n",
        "    age = int(input(\"나이는? = \" ))\n",
        "    gender = input(\"성별은? = \")\n",
        "    name = input(\"이름은? = \")\n",
        "    reason = input(\"이유는? = \")\n",
        "    mse = f\"{age}, {gender}, {name}, {reason}\"\n",
        "\n",
        "elif walk_distance < 40:\n",
        "    age = int(input(\"나이는? = \" ))\n",
        "    gender = input(\"성별은? = \")\n",
        "    name = input(\"이름은? = \")\n",
        "    reason = input(\"이유는? = \")\n",
        "    mse = f\"{age}, {gender}, {name}, {reason}\"\n",
        "\n",
        "print(mse)"
      ],
      "metadata": {
        "colab": {
          "base_uri": "https://localhost:8080/",
          "height": 375
        },
        "id": "g_ydDnbSW82W",
        "outputId": "fc15f87e-0869-404e-e16d-c9de471dd75c"
      },
      "execution_count": 1,
      "outputs": [
        {
          "output_type": "error",
          "ename": "KeyboardInterrupt",
          "evalue": "Interrupted by user",
          "traceback": [
            "\u001b[0;31m---------------------------------------------------------------------------\u001b[0m",
            "\u001b[0;31mKeyboardInterrupt\u001b[0m                         Traceback (most recent call last)",
            "\u001b[0;32m<ipython-input-1-afc4156ed194>\u001b[0m in \u001b[0;36m<cell line: 3>\u001b[0;34m()\u001b[0m\n\u001b[1;32m      1\u001b[0m \u001b[0;31m#이정현_코드문제_12\u001b[0m\u001b[0;34m\u001b[0m\u001b[0;34m\u001b[0m\u001b[0m\n\u001b[1;32m      2\u001b[0m \u001b[0;34m\u001b[0m\u001b[0m\n\u001b[0;32m----> 3\u001b[0;31m \u001b[0minterview\u001b[0m \u001b[0;34m=\u001b[0m \u001b[0mint\u001b[0m\u001b[0;34m(\u001b[0m\u001b[0minput\u001b[0m\u001b[0;34m(\u001b[0m\u001b[0;34m\"인터뷰 대상자? = \"\u001b[0m\u001b[0;34m)\u001b[0m\u001b[0;34m)\u001b[0m\u001b[0;34m\u001b[0m\u001b[0;34m\u001b[0m\u001b[0m\n\u001b[0m\u001b[1;32m      4\u001b[0m \u001b[0;34m\u001b[0m\u001b[0m\n\u001b[1;32m      5\u001b[0m \u001b[0mwalk_distance\u001b[0m \u001b[0;34m=\u001b[0m \u001b[0mint\u001b[0m\u001b[0;34m(\u001b[0m\u001b[0minput\u001b[0m\u001b[0;34m(\u001b[0m\u001b[0;34m\"출퇴근 거리?(단위km) = \"\u001b[0m\u001b[0;34m)\u001b[0m\u001b[0;34m)\u001b[0m\u001b[0;34m\u001b[0m\u001b[0;34m\u001b[0m\u001b[0m\n",
            "\u001b[0;32m/usr/local/lib/python3.10/dist-packages/ipykernel/kernelbase.py\u001b[0m in \u001b[0;36mraw_input\u001b[0;34m(self, prompt)\u001b[0m\n\u001b[1;32m    849\u001b[0m                 \u001b[0;34m\"raw_input was called, but this frontend does not support input requests.\"\u001b[0m\u001b[0;34m\u001b[0m\u001b[0;34m\u001b[0m\u001b[0m\n\u001b[1;32m    850\u001b[0m             )\n\u001b[0;32m--> 851\u001b[0;31m         return self._input_request(str(prompt),\n\u001b[0m\u001b[1;32m    852\u001b[0m             \u001b[0mself\u001b[0m\u001b[0;34m.\u001b[0m\u001b[0m_parent_ident\u001b[0m\u001b[0;34m,\u001b[0m\u001b[0;34m\u001b[0m\u001b[0;34m\u001b[0m\u001b[0m\n\u001b[1;32m    853\u001b[0m             \u001b[0mself\u001b[0m\u001b[0;34m.\u001b[0m\u001b[0m_parent_header\u001b[0m\u001b[0;34m,\u001b[0m\u001b[0;34m\u001b[0m\u001b[0;34m\u001b[0m\u001b[0m\n",
            "\u001b[0;32m/usr/local/lib/python3.10/dist-packages/ipykernel/kernelbase.py\u001b[0m in \u001b[0;36m_input_request\u001b[0;34m(self, prompt, ident, parent, password)\u001b[0m\n\u001b[1;32m    893\u001b[0m             \u001b[0;32mexcept\u001b[0m \u001b[0mKeyboardInterrupt\u001b[0m\u001b[0;34m:\u001b[0m\u001b[0;34m\u001b[0m\u001b[0;34m\u001b[0m\u001b[0m\n\u001b[1;32m    894\u001b[0m                 \u001b[0;31m# re-raise KeyboardInterrupt, to truncate traceback\u001b[0m\u001b[0;34m\u001b[0m\u001b[0;34m\u001b[0m\u001b[0m\n\u001b[0;32m--> 895\u001b[0;31m                 \u001b[0;32mraise\u001b[0m \u001b[0mKeyboardInterrupt\u001b[0m\u001b[0;34m(\u001b[0m\u001b[0;34m\"Interrupted by user\"\u001b[0m\u001b[0;34m)\u001b[0m \u001b[0;32mfrom\u001b[0m \u001b[0;32mNone\u001b[0m\u001b[0;34m\u001b[0m\u001b[0;34m\u001b[0m\u001b[0m\n\u001b[0m\u001b[1;32m    896\u001b[0m             \u001b[0;32mexcept\u001b[0m \u001b[0mException\u001b[0m \u001b[0;32mas\u001b[0m \u001b[0me\u001b[0m\u001b[0;34m:\u001b[0m\u001b[0;34m\u001b[0m\u001b[0;34m\u001b[0m\u001b[0m\n\u001b[1;32m    897\u001b[0m                 \u001b[0mself\u001b[0m\u001b[0;34m.\u001b[0m\u001b[0mlog\u001b[0m\u001b[0;34m.\u001b[0m\u001b[0mwarning\u001b[0m\u001b[0;34m(\u001b[0m\u001b[0;34m\"Invalid Message:\"\u001b[0m\u001b[0;34m,\u001b[0m \u001b[0mexc_info\u001b[0m\u001b[0;34m=\u001b[0m\u001b[0;32mTrue\u001b[0m\u001b[0;34m)\u001b[0m\u001b[0;34m\u001b[0m\u001b[0;34m\u001b[0m\u001b[0m\n",
            "\u001b[0;31mKeyboardInterrupt\u001b[0m: Interrupted by user"
          ]
        }
      ]
    },
    {
      "cell_type": "code",
      "source": [
        "#류경민_코드문제_13\n",
        "\n",
        "i = 0\n",
        "\n",
        "for i in range(3):\n",
        "    A = int(input(\"아이스 아메리카노? A = 1, A = 2\"))\n",
        "    if A == 1:\n",
        "        mse = \"아이스 아메리카노\"\n",
        "    elif A == 2:\n",
        "        mse = \"따뜻한 아메리카노\"\n",
        "    i = i + 1\n",
        "    print(mse)"
      ],
      "metadata": {
        "colab": {
          "base_uri": "https://localhost:8080/"
        },
        "id": "0aVJsu3Slzrq",
        "outputId": "e5cc5258-e141-4b05-94a6-448d6677262d"
      },
      "execution_count": 8,
      "outputs": [
        {
          "output_type": "stream",
          "name": "stdout",
          "text": [
            "아이스 아메리카노? A = 1, A = 21\n",
            "아이스 아메리카노\n",
            "아이스 아메리카노? A = 1, A = 22\n",
            "따뜻한 아메리카노\n",
            "아이스 아메리카노? A = 1, A = 21\n",
            "아이스 아메리카노\n"
          ]
        }
      ]
    },
    {
      "cell_type": "code",
      "source": [
        "#김두수_코드문제_14\n",
        "\n",
        "travel_1 = input(\"여행지 1 = \")\n",
        "travel_2 = input(\"여행지 2 = \")\n",
        "travel_3 = input(\"여행지 3 = \")\n",
        "\n"
      ],
      "metadata": {
        "id": "gJ4cgbmtnATD"
      },
      "execution_count": null,
      "outputs": []
    },
    {
      "cell_type": "code",
      "source": [
        "차끝번호_0 = {'월': False, '화': False, '수': False, '목': False, '금': True}\n",
        "\n",
        "요일 = list(차끝번호_0.keys())\n",
        "print(요일[0])\n",
        "\n",
        "for d in 요일:\n",
        "    if 차끝번호_0[d]:\n",
        "        print(\"{}요일: 5부제 해당\".format(d))\n",
        "    else:\n",
        "        print(\"{}요일: 5부제 미해당\".format(d))\n",
        "\n",
        "차끝번호_0['수']"
      ],
      "metadata": {
        "colab": {
          "base_uri": "https://localhost:8080/"
        },
        "id": "oYgCzD02A0RG",
        "outputId": "d6e10f20-25a3-4ecf-e60f-4c569dac6dd2"
      },
      "execution_count": 18,
      "outputs": [
        {
          "output_type": "stream",
          "name": "stdout",
          "text": [
            "월\n",
            "월요일: 5부제 미해당\n",
            "화요일: 5부제 미해당\n",
            "수요일: 5부제 미해당\n",
            "목요일: 5부제 미해당\n",
            "금요일: 5부제 해당\n"
          ]
        },
        {
          "output_type": "execute_result",
          "data": {
            "text/plain": [
              "False"
            ]
          },
          "metadata": {},
          "execution_count": 18
        }
      ]
    },
    {
      "cell_type": "code",
      "source": [
        "차끝번호_1 = {'월': True, '화': False, '수': False, '목': False, '금': False}\n",
        "차끝번호_1['수']\n",
        "\n",
        "차량끝번호 = int(input(\"차량 끝번호(0, 1): \"))\n",
        "오늘요일 = input(\"요일(월~금):\")\n",
        "\n",
        "if 차량끝번호 == 0:\n",
        "    if 차끝번호_0\n"
      ],
      "metadata": {
        "colab": {
          "base_uri": "https://localhost:8080/"
        },
        "id": "2iKHDfYiDFQQ",
        "outputId": "870ed83c-f96a-48e2-99bc-93b1186e5b78"
      },
      "execution_count": 14,
      "outputs": [
        {
          "output_type": "execute_result",
          "data": {
            "text/plain": [
              "False"
            ]
          },
          "metadata": {},
          "execution_count": 14
        }
      ]
    },
    {
      "cell_type": "code",
      "source": [
        "#고예찬_코드문제_14\n",
        "\n",
        "# # 0 1  2  3  4\n",
        "#  금 월 화 수 목\n",
        "#  5  6  7  8  9\n",
        "\n",
        "T = True ; F = False\n",
        "days = {'월', '화', '수', '목', '금'}\n",
        "ns = 5\n",
        "\n",
        "A = [{'월':F,'화':F,'수':F,'목':F,'금':T}, {'월':T,'화':F,'수':F,'목':F,'금':F},\n",
        "    {'월':F,'화':T,'수':F,'목':F,'금':F},{'월':F,'화':F,'수':T,'목':F,'금':F},\n",
        "     {'월':F,'화':F,'수':F,'목':T,'금':F}]\n",
        "\n",
        "n = None\n",
        "while True:\n",
        "    n= int(input(\"차량번호 끝자리(0~9) : \"))\n",
        "    if n >= 0 and n <= 9:\n",
        "        break\n",
        "\n",
        "d = None\n",
        "while True:\n",
        "    d = input(\"요일(월~금) : \")\n",
        "    if d in days:"
      ],
      "metadata": {
        "colab": {
          "base_uri": "https://localhost:8080/",
          "height": 111
        },
        "id": "6-5YPv-dyc8o",
        "outputId": "3e9bd110-e9da-4571-b0b5-fd49563d3b94"
      },
      "execution_count": 19,
      "outputs": [
        {
          "output_type": "error",
          "ename": "SyntaxError",
          "evalue": "incomplete input (<ipython-input-19-1da0bf796126>, line 24)",
          "traceback": [
            "\u001b[0;36m  File \u001b[0;32m\"<ipython-input-19-1da0bf796126>\"\u001b[0;36m, line \u001b[0;32m24\u001b[0m\n\u001b[0;31m    if d in days:\u001b[0m\n\u001b[0m                 ^\u001b[0m\n\u001b[0;31mSyntaxError\u001b[0m\u001b[0;31m:\u001b[0m incomplete input\n"
          ]
        }
      ]
    },
    {
      "cell_type": "code",
      "source": [
        "(# A, B, C = \"고예찬\", \"안연수\", \"황선균\"\n",
        "\n",
        "D, E, F = \"장원영\", \"임수정\", \"신세경\"\n",
        "\n",
        "# like_list1 = [\"장원영\", \"임수정\", \"신세경\"]\n",
        "\n",
        "# like_list2 = [\"고예찬\", \"안연수\", \"황선균\"]\n",
        "\n",
        "like_list = {\"고예찬\":\"장원영\", \"안연수\":\"임수정\", \"황선균\":\"신세경\"}\n",
        "\n",
        "if like_list[\"고예찬\"] == D:\n",
        "\n"
      ],
      "metadata": {
        "colab": {
          "base_uri": "https://localhost:8080/",
          "height": 111
        },
        "id": "spZBnoQwEzA2",
        "outputId": "81d9d89d-b44f-45cf-fd25-43c8940e3935"
      },
      "execution_count": 15,
      "outputs": [
        {
          "output_type": "error",
          "ename": "SyntaxError",
          "evalue": "expected ':' (<ipython-input-15-e9eb60900227>, line 7)",
          "traceback": [
            "\u001b[0;36m  File \u001b[0;32m\"<ipython-input-15-e9eb60900227>\"\u001b[0;36m, line \u001b[0;32m7\u001b[0m\n\u001b[0;31m    if A == \"고예찬\"\u001b[0m\n\u001b[0m                 ^\u001b[0m\n\u001b[0;31mSyntaxError\u001b[0m\u001b[0;31m:\u001b[0m expected ':'\n"
          ]
        }
      ]
    },
    {
      "cell_type": "code",
      "source": [
        "import random\n",
        "random.randint(1, 6)\n",
        "\n",
        "A = random.randint(1, 6)\n",
        "B = {1:'벤츠', 2:'호텔부페', 3:'100만원', 4:'꽝', 5:'유람선티켓', 6 :\"발메니 30년산\"}\n",
        "\n",
        "# print(B[1])\n",
        "\n",
        "if A == 1:\n",
        "    print(B[A -1])\n",
        "\n",
        "# if A == B[1]:\n",
        "#     print(B[1])\n",
        "# elif A == B[2]:\n",
        "#     print(B[2])\n",
        "\n",
        "# while True:\n",
        "#     if A == B[1]:\n",
        "#         print(B)\n",
        "\n",
        "#     break\n",
        "\n",
        "    # print(B)\n",
        "\n"
      ],
      "metadata": {
        "id": "nc7_NXq4F3bC"
      },
      "execution_count": 21,
      "outputs": []
    },
    {
      "cell_type": "code",
      "source": [
        "import random\n",
        "random.randint(1, 6)\n",
        "\n",
        "A = random.randint(1, 6)\n",
        "B = ['벤츠','호텔부페', '100만원', '꽝', '유람선티켓',\"발메니 30년산\"]\n",
        "print(B[A-1])"
      ],
      "metadata": {
        "colab": {
          "base_uri": "https://localhost:8080/"
        },
        "id": "9Slv8vnzp88S",
        "outputId": "bc3aa44e-820c-411e-be9c-988a4f98b4d0"
      },
      "execution_count": 36,
      "outputs": [
        {
          "output_type": "stream",
          "name": "stdout",
          "text": [
            "벤츠\n"
          ]
        }
      ]
    }
  ]
}