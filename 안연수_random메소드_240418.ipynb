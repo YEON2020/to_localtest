{
  "nbformat": 4,
  "nbformat_minor": 0,
  "metadata": {
    "colab": {
      "provenance": [],
      "authorship_tag": "ABX9TyN++2XuVMwc6OnsBZEALwM4",
      "include_colab_link": true
    },
    "kernelspec": {
      "name": "python3",
      "display_name": "Python 3"
    },
    "language_info": {
      "name": "python"
    }
  },
  "cells": [
    {
      "cell_type": "markdown",
      "metadata": {
        "id": "view-in-github",
        "colab_type": "text"
      },
      "source": [
        "<a href=\"https://colab.research.google.com/github/YEON2020/to_localtest/blob/main/%EC%95%88%EC%97%B0%EC%88%98_random%EB%A9%94%EC%86%8C%EB%93%9C_240418.ipynb\" target=\"_parent\"><img src=\"https://colab.research.google.com/assets/colab-badge.svg\" alt=\"Open In Colab\"/></a>"
      ]
    },
    {
      "cell_type": "markdown",
      "source": [
        "random 메소드(method)\n",
        "\n",
        "| |메소드|기능|\n",
        "|:--|:---:|:--:|\n",
        "|1|seed(a=None, version=2)|실행할 때마다 동일한 특정한 배열 순서나 규칙을 가지지 않는 연속적인 임의의 수의 시퀀스를 생성할 수 있어서 디버깅과 테스트가 용이하다\n",
        "|2|getstate()|현재 상태를 기록하고 이 상태 정보를 담고 있는 객체를 반환한다. 동일한 난수 시퀀스를 다시 생성할 수 있다.\n",
        "|3|setstate(state)|이전 상태를 저장한 후 그 상태를 다시 불러와 생성기가 이전에 중단된 지점에서 다시 작동한다. 생성기의 내부 상태를 복원한다.\n",
        "|4|getrandbits(k)|k개의 랜덤 비트를 가진 파이썬 정수를 반환한다. 함수가 호출될 때마다 k개의 랜덤한 비트를 갖는 정수를 생성하여 반환한다.\n",
        "|5|randrange(start, stop[,step])|범위에서 랜덤한 정수를 반환, 지정된 범위 내에서 랜덤하게 선택된 정수를 반환한다.\n",
        "|6|randint(a, b)|시작 값 a와 중단 값 b를 포함하는 사이의 랜덤한 정수를 반환한다.\n",
        "|7|choice(seq)|비어 있지 않은 시퀀스 내에서 랜덤한 요소를 선택하여 반환한다. 시퀀스는 비어 있지 않아야 하며, 적어도 하나의 요소가 있어야한다.\n",
        "|8|shuffle(seq)|시퀀스를 섞는다, 주어진 시퀀스(리스트)의 요소들을 무작위로 섞어서 순서를 변경한다. 섞인 시퀀스는 이전에 정의된 순서와 다를 수 있다.\n",
        "|9|sample(population, k)|population 시퀀스에서 고유한 요소로 중복되지 않는 k개의 요소를 선택하여 이루어진 길이 k의 리스트를 반환한다.\n",
        "|10|random()|다음 랜덤 부동 소수점 숫자를 [0.0,1.0] 범위에서 반환한다. 0을 포함하고 1은 포함하지 않는 범위에서 랜덤한 부동 소수점 숫자를 반환한다.\n",
        "|11|copy()|리스트의 목록 객체들을 얕은 사본으로 복사"
      ],
      "metadata": {
        "id": "0PY2-UkXWM8-"
      }
    },
    {
      "cell_type": "code",
      "source": [
        "#메소드 : seed(a=None, version=2)\n"
      ],
      "metadata": {
        "id": "MxZy9cal3YGK"
      },
      "execution_count": null,
      "outputs": []
    }
  ]
}