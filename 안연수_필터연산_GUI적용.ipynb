{
  "nbformat": 4,
  "nbformat_minor": 0,
  "metadata": {
    "colab": {
      "provenance": [],
      "authorship_tag": "ABX9TyOrimXmQqucfGuyeijY0LeH",
      "include_colab_link": true
    },
    "kernelspec": {
      "name": "python3",
      "display_name": "Python 3"
    },
    "language_info": {
      "name": "python"
    }
  },
  "cells": [
    {
      "cell_type": "markdown",
      "metadata": {
        "id": "view-in-github",
        "colab_type": "text"
      },
      "source": [
        "<a href=\"https://colab.research.google.com/github/YEON2020/to_localtest/blob/main/%EC%95%88%EC%97%B0%EC%88%98_%ED%95%84%ED%84%B0%EC%97%B0%EC%82%B0_GUI%EC%A0%81%EC%9A%A9.ipynb\" target=\"_parent\"><img src=\"https://colab.research.google.com/assets/colab-badge.svg\" alt=\"Open In Colab\"/></a>"
      ]
    },
    {
      "cell_type": "code",
      "source": [
        "import tkinter as tk\n",
        "from tkinter import simpledialog\n",
        "from PIL import Image, ImageTk, ImageOps\n",
        "import numpy as np\n",
        "import cv2"
      ],
      "metadata": {
        "id": "-dAk4QZRu17y"
      },
      "execution_count": null,
      "outputs": []
    },
    {
      "cell_type": "code",
      "execution_count": null,
      "metadata": {
        "id": "CWgTO1M8uq0m"
      },
      "outputs": [],
      "source": [
        "# Load the uploaded image\n",
        "original_image_path = \"C:/Users/YEON/Documents/딥러닝인물사진.jpg\"\n",
        "original_image = Image.open(original_image_path).convert('L')  # Convert to grayscale\n",
        "\n",
        "# Function to apply the convolution filter to the image\n",
        "def apply_filter():\n",
        "    # Get filter values from user input\n",
        "    filter_values = []\n",
        "    for i in range(9):\n",
        "        value = simpledialog.askfloat(\"Input\", f\"Enter value for filter[{i // 3}][{i % 3}]:\", minvalue=-10.0, maxvalue=10.0)\n",
        "        filter_values.append(value)\n",
        "\n",
        "    # Convert the list to a 3x3 numpy array\n",
        "    filter_array = np.array(filter_values).reshape(3, 3)\n",
        "\n",
        "    # Convert image to numpy array\n",
        "    img_array = np.array(original_image)\n",
        "\n",
        "    # Apply the filter using OpenCV\n",
        "    filtered_img_array = cv2.filter2D(img_array, -1, filter_array)\n",
        "\n",
        "    # Convert back to PIL Image\n",
        "    filtered_image = Image.fromarray(filtered_img_array)\n",
        "\n",
        "    # Display images\n",
        "    display_images(original_image, filtered_image)\n",
        "\n",
        "def display_images(original, filtered):\n",
        "    # Create a new window for displaying images\n",
        "    window = tk.Toplevel(root)\n",
        "    window.title(\"Original and Filtered Image\")\n",
        "\n",
        "    # Display original image\n",
        "    original_photo = ImageTk.PhotoImage(original)\n",
        "    original_label = tk.Label(window, image=original_photo)\n",
        "    original_label.image = original_photo\n",
        "    original_label.pack(side=\"left\", padx=10, pady=10)\n",
        "\n",
        "    # Display filtered image\n",
        "    filtered_photo = ImageTk.PhotoImage(filtered)\n",
        "    filtered_label = tk.Label(window, image=filtered_photo)\n",
        "    filtered_label.image = filtered_photo\n",
        "    filtered_label.pack(side=\"right\", padx=10, pady=10)\n",
        "\n",
        "# Set up the main application window\n",
        "root = tk.Tk()\n",
        "root.title(\"Convolution Filter Application\")\n",
        "\n",
        "# Add a button to apply the filter\n",
        "apply_button = tk.Button(root, text=\"Apply Filter\", command=apply_filter)\n",
        "apply_button.pack(pady=20)\n",
        "\n",
        "# Run the application\n",
        "root.mainloop()"
      ]
    }
  ]
}